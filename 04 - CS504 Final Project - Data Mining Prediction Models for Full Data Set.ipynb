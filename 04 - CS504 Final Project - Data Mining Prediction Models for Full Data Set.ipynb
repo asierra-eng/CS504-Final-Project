{
 "cells": [
  {
   "cell_type": "markdown",
   "metadata": {},
   "source": [
    "# Machine Learning Project for CS504\n",
    "### Professor: Dr. Jessica Lin\n",
    "### Student: Angel N. Sierra\n",
    "### GMU\n",
    "\n",
    "**Research Article Title:** Data driven prediction models of energy use of appliances in a low-energy house\n",
    "**Researchers:** Luis M. Candanedo, Véronique Feldheim, Dominique Deramaix\n",
    "\n",
    "#### General Data Analysis and Data Preparation\n",
    "This section would provide the initial analysis and data preparation performed by the researchers with the end goal of ensuring a common baseline. Once baseline comparison is performed I would proceed to augment the research by adding a new machine learning algorithm and executing similar activities in WEKA to compare results.\n",
    "\n",
    "#### Machine Learning: Full Data Set\n",
    "This section was created to execute all the ML algorithms on the full data set to establish a baseline.\n",
    "\n",
    "**NOTE:** To avoid changing the data frame name in all the lines of codes generated for the data set, I will keep the same data frame name (i.e., new_test_data_set) and just change the uploaded file in the read.csv function. This approach will minimize syntax error issues."
   ]
  },
  {
   "cell_type": "code",
   "execution_count": 1,
   "metadata": {},
   "outputs": [
    {
     "name": "stderr",
     "output_type": "stream",
     "text": [
      "\n",
      "Attaching package: 'lubridate'\n",
      "\n",
      "The following object is masked from 'package:base':\n",
      "\n",
      "    date\n",
      "\n"
     ]
    },
    {
     "name": "stdout",
     "output_type": "stream",
     "text": [
      "'data.frame':\t19735 obs. of  39 variables:\n",
      " $ date                : POSIXct, format: \"2016-01-11 17:00:00\" \"2016-01-11 17:10:00\" ...\n",
      " $ Appliances          : int  60 60 50 50 60 50 60 60 60 70 ...\n",
      " $ lights              : int  30 30 30 40 40 40 50 50 40 40 ...\n",
      " $ T1                  : num  19.9 19.9 19.9 19.9 19.9 ...\n",
      " $ RH_1                : num  47.6 46.7 46.3 46.1 46.3 ...\n",
      " $ T2                  : num  19.2 19.2 19.2 19.2 19.2 ...\n",
      " $ RH_2                : num  44.8 44.7 44.6 44.6 44.5 ...\n",
      " $ T3                  : num  19.8 19.8 19.8 19.8 19.8 ...\n",
      " $ RH_3                : num  44.7 44.8 44.9 45 45 ...\n",
      " $ T4                  : num  19 19 18.9 18.9 18.9 ...\n",
      " $ RH_4                : num  45.6 46 45.9 45.7 45.5 ...\n",
      " $ T5                  : num  17.2 17.2 17.2 17.2 17.2 ...\n",
      " $ RH_5                : num  55.2 55.2 55.1 55.1 55.1 ...\n",
      " $ T6                  : num  7.03 6.83 6.56 6.43 6.37 ...\n",
      " $ RH_6                : num  84.3 84.1 83.2 83.4 84.9 ...\n",
      " $ T7                  : num  17.2 17.2 17.2 17.1 17.2 ...\n",
      " $ RH_7                : num  41.6 41.6 41.4 41.3 41.2 ...\n",
      " $ T8                  : num  18.2 18.2 18.2 18.1 18.1 18.1 18.1 18.1 18.1 18.1 ...\n",
      " $ RH_8                : num  48.9 48.9 48.7 48.6 48.6 ...\n",
      " $ T9                  : num  17 17.1 17 17 17 ...\n",
      " $ RH_9                : num  45.5 45.6 45.5 45.4 45.4 ...\n",
      " $ T_out               : num  6.6 6.48 6.37 6.25 6.13 ...\n",
      " $ Press_mm_hg         : num  734 734 734 734 734 ...\n",
      " $ RH_out              : num  92 92 92 92 92 ...\n",
      " $ Windspeed           : num  7 6.67 6.33 6 5.67 ...\n",
      " $ Visibility          : num  63 59.2 55.3 51.5 47.7 ...\n",
      " $ Tdewpoint           : num  5.3 5.2 5.1 5 4.9 ...\n",
      " $ rv1                 : num  13.3 18.6 28.6 45.4 10.1 ...\n",
      " $ rv2                 : num  13.3 18.6 28.6 45.4 10.1 ...\n",
      " $ NSM                 : int  61200 61800 62400 63000 63600 64200 64800 65400 66000 66600 ...\n",
      " $ WeekStatusWeekday   : int  1 1 1 1 1 1 1 1 1 1 ...\n",
      " $ WeekStatusWeekend   : int  0 0 0 0 0 0 0 0 0 0 ...\n",
      " $ Day_of_weekFriday   : int  0 0 0 0 0 0 0 0 0 0 ...\n",
      " $ Day_of_weekMonday   : int  1 1 1 1 1 1 1 1 1 1 ...\n",
      " $ Day_of_weekSaturday : int  0 0 0 0 0 0 0 0 0 0 ...\n",
      " $ Day_of_weekSunday   : int  0 0 0 0 0 0 0 0 0 0 ...\n",
      " $ Day_of_weekThursday : int  0 0 0 0 0 0 0 0 0 0 ...\n",
      " $ Day_of_weekTuesday  : int  0 0 0 0 0 0 0 0 0 0 ...\n",
      " $ Day_of_weekWednesday: int  0 0 0 0 0 0 0 0 0 0 ...\n"
     ]
    }
   ],
   "source": [
    "#import necessary libraries\n",
    "suppressWarnings(library(lubridate))\n",
    "\n",
    "#Uploading Test Data Set adjusted for ML algorithms execution\n",
    "new_test_data_set <- read.csv(\"00 - Data Set/01_new_full_data_set.csv\")\n",
    "new_test_data_set$date <- strptime(as.character(new_test_data_set$date),format=\"%Y-%m-%d %H:%M:%S\")\n",
    "new_test_data_set$date <- as.POSIXct(new_test_data_set$date,tz=\"UTC\")\n",
    "str(new_test_data_set)"
   ]
  },
  {
   "cell_type": "code",
   "execution_count": 2,
   "metadata": {},
   "outputs": [
    {
     "name": "stderr",
     "output_type": "stream",
     "text": [
      "Loading required package: lattice\n",
      "Loading required package: ggplot2\n",
      "Loading required package: foreach\n",
      "Loading required package: iterators\n",
      "Loading required package: parallel\n"
     ]
    },
    {
     "data": {
      "text/html": [
       "8"
      ],
      "text/latex": [
       "8"
      ],
      "text/markdown": [
       "8"
      ],
      "text/plain": [
       "[1] 8"
      ]
     },
     "metadata": {},
     "output_type": "display_data"
    }
   ],
   "source": [
    "#Import necessary libraries\n",
    "suppressWarnings(library(caret))\n",
    "suppressWarnings(library(doParallel))\n",
    "\n",
    "#Define control for the recursive feature elimination\n",
    "control <- rfeControl(functions=rfFuncs, method=\"cv\", number=10)\n",
    "\n",
    "set.seed(1)\n",
    "registerDoParallel(8)\n",
    "getDoParWorkers()\n",
    "ptm <- proc.time()"
   ]
  },
  {
   "cell_type": "code",
   "execution_count": 3,
   "metadata": {},
   "outputs": [],
   "source": [
    "rfe_results_test_set <- rfe(new_test_data_set[,c(3:37)],new_test_data_set[,2], sizes=c(1:35), rfeControl=control)"
   ]
  },
  {
   "cell_type": "code",
   "execution_count": 12,
   "metadata": {},
   "outputs": [
    {
     "name": "stdout",
     "output_type": "stream",
     "text": [
      "\n",
      "Recursive feature selection\n",
      "\n",
      "Outer resampling method: Cross-Validated (10 fold) \n",
      "\n",
      "Resampling performance over subset size:\n",
      "\n",
      " Variables  RMSE Rsquared   MAE RMSESD RsquaredSD  MAESD Selected\n",
      "         1 94.63   0.1471 51.86  5.278    0.01216 1.8825         \n",
      "         2 93.85   0.1655 51.11  4.969    0.01433 1.4574         \n",
      "         3 91.46   0.2151 49.48  5.608    0.03673 1.8165         \n",
      "         4 86.99   0.3115 46.55  4.931    0.02442 1.4467         \n",
      "         5 82.93   0.3936 43.52  4.934    0.02462 1.5083         \n",
      "         6 67.90   0.5725 32.58  3.942    0.02100 1.3667         \n",
      "         7 67.44   0.5777 32.05  4.113    0.01865 1.4085         \n",
      "         8 67.71   0.5751 32.08  4.233    0.02080 1.3863         \n",
      "         9 66.94   0.5815 31.61  3.824    0.02288 1.1111         \n",
      "        10 67.09   0.5800 31.57  3.722    0.02213 1.0588         \n",
      "        11 66.96   0.5828 31.55  3.747    0.02438 1.0187         \n",
      "        12 66.70   0.5849 31.37  3.915    0.02234 1.0518         \n",
      "        13 66.33   0.5896 31.16  3.884    0.02420 1.0827         \n",
      "        14 66.28   0.5902 31.06  3.958    0.02540 1.1511         \n",
      "        15 65.96   0.5934 30.99  3.760    0.02552 1.0612         \n",
      "        16 65.96   0.5933 30.97  3.934    0.02617 1.0764         \n",
      "        17 65.85   0.5952 30.89  4.061    0.02521 1.1491         \n",
      "        18 65.58   0.5980 30.83  3.885    0.02511 1.1030         \n",
      "        19 65.37   0.6011 30.71  3.867    0.02603 1.0866         \n",
      "        20 65.24   0.6027 30.58  3.860    0.02594 1.0876         \n",
      "        21 65.26   0.6019 30.62  3.805    0.02417 0.9916         \n",
      "        22 65.16   0.6036 30.61  3.704    0.02451 1.0038         \n",
      "        23 65.10   0.6045 30.49  3.862    0.02464 1.0893         \n",
      "        24 65.10   0.6039 30.52  4.051    0.02812 1.1182         \n",
      "        25 64.86   0.6072 30.41  3.892    0.02597 1.0770         \n",
      "        26 64.90   0.6070 30.43  3.829    0.02797 1.0296         \n",
      "        27 64.79   0.6076 30.40  3.935    0.02789 1.0852         \n",
      "        28 64.70   0.6092 30.37  3.887    0.02741 1.0742         \n",
      "        29 64.68   0.6092 30.33  3.863    0.02787 1.0615         \n",
      "        30 64.65   0.6094 30.33  3.795    0.02837 1.0350         \n",
      "        31 64.71   0.6084 30.38  3.846    0.02871 1.0588         \n",
      "        32 64.58   0.6103 30.29  3.854    0.02875 1.0726        *\n",
      "        33 64.71   0.6085 30.34  3.880    0.02671 1.0850         \n",
      "        34 65.31   0.6013 30.91  3.819    0.02769 1.0760         \n",
      "        35 65.80   0.5954 31.25  3.887    0.02975 1.1296         \n",
      "\n",
      "The top 5 variables (out of 32):\n",
      "   NSM, lights, RH_5, Press_mm_hg, T3\n",
      "\n"
     ]
    }
   ],
   "source": [
    "print(rfe_results_test_set)\n",
    "capture.output(rfe_results_test_set,\n",
    "               file=\"01 - ML Algorithms/00 - Recursive Feature Selection/00-RFE_Results_Test_Data.txt\")"
   ]
  },
  {
   "cell_type": "code",
   "execution_count": 13,
   "metadata": {},
   "outputs": [
    {
     "data": {
      "text/html": [
       "<ol class=list-inline>\n",
       "\t<li>'NSM'</li>\n",
       "\t<li>'lights'</li>\n",
       "\t<li>'RH_5'</li>\n",
       "\t<li>'Press_mm_hg'</li>\n",
       "\t<li>'T3'</li>\n",
       "\t<li>'T8'</li>\n",
       "\t<li>'T5'</li>\n",
       "\t<li>'RH_3'</li>\n",
       "\t<li>'Tdewpoint'</li>\n",
       "\t<li>'RH_1'</li>\n",
       "\t<li>'Visibility'</li>\n",
       "\t<li>'RH_9'</li>\n",
       "\t<li>'T7'</li>\n",
       "\t<li>'RH_7'</li>\n",
       "\t<li>'T1'</li>\n",
       "\t<li>'T9'</li>\n",
       "\t<li>'RH_4'</li>\n",
       "\t<li>'RH_2'</li>\n",
       "\t<li>'T4'</li>\n",
       "\t<li>'T2'</li>\n",
       "\t<li>'T_out'</li>\n",
       "\t<li>'RH_6'</li>\n",
       "\t<li>'Windspeed'</li>\n",
       "\t<li>'RH_8'</li>\n",
       "\t<li>'T6'</li>\n",
       "\t<li>'RH_out'</li>\n",
       "\t<li>'Day_of_weekFriday'</li>\n",
       "\t<li>'Day_of_weekMonday'</li>\n",
       "\t<li>'Day_of_weekSaturday'</li>\n",
       "\t<li>'WeekStatusWeekday'</li>\n",
       "\t<li>'Day_of_weekSunday'</li>\n",
       "\t<li>'WeekStatusWeekend'</li>\n",
       "\t<li>'Day_of_weekThursday'</li>\n",
       "\t<li>'rv2'</li>\n",
       "\t<li>'rv1'</li>\n",
       "</ol>\n"
      ],
      "text/latex": [
       "\\begin{enumerate*}\n",
       "\\item 'NSM'\n",
       "\\item 'lights'\n",
       "\\item 'RH\\_5'\n",
       "\\item 'Press\\_mm\\_hg'\n",
       "\\item 'T3'\n",
       "\\item 'T8'\n",
       "\\item 'T5'\n",
       "\\item 'RH\\_3'\n",
       "\\item 'Tdewpoint'\n",
       "\\item 'RH\\_1'\n",
       "\\item 'Visibility'\n",
       "\\item 'RH\\_9'\n",
       "\\item 'T7'\n",
       "\\item 'RH\\_7'\n",
       "\\item 'T1'\n",
       "\\item 'T9'\n",
       "\\item 'RH\\_4'\n",
       "\\item 'RH\\_2'\n",
       "\\item 'T4'\n",
       "\\item 'T2'\n",
       "\\item 'T\\_out'\n",
       "\\item 'RH\\_6'\n",
       "\\item 'Windspeed'\n",
       "\\item 'RH\\_8'\n",
       "\\item 'T6'\n",
       "\\item 'RH\\_out'\n",
       "\\item 'Day\\_of\\_weekFriday'\n",
       "\\item 'Day\\_of\\_weekMonday'\n",
       "\\item 'Day\\_of\\_weekSaturday'\n",
       "\\item 'WeekStatusWeekday'\n",
       "\\item 'Day\\_of\\_weekSunday'\n",
       "\\item 'WeekStatusWeekend'\n",
       "\\item 'Day\\_of\\_weekThursday'\n",
       "\\item 'rv2'\n",
       "\\item 'rv1'\n",
       "\\end{enumerate*}\n"
      ],
      "text/markdown": [
       "1. 'NSM'\n",
       "2. 'lights'\n",
       "3. 'RH_5'\n",
       "4. 'Press_mm_hg'\n",
       "5. 'T3'\n",
       "6. 'T8'\n",
       "7. 'T5'\n",
       "8. 'RH_3'\n",
       "9. 'Tdewpoint'\n",
       "10. 'RH_1'\n",
       "11. 'Visibility'\n",
       "12. 'RH_9'\n",
       "13. 'T7'\n",
       "14. 'RH_7'\n",
       "15. 'T1'\n",
       "16. 'T9'\n",
       "17. 'RH_4'\n",
       "18. 'RH_2'\n",
       "19. 'T4'\n",
       "20. 'T2'\n",
       "21. 'T_out'\n",
       "22. 'RH_6'\n",
       "23. 'Windspeed'\n",
       "24. 'RH_8'\n",
       "25. 'T6'\n",
       "26. 'RH_out'\n",
       "27. 'Day_of_weekFriday'\n",
       "28. 'Day_of_weekMonday'\n",
       "29. 'Day_of_weekSaturday'\n",
       "30. 'WeekStatusWeekday'\n",
       "31. 'Day_of_weekSunday'\n",
       "32. 'WeekStatusWeekend'\n",
       "33. 'Day_of_weekThursday'\n",
       "34. 'rv2'\n",
       "35. 'rv1'\n",
       "\n",
       "\n"
      ],
      "text/plain": [
       " [1] \"NSM\"                 \"lights\"              \"RH_5\"               \n",
       " [4] \"Press_mm_hg\"         \"T3\"                  \"T8\"                 \n",
       " [7] \"T5\"                  \"RH_3\"                \"Tdewpoint\"          \n",
       "[10] \"RH_1\"                \"Visibility\"          \"RH_9\"               \n",
       "[13] \"T7\"                  \"RH_7\"                \"T1\"                 \n",
       "[16] \"T9\"                  \"RH_4\"                \"RH_2\"               \n",
       "[19] \"T4\"                  \"T2\"                  \"T_out\"              \n",
       "[22] \"RH_6\"                \"Windspeed\"           \"RH_8\"               \n",
       "[25] \"T6\"                  \"RH_out\"              \"Day_of_weekFriday\"  \n",
       "[28] \"Day_of_weekMonday\"   \"Day_of_weekSaturday\" \"WeekStatusWeekday\"  \n",
       "[31] \"Day_of_weekSunday\"   \"WeekStatusWeekend\"   \"Day_of_weekThursday\"\n",
       "[34] \"rv2\"                 \"rv1\"                "
      ]
     },
     "metadata": {},
     "output_type": "display_data"
    }
   ],
   "source": [
    "selectedVars <- rfe_results_test_set$variables\n",
    "capture.output(selectedVars,\n",
    "               file=\"01 - ML Algorithms/00 - Recursive Feature Selection/01-RFE_Selected_Features_Test_Data.txt\")\n",
    "\n",
    "bestFeature35 <- rfe_results_test_set$control$functions$selectVar(selectedVars,35)\n",
    "capture.output(bestFeature35,\n",
    "               file=\"01 - ML Algorithms/00 - Recursive Feature Selection/02-RFE_Best_35_Features_Test_Data.txt\")\n",
    "\n",
    "bestFeature35"
   ]
  },
  {
   "cell_type": "code",
   "execution_count": 14,
   "metadata": {},
   "outputs": [
    {
     "data": {},
     "metadata": {},
     "output_type": "display_data"
    },
    {
     "data": {
      "text/html": [
       "<strong>png:</strong> 2"
      ],
      "text/latex": [
       "\\textbf{png:} 2"
      ],
      "text/markdown": [
       "**png:** 2"
      ],
      "text/plain": [
       "png \n",
       "  2 "
      ]
     },
     "metadata": {},
     "output_type": "display_data"
    },
    {
     "data": {},
     "metadata": {},
     "output_type": "display_data"
    },
    {
     "data": {
      "image/png": "[encoded data removed]",
      "text/plain": [
       "plot without title"
      ]
     },
     "metadata": {},
     "output_type": "display_data"
    }
   ],
   "source": [
    "png('01 - ML Algorithms/00 - Recursive Feature Selection/03-RFE_Results_Test_Data_Plot.png',width = 8, height = 6, units = 'in', res = 300)\n",
    "plot(rfe_results_test_set, type=c(\"g\", \"o\"))\n",
    "dev.off()\n",
    "plot(rfe_results_test_set, type=c(\"g\", \"o\"))"
   ]
  },
  {
   "cell_type": "markdown",
   "metadata": {},
   "source": [
    "### Gradient Boosting Model (GBM)\n",
    "#### 1st ML Algorithm used for regression\n",
    "\n",
    "**Source:** https://en.wikipedia.org/wiki/Gradient_boosting\n",
    "\n",
    "Gradient boosting is a machine learning technique for regression and classification problems, which produces a prediction model in the form of an ensemble of weak prediction models, typically decision trees. It builds the model in a stage-wise fashion **like other boosting methods** do, and it generalizes them by allowing optimization of an arbitrary differentiable loss function.\n",
    "\n",
    "**note:** Find other boosting methods in WEKA"
   ]
  },
  {
   "cell_type": "code",
   "execution_count": 17,
   "metadata": {},
   "outputs": [
    {
     "data": {
      "text/html": [
       "8"
      ],
      "text/latex": [
       "8"
      ],
      "text/markdown": [
       "8"
      ],
      "text/plain": [
       "[1] 8"
      ]
     },
     "metadata": {},
     "output_type": "display_data"
    }
   ],
   "source": [
    "fitControl <- trainControl(method = \"repeatedcv\", # cv\n",
    "                           number=10,repeats=3,  # 10  \n",
    "                           verboseIter = TRUE,returnResamp = \"all\")\n",
    "\n",
    "gbmGrid <-  expand.grid(interaction.depth = c(1,3,5),\n",
    "                        n.trees = seq(100,10901,400),\n",
    "                        shrinkage = 0.1,\n",
    "                        n.minobsinnode = c(10))\n",
    "\n",
    "\n",
    "set.seed(1)\n",
    "registerDoParallel(8)\n",
    "getDoParWorkers()"
   ]
  },
  {
   "cell_type": "code",
   "execution_count": 18,
   "metadata": {},
   "outputs": [
    {
     "name": "stderr",
     "output_type": "stream",
     "text": [
      "Loaded gbm 2.1.4\n"
     ]
    },
    {
     "name": "stdout",
     "output_type": "stream",
     "text": [
      "Aggregating results\n",
      "Selecting tuning parameters\n",
      "Fitting n.trees = 10900, interaction.depth = 5, shrinkage = 0.1, n.minobsinnode = 10 on full training set\n",
      "Iter   TrainDeviance   ValidDeviance   StepSize   Improve\n",
      "     1    10183.6492             nan     0.1000  321.7897\n",
      "     2     9918.7607             nan     0.1000  256.1271\n",
      "     3     9692.2959             nan     0.1000  212.7740\n",
      "     4     9496.0385             nan     0.1000  175.9820\n",
      "     5     9315.0144             nan     0.1000  168.0023\n",
      "     6     9179.1957             nan     0.1000  127.0626\n",
      "     7     9053.7627             nan     0.1000  113.9297\n",
      "     8     8955.7751             nan     0.1000   92.2022\n",
      "     9     8856.1652             nan     0.1000   86.2904\n",
      "    10     8779.3738             nan     0.1000   65.9522\n",
      "    20     8220.5096             nan     0.1000   30.3577\n",
      "    40     7604.5378             nan     0.1000   16.9130\n",
      "    60     7262.0105             nan     0.1000    1.8799\n",
      "    80     6894.3258             nan     0.1000    7.0258\n",
      "   100     6645.7454             nan     0.1000    7.5809\n",
      "   120     6410.5689             nan     0.1000    3.9240\n",
      "   140     6196.7900             nan     0.1000    6.8747\n",
      "   160     6027.9692             nan     0.1000    4.1927\n",
      "   180     5872.0428             nan     0.1000    4.0914\n",
      "   200     5724.1128             nan     0.1000    0.0471\n",
      "   220     5595.1591             nan     0.1000    0.8505\n",
      "   240     5480.8328             nan     0.1000   -0.9358\n",
      "   260     5396.0947             nan     0.1000   -0.7812\n",
      "   280     5279.6947             nan     0.1000    4.7210\n",
      "   300     5188.4246             nan     0.1000    0.8551\n",
      "   320     5102.7021             nan     0.1000   -0.9131\n",
      "   340     5020.6287             nan     0.1000   -0.6461\n",
      "   360     4923.6441             nan     0.1000    0.6764\n",
      "   380     4844.4607             nan     0.1000   -1.3206\n",
      "   400     4764.1405             nan     0.1000   -0.0331\n",
      "   420     4702.9936             nan     0.1000   -2.3541\n",
      "   440     4623.7292             nan     0.1000   -2.4299\n",
      "   460     4568.6443             nan     0.1000   -1.6970\n",
      "   480     4511.9107             nan     0.1000   -0.6860\n",
      "   500     4444.7366             nan     0.1000   -1.4510\n",
      "   520     4389.5722             nan     0.1000    0.2461\n",
      "   540     4338.3199             nan     0.1000   -1.8274\n",
      "   560     4280.8643             nan     0.1000   -1.7921\n",
      "   580     4231.8685             nan     0.1000   -0.1207\n",
      "   600     4173.1970             nan     0.1000    2.4200\n",
      "   620     4125.1300             nan     0.1000   -0.7805\n",
      "   640     4084.0379             nan     0.1000    0.6608\n",
      "   660     4041.0983             nan     0.1000   -0.6313\n",
      "   680     3984.5906             nan     0.1000   -1.3301\n",
      "   700     3944.3762             nan     0.1000   -1.1914\n",
      "   720     3897.6876             nan     0.1000   -0.8391\n",
      "   740     3857.2229             nan     0.1000   -1.4392\n",
      "   760     3815.7281             nan     0.1000    0.8365\n",
      "   780     3771.7170             nan     0.1000   -0.3339\n",
      "   800     3731.7309             nan     0.1000   -0.5605\n",
      "   820     3694.5440             nan     0.1000   -1.5129\n",
      "   840     3650.5303             nan     0.1000   -1.2623\n",
      "   860     3622.8616             nan     0.1000   -1.4404\n",
      "   880     3576.3498             nan     0.1000   -1.4767\n",
      "   900     3528.2929             nan     0.1000   -3.0360\n",
      "   920     3490.5903             nan     0.1000   -1.8178\n",
      "   940     3454.5415             nan     0.1000   -0.9157\n",
      "   960     3421.0652             nan     0.1000   -0.8617\n",
      "   980     3389.2455             nan     0.1000   -0.4772\n",
      "  1000     3356.5645             nan     0.1000   -1.4758\n",
      "  1020     3328.0725             nan     0.1000   -1.8998\n",
      "  1040     3297.2021             nan     0.1000   -0.5966\n",
      "  1060     3267.8323             nan     0.1000   -2.4861\n",
      "  1080     3229.2371             nan     0.1000    0.1051\n",
      "  1100     3189.0201             nan     0.1000   -0.7159\n",
      "  1120     3165.2373             nan     0.1000   -1.1395\n",
      "  1140     3137.1383             nan     0.1000   -0.5043\n",
      "  1160     3116.6515             nan     0.1000   -0.8349\n",
      "  1180     3092.2123             nan     0.1000   -0.8522\n",
      "  1200     3063.3287             nan     0.1000   -0.5991\n",
      "  1220     3037.1072             nan     0.1000   -0.7081\n",
      "  1240     3010.8976             nan     0.1000   -0.8378\n",
      "  1260     2985.0520             nan     0.1000    0.1352\n",
      "  1280     2960.1515             nan     0.1000   -0.4142\n",
      "  1300     2932.9380             nan     0.1000   -1.2260\n",
      "  1320     2906.1232             nan     0.1000   -1.4479\n",
      "  1340     2882.2483             nan     0.1000    0.1823\n",
      "  1360     2858.1095             nan     0.1000   -1.0252\n",
      "  1380     2830.5077             nan     0.1000   -1.6059\n",
      "  1400     2806.7729             nan     0.1000   -1.3608\n",
      "  1420     2787.9172             nan     0.1000   -0.7636\n",
      "  1440     2764.2492             nan     0.1000   -1.1014\n",
      "  1460     2742.0289             nan     0.1000   -0.5656\n",
      "  1480     2721.1563             nan     0.1000   -1.5550\n",
      "  1500     2698.8760             nan     0.1000   -1.3259\n",
      "  1520     2677.3022             nan     0.1000   -0.1165\n",
      "  1540     2655.7958             nan     0.1000   -1.3010\n",
      "  1560     2638.5134             nan     0.1000   -1.1398\n",
      "  1580     2619.7303             nan     0.1000   -0.9736\n",
      "  1600     2601.7668             nan     0.1000   -0.7340\n",
      "  1620     2579.7717             nan     0.1000   -0.4429\n",
      "  1640     2558.0027             nan     0.1000   -0.8193\n",
      "  1660     2538.6517             nan     0.1000   -1.4700\n",
      "  1680     2520.8314             nan     0.1000   -0.7505\n",
      "  1700     2505.2447             nan     0.1000   -1.1285\n",
      "  1720     2491.0817             nan     0.1000   -0.7555\n",
      "  1740     2474.5797             nan     0.1000    0.0534\n",
      "  1760     2457.0848             nan     0.1000   -0.3917\n",
      "  1780     2439.9353             nan     0.1000   -1.6657\n",
      "  1800     2419.8849             nan     0.1000   -0.8871\n",
      "  1820     2400.6539             nan     0.1000   -1.3877\n",
      "  1840     2379.2850             nan     0.1000    0.0877\n",
      "  1860     2362.4243             nan     0.1000   -0.9021\n",
      "  1880     2346.4180             nan     0.1000   -0.7254\n",
      "  1900     2332.1455             nan     0.1000   -1.0376\n",
      "  1920     2313.8096             nan     0.1000   -0.8599\n",
      "  1940     2296.2517             nan     0.1000   -0.7727\n",
      "  1960     2279.2720             nan     0.1000   -1.5142\n",
      "  1980     2263.2979             nan     0.1000   -1.4891\n",
      "  2000     2248.7051             nan     0.1000   -0.7284\n",
      "  2020     2232.1039             nan     0.1000   -1.4947\n",
      "  2040     2219.1695             nan     0.1000   -1.3845\n",
      "  2060     2203.8764             nan     0.1000   -0.6565\n",
      "  2080     2188.6405             nan     0.1000   -0.9704\n",
      "  2100     2175.4325             nan     0.1000   -1.0530\n",
      "  2120     2159.9166             nan     0.1000   -0.8717\n",
      "  2140     2143.7802             nan     0.1000   -0.1703\n",
      "  2160     2132.7969             nan     0.1000   -0.3951\n",
      "  2180     2117.3663             nan     0.1000   -0.9541\n",
      "  2200     2099.7463             nan     0.1000   -1.0182\n",
      "  2220     2085.5647             nan     0.1000   -0.2696\n",
      "  2240     2073.3628             nan     0.1000   -0.8979\n",
      "  2260     2060.4899             nan     0.1000   -0.9038\n",
      "  2280     2045.9696             nan     0.1000   -0.6289\n",
      "  2300     2032.8197             nan     0.1000   -0.6576\n",
      "  2320     2019.4570             nan     0.1000   -0.5565\n",
      "  2340     2006.3051             nan     0.1000   -0.9947\n",
      "  2360     1993.8059             nan     0.1000   -0.0818\n",
      "  2380     1981.7077             nan     0.1000   -0.7520\n",
      "  2400     1968.3940             nan     0.1000   -0.6566\n",
      "  2420     1955.9831             nan     0.1000   -0.6742\n",
      "  2440     1943.2206             nan     0.1000   -0.2277\n",
      "  2460     1930.0064             nan     0.1000   -0.8309\n",
      "  2480     1919.0594             nan     0.1000   -0.8956\n",
      "  2500     1907.1083             nan     0.1000   -1.2296\n",
      "  2520     1895.0738             nan     0.1000   -0.8649\n",
      "  2540     1882.3057             nan     0.1000   -1.0294\n",
      "  2560     1870.6919             nan     0.1000   -1.1139\n",
      "  2580     1860.0818             nan     0.1000   -0.2503\n",
      "  2600     1850.9835             nan     0.1000   -0.6753\n",
      "  2620     1837.5694             nan     0.1000   -0.3329\n",
      "  2640     1828.0718             nan     0.1000   -0.7183\n",
      "  2660     1817.7968             nan     0.1000   -0.5953\n",
      "  2680     1805.1473             nan     0.1000   -0.6162\n",
      "  2700     1794.2796             nan     0.1000   -0.4244\n",
      "  2720     1783.6058             nan     0.1000   -1.0673\n",
      "  2740     1772.5889             nan     0.1000   -1.1575\n",
      "  2760     1763.9715             nan     0.1000   -0.9091\n",
      "  2780     1752.1981             nan     0.1000   -1.0664\n",
      "  2800     1741.1690             nan     0.1000   -0.7969\n",
      "  2820     1728.3814             nan     0.1000   -0.7318\n",
      "  2840     1717.0299             nan     0.1000   -0.2940\n",
      "  2860     1707.4811             nan     0.1000   -0.8527\n",
      "  2880     1699.0996             nan     0.1000   -1.1890\n",
      "  2900     1690.5797             nan     0.1000   -0.6135\n",
      "  2920     1679.9638             nan     0.1000   -0.3642\n",
      "  2940     1669.7218             nan     0.1000   -0.9170\n",
      "  2960     1662.1348             nan     0.1000   -0.2674\n",
      "  2980     1652.3627             nan     0.1000   -1.2165\n",
      "  3000     1644.4540             nan     0.1000   -0.6162\n",
      "  3020     1636.6389             nan     0.1000   -0.6014\n",
      "  3040     1628.2667             nan     0.1000   -1.0045\n",
      "  3060     1620.8860             nan     0.1000   -0.8085\n",
      "  3080     1613.3359             nan     0.1000   -0.6240\n",
      "  3100     1604.5422             nan     0.1000   -0.2111\n",
      "  3120     1596.5610             nan     0.1000   -1.1756\n",
      "  3140     1588.0970             nan     0.1000   -1.1923\n",
      "  3160     1579.2686             nan     0.1000   -1.2641\n",
      "  3180     1568.7685             nan     0.1000   -0.4230\n",
      "  3200     1559.9372             nan     0.1000   -0.6543\n",
      "  3220     1549.7021             nan     0.1000   -0.7987\n",
      "  3240     1542.7084             nan     0.1000   -0.3713\n",
      "  3260     1533.5414             nan     0.1000   -0.6900\n",
      "  3280     1525.7209             nan     0.1000   -0.7211\n",
      "  3300     1518.5225             nan     0.1000   -0.7286\n",
      "  3320     1510.8934             nan     0.1000   -0.5516\n",
      "  3340     1505.1500             nan     0.1000   -0.5482\n",
      "  3360     1497.4529             nan     0.1000   -0.2546\n",
      "  3380     1488.3047             nan     0.1000   -0.4498\n",
      "  3400     1479.8089             nan     0.1000   -0.9467\n",
      "  3420     1469.9659             nan     0.1000   -0.1771\n",
      "  3440     1464.1320             nan     0.1000   -0.2054\n",
      "  3460     1458.2325             nan     0.1000   -0.6366\n",
      "  3480     1449.1905             nan     0.1000   -0.6274\n",
      "  3500     1439.3934             nan     0.1000   -0.7208\n",
      "  3520     1430.1796             nan     0.1000   -0.7132\n",
      "  3540     1424.2569             nan     0.1000   -0.5234\n",
      "  3560     1417.9378             nan     0.1000   -0.1445\n",
      "  3580     1410.7739             nan     0.1000   -0.7042\n",
      "  3600     1401.8792             nan     0.1000   -0.2600\n",
      "  3620     1394.5954             nan     0.1000   -0.6689\n",
      "  3640     1387.3918             nan     0.1000   -0.3378\n",
      "  3660     1381.2668             nan     0.1000   -0.6056\n",
      "  3680     1375.3292             nan     0.1000   -0.4672\n",
      "  3700     1367.9058             nan     0.1000   -0.3523\n",
      "  3720     1360.4379             nan     0.1000   -0.3462\n",
      "  3740     1353.5228             nan     0.1000   -0.7071\n",
      "  3760     1346.8213             nan     0.1000   -0.8080\n",
      "  3780     1342.2781             nan     0.1000   -0.4895\n",
      "  3800     1334.5666             nan     0.1000   -0.6558\n",
      "  3820     1327.7676             nan     0.1000   -0.9099\n",
      "  3840     1320.7046             nan     0.1000   -0.0686\n",
      "  3860     1313.7110             nan     0.1000   -0.6878\n",
      "  3880     1308.3457             nan     0.1000   -0.7646\n",
      "  3900     1301.7566             nan     0.1000   -0.4565\n",
      "  3920     1294.3158             nan     0.1000   -0.6298\n",
      "  3940     1288.4827             nan     0.1000   -0.4795\n",
      "  3960     1282.2471             nan     0.1000   -1.0495\n",
      "  3980     1276.3409             nan     0.1000   -0.2476\n",
      "  4000     1270.6288             nan     0.1000   -0.4009\n",
      "  4020     1265.1001             nan     0.1000   -0.6810\n",
      "  4040     1259.2006             nan     0.1000   -0.9176\n",
      "  4060     1253.2508             nan     0.1000   -0.4081\n",
      "  4080     1247.2960             nan     0.1000   -0.4531\n",
      "  4100     1241.9966             nan     0.1000   -0.4902\n",
      "  4120     1236.3331             nan     0.1000   -0.5421\n",
      "  4140     1230.0748             nan     0.1000   -0.8334\n",
      "  4160     1223.5623             nan     0.1000   -0.4209\n",
      "  4180     1217.6208             nan     0.1000   -0.3900\n",
      "  4200     1212.3574             nan     0.1000   -0.8783\n",
      "  4220     1206.7388             nan     0.1000   -0.3586\n",
      "  4240     1200.9711             nan     0.1000   -0.3114\n",
      "  4260     1195.8731             nan     0.1000   -0.9045\n",
      "  4280     1191.2898             nan     0.1000   -0.9566\n",
      "  4300     1185.4062             nan     0.1000   -0.3922\n",
      "  4320     1179.6195             nan     0.1000    0.0272\n",
      "  4340     1175.9901             nan     0.1000   -0.4536\n",
      "  4360     1171.9659             nan     0.1000   -0.9663\n",
      "  4380     1166.4630             nan     0.1000   -0.5975\n",
      "  4400     1160.4717             nan     0.1000   -0.4519\n",
      "  4420     1156.0441             nan     0.1000   -0.5235\n",
      "  4440     1150.7218             nan     0.1000   -0.5561\n",
      "  4460     1146.2560             nan     0.1000   -0.5335\n",
      "  4480     1140.9342             nan     0.1000   -0.4220\n",
      "  4500     1135.5779             nan     0.1000   -0.8714\n",
      "  4520     1130.7329             nan     0.1000   -0.2184\n",
      "  4540     1125.9949             nan     0.1000   -0.4415\n",
      "  4560     1120.0950             nan     0.1000   -0.5482\n",
      "  4580     1113.9777             nan     0.1000   -0.1447\n",
      "  4600     1108.9601             nan     0.1000   -0.7652\n",
      "  4620     1104.5134             nan     0.1000   -0.2873\n",
      "  4640     1099.2156             nan     0.1000   -0.5875\n",
      "  4660     1094.5330             nan     0.1000   -0.4886\n",
      "  4680     1089.7908             nan     0.1000   -0.3856\n",
      "  4700     1085.0594             nan     0.1000   -0.3769\n",
      "  4720     1080.2364             nan     0.1000   -0.3909\n",
      "  4740     1075.1913             nan     0.1000   -0.3331\n",
      "  4760     1068.6507             nan     0.1000   -0.5319\n",
      "  4780     1062.9102             nan     0.1000   -0.4101\n",
      "  4800     1057.8939             nan     0.1000   -0.1932\n",
      "  4820     1052.6810             nan     0.1000   -0.4238\n",
      "  4840     1049.0725             nan     0.1000   -0.5115\n",
      "  4860     1044.2394             nan     0.1000   -0.4388\n",
      "  4880     1039.3678             nan     0.1000   -0.4397\n",
      "  4900     1035.2749             nan     0.1000   -0.4489\n",
      "  4920     1032.0734             nan     0.1000   -0.5744\n",
      "  4940     1027.7492             nan     0.1000   -0.3650\n",
      "  4960     1024.6673             nan     0.1000   -0.4644\n",
      "  4980     1020.3953             nan     0.1000   -0.7428\n",
      "  5000     1016.3979             nan     0.1000   -0.5402\n",
      "  5020     1012.9051             nan     0.1000   -0.3823\n",
      "  5040     1007.7797             nan     0.1000   -0.2246\n",
      "  5060     1004.0997             nan     0.1000   -0.4335\n",
      "  5080      999.3280             nan     0.1000   -0.5859\n",
      "  5100      995.7089             nan     0.1000   -0.4697\n",
      "  5120      991.3030             nan     0.1000   -0.6503\n",
      "  5140      987.6252             nan     0.1000   -0.4618\n",
      "  5160      983.7462             nan     0.1000   -0.0108\n",
      "  5180      979.8722             nan     0.1000   -0.4046\n",
      "  5200      975.9861             nan     0.1000   -0.4016\n",
      "  5220      972.2799             nan     0.1000   -0.5010\n",
      "  5240      968.4991             nan     0.1000   -0.5258\n",
      "  5260      964.0586             nan     0.1000   -0.8991\n",
      "  5280      960.1935             nan     0.1000   -0.4894\n",
      "  5300      956.5082             nan     0.1000   -0.4403\n",
      "  5320      953.4006             nan     0.1000   -0.5254\n",
      "  5340      948.9929             nan     0.1000   -0.5302\n",
      "  5360      944.7487             nan     0.1000   -0.4162\n",
      "  5380      941.1204             nan     0.1000   -0.1354\n",
      "  5400      937.7519             nan     0.1000   -0.3713\n",
      "  5420      934.6152             nan     0.1000   -0.5984\n",
      "  5440      931.1380             nan     0.1000   -0.2530\n",
      "  5460      927.1690             nan     0.1000   -0.6168\n",
      "  5480      923.5259             nan     0.1000   -0.3658\n",
      "  5500      919.5478             nan     0.1000   -0.2807\n",
      "  5520      915.8690             nan     0.1000   -0.4810\n",
      "  5540      910.8629             nan     0.1000   -0.2546\n",
      "  5560      907.6055             nan     0.1000   -0.2639\n",
      "  5580      902.6635             nan     0.1000   -0.2749\n",
      "  5600      899.1099             nan     0.1000   -0.0540\n",
      "  5620      895.5200             nan     0.1000   -0.4870\n",
      "  5640      892.4155             nan     0.1000   -0.3639\n",
      "  5660      889.1190             nan     0.1000   -0.2951\n",
      "  5680      885.3634             nan     0.1000   -0.2411\n",
      "  5700      882.3098             nan     0.1000   -0.4585\n",
      "  5720      878.2289             nan     0.1000   -0.4223\n",
      "  5740      874.3511             nan     0.1000   -0.3845\n",
      "  5760      871.3835             nan     0.1000   -0.8018\n",
      "  5780      868.1659             nan     0.1000   -0.4100\n",
      "  5800      864.9664             nan     0.1000   -0.7022\n",
      "  5820      860.7342             nan     0.1000   -0.3818\n",
      "  5840      857.1271             nan     0.1000   -0.3599\n",
      "  5860      854.0013             nan     0.1000   -0.4362\n",
      "  5880      850.6560             nan     0.1000   -0.3073\n",
      "  5900      847.3563             nan     0.1000   -0.0521\n",
      "  5920      844.7276             nan     0.1000   -0.2753\n",
      "  5940      840.6912             nan     0.1000   -0.4188\n",
      "  5960      836.8978             nan     0.1000   -0.3309\n",
      "  5980      833.8354             nan     0.1000   -0.2858\n",
      "  6000      830.5214             nan     0.1000   -0.5280\n",
      "  6020      827.7917             nan     0.1000   -0.4333\n",
      "  6040      824.6782             nan     0.1000   -0.3057\n",
      "  6060      821.7272             nan     0.1000   -0.5423\n",
      "  6080      817.9179             nan     0.1000   -0.1928\n",
      "  6100      815.6058             nan     0.1000   -0.2594\n",
      "  6120      812.7088             nan     0.1000   -0.6102\n",
      "  6140      809.5278             nan     0.1000   -0.3049\n",
      "  6160      806.5480             nan     0.1000   -0.4488\n",
      "  6180      803.1417             nan     0.1000   -0.2512\n",
      "  6200      800.1280             nan     0.1000   -0.2800\n",
      "  6220      797.5008             nan     0.1000   -0.7869\n",
      "  6240      794.5014             nan     0.1000   -0.5630\n",
      "  6260      792.4518             nan     0.1000   -0.6903\n",
      "  6280      789.9558             nan     0.1000   -0.4418\n",
      "  6300      786.5514             nan     0.1000   -0.5093\n",
      "  6320      783.5621             nan     0.1000   -0.2712\n",
      "  6340      780.6086             nan     0.1000   -0.1799\n",
      "  6360      777.4087             nan     0.1000   -0.6575\n",
      "  6380      774.7695             nan     0.1000   -0.1507\n",
      "  6400      770.6916             nan     0.1000   -0.4173\n",
      "  6420      766.5516             nan     0.1000   -0.2499\n",
      "  6440      763.3920             nan     0.1000   -0.0521\n",
      "  6460      760.4487             nan     0.1000   -0.2414\n",
      "  6480      757.7592             nan     0.1000   -0.4298\n",
      "  6500      755.0845             nan     0.1000   -0.3426\n",
      "  6520      752.5388             nan     0.1000   -0.3270\n",
      "  6540      749.5580             nan     0.1000   -0.3046\n",
      "  6560      746.9656             nan     0.1000   -0.2498\n",
      "  6580      744.7082             nan     0.1000   -0.3253\n",
      "  6600      741.8182             nan     0.1000   -0.1638\n",
      "  6620      738.8072             nan     0.1000   -0.3846\n",
      "  6640      735.9418             nan     0.1000   -0.3627\n",
      "  6660      732.9930             nan     0.1000   -0.3926\n",
      "  6680      730.4501             nan     0.1000   -0.3483\n",
      "  6700      727.7761             nan     0.1000   -0.3464\n",
      "  6720      725.3020             nan     0.1000   -0.3554\n",
      "  6740      722.2028             nan     0.1000   -0.3530\n",
      "  6760      719.6804             nan     0.1000   -0.3143\n",
      "  6780      716.4599             nan     0.1000   -0.2448\n",
      "  6800      713.5113             nan     0.1000   -0.5128\n",
      "  6820      710.7360             nan     0.1000   -0.4064\n",
      "  6840      708.5374             nan     0.1000   -0.3162\n",
      "  6860      705.8939             nan     0.1000   -0.3308\n",
      "  6880      702.7246             nan     0.1000   -0.1461\n",
      "  6900      700.7724             nan     0.1000   -0.3622\n",
      "  6920      697.8291             nan     0.1000   -0.2059\n",
      "  6940      695.6530             nan     0.1000   -0.4923\n",
      "  6960      692.8669             nan     0.1000   -0.3840\n",
      "  6980      689.7245             nan     0.1000   -0.2320\n",
      "  7000      687.3250             nan     0.1000   -0.4501\n",
      "  7020      684.7650             nan     0.1000   -0.2720\n",
      "  7040      682.0079             nan     0.1000   -0.3817\n",
      "  7060      679.5403             nan     0.1000   -0.3593\n",
      "  7080      677.3515             nan     0.1000   -0.2506\n",
      "  7100      674.7576             nan     0.1000   -0.5421\n",
      "  7120      672.4781             nan     0.1000   -0.4266\n",
      "  7140      670.0674             nan     0.1000   -0.2862\n",
      "  7160      667.6944             nan     0.1000   -0.1645\n",
      "  7180      665.2529             nan     0.1000   -0.3740\n",
      "  7200      662.9583             nan     0.1000   -0.2333\n",
      "  7220      660.5798             nan     0.1000   -0.3911\n",
      "  7240      657.9117             nan     0.1000   -0.1621\n",
      "  7260      655.1152             nan     0.1000   -0.1356\n",
      "  7280      652.2834             nan     0.1000   -0.2538\n",
      "  7300      649.9850             nan     0.1000   -0.0975\n",
      "  7320      647.6991             nan     0.1000   -0.1867\n",
      "  7340      645.3173             nan     0.1000   -0.4461\n",
      "  7360      643.4029             nan     0.1000   -0.2408\n",
      "  7380      641.4316             nan     0.1000   -0.2755\n",
      "  7400      639.1674             nan     0.1000   -0.1454\n",
      "  7420      636.7053             nan     0.1000   -0.3059\n",
      "  7440      634.7393             nan     0.1000   -0.1027\n",
      "  7460      632.9595             nan     0.1000   -0.1802\n",
      "  7480      631.0444             nan     0.1000   -0.2540\n",
      "  7500      628.5373             nan     0.1000   -0.3121\n",
      "  7520      626.3881             nan     0.1000   -0.1231\n",
      "  7540      624.0855             nan     0.1000   -0.3407\n",
      "  7560      622.1128             nan     0.1000   -0.4032\n",
      "  7580      620.3988             nan     0.1000   -0.3053\n",
      "  7600      618.4096             nan     0.1000   -0.4077\n",
      "  7620      616.6326             nan     0.1000   -0.2867\n",
      "  7640      613.7967             nan     0.1000   -0.2876\n",
      "  7660      611.6365             nan     0.1000   -0.2494\n",
      "  7680      609.2510             nan     0.1000   -0.3048\n",
      "  7700      607.4100             nan     0.1000   -0.2616\n",
      "  7720      605.8506             nan     0.1000   -0.2712\n",
      "  7740      604.1632             nan     0.1000   -0.2208\n",
      "  7760      602.2842             nan     0.1000   -0.3345\n",
      "  7780      600.0116             nan     0.1000   -0.1499\n",
      "  7800      597.9131             nan     0.1000   -0.4186\n",
      "  7820      596.2553             nan     0.1000   -0.6438\n",
      "  7840      594.7225             nan     0.1000   -0.1110\n",
      "  7860      592.5906             nan     0.1000   -0.3435\n",
      "  7880      590.6894             nan     0.1000   -0.3238\n",
      "  7900      587.9880             nan     0.1000   -0.2953\n",
      "  7920      586.7045             nan     0.1000   -0.2568\n",
      "  7940      585.0823             nan     0.1000   -0.3419\n",
      "  7960      583.1627             nan     0.1000   -0.2501\n",
      "  7980      581.4421             nan     0.1000   -0.2569\n",
      "  8000      579.2957             nan     0.1000   -0.1172\n",
      "  8020      577.5090             nan     0.1000   -0.1215\n",
      "  8040      575.7297             nan     0.1000   -0.3434\n",
      "  8060      573.8163             nan     0.1000   -0.1292\n",
      "  8080      571.9405             nan     0.1000   -0.6248\n",
      "  8100      569.6560             nan     0.1000   -0.5373\n",
      "  8120      568.0216             nan     0.1000   -0.1996\n",
      "  8140      565.8588             nan     0.1000   -0.3387\n",
      "  8160      563.5587             nan     0.1000   -0.6149\n",
      "  8180      561.8375             nan     0.1000   -0.1920\n",
      "  8200      560.3555             nan     0.1000   -0.3051\n",
      "  8220      558.6143             nan     0.1000   -0.2203\n",
      "  8240      556.3075             nan     0.1000   -0.0977\n",
      "  8260      554.7582             nan     0.1000   -0.3834\n",
      "  8280      553.0014             nan     0.1000   -0.1607\n",
      "  8300      551.1667             nan     0.1000   -0.2493\n",
      "  8320      549.0686             nan     0.1000   -0.4518\n",
      "  8340      547.5233             nan     0.1000   -0.3117\n",
      "  8360      545.2497             nan     0.1000   -0.2553\n",
      "  8380      543.3706             nan     0.1000   -0.2626\n",
      "  8400      541.4757             nan     0.1000   -0.2807\n",
      "  8420      539.4519             nan     0.1000   -0.3858\n",
      "  8440      537.9758             nan     0.1000   -0.2755\n",
      "  8460      536.0975             nan     0.1000   -0.1154\n",
      "  8480      534.1614             nan     0.1000   -0.1448\n",
      "  8500      532.5498             nan     0.1000   -0.1838\n",
      "  8520      530.9930             nan     0.1000   -0.2901\n",
      "  8540      529.5511             nan     0.1000   -0.2034\n",
      "  8560      527.6794             nan     0.1000   -0.2028\n",
      "  8580      526.1055             nan     0.1000   -0.3203\n",
      "  8600      524.7866             nan     0.1000   -0.2584\n",
      "  8620      523.4031             nan     0.1000   -0.1903\n",
      "  8640      521.2636             nan     0.1000   -0.2909\n",
      "  8660      519.7919             nan     0.1000   -0.2549\n",
      "  8680      518.1058             nan     0.1000   -0.1733\n",
      "  8700      516.5295             nan     0.1000   -0.1960\n",
      "  8720      514.8824             nan     0.1000   -0.3239\n",
      "  8740      513.3793             nan     0.1000   -0.2208\n",
      "  8760      512.0196             nan     0.1000   -0.2717\n",
      "  8780      510.6193             nan     0.1000   -0.2857\n",
      "  8800      508.9115             nan     0.1000   -0.2973\n",
      "  8820      507.2829             nan     0.1000   -0.2838\n",
      "  8840      505.2805             nan     0.1000   -0.2806\n",
      "  8860      503.5113             nan     0.1000   -0.1164\n",
      "  8880      502.4028             nan     0.1000   -0.3606\n",
      "  8900      500.5314             nan     0.1000   -0.2380\n",
      "  8920      499.1979             nan     0.1000   -0.0661\n",
      "  8940      497.4545             nan     0.1000   -0.2441\n",
      "  8960      495.9286             nan     0.1000   -0.1850\n",
      "  8980      494.7329             nan     0.1000   -0.2642\n",
      "  9000      493.4895             nan     0.1000   -0.2419\n",
      "  9020      491.8093             nan     0.1000   -0.1578\n",
      "  9040      490.3983             nan     0.1000   -0.3334\n",
      "  9060      489.0742             nan     0.1000   -0.1777\n",
      "  9080      487.9841             nan     0.1000   -0.2163\n",
      "  9100      486.9095             nan     0.1000   -0.2860\n",
      "  9120      485.4765             nan     0.1000   -0.3265\n",
      "  9140      484.0272             nan     0.1000   -0.3212\n",
      "  9160      482.2492             nan     0.1000   -0.2022\n",
      "  9180      480.7491             nan     0.1000   -0.2482\n",
      "  9200      479.1692             nan     0.1000   -0.2435\n",
      "  9220      477.6277             nan     0.1000   -0.0823\n",
      "  9240      476.3336             nan     0.1000   -0.2787\n",
      "  9260      474.6043             nan     0.1000   -0.1717\n",
      "  9280      473.1716             nan     0.1000   -0.1932\n",
      "  9300      472.0036             nan     0.1000   -0.2322\n",
      "  9320      470.7963             nan     0.1000   -0.2339\n",
      "  9340      469.3086             nan     0.1000   -0.2051\n",
      "  9360      468.0045             nan     0.1000   -0.4049\n",
      "  9380      466.9404             nan     0.1000   -0.2070\n",
      "  9400      465.7594             nan     0.1000   -0.3104\n",
      "  9420      463.9835             nan     0.1000   -0.3303\n",
      "  9440      462.6983             nan     0.1000   -0.2293\n",
      "  9460      461.2392             nan     0.1000   -0.1737\n",
      "  9480      459.7903             nan     0.1000   -0.1515\n",
      "  9500      458.1879             nan     0.1000   -0.1505\n",
      "  9520      457.1664             nan     0.1000   -0.2022\n",
      "  9540      455.4448             nan     0.1000   -0.1105\n",
      "  9560      454.2161             nan     0.1000   -0.1139\n",
      "  9580      453.0571             nan     0.1000   -0.2540\n",
      "  9600      451.7484             nan     0.1000   -0.2324\n",
      "  9620      450.5053             nan     0.1000   -0.2175\n",
      "  9640      448.9153             nan     0.1000   -0.2440\n",
      "  9660      447.5272             nan     0.1000   -0.2387\n",
      "  9680      446.1859             nan     0.1000   -0.1085\n",
      "  9700      445.0704             nan     0.1000   -0.2500\n",
      "  9720      443.8550             nan     0.1000   -0.1720\n",
      "  9740      442.4578             nan     0.1000   -0.2204\n",
      "  9760      441.1478             nan     0.1000   -0.1220\n",
      "  9780      439.8359             nan     0.1000   -0.1636\n",
      "  9800      438.8176             nan     0.1000   -0.2612\n",
      "  9820      437.6682             nan     0.1000   -0.3408\n",
      "  9840      436.3015             nan     0.1000   -0.1456\n",
      "  9860      435.3360             nan     0.1000   -0.3548\n",
      "  9880      434.0574             nan     0.1000   -0.2251\n",
      "  9900      432.6340             nan     0.1000   -0.2286\n",
      "  9920      431.3998             nan     0.1000   -0.3718\n",
      "  9940      430.4777             nan     0.1000   -0.1576\n",
      "  9960      429.0848             nan     0.1000   -0.2442\n",
      "  9980      427.9106             nan     0.1000   -0.1206\n",
      " 10000      426.6625             nan     0.1000   -0.3446\n",
      " 10020      425.5620             nan     0.1000   -0.2859\n",
      " 10040      424.4995             nan     0.1000   -0.1488\n",
      " 10060      423.3329             nan     0.1000   -0.2021\n",
      " 10080      422.3910             nan     0.1000   -0.1651\n",
      " 10100      421.2072             nan     0.1000   -0.2909\n",
      " 10120      419.9347             nan     0.1000   -0.1937\n",
      " 10140      418.4419             nan     0.1000   -0.3027\n",
      " 10160      417.1871             nan     0.1000   -0.2181\n",
      " 10180      415.8108             nan     0.1000   -0.1601\n",
      " 10200      414.6974             nan     0.1000   -0.2113\n",
      " 10220      413.3542             nan     0.1000   -0.1567\n",
      " 10240      412.5304             nan     0.1000   -0.2241\n",
      " 10260      411.3749             nan     0.1000   -0.1391\n",
      " 10280      410.4419             nan     0.1000   -0.2083\n",
      " 10300      409.3657             nan     0.1000   -0.1508\n",
      " 10320      408.4846             nan     0.1000   -0.1799\n",
      " 10340      407.4693             nan     0.1000   -0.1762\n",
      " 10360      406.3796             nan     0.1000   -0.2252\n",
      " 10380      405.0364             nan     0.1000   -0.0820\n",
      " 10400      403.6992             nan     0.1000   -0.3174\n",
      " 10420      402.3013             nan     0.1000   -0.1646\n",
      " 10440      401.1747             nan     0.1000   -0.0874\n",
      " 10460      400.2440             nan     0.1000   -0.1929\n",
      " 10480      399.3534             nan     0.1000   -0.1570\n",
      " 10500      398.1190             nan     0.1000   -0.1919\n",
      " 10520      396.8895             nan     0.1000   -0.2636\n",
      " 10540      395.6315             nan     0.1000   -0.1545\n",
      " 10560      394.5735             nan     0.1000   -0.1388\n",
      " 10580      393.4418             nan     0.1000   -0.1645\n",
      " 10600      392.1884             nan     0.1000   -0.1995\n",
      " 10620      391.0992             nan     0.1000   -0.1599\n",
      " 10640      389.8523             nan     0.1000   -0.0724\n",
      " 10660      388.8825             nan     0.1000   -0.1538\n",
      " 10680      387.6509             nan     0.1000   -0.2050\n",
      " 10700      386.3215             nan     0.1000   -0.1160\n",
      " 10720      385.1209             nan     0.1000   -0.1798\n",
      " 10740      383.4408             nan     0.1000   -0.2033\n",
      " 10760      382.5209             nan     0.1000   -0.2110\n",
      " 10780      381.4690             nan     0.1000   -0.2283\n",
      " 10800      380.4337             nan     0.1000   -0.2613\n",
      " 10820      379.2033             nan     0.1000   -0.1504\n",
      " 10840      378.0402             nan     0.1000   -0.1312\n",
      " 10860      377.2405             nan     0.1000   -0.2281\n",
      " 10880      376.2854             nan     0.1000   -0.2379\n",
      " 10900      375.1847             nan     0.1000   -0.0568\n",
      "\n"
     ]
    }
   ],
   "source": [
    "#Install necessary libraries\n",
    "suppressWarnings(library(gbm))\n",
    "\n",
    "ptm <- proc.time()\n",
    "\n",
    "gbm_model <- train(Appliances~., data=new_test_data_set[,c(2:37)],  method=\"gbm\",\n",
    "                   metric='RMSE',trControl = fitControl,bag.fraction=0.5,tuneGrid=gbmGrid)\n",
    "gbm_time <- proc.time() - ptm"
   ]
  },
  {
   "cell_type": "code",
   "execution_count": 19,
   "metadata": {},
   "outputs": [
    {
     "data": {
      "text/plain": [
       "Stochastic Gradient Boosting \n",
       "\n",
       "19735 samples\n",
       "   35 predictor\n",
       "\n",
       "No pre-processing\n",
       "Resampling: Cross-Validated (10 fold, repeated 3 times) \n",
       "Summary of sample sizes: 17761, 17762, 17762, 17759, 17761, 17762, ... \n",
       "Resampling results across tuning parameters:\n",
       "\n",
       "  interaction.depth  n.trees  RMSE      Rsquared   MAE     \n",
       "  1                    100    93.45043  0.1766166  50.89241\n",
       "  1                    500    89.75482  0.2372168  49.30009\n",
       "  1                    900    88.47885  0.2576270  49.01290\n",
       "  1                   1300    87.75230  0.2693118  48.78672\n",
       "  1                   1700    87.27983  0.2766720  48.64889\n",
       "  1                   2100    86.91494  0.2824388  48.53081\n",
       "  1                   2500    86.65831  0.2864165  48.50868\n",
       "  1                   2900    86.44444  0.2897355  48.46577\n",
       "  1                   3300    86.25312  0.2927135  48.45013\n",
       "  1                   3700    86.12212  0.2947218  48.47423\n",
       "  1                   4100    85.96632  0.2971887  48.46993\n",
       "  1                   4500    85.85038  0.2989681  48.44595\n",
       "  1                   4900    85.75746  0.3004439  48.47123\n",
       "  1                   5300    85.65156  0.3021020  48.47146\n",
       "  1                   5700    85.56656  0.3034399  48.48270\n",
       "  1                   6100    85.48043  0.3048318  48.49764\n",
       "  1                   6500    85.40563  0.3060673  48.51429\n",
       "  1                   6900    85.37786  0.3064885  48.54106\n",
       "  1                   7300    85.29783  0.3078015  48.57627\n",
       "  1                   7700    85.26264  0.3084609  48.59655\n",
       "  1                   8100    85.19822  0.3095081  48.61866\n",
       "  1                   8500    85.15860  0.3101417  48.65934\n",
       "  1                   8900    85.13832  0.3105246  48.67490\n",
       "  1                   9300    85.11257  0.3110022  48.71802\n",
       "  1                   9700    85.08683  0.3114671  48.75547\n",
       "  1                  10100    85.04678  0.3120862  48.77362\n",
       "  1                  10500    85.01835  0.3126201  48.78508\n",
       "  1                  10900    84.99228  0.3130497  48.82372\n",
       "  3                    100    87.61266  0.2791825  46.94669\n",
       "  3                    500    81.30135  0.3741572  43.22806\n",
       "  3                    900    79.07885  0.4067130  42.04311\n",
       "  3                   1300    77.45077  0.4302585  41.24488\n",
       "  3                   1700    76.22986  0.4477482  40.68084\n",
       "  3                   2100    75.28098  0.4611539  40.25977\n",
       "  3                   2500    74.50653  0.4719087  39.92075\n",
       "  3                   2900    73.86685  0.4807244  39.65942\n",
       "  3                   3300    73.27432  0.4888105  39.39568\n",
       "  3                   3700    72.76858  0.4957753  39.20771\n",
       "  3                   4100    72.38967  0.5008881  39.07180\n",
       "  3                   4500    72.07826  0.5051254  38.95209\n",
       "  3                   4900    71.77389  0.5092143  38.85255\n",
       "  3                   5300    71.48457  0.5131642  38.75853\n",
       "  3                   5700    71.25684  0.5162261  38.67698\n",
       "  3                   6100    70.97790  0.5199743  38.58102\n",
       "  3                   6500    70.77696  0.5226628  38.50786\n",
       "  3                   6900    70.58577  0.5252353  38.45682\n",
       "  3                   7300    70.42803  0.5273936  38.41472\n",
       "  3                   7700    70.28556  0.5292951  38.37115\n",
       "  3                   8100    70.15702  0.5310198  38.36251\n",
       "  3                   8500    70.00859  0.5330031  38.29593\n",
       "  3                   8900    69.88115  0.5347198  38.27805\n",
       "  3                   9300    69.76451  0.5362821  38.23070\n",
       "  3                   9700    69.65771  0.5377139  38.22764\n",
       "  3                  10100    69.52308  0.5394926  38.19134\n",
       "  3                  10500    69.43965  0.5406338  38.15905\n",
       "  3                  10900    69.33202  0.5420726  38.12946\n",
       "  5                    100    84.73065  0.3249823  44.86062\n",
       "  5                    500    77.48662  0.4306040  40.53127\n",
       "  5                    900    74.70836  0.4697796  39.01248\n",
       "  5                   1300    72.84519  0.4955083  38.16934\n",
       "  5                   1700    71.64109  0.5114878  37.62783\n",
       "  5                   2100    70.75058  0.5233065  37.23616\n",
       "  5                   2500    70.03092  0.5328174  36.91873\n",
       "  5                   2900    69.52012  0.5394698  36.71325\n",
       "  5                   3300    69.08164  0.5451754  36.56060\n",
       "  5                   3700    68.69481  0.5501797  36.41544\n",
       "  5                   4100    68.34191  0.5547522  36.26134\n",
       "  5                   4500    68.07113  0.5582203  36.17157\n",
       "  5                   4900    67.80166  0.5617301  36.08979\n",
       "  5                   5300    67.57047  0.5647070  36.00226\n",
       "  5                   5700    67.35864  0.5674270  35.92178\n",
       "  5                   6100    67.13894  0.5702378  35.82894\n",
       "  5                   6500    66.99122  0.5721316  35.78645\n",
       "  5                   6900    66.83270  0.5741576  35.72306\n",
       "  5                   7300    66.71255  0.5756757  35.68682\n",
       "  5                   7700    66.60291  0.5770852  35.65628\n",
       "  5                   8100    66.48040  0.5786411  35.61173\n",
       "  5                   8500    66.38973  0.5797907  35.58987\n",
       "  5                   8900    66.30162  0.5809085  35.55113\n",
       "  5                   9300    66.22865  0.5818154  35.51639\n",
       "  5                   9700    66.15763  0.5827428  35.48047\n",
       "  5                  10100    66.05411  0.5840409  35.43878\n",
       "  5                  10500    65.98666  0.5848940  35.42397\n",
       "  5                  10900    65.91840  0.5857510  35.39048\n",
       "\n",
       "Tuning parameter 'shrinkage' was held constant at a value of 0.1\n",
       "\n",
       "Tuning parameter 'n.minobsinnode' was held constant at a value of 10\n",
       "RMSE was used to select the optimal model using the smallest value.\n",
       "The final values used for the model were n.trees = 10900, interaction.depth\n",
       " = 5, shrinkage = 0.1 and n.minobsinnode = 10."
      ]
     },
     "metadata": {},
     "output_type": "display_data"
    }
   ],
   "source": [
    "gbm_model\n",
    "capture.output(gbm_model, file = \"01 - ML Algorithms/01 - ML - GBM/00-GBM_Algorithm_Output.txt\")"
   ]
  },
  {
   "cell_type": "code",
   "execution_count": 20,
   "metadata": {},
   "outputs": [
    {
     "data": {
      "text/plain": [
       "   user  system elapsed \n",
       " 307.74    0.09 3613.22 "
      ]
     },
     "metadata": {},
     "output_type": "display_data"
    }
   ],
   "source": [
    "gbm_time\n",
    "capture.output(gbm_time, file = \"01 - ML Algorithms/01 - ML - GBM/01-GBM_Algorithm_Time_Output.txt\")"
   ]
  },
  {
   "cell_type": "code",
   "execution_count": 21,
   "metadata": {},
   "outputs": [
    {
     "data": {
      "text/plain": [
       "train.formula(form = Appliances ~ ., data = new_test_data_set[, \n",
       "    c(2:37)], method = \"gbm\", metric = \"RMSE\", trControl = fitControl, \n",
       "    bag.fraction = 0.5, tuneGrid = gbmGrid)"
      ]
     },
     "metadata": {},
     "output_type": "display_data"
    }
   ],
   "source": [
    "gbm_model$call\n",
    "capture.output(gbm_model, file = \"01 - ML Algorithms/01 - ML - GBM/02-GBM_Algorithm_Model_Output.txt\")"
   ]
  },
  {
   "cell_type": "code",
   "execution_count": 22,
   "metadata": {},
   "outputs": [
    {
     "data": {},
     "metadata": {},
     "output_type": "display_data"
    },
    {
     "data": {},
     "metadata": {},
     "output_type": "display_data"
    },
    {
     "data": {
      "text/html": [
       "<strong>png:</strong> 2"
      ],
      "text/latex": [
       "\\textbf{png:} 2"
      ],
      "text/markdown": [
       "**png:** 2"
      ],
      "text/plain": [
       "png \n",
       "  2 "
      ]
     },
     "metadata": {},
     "output_type": "display_data"
    },
    {
     "data": {
      "image/png": "[encoded data removed]",
      "text/plain": [
       "plot without title"
      ]
     },
     "metadata": {},
     "output_type": "display_data"
    }
   ],
   "source": [
    "plot(gbm_model)\n",
    "\n",
    "png('01 - ML Algorithms/01 - ML - GBM/03-GBM_Algorithm_Plot.png',width = 8, height = 6, units = 'in', res = 300)\n",
    "plot(gbm_model)\n",
    "dev.off()"
   ]
  },
  {
   "cell_type": "code",
   "execution_count": 23,
   "metadata": {},
   "outputs": [
    {
     "data": {
      "text/plain": [
       "gbm variable importance\n",
       "\n",
       "  only 20 most important variables shown (out of 35)\n",
       "\n",
       "            Overall\n",
       "NSM          100.00\n",
       "Press_mm_hg   50.85\n",
       "RH_2          43.29\n",
       "RH_1          41.60\n",
       "T3            38.97\n",
       "RH_3          36.54\n",
       "RH_5          34.02\n",
       "RH_6          30.76\n",
       "RH_8          29.93\n",
       "RH_7          29.65\n",
       "T6            29.03\n",
       "RH_9          28.26\n",
       "T8            28.24\n",
       "rv1           26.77\n",
       "RH_4          26.53\n",
       "T2            26.32\n",
       "RH_out        25.28\n",
       "T1            24.74\n",
       "T4            24.09\n",
       "T9            23.80"
      ]
     },
     "metadata": {},
     "output_type": "display_data"
    }
   ],
   "source": [
    "varImp(gbm_model)\n",
    "capture.output(varImp(gbm_model), \n",
    "               file = \"01 - ML Algorithms/01 - ML - GBM/04-GBM_Algorithm_Feature_Importance_Output.txt\")"
   ]
  },
  {
   "cell_type": "code",
   "execution_count": 24,
   "metadata": {},
   "outputs": [
    {
     "data": {},
     "metadata": {},
     "output_type": "display_data"
    },
    {
     "data": {},
     "metadata": {},
     "output_type": "display_data"
    },
    {
     "data": {
      "text/html": [
       "<strong>png:</strong> 2"
      ],
      "text/latex": [
       "\\textbf{png:} 2"
      ],
      "text/markdown": [
       "**png:** 2"
      ],
      "text/plain": [
       "png \n",
       "  2 "
      ]
     },
     "metadata": {},
     "output_type": "display_data"
    },
    {
     "data": {
      "image/png": "[encoded data removed]",
      "text/plain": [
       "plot without title"
      ]
     },
     "metadata": {},
     "output_type": "display_data"
    }
   ],
   "source": [
    "plot(varImp(gbm_model))\n",
    "png('01 - ML Algorithms/01 - ML - GBM/05-GBM_Algorithm_Feature_Importance_Plot.png',width = 8, height = 6, units = 'in', res = 300)\n",
    "plot(varImp(gbm_model))\n",
    "dev.off()"
   ]
  },
  {
   "cell_type": "markdown",
   "metadata": {},
   "source": [
    "### Linear Regression Model (LM)\n",
    "#### 2nd ML Algorithm used for regression\n",
    "\n",
    "**Source:** https://en.wikipedia.org/wiki/Linear_regression\n",
    "\n",
    "In statistics, linear regression is a linear approach to modelling the relationship between a scalar response (or dependent variable) and one or more explanatory variables (or independent variables). The case of one explanatory variable is called simple linear regression. For more than one explanatory variable, the process is called multiple linear regression.[1] This term is distinct from multivariate linear regression, where multiple correlated dependent variables are predicted, rather than a single scalar variable.[2]\n",
    "\n",
    "In linear regression, the relationships are modeled using linear predictor functions whose unknown model parameters are estimated from the data. Such models are called linear models.[3] Most commonly, the conditional mean of the response given the values of the explanatory variables (or predictors) is assumed to be an affine function of those values; less commonly, the conditional median or some other quantile is used. Like all forms of regression analysis, linear regression focuses on the conditional probability distribution of the response given the values of the predictors, rather than on the joint probability distribution of all of these variables, which is the domain of multivariate analysis.\n",
    "\n",
    "Linear regression was the first type of regression analysis to be studied rigorously, and to be used extensively in practical applications.[4] This is because models which depend linearly on their unknown parameters are easier to fit than models which are non-linearly related to their parameters and because the statistical properties of the resulting estimators are easier to determine. "
   ]
  },
  {
   "cell_type": "code",
   "execution_count": 25,
   "metadata": {},
   "outputs": [
    {
     "name": "stdout",
     "output_type": "stream",
     "text": [
      "Aggregating results\n",
      "Fitting final model on full training set\n"
     ]
    }
   ],
   "source": [
    "lmcvFit <- train(Appliances~., data=new_test_data_set[,c(2:37)],  method=\"lm\",trControl = fitControl,\n",
    "                 metric='RMSE')"
   ]
  },
  {
   "cell_type": "code",
   "execution_count": 26,
   "metadata": {},
   "outputs": [
    {
     "data": {
      "text/plain": [
       "Linear Regression \n",
       "\n",
       "19735 samples\n",
       "   35 predictor\n",
       "\n",
       "No pre-processing\n",
       "Resampling: Cross-Validated (10 fold, repeated 3 times) \n",
       "Summary of sample sizes: 17760, 17761, 17760, 17762, 17763, 17762, ... \n",
       "Resampling results:\n",
       "\n",
       "  RMSE      Rsquared   MAE     \n",
       "  93.28529  0.1719269  52.88758\n",
       "\n",
       "Tuning parameter 'intercept' was held constant at a value of TRUE"
      ]
     },
     "metadata": {},
     "output_type": "display_data"
    }
   ],
   "source": [
    "lmcvFit\n",
    "capture.output(lmcvFit, file = \"01 - ML Algorithms/02 - ML - LM//00-LM_Algorithm_Output.txt\")"
   ]
  },
  {
   "cell_type": "code",
   "execution_count": 27,
   "metadata": {},
   "outputs": [
    {
     "data": {
      "text/plain": [
       "\n",
       "Call:\n",
       "lm(formula = .outcome ~ ., data = dat)\n",
       "\n",
       "Residuals:\n",
       "    Min      1Q  Median      3Q     Max \n",
       "-243.38  -43.25  -18.46    7.70  938.41 \n",
       "\n",
       "Coefficients: (3 not defined because of singularities)\n",
       "                      Estimate Std. Error t value Pr(>|t|)    \n",
       "(Intercept)         -4.562e+01  9.514e+01  -0.480 0.631553    \n",
       "lights               1.914e+00  9.605e-02  19.930  < 2e-16 ***\n",
       "T1                  -4.448e+00  1.857e+00  -2.395 0.016631 *  \n",
       "RH_1                 1.443e+01  6.721e-01  21.465  < 2e-16 ***\n",
       "T2                  -1.819e+01  1.628e+00 -11.172  < 2e-16 ***\n",
       "RH_2                -1.353e+01  7.651e-01 -17.688  < 2e-16 ***\n",
       "T3                   2.465e+01  1.060e+00  23.246  < 2e-16 ***\n",
       "RH_3                 5.946e+00  6.782e-01   8.768  < 2e-16 ***\n",
       "T4                   2.941e-01  1.064e+00   0.276 0.782170    \n",
       "RH_4                -4.836e-01  6.416e-01  -0.754 0.451012    \n",
       "T5                  -2.896e-01  1.173e+00  -0.247 0.805023    \n",
       "RH_5                 3.590e-02  8.719e-02   0.412 0.680515    \n",
       "T6                   7.309e+00  6.341e-01  11.527  < 2e-16 ***\n",
       "RH_6                 2.423e-01  6.762e-02   3.583 0.000341 ***\n",
       "T7                   8.570e-01  1.326e+00   0.646 0.518008    \n",
       "RH_7                -1.257e+00  4.304e-01  -2.920 0.003503 ** \n",
       "T8                   8.130e+00  1.007e+00   8.071 7.36e-16 ***\n",
       "RH_8                -4.361e+00  3.939e-01 -11.071  < 2e-16 ***\n",
       "T9                  -1.276e+01  1.786e+00  -7.147 9.21e-13 ***\n",
       "RH_9                -1.856e-01  4.211e-01  -0.441 0.659372    \n",
       "T_out               -9.614e+00  1.517e+00  -6.340 2.35e-10 ***\n",
       "Press_mm_hg          1.471e-01  1.069e-01   1.376 0.168732    \n",
       "RH_out              -7.105e-01  3.146e-01  -2.258 0.023955 *  \n",
       "Windspeed            1.782e+00  3.493e-01   5.101 3.41e-07 ***\n",
       "Visibility           1.986e-01  5.772e-02   3.441 0.000581 ***\n",
       "Tdewpoint            3.133e+00  1.482e+00   2.114 0.034495 *  \n",
       "rv1                 -4.186e-02  4.583e-02  -0.913 0.361105    \n",
       "rv2                         NA         NA      NA       NA    \n",
       "NSM                  2.871e-04  3.865e-05   7.429 1.14e-13 ***\n",
       "WeekStatusWeekday   -5.946e+00  2.289e+00  -2.597 0.009409 ** \n",
       "WeekStatusWeekend           NA         NA      NA       NA    \n",
       "Day_of_weekFriday    1.972e+01  2.269e+00   8.691  < 2e-16 ***\n",
       "Day_of_weekMonday    1.112e+01  2.215e+00   5.020 5.20e-07 ***\n",
       "Day_of_weekSaturday  1.715e+01  2.608e+00   6.573 5.05e-11 ***\n",
       "Day_of_weekSunday           NA         NA      NA       NA    \n",
       "Day_of_weekThursday -1.057e-01  2.173e+00  -0.049 0.961183    \n",
       "---\n",
       "Signif. codes:  0 '***' 0.001 '**' 0.01 '*' 0.05 '.' 0.1 ' ' 1\n",
       "\n",
       "Residual standard error: 93.26 on 19702 degrees of freedom\n",
       "Multiple R-squared:  0.174,\tAdjusted R-squared:  0.1726 \n",
       "F-statistic: 129.7 on 32 and 19702 DF,  p-value: < 2.2e-16\n"
      ]
     },
     "metadata": {},
     "output_type": "display_data"
    }
   ],
   "source": [
    "summary(lmcvFit)\n",
    "capture.output(summary(lmcvFit), file = \"01 - ML Algorithms/02 - ML - LM//01-LM_Algorithm_Summary_Output.txt\")"
   ]
  },
  {
   "cell_type": "code",
   "execution_count": 28,
   "metadata": {},
   "outputs": [
    {
     "name": "stderr",
     "output_type": "stream",
     "text": [
      "Warning message in predict.lm(modelFit, newdata):\n",
      "\"prediction from a rank-deficient fit may be misleading\""
     ]
    },
    {
     "data": {
      "text/html": [
       "<strong>png:</strong> 2"
      ],
      "text/latex": [
       "\\textbf{png:} 2"
      ],
      "text/markdown": [
       "**png:** 2"
      ],
      "text/plain": [
       "png \n",
       "  2 "
      ]
     },
     "metadata": {},
     "output_type": "display_data"
    },
    {
     "data": {
      "image/png": "[encoded data removed]",
      "text/plain": [
       "plot without title"
      ]
     },
     "metadata": {},
     "output_type": "display_data"
    }
   ],
   "source": [
    "residuals <- resid(lmcvFit)\n",
    "predictedValues <- predict(lmcvFit)\n",
    "\n",
    "plot(new_test_data_set$Appliances,residuals,xlab=\"Appliances Energy Consumption\", ylab=\"Residuals\")\n",
    "\n",
    "png('01 - ML Algorithms/02 - ML - LM/02-LM_Algorithm_Plot.png',width = 8, height = 6, units = 'in', res = 300)\n",
    "plot(new_test_data_set$Appliances,residuals,xlab=\"Appliances Energy Consumption\", ylab=\"Residuals\")\n",
    "abline(0,0)\n",
    "dev.off()"
   ]
  },
  {
   "cell_type": "code",
   "execution_count": 29,
   "metadata": {},
   "outputs": [
    {
     "data": {
      "text/plain": [
       "\n",
       "Call:\n",
       "lm(formula = .outcome ~ ., data = dat)\n",
       "\n",
       "Coefficients:\n",
       "        (Intercept)               lights                   T1  \n",
       "         -4.562e+01            1.914e+00           -4.448e+00  \n",
       "               RH_1                   T2                 RH_2  \n",
       "          1.443e+01           -1.819e+01           -1.353e+01  \n",
       "                 T3                 RH_3                   T4  \n",
       "          2.465e+01            5.946e+00            2.941e-01  \n",
       "               RH_4                   T5                 RH_5  \n",
       "         -4.836e-01           -2.896e-01            3.590e-02  \n",
       "                 T6                 RH_6                   T7  \n",
       "          7.309e+00            2.423e-01            8.570e-01  \n",
       "               RH_7                   T8                 RH_8  \n",
       "         -1.257e+00            8.130e+00           -4.361e+00  \n",
       "                 T9                 RH_9                T_out  \n",
       "         -1.276e+01           -1.856e-01           -9.614e+00  \n",
       "        Press_mm_hg               RH_out            Windspeed  \n",
       "          1.471e-01           -7.105e-01            1.782e+00  \n",
       "         Visibility            Tdewpoint                  rv1  \n",
       "          1.986e-01            3.133e+00           -4.186e-02  \n",
       "                rv2                  NSM    WeekStatusWeekday  \n",
       "                 NA            2.871e-04           -5.946e+00  \n",
       "  WeekStatusWeekend    Day_of_weekFriday    Day_of_weekMonday  \n",
       "                 NA            1.972e+01            1.112e+01  \n",
       "Day_of_weekSaturday    Day_of_weekSunday  Day_of_weekThursday  \n",
       "          1.715e+01                   NA           -1.057e-01  \n"
      ]
     },
     "metadata": {},
     "output_type": "display_data"
    }
   ],
   "source": [
    "lmcvFit$finalModel\n",
    "capture.output(lmcvFit$finalModel, \n",
    "               file = \"01 - ML Algorithms/02 - ML - LM//03-LM_Algorithm_Final_Model_Output.txt\")"
   ]
  },
  {
   "cell_type": "code",
   "execution_count": 30,
   "metadata": {},
   "outputs": [
    {
     "data": {
      "text/plain": [
       "lm variable importance\n",
       "\n",
       "  only 20 most important variables shown (out of 32)\n",
       "\n",
       "                    Overall\n",
       "T3                   100.00\n",
       "RH_1                  92.32\n",
       "lights                85.71\n",
       "RH_2                  76.04\n",
       "T6                    49.48\n",
       "T2                    47.95\n",
       "RH_8                  47.52\n",
       "RH_3                  37.59\n",
       "Day_of_weekFriday     37.26\n",
       "T8                    34.58\n",
       "NSM                   31.82\n",
       "T9                    30.60\n",
       "Day_of_weekSaturday   28.13\n",
       "T_out                 27.12\n",
       "Windspeed             21.78\n",
       "Day_of_weekMonday     21.43\n",
       "RH_6                  15.23\n",
       "Visibility            14.62\n",
       "RH_7                  12.38\n",
       "WeekStatusWeekday     10.99"
      ]
     },
     "metadata": {},
     "output_type": "display_data"
    }
   ],
   "source": [
    "varImp(lmcvFit)\n",
    "capture.output(varImp(lmcvFit), \n",
    "               file = \"01 - ML Algorithms/02 - ML - LM//04-LM_Algorithm_Feature_Importance_Output.txt\")"
   ]
  },
  {
   "cell_type": "code",
   "execution_count": 31,
   "metadata": {},
   "outputs": [
    {
     "data": {},
     "metadata": {},
     "output_type": "display_data"
    },
    {
     "data": {},
     "metadata": {},
     "output_type": "display_data"
    },
    {
     "data": {
      "text/html": [
       "<strong>png:</strong> 2"
      ],
      "text/latex": [
       "\\textbf{png:} 2"
      ],
      "text/markdown": [
       "**png:** 2"
      ],
      "text/plain": [
       "png \n",
       "  2 "
      ]
     },
     "metadata": {},
     "output_type": "display_data"
    },
    {
     "data": {
      "image/png": "[encoded data removed]",
      "text/plain": [
       "plot without title"
      ]
     },
     "metadata": {},
     "output_type": "display_data"
    }
   ],
   "source": [
    "plot(varImp(lmcvFit))\n",
    "png('01 - ML Algorithms/02 - ML - LM/05-LM_Algorithm_Feature_Importance_Plot.png',width = 8, height = 6, units = 'in', res = 300)\n",
    "plot(varImp(lmcvFit))\n",
    "dev.off()"
   ]
  },
  {
   "cell_type": "markdown",
   "metadata": {},
   "source": [
    "### Support Vector Machine Model (SVM)\n",
    "#### 3rd ML Algorithm used for regression\n",
    "\n",
    "**Source:** https://en.wikipedia.org/wiki/Support_vector_machine\n",
    "\n",
    "In machine learning, support vector machines (SVMs, also support vector networks[1]) are supervised learning models with associated learning algorithms that analyze data used for classification and regression analysis. Given a set of training examples, each marked as belonging to one or the other of two categories, an SVM training algorithm builds a model that assigns new examples to one category or the other, making it a non-probabilistic binary linear classifier (although methods such as Platt scaling exist to use SVM in a probabilistic classification setting). An SVM model is a representation of the examples as points in space, mapped so that the examples of the separate categories are divided by a clear gap that is as wide as possible. New examples are then mapped into that same space and predicted to belong to a category based on which side of the gap they fall.\n",
    "\n",
    "In addition to performing linear classification, SVMs can efficiently perform a non-linear classification using what is called the kernel trick, implicitly mapping their inputs into high-dimensional feature spaces.\n",
    "\n",
    "When data is unlabelled, supervised learning is not possible, and an unsupervised learning approach is required, which attempts to find natural clustering of the data to groups, and then map new data to these formed groups. The support vector clustering[2] algorithm, created by Hava Siegelmann and Vladimir Vapnik, applies the statistics of support vectors, developed in the support vector machines algorithm, to categorize unlabeled data, and is one of the most widely used clustering algorithms in industrial applications.[citation needed] "
   ]
  },
  {
   "cell_type": "code",
   "execution_count": 32,
   "metadata": {},
   "outputs": [
    {
     "data": {
      "text/html": [
       "8"
      ],
      "text/latex": [
       "8"
      ],
      "text/markdown": [
       "8"
      ],
      "text/plain": [
       "[1] 8"
      ]
     },
     "metadata": {},
     "output_type": "display_data"
    }
   ],
   "source": [
    "#include the appropriate libraries\n",
    "suppressWarnings(library(caret))\n",
    "\n",
    "grid <- expand.grid(sigma = c(0.35,0.4,0.1),\n",
    "                     C = c(1,3.0,5.0,8.0,10,12))\n",
    "\n",
    "set.seed(1)\n",
    "registerDoParallel(8)\n",
    "getDoParWorkers()\n",
    "\n",
    "ptm <- proc.time()"
   ]
  },
  {
   "cell_type": "code",
   "execution_count": 33,
   "metadata": {},
   "outputs": [
    {
     "name": "stdout",
     "output_type": "stream",
     "text": [
      "Aggregating results\n",
      "Selecting tuning parameters\n",
      "Fitting sigma = 0.1, C = 12 on full training set\n"
     ]
    }
   ],
   "source": [
    "svm_model <- train(Appliances~., data=new_test_data_set[,c(2:37)],  method=\"svmRadial\",\n",
    "                    metric='RMSE',trControl = fitControl, preProc=c(\"center\",\"scale\"),\n",
    "                    tuneGrid = grid)\n",
    "svm_time <- proc.time() - ptm"
   ]
  },
  {
   "cell_type": "code",
   "execution_count": 34,
   "metadata": {},
   "outputs": [
    {
     "data": {
      "text/plain": [
       "Support Vector Machines with Radial Basis Function Kernel \n",
       "\n",
       "19735 samples\n",
       "   35 predictor\n",
       "\n",
       "Pre-processing: centered (35), scaled (35) \n",
       "Resampling: Cross-Validated (10 fold, repeated 3 times) \n",
       "Summary of sample sizes: 17761, 17762, 17762, 17759, 17761, 17762, ... \n",
       "Resampling results across tuning parameters:\n",
       "\n",
       "  sigma  C   RMSE      Rsquared   MAE     \n",
       "  0.10    1  81.67069  0.4153741  34.41613\n",
       "  0.10    3  78.14632  0.4392560  34.03026\n",
       "  0.10    5  76.89257  0.4491892  34.16858\n",
       "  0.10    8  75.95068  0.4581702  34.43683\n",
       "  0.10   10  75.62117  0.4617490  34.63139\n",
       "  0.10   12  75.42893  0.4641009  34.83293\n",
       "  0.35    1  81.29253  0.4146122  35.27822\n",
       "  0.35    3  77.79462  0.4290846  35.92423\n",
       "  0.35    5  77.62772  0.4288055  36.69855\n",
       "  0.35    8  78.21746  0.4243723  37.60148\n",
       "  0.35   10  78.70566  0.4208207  38.08106\n",
       "  0.35   12  79.20259  0.4171485  38.49339\n",
       "  0.40    1  81.71759  0.4096950  35.59432\n",
       "  0.40    3  78.12410  0.4237357  36.30280\n",
       "  0.40    5  78.02696  0.4224907  37.11222\n",
       "  0.40    8  78.71548  0.4167254  38.03764\n",
       "  0.40   10  79.27630  0.4121594  38.51604\n",
       "  0.40   12  79.80760  0.4078449  38.91055\n",
       "\n",
       "RMSE was used to select the optimal model using the smallest value.\n",
       "The final values used for the model were sigma = 0.1 and C = 12."
      ]
     },
     "metadata": {},
     "output_type": "display_data"
    }
   ],
   "source": [
    "svm_model\n",
    "capture.output(svm_model, \n",
    "                   file = \"01 - ML Algorithms/03 - ML - SVM/00-SVM_Algorithm_Output.txt\")"
   ]
  },
  {
   "cell_type": "code",
   "execution_count": 35,
   "metadata": {},
   "outputs": [
    {
     "data": {
      "text/plain": [
       "    user   system  elapsed \n",
       "  529.00     2.75 28326.56 "
      ]
     },
     "metadata": {},
     "output_type": "display_data"
    }
   ],
   "source": [
    "svm_time\n",
    "capture.output(svm_model, \n",
    "                   file = \"01 - ML Algorithms/03 - ML - SVM/01-SVM_Algorithm_Time_Output.txt\")"
   ]
  },
  {
   "cell_type": "code",
   "execution_count": 36,
   "metadata": {},
   "outputs": [
    {
     "data": {},
     "metadata": {},
     "output_type": "display_data"
    },
    {
     "data": {},
     "metadata": {},
     "output_type": "display_data"
    },
    {
     "data": {
      "text/html": [
       "<strong>png:</strong> 2"
      ],
      "text/latex": [
       "\\textbf{png:} 2"
      ],
      "text/markdown": [
       "**png:** 2"
      ],
      "text/plain": [
       "png \n",
       "  2 "
      ]
     },
     "metadata": {},
     "output_type": "display_data"
    },
    {
     "data": {
      "image/png": "[encoded data removed]",
      "text/plain": [
       "plot without title"
      ]
     },
     "metadata": {},
     "output_type": "display_data"
    }
   ],
   "source": [
    "plot(svm_model)\n",
    "png('01 - ML Algorithms/03 - ML - SVM/02-SVM_Algorithm_Plot.png',width=8, height=6, units='in', res=300)\n",
    "plot(svm_model)\n",
    "dev.off()"
   ]
  },
  {
   "cell_type": "code",
   "execution_count": 37,
   "metadata": {},
   "outputs": [
    {
     "data": {
      "text/plain": [
       "loess r-squared variable importance\n",
       "\n",
       "  only 20 most important variables shown (out of 35)\n",
       "\n",
       "                  Overall\n",
       "NSM               100.000\n",
       "lights             82.533\n",
       "RH_out             49.178\n",
       "RH_6               39.167\n",
       "T6                 31.614\n",
       "T2                 30.575\n",
       "RH_8               29.876\n",
       "T_out              20.850\n",
       "RH_7               17.387\n",
       "Windspeed          16.096\n",
       "RH_1               15.696\n",
       "T3                 15.343\n",
       "RH_5               10.626\n",
       "RH_2                7.753\n",
       "T1                  6.520\n",
       "Day_of_weekMonday   6.254\n",
       "RH_9                5.616\n",
       "T4                  3.441\n",
       "T8                  3.321\n",
       "RH_3                2.793"
      ]
     },
     "metadata": {},
     "output_type": "display_data"
    }
   ],
   "source": [
    "varImp(svm_model)\n",
    "capture.output(varImp(svm_model), \n",
    "               file = \"01 - ML Algorithms/03 - ML - SVM/03-SVM_Algorithm_Feature_Importance_Output.txt\")"
   ]
  },
  {
   "cell_type": "code",
   "execution_count": 38,
   "metadata": {},
   "outputs": [
    {
     "data": {},
     "metadata": {},
     "output_type": "display_data"
    },
    {
     "data": {},
     "metadata": {},
     "output_type": "display_data"
    },
    {
     "data": {
      "text/html": [
       "<strong>png:</strong> 2"
      ],
      "text/latex": [
       "\\textbf{png:} 2"
      ],
      "text/markdown": [
       "**png:** 2"
      ],
      "text/plain": [
       "png \n",
       "  2 "
      ]
     },
     "metadata": {},
     "output_type": "display_data"
    },
    {
     "data": {
      "image/png": "[encoded data removed]",
      "text/plain": [
       "plot without title"
      ]
     },
     "metadata": {},
     "output_type": "display_data"
    }
   ],
   "source": [
    "plot(varImp(svm_model))\n",
    "png('01 - ML Algorithms/03 - ML - SVM/04-SVM_Algorithm_Feature_Importance_Plot.png',\n",
    "    width=8, height=6, units='in', res=300)\n",
    "plot(varImp(svm_model))\n",
    "dev.off()"
   ]
  },
  {
   "cell_type": "markdown",
   "metadata": {},
   "source": [
    "### Random Forest Model (RF)\n",
    "#### 4th ML Algorithm used for regression\n",
    "\n",
    "**Source:** https://en.wikipedia.org/wiki/Random_forest\n",
    "\n",
    "Random forests or random decision forests are an ensemble learning method for classification, regression and other tasks that operates by constructing a multitude of decision trees at training time and outputting the class that is the mode of the classes (classification) or mean prediction (regression) of the individual trees.[1][2] Random decision forests correct for decision trees' habit of overfitting to their training set.[3]:587–588\n",
    "\n",
    "The first algorithm for random decision forests was created by Tin Kam Ho[1] using the random subspace method,[2] which, in Ho's formulation, is a way to implement the \"stochastic discrimination\" approach to classification proposed by Eugene Kleinberg.[4][5][6]\n",
    "\n",
    "An extension of the algorithm was developed by Leo Breiman[7] and Adele Cutler,[8] and \"Random Forests\" is their trademark.[9] The extension combines Breiman's \"bagging\" idea and random selection of features, introduced first by Ho[1] and later independently by Amit and Geman[10] in order to construct a collection of decision trees with controlled variance. "
   ]
  },
  {
   "cell_type": "code",
   "execution_count": 39,
   "metadata": {},
   "outputs": [
    {
     "data": {
      "text/html": [
       "7"
      ],
      "text/latex": [
       "7"
      ],
      "text/markdown": [
       "7"
      ],
      "text/plain": [
       "[1] 7"
      ]
     },
     "metadata": {},
     "output_type": "display_data"
    }
   ],
   "source": [
    "fitControl <- trainControl(method = \"repeatedcv\", # cv\n",
    "                           number=10,repeats=3,  # 10  # 10,3\n",
    "                           verboseIter = TRUE,returnResamp = \"all\")\n",
    "set.seed(1)\n",
    "registerDoParallel(7)\n",
    "getDoParWorkers()\n",
    "\n",
    "ptm <- proc.time()"
   ]
  },
  {
   "cell_type": "code",
   "execution_count": 40,
   "metadata": {},
   "outputs": [
    {
     "name": "stdout",
     "output_type": "stream",
     "text": [
      "Aggregating results\n",
      "Selecting tuning parameters\n",
      "Fitting mtry = 18 on full training set\n"
     ]
    }
   ],
   "source": [
    "rf_model <- train(Appliances~., data=new_test_data_set[,c(2:37)],\n",
    "                    method=\"rf\",metric='RMSE',\n",
    "                    trControl=fitControl,importance = TRUE )\n",
    "\n",
    "rf_model_time <- proc.time() - ptm"
   ]
  },
  {
   "cell_type": "code",
   "execution_count": 41,
   "metadata": {},
   "outputs": [
    {
     "data": {
      "text/plain": [
       "Random Forest \n",
       "\n",
       "19735 samples\n",
       "   35 predictor\n",
       "\n",
       "No pre-processing\n",
       "Resampling: Cross-Validated (10 fold, repeated 3 times) \n",
       "Summary of sample sizes: 17761, 17762, 17762, 17759, 17761, 17762, ... \n",
       "Resampling results across tuning parameters:\n",
       "\n",
       "  mtry  RMSE      Rsquared   MAE     \n",
       "   2    67.73217  0.5887746  32.05898\n",
       "  18    66.38371  0.5847599  31.40975\n",
       "  35    67.34966  0.5698876  31.81244\n",
       "\n",
       "RMSE was used to select the optimal model using the smallest value.\n",
       "The final value used for the model was mtry = 18."
      ]
     },
     "metadata": {},
     "output_type": "display_data"
    }
   ],
   "source": [
    "rf_model\n",
    "capture.output(rf_model, \n",
    "               file=\"01 - ML Algorithms/04 - ML - RF/00-RF_Algorithm_Output.txt\")"
   ]
  },
  {
   "cell_type": "code",
   "execution_count": 42,
   "metadata": {},
   "outputs": [
    {
     "data": {
      "text/plain": [
       "    user   system  elapsed \n",
       "  516.91     0.50 10426.28 "
      ]
     },
     "metadata": {},
     "output_type": "display_data"
    }
   ],
   "source": [
    "rf_model_time\n",
    "capture.output(rf_model_time, \n",
    "               file=\"01 - ML Algorithms/04 - ML - RF/01-RF_Algorithm_Time_Output.txt\")"
   ]
  },
  {
   "cell_type": "code",
   "execution_count": 43,
   "metadata": {},
   "outputs": [
    {
     "data": {
      "text/html": [
       "<strong>null device:</strong> 1"
      ],
      "text/latex": [
       "\\textbf{null device:} 1"
      ],
      "text/markdown": [
       "**null device:** 1"
      ],
      "text/plain": [
       "null device \n",
       "          1 "
      ]
     },
     "metadata": {},
     "output_type": "display_data"
    },
    {
     "name": "stderr",
     "output_type": "stream",
     "text": [
      "Saving 6.67 x 6.67 in image\n"
     ]
    },
    {
     "data": {
      "image/png": "[encoded data removed]"
     },
     "metadata": {},
     "output_type": "display_data"
    }
   ],
   "source": [
    "#Include Libraries Needed\n",
    "suppressWarnings(library(gridBase))\n",
    "suppressWarnings(library(gridExtra))\n",
    "suppressWarnings(library(lattice))\n",
    "suppressWarnings(library(IRdisplay))\n",
    "\n",
    "x <- 1:500\n",
    "y <- sqrt(rf_model$finalModel$mse)\n",
    "n_trees <- xyplot(y ~ x, \n",
    "                  ylab=\"RMSE\", \n",
    "                  xlab=\"Number of Trees\")\n",
    "dev.off()\n",
    "\n",
    "rf_g <- plot(1:500,\n",
    "             sqrt(rf_model$finalModel$mse),\n",
    "             type='l',\n",
    "             col='blue',\n",
    "             axes=TRUE,\n",
    "             xlab=\"Number of Trees\",\n",
    "             ylab=\"RMSE\")\n",
    "\n",
    "tress_g <- plot(rf_model)\n",
    "\n",
    "panel_plot <- grid.arrange(n_trees, tress_g,ncol=2)\n",
    "\n",
    "ggsave(file=\"01 - ML Algorithms/04 - ML - RF/02-RF_Algorithm_Plot.png\", panel_plot)\n",
    "\n",
    "display_png(file=\"01 - ML Algorithms/04 - ML - RF/02-RF_Algorithm_Plot.png\")"
   ]
  },
  {
   "cell_type": "code",
   "execution_count": 44,
   "metadata": {},
   "outputs": [
    {
     "data": {
      "text/plain": [
       "rf variable importance\n",
       "\n",
       "  only 20 most important variables shown (out of 35)\n",
       "\n",
       "            Overall\n",
       "NSM          100.00\n",
       "lights        56.58\n",
       "RH_5          33.48\n",
       "Press_mm_hg   31.77\n",
       "T3            26.97\n",
       "Tdewpoint     25.65\n",
       "Visibility    24.45\n",
       "RH_3          23.18\n",
       "T8            23.08\n",
       "Windspeed     21.92\n",
       "T5            21.57\n",
       "RH_1          21.18\n",
       "RH_7          20.61\n",
       "RH_9          20.12\n",
       "RH_2          19.58\n",
       "RH_6          18.47\n",
       "T9            18.28\n",
       "T1            18.16\n",
       "T7            17.40\n",
       "RH_4          17.25"
      ]
     },
     "metadata": {},
     "output_type": "display_data"
    }
   ],
   "source": [
    "varImp(rf_model)\n",
    "capture.output(varImp(rf_model), \n",
    "               file=\"01 - ML Algorithms/04 - ML - RF/03-RF_Algorithm_Feature_Importance_Output.txt\")"
   ]
  },
  {
   "cell_type": "code",
   "execution_count": 45,
   "metadata": {},
   "outputs": [
    {
     "data": {},
     "metadata": {},
     "output_type": "display_data"
    },
    {
     "data": {},
     "metadata": {},
     "output_type": "display_data"
    },
    {
     "data": {
      "text/html": [
       "<strong>png:</strong> 2"
      ],
      "text/latex": [
       "\\textbf{png:} 2"
      ],
      "text/markdown": [
       "**png:** 2"
      ],
      "text/plain": [
       "png \n",
       "  2 "
      ]
     },
     "metadata": {},
     "output_type": "display_data"
    },
    {
     "data": {
      "image/png": "[encoded data removed]",
      "text/plain": [
       "plot without title"
      ]
     },
     "metadata": {},
     "output_type": "display_data"
    }
   ],
   "source": [
    "plot(varImp(rf_model))\n",
    "png('01 - ML Algorithms/04 - ML - RF/04-RF_Algorithm_Feature_Importance_Plot.png',\n",
    "    width=8, height=6, units='in', res=300)\n",
    "plot(varImp(rf_model))\n",
    "dev.off()"
   ]
  },
  {
   "cell_type": "markdown",
   "metadata": {},
   "source": [
    "### 4 ML Performance Comparison\n",
    "#### Table and graphics to display performance results"
   ]
  },
  {
   "cell_type": "code",
   "execution_count": 46,
   "metadata": {},
   "outputs": [
    {
     "name": "stderr",
     "output_type": "stream",
     "text": [
      "Warning message in resamples.default(list(SVM_Radial = svm_model, GBM = gbm_model, :\n",
      "\"'SVM_Radial' did not have 'returnResamp=\"final\"; the optimal tuning parameters are used\"Warning message in resamples.default(list(SVM_Radial = svm_model, GBM = gbm_model, :\n",
      "\"'GBM' did not have 'returnResamp=\"final\"; the optimal tuning parameters are used\"Warning message in resamples.default(list(SVM_Radial = svm_model, GBM = gbm_model, :\n",
      "\"'Lm' did not have 'returnResamp=\"final\"; the optimal tuning parameters are used\"Warning message in resamples.default(list(SVM_Radial = svm_model, GBM = gbm_model, :\n",
      "\"'RF' did not have 'returnResamp=\"final\"; the optimal tuning parameters are used\""
     ]
    }
   ],
   "source": [
    "rvalues <- resamples(list(SVM_Radial=svm_model,GBM=gbm_model,Lm=lmcvFit,RF=rf_model))"
   ]
  },
  {
   "cell_type": "code",
   "execution_count": 47,
   "metadata": {},
   "outputs": [
    {
     "data": {
      "text/html": [
       "<table>\n",
       "<thead><tr><th scope=col>Resample</th><th scope=col>SVM_Radial~MAE</th><th scope=col>SVM_Radial~RMSE</th><th scope=col>SVM_Radial~Rsquared</th><th scope=col>GBM~MAE</th><th scope=col>GBM~RMSE</th><th scope=col>GBM~Rsquared</th><th scope=col>Lm~MAE</th><th scope=col>Lm~RMSE</th><th scope=col>Lm~Rsquared</th><th scope=col>RF~MAE</th><th scope=col>RF~RMSE</th><th scope=col>RF~Rsquared</th></tr></thead>\n",
       "<tbody>\n",
       "\t<tr><td>Fold01.Rep1</td><td>35.31233   </td><td>74.83365   </td><td>0.5006124  </td><td>36.37178   </td><td>67.87675   </td><td>0.5861215  </td><td>50.99779   </td><td> 91.16650  </td><td>0.1960147  </td><td>32.82145   </td><td>68.75553   </td><td>0.5810475  </td></tr>\n",
       "\t<tr><td>Fold01.Rep2</td><td>35.86000   </td><td>78.26100   </td><td>0.4663237  </td><td>36.84295   </td><td>69.95731   </td><td>0.5692254  </td><td>50.83577   </td><td> 90.92870  </td><td>0.1745717  </td><td>33.06931   </td><td>71.48696   </td><td>0.5546938  </td></tr>\n",
       "\t<tr><td>Fold01.Rep3</td><td>34.01653   </td><td>72.30013   </td><td>0.4695567  </td><td>35.19830   </td><td>64.41435   </td><td>0.5738568  </td><td>53.77212   </td><td> 96.42874  </td><td>0.1391230  </td><td>31.27601   </td><td>64.18459   </td><td>0.5795770  </td></tr>\n",
       "\t<tr><td>Fold02.Rep1</td><td>33.57198   </td><td>71.66435   </td><td>0.5339042  </td><td>34.02183   </td><td>63.29239   </td><td>0.6332522  </td><td>54.67597   </td><td> 97.76505  </td><td>0.1449063  </td><td>31.49990   </td><td>65.06194   </td><td>0.6191428  </td></tr>\n",
       "\t<tr><td>Fold02.Rep2</td><td>35.09878   </td><td>75.38483   </td><td>0.4424077  </td><td>35.49983   </td><td>65.69613   </td><td>0.5730276  </td><td>54.03019   </td><td> 95.99897  </td><td>0.1403566  </td><td>31.57402   </td><td>67.00541   </td><td>0.5573070  </td></tr>\n",
       "\t<tr><td>Fold02.Rep3</td><td>35.25898   </td><td>74.70821   </td><td>0.5018132  </td><td>35.67107   </td><td>65.91912   </td><td>0.6063948  </td><td>53.49292   </td><td> 92.88051  </td><td>0.1678614  </td><td>31.53499   </td><td>65.92057   </td><td>0.6155952  </td></tr>\n",
       "\t<tr><td>Fold03.Rep1</td><td>35.97358   </td><td>79.87796   </td><td>0.4755267  </td><td>35.63941   </td><td>68.13112   </td><td>0.6140233  </td><td>54.46571   </td><td> 96.83897  </td><td>0.1753241  </td><td>32.08407   </td><td>69.92658   </td><td>0.6068144  </td></tr>\n",
       "\t<tr><td>Fold03.Rep2</td><td>34.10861   </td><td>73.37160   </td><td>0.4317034  </td><td>35.80701   </td><td>66.44635   </td><td>0.5332584  </td><td>52.98697   </td><td> 94.82001  </td><td>0.1710676  </td><td>31.27546   </td><td>66.53268   </td><td>0.5277466  </td></tr>\n",
       "\t<tr><td>Fold03.Rep3</td><td>34.49955   </td><td>76.03775   </td><td>0.4450430  </td><td>35.91250   </td><td>68.58610   </td><td>0.5438687  </td><td>55.27576   </td><td> 96.82791  </td><td>0.1603940  </td><td>32.78406   </td><td>70.71303   </td><td>0.5154031  </td></tr>\n",
       "\t<tr><td>Fold04.Rep1</td><td>35.07925   </td><td>74.80838   </td><td>0.4192098  </td><td>35.86574   </td><td>67.94725   </td><td>0.5162529  </td><td>53.10643   </td><td> 96.51895  </td><td>0.1859176  </td><td>30.84778   </td><td>66.40368   </td><td>0.5387394  </td></tr>\n",
       "\t<tr><td>Fold04.Rep2</td><td>34.00184   </td><td>76.45720   </td><td>0.4826535  </td><td>35.27213   </td><td>64.90395   </td><td>0.6221455  </td><td>51.14129   </td><td> 87.85353  </td><td>0.1937127  </td><td>30.72261   </td><td>66.71768   </td><td>0.6076853  </td></tr>\n",
       "\t<tr><td>Fold04.Rep3</td><td>34.59488   </td><td>74.54499   </td><td>0.4211701  </td><td>34.75885   </td><td>63.15431   </td><td>0.5745507  </td><td>52.53809   </td><td> 94.43421  </td><td>0.1847816  </td><td>31.10128   </td><td>64.35517   </td><td>0.5571769  </td></tr>\n",
       "\t<tr><td>Fold05.Rep1</td><td>35.94458   </td><td>77.47097   </td><td>0.4677565  </td><td>35.96317   </td><td>64.50334   </td><td>0.6262453  </td><td>51.68950   </td><td> 89.87458  </td><td>0.2021810  </td><td>31.77616   </td><td>66.45823   </td><td>0.6105614  </td></tr>\n",
       "\t<tr><td>Fold05.Rep2</td><td>35.03682   </td><td>75.80415   </td><td>0.4470775  </td><td>35.50419   </td><td>67.16049   </td><td>0.5623149  </td><td>57.66621   </td><td>103.41000  </td><td>0.1465025  </td><td>31.92491   </td><td>67.66154   </td><td>0.5563078  </td></tr>\n",
       "\t<tr><td>Fold05.Rep3</td><td>35.34123   </td><td>79.66509   </td><td>0.4755983  </td><td>35.48012   </td><td>68.09218   </td><td>0.6097938  </td><td>53.88777   </td><td> 96.13459  </td><td>0.1494941  </td><td>31.15118   </td><td>69.46605   </td><td>0.6089331  </td></tr>\n",
       "\t<tr><td>Fold06.Rep1</td><td>34.19584   </td><td>70.92067   </td><td>0.4506184  </td><td>34.82390   </td><td>61.05332   </td><td>0.5889811  </td><td>52.58210   </td><td> 89.76435  </td><td>0.1756309  </td><td>30.26823   </td><td>60.81744   </td><td>0.5931731  </td></tr>\n",
       "\t<tr><td>Fold06.Rep2</td><td>34.81717   </td><td>75.55296   </td><td>0.4232621  </td><td>35.25222   </td><td>65.14672   </td><td>0.5667260  </td><td>54.66259   </td><td> 99.16536  </td><td>0.1734498  </td><td>31.28066   </td><td>65.42765   </td><td>0.5646140  </td></tr>\n",
       "\t<tr><td>Fold06.Rep3</td><td>34.92545   </td><td>74.77952   </td><td>0.4479225  </td><td>36.61333   </td><td>67.68601   </td><td>0.5450382  </td><td>51.57883   </td><td> 87.21420  </td><td>0.1704243  </td><td>31.42450   </td><td>65.32483   </td><td>0.5756325  </td></tr>\n",
       "\t<tr><td>Fold07.Rep1</td><td>34.01279   </td><td>74.68013   </td><td>0.4448794  </td><td>33.46609   </td><td>63.03221   </td><td>0.5995183  </td><td>50.10391   </td><td> 89.89584  </td><td>0.1590982  </td><td>29.36982   </td><td>61.56868   </td><td>0.6227211  </td></tr>\n",
       "\t<tr><td>Fold07.Rep2</td><td>33.60407   </td><td>71.58260   </td><td>0.5089822  </td><td>34.68793   </td><td>62.88171   </td><td>0.6151991  </td><td>53.98025   </td><td> 94.25944  </td><td>0.1727334  </td><td>30.73998   </td><td>63.21543   </td><td>0.6172048  </td></tr>\n",
       "\t<tr><td>Fold07.Rep3</td><td>34.04497   </td><td>74.25263   </td><td>0.4872846  </td><td>35.26217   </td><td>66.92516   </td><td>0.5793114  </td><td>50.41443   </td><td> 89.40638  </td><td>0.1843169  </td><td>31.33443   </td><td>66.43763   </td><td>0.5891598  </td></tr>\n",
       "\t<tr><td>Fold08.Rep1</td><td>35.41367   </td><td>79.30200   </td><td>0.4226338  </td><td>37.26863   </td><td>70.37036   </td><td>0.5411226  </td><td>53.81499   </td><td> 94.98130  </td><td>0.1718192  </td><td>31.74540   </td><td>68.87502   </td><td>0.5619974  </td></tr>\n",
       "\t<tr><td>Fold08.Rep2</td><td>33.65957   </td><td>72.53540   </td><td>0.5298761  </td><td>34.47591   </td><td>64.39272   </td><td>0.6235893  </td><td>52.52163   </td><td> 91.87738  </td><td>0.1654642  </td><td>30.56841   </td><td>64.70991   </td><td>0.6289059  </td></tr>\n",
       "\t<tr><td>Fold08.Rep3</td><td>35.91904   </td><td>75.65212   </td><td>0.4861617  </td><td>35.00918   </td><td>64.75166   </td><td>0.6191608  </td><td>52.89970   </td><td> 97.75029  </td><td>0.1890833  </td><td>31.33857   </td><td>65.22369   </td><td>0.6252775  </td></tr>\n",
       "\t<tr><td>Fold09.Rep1</td><td>33.97542   </td><td>76.59168   </td><td>0.4294123  </td><td>35.44756   </td><td>67.77920   </td><td>0.5482327  </td><td>53.67894   </td><td> 91.20601  </td><td>0.1344818  </td><td>30.94823   </td><td>67.62371   </td><td>0.5499136  </td></tr>\n",
       "\t<tr><td>Fold09.Rep2</td><td>33.72013   </td><td>71.54154   </td><td>0.4891535  </td><td>34.13938   </td><td>62.98839   </td><td>0.6010793  </td><td>51.62751   </td><td> 86.26126  </td><td>0.1861671  </td><td>30.63886   </td><td>63.29179   </td><td>0.5994665  </td></tr>\n",
       "\t<tr><td>Fold09.Rep3</td><td>36.83819   </td><td>81.67000   </td><td>0.4360764  </td><td>36.42236   </td><td>69.67119   </td><td>0.5849269  </td><td>52.47040   </td><td> 90.19484  </td><td>0.1741634  </td><td>32.76379   </td><td>70.67740   </td><td>0.5798200  </td></tr>\n",
       "\t<tr><td>Fold10.Rep1</td><td>35.76590   </td><td>77.25135   </td><td>0.4442806  </td><td>35.72022   </td><td>66.11292   </td><td>0.5896599  </td><td>53.80689   </td><td> 95.31664  </td><td>0.1719252  </td><td>32.31619   </td><td>67.05634   </td><td>0.5829311  </td></tr>\n",
       "\t<tr><td>Fold10.Rep2</td><td>36.40777   </td><td>78.09374   </td><td>0.4911179  </td><td>35.06156   </td><td>64.91666   </td><td>0.6463231  </td><td>49.23348   </td><td> 87.43464  </td><td>0.2024925  </td><td>31.81877   </td><td>66.75234   </td><td>0.6390865  </td></tr>\n",
       "\t<tr><td>Fold10.Rep3</td><td>33.98894   </td><td>73.27128   </td><td>0.4510075  </td><td>34.25493   </td><td>63.76278   </td><td>0.5793307  </td><td>52.68919   </td><td> 91.94944  </td><td>0.1943492  </td><td>30.29352   </td><td>63.85964   </td><td>0.5761626  </td></tr>\n",
       "</tbody>\n",
       "</table>\n"
      ],
      "text/latex": [
       "\\begin{tabular}{r|lllllllllllll}\n",
       " Resample & SVM\\_Radial\\textasciitilde{}MAE & SVM\\_Radial\\textasciitilde{}RMSE & SVM\\_Radial\\textasciitilde{}Rsquared & GBM\\textasciitilde{}MAE & GBM\\textasciitilde{}RMSE & GBM\\textasciitilde{}Rsquared & Lm\\textasciitilde{}MAE & Lm\\textasciitilde{}RMSE & Lm\\textasciitilde{}Rsquared & RF\\textasciitilde{}MAE & RF\\textasciitilde{}RMSE & RF\\textasciitilde{}Rsquared\\\\\n",
       "\\hline\n",
       "\t Fold01.Rep1 & 35.31233    & 74.83365    & 0.5006124   & 36.37178    & 67.87675    & 0.5861215   & 50.99779    &  91.16650   & 0.1960147   & 32.82145    & 68.75553    & 0.5810475  \\\\\n",
       "\t Fold01.Rep2 & 35.86000    & 78.26100    & 0.4663237   & 36.84295    & 69.95731    & 0.5692254   & 50.83577    &  90.92870   & 0.1745717   & 33.06931    & 71.48696    & 0.5546938  \\\\\n",
       "\t Fold01.Rep3 & 34.01653    & 72.30013    & 0.4695567   & 35.19830    & 64.41435    & 0.5738568   & 53.77212    &  96.42874   & 0.1391230   & 31.27601    & 64.18459    & 0.5795770  \\\\\n",
       "\t Fold02.Rep1 & 33.57198    & 71.66435    & 0.5339042   & 34.02183    & 63.29239    & 0.6332522   & 54.67597    &  97.76505   & 0.1449063   & 31.49990    & 65.06194    & 0.6191428  \\\\\n",
       "\t Fold02.Rep2 & 35.09878    & 75.38483    & 0.4424077   & 35.49983    & 65.69613    & 0.5730276   & 54.03019    &  95.99897   & 0.1403566   & 31.57402    & 67.00541    & 0.5573070  \\\\\n",
       "\t Fold02.Rep3 & 35.25898    & 74.70821    & 0.5018132   & 35.67107    & 65.91912    & 0.6063948   & 53.49292    &  92.88051   & 0.1678614   & 31.53499    & 65.92057    & 0.6155952  \\\\\n",
       "\t Fold03.Rep1 & 35.97358    & 79.87796    & 0.4755267   & 35.63941    & 68.13112    & 0.6140233   & 54.46571    &  96.83897   & 0.1753241   & 32.08407    & 69.92658    & 0.6068144  \\\\\n",
       "\t Fold03.Rep2 & 34.10861    & 73.37160    & 0.4317034   & 35.80701    & 66.44635    & 0.5332584   & 52.98697    &  94.82001   & 0.1710676   & 31.27546    & 66.53268    & 0.5277466  \\\\\n",
       "\t Fold03.Rep3 & 34.49955    & 76.03775    & 0.4450430   & 35.91250    & 68.58610    & 0.5438687   & 55.27576    &  96.82791   & 0.1603940   & 32.78406    & 70.71303    & 0.5154031  \\\\\n",
       "\t Fold04.Rep1 & 35.07925    & 74.80838    & 0.4192098   & 35.86574    & 67.94725    & 0.5162529   & 53.10643    &  96.51895   & 0.1859176   & 30.84778    & 66.40368    & 0.5387394  \\\\\n",
       "\t Fold04.Rep2 & 34.00184    & 76.45720    & 0.4826535   & 35.27213    & 64.90395    & 0.6221455   & 51.14129    &  87.85353   & 0.1937127   & 30.72261    & 66.71768    & 0.6076853  \\\\\n",
       "\t Fold04.Rep3 & 34.59488    & 74.54499    & 0.4211701   & 34.75885    & 63.15431    & 0.5745507   & 52.53809    &  94.43421   & 0.1847816   & 31.10128    & 64.35517    & 0.5571769  \\\\\n",
       "\t Fold05.Rep1 & 35.94458    & 77.47097    & 0.4677565   & 35.96317    & 64.50334    & 0.6262453   & 51.68950    &  89.87458   & 0.2021810   & 31.77616    & 66.45823    & 0.6105614  \\\\\n",
       "\t Fold05.Rep2 & 35.03682    & 75.80415    & 0.4470775   & 35.50419    & 67.16049    & 0.5623149   & 57.66621    & 103.41000   & 0.1465025   & 31.92491    & 67.66154    & 0.5563078  \\\\\n",
       "\t Fold05.Rep3 & 35.34123    & 79.66509    & 0.4755983   & 35.48012    & 68.09218    & 0.6097938   & 53.88777    &  96.13459   & 0.1494941   & 31.15118    & 69.46605    & 0.6089331  \\\\\n",
       "\t Fold06.Rep1 & 34.19584    & 70.92067    & 0.4506184   & 34.82390    & 61.05332    & 0.5889811   & 52.58210    &  89.76435   & 0.1756309   & 30.26823    & 60.81744    & 0.5931731  \\\\\n",
       "\t Fold06.Rep2 & 34.81717    & 75.55296    & 0.4232621   & 35.25222    & 65.14672    & 0.5667260   & 54.66259    &  99.16536   & 0.1734498   & 31.28066    & 65.42765    & 0.5646140  \\\\\n",
       "\t Fold06.Rep3 & 34.92545    & 74.77952    & 0.4479225   & 36.61333    & 67.68601    & 0.5450382   & 51.57883    &  87.21420   & 0.1704243   & 31.42450    & 65.32483    & 0.5756325  \\\\\n",
       "\t Fold07.Rep1 & 34.01279    & 74.68013    & 0.4448794   & 33.46609    & 63.03221    & 0.5995183   & 50.10391    &  89.89584   & 0.1590982   & 29.36982    & 61.56868    & 0.6227211  \\\\\n",
       "\t Fold07.Rep2 & 33.60407    & 71.58260    & 0.5089822   & 34.68793    & 62.88171    & 0.6151991   & 53.98025    &  94.25944   & 0.1727334   & 30.73998    & 63.21543    & 0.6172048  \\\\\n",
       "\t Fold07.Rep3 & 34.04497    & 74.25263    & 0.4872846   & 35.26217    & 66.92516    & 0.5793114   & 50.41443    &  89.40638   & 0.1843169   & 31.33443    & 66.43763    & 0.5891598  \\\\\n",
       "\t Fold08.Rep1 & 35.41367    & 79.30200    & 0.4226338   & 37.26863    & 70.37036    & 0.5411226   & 53.81499    &  94.98130   & 0.1718192   & 31.74540    & 68.87502    & 0.5619974  \\\\\n",
       "\t Fold08.Rep2 & 33.65957    & 72.53540    & 0.5298761   & 34.47591    & 64.39272    & 0.6235893   & 52.52163    &  91.87738   & 0.1654642   & 30.56841    & 64.70991    & 0.6289059  \\\\\n",
       "\t Fold08.Rep3 & 35.91904    & 75.65212    & 0.4861617   & 35.00918    & 64.75166    & 0.6191608   & 52.89970    &  97.75029   & 0.1890833   & 31.33857    & 65.22369    & 0.6252775  \\\\\n",
       "\t Fold09.Rep1 & 33.97542    & 76.59168    & 0.4294123   & 35.44756    & 67.77920    & 0.5482327   & 53.67894    &  91.20601   & 0.1344818   & 30.94823    & 67.62371    & 0.5499136  \\\\\n",
       "\t Fold09.Rep2 & 33.72013    & 71.54154    & 0.4891535   & 34.13938    & 62.98839    & 0.6010793   & 51.62751    &  86.26126   & 0.1861671   & 30.63886    & 63.29179    & 0.5994665  \\\\\n",
       "\t Fold09.Rep3 & 36.83819    & 81.67000    & 0.4360764   & 36.42236    & 69.67119    & 0.5849269   & 52.47040    &  90.19484   & 0.1741634   & 32.76379    & 70.67740    & 0.5798200  \\\\\n",
       "\t Fold10.Rep1 & 35.76590    & 77.25135    & 0.4442806   & 35.72022    & 66.11292    & 0.5896599   & 53.80689    &  95.31664   & 0.1719252   & 32.31619    & 67.05634    & 0.5829311  \\\\\n",
       "\t Fold10.Rep2 & 36.40777    & 78.09374    & 0.4911179   & 35.06156    & 64.91666    & 0.6463231   & 49.23348    &  87.43464   & 0.2024925   & 31.81877    & 66.75234    & 0.6390865  \\\\\n",
       "\t Fold10.Rep3 & 33.98894    & 73.27128    & 0.4510075   & 34.25493    & 63.76278    & 0.5793307   & 52.68919    &  91.94944   & 0.1943492   & 30.29352    & 63.85964    & 0.5761626  \\\\\n",
       "\\end{tabular}\n"
      ],
      "text/markdown": [
       "\n",
       "Resample | SVM_Radial~MAE | SVM_Radial~RMSE | SVM_Radial~Rsquared | GBM~MAE | GBM~RMSE | GBM~Rsquared | Lm~MAE | Lm~RMSE | Lm~Rsquared | RF~MAE | RF~RMSE | RF~Rsquared | \n",
       "|---|---|---|---|---|---|---|---|---|---|---|---|---|---|---|---|---|---|---|---|---|---|---|---|---|---|---|---|---|---|\n",
       "| Fold01.Rep1 | 35.31233    | 74.83365    | 0.5006124   | 36.37178    | 67.87675    | 0.5861215   | 50.99779    |  91.16650   | 0.1960147   | 32.82145    | 68.75553    | 0.5810475   | \n",
       "| Fold01.Rep2 | 35.86000    | 78.26100    | 0.4663237   | 36.84295    | 69.95731    | 0.5692254   | 50.83577    |  90.92870   | 0.1745717   | 33.06931    | 71.48696    | 0.5546938   | \n",
       "| Fold01.Rep3 | 34.01653    | 72.30013    | 0.4695567   | 35.19830    | 64.41435    | 0.5738568   | 53.77212    |  96.42874   | 0.1391230   | 31.27601    | 64.18459    | 0.5795770   | \n",
       "| Fold02.Rep1 | 33.57198    | 71.66435    | 0.5339042   | 34.02183    | 63.29239    | 0.6332522   | 54.67597    |  97.76505   | 0.1449063   | 31.49990    | 65.06194    | 0.6191428   | \n",
       "| Fold02.Rep2 | 35.09878    | 75.38483    | 0.4424077   | 35.49983    | 65.69613    | 0.5730276   | 54.03019    |  95.99897   | 0.1403566   | 31.57402    | 67.00541    | 0.5573070   | \n",
       "| Fold02.Rep3 | 35.25898    | 74.70821    | 0.5018132   | 35.67107    | 65.91912    | 0.6063948   | 53.49292    |  92.88051   | 0.1678614   | 31.53499    | 65.92057    | 0.6155952   | \n",
       "| Fold03.Rep1 | 35.97358    | 79.87796    | 0.4755267   | 35.63941    | 68.13112    | 0.6140233   | 54.46571    |  96.83897   | 0.1753241   | 32.08407    | 69.92658    | 0.6068144   | \n",
       "| Fold03.Rep2 | 34.10861    | 73.37160    | 0.4317034   | 35.80701    | 66.44635    | 0.5332584   | 52.98697    |  94.82001   | 0.1710676   | 31.27546    | 66.53268    | 0.5277466   | \n",
       "| Fold03.Rep3 | 34.49955    | 76.03775    | 0.4450430   | 35.91250    | 68.58610    | 0.5438687   | 55.27576    |  96.82791   | 0.1603940   | 32.78406    | 70.71303    | 0.5154031   | \n",
       "| Fold04.Rep1 | 35.07925    | 74.80838    | 0.4192098   | 35.86574    | 67.94725    | 0.5162529   | 53.10643    |  96.51895   | 0.1859176   | 30.84778    | 66.40368    | 0.5387394   | \n",
       "| Fold04.Rep2 | 34.00184    | 76.45720    | 0.4826535   | 35.27213    | 64.90395    | 0.6221455   | 51.14129    |  87.85353   | 0.1937127   | 30.72261    | 66.71768    | 0.6076853   | \n",
       "| Fold04.Rep3 | 34.59488    | 74.54499    | 0.4211701   | 34.75885    | 63.15431    | 0.5745507   | 52.53809    |  94.43421   | 0.1847816   | 31.10128    | 64.35517    | 0.5571769   | \n",
       "| Fold05.Rep1 | 35.94458    | 77.47097    | 0.4677565   | 35.96317    | 64.50334    | 0.6262453   | 51.68950    |  89.87458   | 0.2021810   | 31.77616    | 66.45823    | 0.6105614   | \n",
       "| Fold05.Rep2 | 35.03682    | 75.80415    | 0.4470775   | 35.50419    | 67.16049    | 0.5623149   | 57.66621    | 103.41000   | 0.1465025   | 31.92491    | 67.66154    | 0.5563078   | \n",
       "| Fold05.Rep3 | 35.34123    | 79.66509    | 0.4755983   | 35.48012    | 68.09218    | 0.6097938   | 53.88777    |  96.13459   | 0.1494941   | 31.15118    | 69.46605    | 0.6089331   | \n",
       "| Fold06.Rep1 | 34.19584    | 70.92067    | 0.4506184   | 34.82390    | 61.05332    | 0.5889811   | 52.58210    |  89.76435   | 0.1756309   | 30.26823    | 60.81744    | 0.5931731   | \n",
       "| Fold06.Rep2 | 34.81717    | 75.55296    | 0.4232621   | 35.25222    | 65.14672    | 0.5667260   | 54.66259    |  99.16536   | 0.1734498   | 31.28066    | 65.42765    | 0.5646140   | \n",
       "| Fold06.Rep3 | 34.92545    | 74.77952    | 0.4479225   | 36.61333    | 67.68601    | 0.5450382   | 51.57883    |  87.21420   | 0.1704243   | 31.42450    | 65.32483    | 0.5756325   | \n",
       "| Fold07.Rep1 | 34.01279    | 74.68013    | 0.4448794   | 33.46609    | 63.03221    | 0.5995183   | 50.10391    |  89.89584   | 0.1590982   | 29.36982    | 61.56868    | 0.6227211   | \n",
       "| Fold07.Rep2 | 33.60407    | 71.58260    | 0.5089822   | 34.68793    | 62.88171    | 0.6151991   | 53.98025    |  94.25944   | 0.1727334   | 30.73998    | 63.21543    | 0.6172048   | \n",
       "| Fold07.Rep3 | 34.04497    | 74.25263    | 0.4872846   | 35.26217    | 66.92516    | 0.5793114   | 50.41443    |  89.40638   | 0.1843169   | 31.33443    | 66.43763    | 0.5891598   | \n",
       "| Fold08.Rep1 | 35.41367    | 79.30200    | 0.4226338   | 37.26863    | 70.37036    | 0.5411226   | 53.81499    |  94.98130   | 0.1718192   | 31.74540    | 68.87502    | 0.5619974   | \n",
       "| Fold08.Rep2 | 33.65957    | 72.53540    | 0.5298761   | 34.47591    | 64.39272    | 0.6235893   | 52.52163    |  91.87738   | 0.1654642   | 30.56841    | 64.70991    | 0.6289059   | \n",
       "| Fold08.Rep3 | 35.91904    | 75.65212    | 0.4861617   | 35.00918    | 64.75166    | 0.6191608   | 52.89970    |  97.75029   | 0.1890833   | 31.33857    | 65.22369    | 0.6252775   | \n",
       "| Fold09.Rep1 | 33.97542    | 76.59168    | 0.4294123   | 35.44756    | 67.77920    | 0.5482327   | 53.67894    |  91.20601   | 0.1344818   | 30.94823    | 67.62371    | 0.5499136   | \n",
       "| Fold09.Rep2 | 33.72013    | 71.54154    | 0.4891535   | 34.13938    | 62.98839    | 0.6010793   | 51.62751    |  86.26126   | 0.1861671   | 30.63886    | 63.29179    | 0.5994665   | \n",
       "| Fold09.Rep3 | 36.83819    | 81.67000    | 0.4360764   | 36.42236    | 69.67119    | 0.5849269   | 52.47040    |  90.19484   | 0.1741634   | 32.76379    | 70.67740    | 0.5798200   | \n",
       "| Fold10.Rep1 | 35.76590    | 77.25135    | 0.4442806   | 35.72022    | 66.11292    | 0.5896599   | 53.80689    |  95.31664   | 0.1719252   | 32.31619    | 67.05634    | 0.5829311   | \n",
       "| Fold10.Rep2 | 36.40777    | 78.09374    | 0.4911179   | 35.06156    | 64.91666    | 0.6463231   | 49.23348    |  87.43464   | 0.2024925   | 31.81877    | 66.75234    | 0.6390865   | \n",
       "| Fold10.Rep3 | 33.98894    | 73.27128    | 0.4510075   | 34.25493    | 63.76278    | 0.5793307   | 52.68919    |  91.94944   | 0.1943492   | 30.29352    | 63.85964    | 0.5761626   | \n",
       "\n",
       "\n"
      ],
      "text/plain": [
       "   Resample    SVM_Radial~MAE SVM_Radial~RMSE SVM_Radial~Rsquared GBM~MAE \n",
       "1  Fold01.Rep1 35.31233       74.83365        0.5006124           36.37178\n",
       "2  Fold01.Rep2 35.86000       78.26100        0.4663237           36.84295\n",
       "3  Fold01.Rep3 34.01653       72.30013        0.4695567           35.19830\n",
       "4  Fold02.Rep1 33.57198       71.66435        0.5339042           34.02183\n",
       "5  Fold02.Rep2 35.09878       75.38483        0.4424077           35.49983\n",
       "6  Fold02.Rep3 35.25898       74.70821        0.5018132           35.67107\n",
       "7  Fold03.Rep1 35.97358       79.87796        0.4755267           35.63941\n",
       "8  Fold03.Rep2 34.10861       73.37160        0.4317034           35.80701\n",
       "9  Fold03.Rep3 34.49955       76.03775        0.4450430           35.91250\n",
       "10 Fold04.Rep1 35.07925       74.80838        0.4192098           35.86574\n",
       "11 Fold04.Rep2 34.00184       76.45720        0.4826535           35.27213\n",
       "12 Fold04.Rep3 34.59488       74.54499        0.4211701           34.75885\n",
       "13 Fold05.Rep1 35.94458       77.47097        0.4677565           35.96317\n",
       "14 Fold05.Rep2 35.03682       75.80415        0.4470775           35.50419\n",
       "15 Fold05.Rep3 35.34123       79.66509        0.4755983           35.48012\n",
       "16 Fold06.Rep1 34.19584       70.92067        0.4506184           34.82390\n",
       "17 Fold06.Rep2 34.81717       75.55296        0.4232621           35.25222\n",
       "18 Fold06.Rep3 34.92545       74.77952        0.4479225           36.61333\n",
       "19 Fold07.Rep1 34.01279       74.68013        0.4448794           33.46609\n",
       "20 Fold07.Rep2 33.60407       71.58260        0.5089822           34.68793\n",
       "21 Fold07.Rep3 34.04497       74.25263        0.4872846           35.26217\n",
       "22 Fold08.Rep1 35.41367       79.30200        0.4226338           37.26863\n",
       "23 Fold08.Rep2 33.65957       72.53540        0.5298761           34.47591\n",
       "24 Fold08.Rep3 35.91904       75.65212        0.4861617           35.00918\n",
       "25 Fold09.Rep1 33.97542       76.59168        0.4294123           35.44756\n",
       "26 Fold09.Rep2 33.72013       71.54154        0.4891535           34.13938\n",
       "27 Fold09.Rep3 36.83819       81.67000        0.4360764           36.42236\n",
       "28 Fold10.Rep1 35.76590       77.25135        0.4442806           35.72022\n",
       "29 Fold10.Rep2 36.40777       78.09374        0.4911179           35.06156\n",
       "30 Fold10.Rep3 33.98894       73.27128        0.4510075           34.25493\n",
       "   GBM~RMSE GBM~Rsquared Lm~MAE   Lm~RMSE   Lm~Rsquared RF~MAE   RF~RMSE \n",
       "1  67.87675 0.5861215    50.99779  91.16650 0.1960147   32.82145 68.75553\n",
       "2  69.95731 0.5692254    50.83577  90.92870 0.1745717   33.06931 71.48696\n",
       "3  64.41435 0.5738568    53.77212  96.42874 0.1391230   31.27601 64.18459\n",
       "4  63.29239 0.6332522    54.67597  97.76505 0.1449063   31.49990 65.06194\n",
       "5  65.69613 0.5730276    54.03019  95.99897 0.1403566   31.57402 67.00541\n",
       "6  65.91912 0.6063948    53.49292  92.88051 0.1678614   31.53499 65.92057\n",
       "7  68.13112 0.6140233    54.46571  96.83897 0.1753241   32.08407 69.92658\n",
       "8  66.44635 0.5332584    52.98697  94.82001 0.1710676   31.27546 66.53268\n",
       "9  68.58610 0.5438687    55.27576  96.82791 0.1603940   32.78406 70.71303\n",
       "10 67.94725 0.5162529    53.10643  96.51895 0.1859176   30.84778 66.40368\n",
       "11 64.90395 0.6221455    51.14129  87.85353 0.1937127   30.72261 66.71768\n",
       "12 63.15431 0.5745507    52.53809  94.43421 0.1847816   31.10128 64.35517\n",
       "13 64.50334 0.6262453    51.68950  89.87458 0.2021810   31.77616 66.45823\n",
       "14 67.16049 0.5623149    57.66621 103.41000 0.1465025   31.92491 67.66154\n",
       "15 68.09218 0.6097938    53.88777  96.13459 0.1494941   31.15118 69.46605\n",
       "16 61.05332 0.5889811    52.58210  89.76435 0.1756309   30.26823 60.81744\n",
       "17 65.14672 0.5667260    54.66259  99.16536 0.1734498   31.28066 65.42765\n",
       "18 67.68601 0.5450382    51.57883  87.21420 0.1704243   31.42450 65.32483\n",
       "19 63.03221 0.5995183    50.10391  89.89584 0.1590982   29.36982 61.56868\n",
       "20 62.88171 0.6151991    53.98025  94.25944 0.1727334   30.73998 63.21543\n",
       "21 66.92516 0.5793114    50.41443  89.40638 0.1843169   31.33443 66.43763\n",
       "22 70.37036 0.5411226    53.81499  94.98130 0.1718192   31.74540 68.87502\n",
       "23 64.39272 0.6235893    52.52163  91.87738 0.1654642   30.56841 64.70991\n",
       "24 64.75166 0.6191608    52.89970  97.75029 0.1890833   31.33857 65.22369\n",
       "25 67.77920 0.5482327    53.67894  91.20601 0.1344818   30.94823 67.62371\n",
       "26 62.98839 0.6010793    51.62751  86.26126 0.1861671   30.63886 63.29179\n",
       "27 69.67119 0.5849269    52.47040  90.19484 0.1741634   32.76379 70.67740\n",
       "28 66.11292 0.5896599    53.80689  95.31664 0.1719252   32.31619 67.05634\n",
       "29 64.91666 0.6463231    49.23348  87.43464 0.2024925   31.81877 66.75234\n",
       "30 63.76278 0.5793307    52.68919  91.94944 0.1943492   30.29352 63.85964\n",
       "   RF~Rsquared\n",
       "1  0.5810475  \n",
       "2  0.5546938  \n",
       "3  0.5795770  \n",
       "4  0.6191428  \n",
       "5  0.5573070  \n",
       "6  0.6155952  \n",
       "7  0.6068144  \n",
       "8  0.5277466  \n",
       "9  0.5154031  \n",
       "10 0.5387394  \n",
       "11 0.6076853  \n",
       "12 0.5571769  \n",
       "13 0.6105614  \n",
       "14 0.5563078  \n",
       "15 0.6089331  \n",
       "16 0.5931731  \n",
       "17 0.5646140  \n",
       "18 0.5756325  \n",
       "19 0.6227211  \n",
       "20 0.6172048  \n",
       "21 0.5891598  \n",
       "22 0.5619974  \n",
       "23 0.6289059  \n",
       "24 0.6252775  \n",
       "25 0.5499136  \n",
       "26 0.5994665  \n",
       "27 0.5798200  \n",
       "28 0.5829311  \n",
       "29 0.6390865  \n",
       "30 0.5761626  "
      ]
     },
     "metadata": {},
     "output_type": "display_data"
    }
   ],
   "source": [
    "rvalues$values\n",
    "capture.output(rvalues$values,\n",
    "               file = \"01 - ML Algorithms/00-Algorithm_Performance_Table.txt\")\n",
    "write.csv(rvalues$values, file=\"01 - ML Algorithms/01-Algorithm_Performance_CSV.csv\")"
   ]
  },
  {
   "cell_type": "code",
   "execution_count": 48,
   "metadata": {},
   "outputs": [
    {
     "data": {
      "text/plain": [
       "TableGrob (1 x 2) \"arrange\": 2 grobs\n",
       "  z     cells    name                      grob\n",
       "1 1 (1-1,1-1) arrange lattice[GRID.lattice.129]\n",
       "2 2 (1-1,2-2) arrange lattice[GRID.lattice.130]"
      ]
     },
     "metadata": {},
     "output_type": "display_data"
    },
    {
     "name": "stderr",
     "output_type": "stream",
     "text": [
      "Saving 6.67 x 6.67 in image\n"
     ]
    },
    {
     "data": {
      "image/png": "[encoded data removed]",
      "text/plain": [
       "plot without title"
      ]
     },
     "metadata": {},
     "output_type": "display_data"
    }
   ],
   "source": [
    "RMSE_ALL <- dotplot(rvalues,metric = \"RMSE\")\n",
    "\n",
    "RSQ_ALL <- dotplot(rvalues,metric=\"Rsquared\")\n",
    "\n",
    "panel_plot_models <- grid.arrange(RMSE_ALL, RSQ_ALL,ncol=2)\n",
    "\n",
    "panel_plot_models\n",
    "ggsave(file=\"01 - ML Algorithms/02-ML_Algorithms_Performance_Plot.png\", panel_plot_models)"
   ]
  },
  {
   "cell_type": "markdown",
   "metadata": {},
   "source": [
    "# Contribution\n",
    "\n",
    "As a contribution to the research I have included the principal components analysis and k-Nearest Neighbors.\n",
    "\n",
    "Principal components analysis is used to help us eliminate irrelevant features or reduce noise of the data set.\n",
    "\n",
    "From the prototype model family in caret, I have selected k-Nearest Neighbors.\n",
    "\n",
    "### Dimensionality Reduction\n",
    "#### Principle Component Analysis\n",
    "\n",
    "**Source:** https://en.wikipedia.org/wiki/Principal_component_analysis\n",
    "\n",
    "Principal component analysis (PCA) is a statistical procedure that uses an orthogonal transformation to convert a set of observations of possibly correlated variables (entities each of which takes on various numerical values) into a set of values of linearly uncorrelated variables called principal components. If there are n {\\displaystyle n} n observations with p {\\displaystyle p} p variables, then the number of distinct principal components is min ( n − 1 , p ) {\\displaystyle \\min(n-1,p)} {\\displaystyle \\min(n-1,p)}. This transformation is defined in such a way that the first principal component has the largest possible variance (that is, accounts for as much of the variability in the data as possible), and each succeeding component in turn has the highest variance possible under the constraint that it is orthogonal to the preceding components. The resulting vectors (each being a linear combination of the variables and containing n observations) are an uncorrelated orthogonal basis set. PCA is sensitive to the relative scaling of the original variables. \n",
    "\n",
    "**Class Notes:**\n",
    "\n",
    "The goal of PCA is to reduce the number of dimensions, and transfer interdependent variables into single and independent components.\n",
    "\n",
    "To achieve this PCA:\n",
    "* Transforms the data into a lower dimensional space, by constructing dimensions that are linear combinations of the input dimensions / features.\n",
    "* Finds independent dimensions along which data have the largest variance.\n",
    "\n",
    "### K-Nearest Neighbors\n",
    "#### 5th ML Algorithm used for regression\n",
    "\n",
    "**Source:** https://en.wikipedia.org/wiki/K-nearest_neighbors_algorithm\n",
    "\n",
    "In pattern recognition, the k-nearest neighbors algorithm (k-NN) is a non-parametric method used for classification and regression.[1] In both cases, the input consists of the k closest training examples in the feature space. \n",
    "\n",
    "In k-NN regression, the output is the property value for the object. This value is the average of the values of its k nearest neighbors.\n",
    "\n",
    "k-NN is a type of instance-based learning, or lazy learning, where the function is only approximated locally and all computation is deferred until classification. The k-NN algorithm is among the simplest of all machine learning algorithms.\n",
    "\n",
    "Both for classification and regression, a useful technique can be used to assign weight to the contributions of the neighbors, so that the nearer neighbors contribute more to the average than the more distant ones. For example, a common weighting scheme consists in giving each neighbor a weight of 1/d, where d is the distance to the neighbor.[2] \n",
    "\n",
    "The neighbors are taken from a set of objects for which the class (for k-NN classification) or the object property value (for k-NN regression) is known. This can be thought of as the training set for the algorithm, though no explicit training step is required. "
   ]
  },
  {
   "cell_type": "code",
   "execution_count": 49,
   "metadata": {},
   "outputs": [
    {
     "data": {
      "text/html": [
       "6"
      ],
      "text/latex": [
       "6"
      ],
      "text/markdown": [
       "6"
      ],
      "text/plain": [
       "[1] 6"
      ]
     },
     "metadata": {},
     "output_type": "display_data"
    }
   ],
   "source": [
    "fitControl <- trainControl(method = \"repeatedcv\", # cv\n",
    "                           number=10,repeats=3,  # 10  # 10,3\n",
    "                           verboseIter = TRUE,returnResamp = \"all\")\n",
    "set.seed(1)\n",
    "registerDoParallel(6)\n",
    "getDoParWorkers()"
   ]
  },
  {
   "cell_type": "code",
   "execution_count": 53,
   "metadata": {},
   "outputs": [
    {
     "name": "stdout",
     "output_type": "stream",
     "text": [
      "Aggregating results\n",
      "Selecting tuning parameters\n",
      "Fitting k = 9 on full training set\n"
     ]
    }
   ],
   "source": [
    "ptm <- proc.time()\n",
    "\n",
    "knn_model <- train(Appliances~., \n",
    "                   data=new_test_data_set[,c(2:37)],\n",
    "                   method=\"knn\",\n",
    "                   metric='RMSE',\n",
    "                   trControl=fitControl,\n",
    "                   importance = TRUE )\n",
    "\n",
    "knn_model_time <- proc.time() - ptm"
   ]
  },
  {
   "cell_type": "code",
   "execution_count": 56,
   "metadata": {},
   "outputs": [
    {
     "data": {
      "text/plain": [
       "k-Nearest Neighbors \n",
       "\n",
       "19735 samples\n",
       "   35 predictor\n",
       "\n",
       "No pre-processing\n",
       "Resampling: Cross-Validated (10 fold, repeated 3 times) \n",
       "Summary of sample sizes: 17762, 17761, 17762, 17761, 17762, 17760, ... \n",
       "Resampling results across tuning parameters:\n",
       "\n",
       "  k  RMSE       Rsquared   MAE     \n",
       "  5  100.80887  0.1002063  54.63894\n",
       "  7   98.79326  0.1114832  53.83662\n",
       "  9   97.56549  0.1202519  53.12150\n",
       "\n",
       "RMSE was used to select the optimal model using the smallest value.\n",
       "The final value used for the model was k = 9."
      ]
     },
     "metadata": {},
     "output_type": "display_data"
    }
   ],
   "source": [
    "knn_model\n",
    "capture.output(knn_model, \n",
    "               file=\"01 - ML Algorithms/05 - ML - KNN/00-KNN_Algorithm_Output.txt\")"
   ]
  },
  {
   "cell_type": "code",
   "execution_count": 57,
   "metadata": {},
   "outputs": [
    {
     "data": {
      "text/plain": [
       "   user  system elapsed \n",
       "   0.78    0.16   46.96 "
      ]
     },
     "metadata": {},
     "output_type": "display_data"
    }
   ],
   "source": [
    "knn_model_time\n",
    "capture.output(knn_model_time, \n",
    "               file=\"01 - ML Algorithms/05 - ML - KNN/01-KNN_Algorithm_Time_Output.txt\")"
   ]
  },
  {
   "cell_type": "code",
   "execution_count": 58,
   "metadata": {},
   "outputs": [
    {
     "data": {},
     "metadata": {},
     "output_type": "display_data"
    },
    {
     "data": {},
     "metadata": {},
     "output_type": "display_data"
    },
    {
     "data": {
      "text/html": [
       "<strong>png:</strong> 2"
      ],
      "text/latex": [
       "\\textbf{png:} 2"
      ],
      "text/markdown": [
       "**png:** 2"
      ],
      "text/plain": [
       "png \n",
       "  2 "
      ]
     },
     "metadata": {},
     "output_type": "display_data"
    },
    {
     "data": {
      "image/png": "[encoded data removed]",
      "text/plain": [
       "plot without title"
      ]
     },
     "metadata": {},
     "output_type": "display_data"
    }
   ],
   "source": [
    "plot(knn_model)\n",
    "png('01 - ML Algorithms/05 - ML - KNN/02-KNN_Algorithm_Plot.png',width=8, height=6, units='in', res=300)\n",
    "plot(knn_model)\n",
    "dev.off()"
   ]
  },
  {
   "cell_type": "code",
   "execution_count": 60,
   "metadata": {},
   "outputs": [
    {
     "data": {
      "text/plain": [
       "loess r-squared variable importance\n",
       "\n",
       "  only 20 most important variables shown (out of 35)\n",
       "\n",
       "                  Overall\n",
       "NSM               100.000\n",
       "lights             82.533\n",
       "RH_out             49.178\n",
       "RH_6               39.167\n",
       "T6                 31.614\n",
       "T2                 30.575\n",
       "RH_8               29.876\n",
       "T_out              20.850\n",
       "RH_7               17.387\n",
       "Windspeed          16.096\n",
       "RH_1               15.696\n",
       "T3                 15.343\n",
       "RH_5               10.626\n",
       "RH_2                7.753\n",
       "T1                  6.520\n",
       "Day_of_weekMonday   6.254\n",
       "RH_9                5.616\n",
       "T4                  3.441\n",
       "T8                  3.321\n",
       "RH_3                2.793"
      ]
     },
     "metadata": {},
     "output_type": "display_data"
    }
   ],
   "source": [
    "varImp(knn_model)\n",
    "capture.output(varImp(knn_model), \n",
    "               file=\"01 - ML Algorithms/05 - ML - KNN/03-KNN_Algorithm_Feature_Importance_Output.txt\")"
   ]
  },
  {
   "cell_type": "code",
   "execution_count": 61,
   "metadata": {},
   "outputs": [
    {
     "data": {},
     "metadata": {},
     "output_type": "display_data"
    },
    {
     "data": {},
     "metadata": {},
     "output_type": "display_data"
    },
    {
     "data": {
      "text/html": [
       "<strong>png:</strong> 2"
      ],
      "text/latex": [
       "\\textbf{png:} 2"
      ],
      "text/markdown": [
       "**png:** 2"
      ],
      "text/plain": [
       "png \n",
       "  2 "
      ]
     },
     "metadata": {},
     "output_type": "display_data"
    },
    {
     "data": {
      "image/png": "[encoded data removed]",
      "text/plain": [
       "plot without title"
      ]
     },
     "metadata": {},
     "output_type": "display_data"
    }
   ],
   "source": [
    "plot(varImp(knn_model))\n",
    "png('01 - ML Algorithms/05 - ML - KNN/04-KNN_Algorithm_Feature_Importance_Plot.png',\n",
    "    width=8, height=6, units='in', res=300)\n",
    "plot(varImp(knn_model))\n",
    "dev.off()"
   ]
  },
  {
   "cell_type": "markdown",
   "metadata": {},
   "source": [
    "### 5 ML Performance Comparison\n",
    "#### Table and graphics to display performance results"
   ]
  },
  {
   "cell_type": "code",
   "execution_count": 62,
   "metadata": {},
   "outputs": [
    {
     "name": "stderr",
     "output_type": "stream",
     "text": [
      "Warning message in resamples.default(list(SVM_Radial = svm_model, GBM = gbm_model, :\n",
      "\"'SVM_Radial' did not have 'returnResamp=\"final\"; the optimal tuning parameters are used\"Warning message in resamples.default(list(SVM_Radial = svm_model, GBM = gbm_model, :\n",
      "\"'GBM' did not have 'returnResamp=\"final\"; the optimal tuning parameters are used\"Warning message in resamples.default(list(SVM_Radial = svm_model, GBM = gbm_model, :\n",
      "\"'Lm' did not have 'returnResamp=\"final\"; the optimal tuning parameters are used\"Warning message in resamples.default(list(SVM_Radial = svm_model, GBM = gbm_model, :\n",
      "\"'RF' did not have 'returnResamp=\"final\"; the optimal tuning parameters are used\"Warning message in resamples.default(list(SVM_Radial = svm_model, GBM = gbm_model, :\n",
      "\"'KNN' did not have 'returnResamp=\"final\"; the optimal tuning parameters are used\""
     ]
    }
   ],
   "source": [
    "rvalues2 <- resamples(list(SVM_Radial=svm_model,GBM=gbm_model,Lm=lmcvFit,RF=rf_model,KNN=knn_model))"
   ]
  },
  {
   "cell_type": "code",
   "execution_count": 64,
   "metadata": {},
   "outputs": [
    {
     "data": {
      "text/html": [
       "<table>\n",
       "<thead><tr><th scope=col>Resample</th><th scope=col>SVM_Radial~MAE</th><th scope=col>SVM_Radial~RMSE</th><th scope=col>SVM_Radial~Rsquared</th><th scope=col>GBM~MAE</th><th scope=col>GBM~RMSE</th><th scope=col>GBM~Rsquared</th><th scope=col>Lm~MAE</th><th scope=col>Lm~RMSE</th><th scope=col>Lm~Rsquared</th><th scope=col>RF~MAE</th><th scope=col>RF~RMSE</th><th scope=col>RF~Rsquared</th><th scope=col>KNN~MAE</th><th scope=col>KNN~RMSE</th><th scope=col>KNN~Rsquared</th></tr></thead>\n",
       "<tbody>\n",
       "\t<tr><td>Fold01.Rep1</td><td>35.31233   </td><td>74.83365   </td><td>0.5006124  </td><td>36.37178   </td><td>67.87675   </td><td>0.5861215  </td><td>50.99779   </td><td> 91.16650  </td><td>0.1960147  </td><td>32.82145   </td><td>68.75553   </td><td>0.5810475  </td><td>53.75001   </td><td> 99.42760  </td><td>0.12949814 </td></tr>\n",
       "\t<tr><td>Fold01.Rep2</td><td>35.86000   </td><td>78.26100   </td><td>0.4663237  </td><td>36.84295   </td><td>69.95731   </td><td>0.5692254  </td><td>50.83577   </td><td> 90.92870  </td><td>0.1745717  </td><td>33.06931   </td><td>71.48696   </td><td>0.5546938  </td><td>53.20978   </td><td> 96.02593  </td><td>0.12986351 </td></tr>\n",
       "\t<tr><td>Fold01.Rep3</td><td>34.01653   </td><td>72.30013   </td><td>0.4695567  </td><td>35.19830   </td><td>64.41435   </td><td>0.5738568  </td><td>53.77212   </td><td> 96.42874  </td><td>0.1391230  </td><td>31.27601   </td><td>64.18459   </td><td>0.5795770  </td><td>53.76449   </td><td> 96.64926  </td><td>0.12239400 </td></tr>\n",
       "\t<tr><td>Fold02.Rep1</td><td>33.57198   </td><td>71.66435   </td><td>0.5339042  </td><td>34.02183   </td><td>63.29239   </td><td>0.6332522  </td><td>54.67597   </td><td> 97.76505  </td><td>0.1449063  </td><td>31.49990   </td><td>65.06194   </td><td>0.6191428  </td><td>55.33097   </td><td>100.63639  </td><td>0.14666853 </td></tr>\n",
       "\t<tr><td>Fold02.Rep2</td><td>35.09878   </td><td>75.38483   </td><td>0.4424077  </td><td>35.49983   </td><td>65.69613   </td><td>0.5730276  </td><td>54.03019   </td><td> 95.99897  </td><td>0.1403566  </td><td>31.57402   </td><td>67.00541   </td><td>0.5573070  </td><td>51.49026   </td><td> 90.55721  </td><td>0.11422791 </td></tr>\n",
       "\t<tr><td>Fold02.Rep3</td><td>35.25898   </td><td>74.70821   </td><td>0.5018132  </td><td>35.67107   </td><td>65.91912   </td><td>0.6063948  </td><td>53.49292   </td><td> 92.88051  </td><td>0.1678614  </td><td>31.53499   </td><td>65.92057   </td><td>0.6155952  </td><td>54.22684   </td><td>103.75971  </td><td>0.13330424 </td></tr>\n",
       "\t<tr><td>Fold03.Rep1</td><td>35.97358   </td><td>79.87796   </td><td>0.4755267  </td><td>35.63941   </td><td>68.13112   </td><td>0.6140233  </td><td>54.46571   </td><td> 96.83897  </td><td>0.1753241  </td><td>32.08407   </td><td>69.92658   </td><td>0.6068144  </td><td>52.51506   </td><td> 98.53611  </td><td>0.10954287 </td></tr>\n",
       "\t<tr><td>Fold03.Rep2</td><td>34.10861   </td><td>73.37160   </td><td>0.4317034  </td><td>35.80701   </td><td>66.44635   </td><td>0.5332584  </td><td>52.98697   </td><td> 94.82001  </td><td>0.1710676  </td><td>31.27546   </td><td>66.53268   </td><td>0.5277466  </td><td>54.82861   </td><td>103.83303  </td><td>0.09180777 </td></tr>\n",
       "\t<tr><td>Fold03.Rep3</td><td>34.49955   </td><td>76.03775   </td><td>0.4450430  </td><td>35.91250   </td><td>68.58610   </td><td>0.5438687  </td><td>55.27576   </td><td> 96.82791  </td><td>0.1603940  </td><td>32.78406   </td><td>70.71303   </td><td>0.5154031  </td><td>51.44225   </td><td> 95.74344  </td><td>0.12634954 </td></tr>\n",
       "\t<tr><td>Fold04.Rep1</td><td>35.07925   </td><td>74.80838   </td><td>0.4192098  </td><td>35.86574   </td><td>67.94725   </td><td>0.5162529  </td><td>53.10643   </td><td> 96.51895  </td><td>0.1859176  </td><td>30.84778   </td><td>66.40368   </td><td>0.5387394  </td><td>52.96730   </td><td> 93.68281  </td><td>0.11936674 </td></tr>\n",
       "\t<tr><td>Fold04.Rep2</td><td>34.00184   </td><td>76.45720   </td><td>0.4826535  </td><td>35.27213   </td><td>64.90395   </td><td>0.6221455  </td><td>51.14129   </td><td> 87.85353  </td><td>0.1937127  </td><td>30.72261   </td><td>66.71768   </td><td>0.6076853  </td><td>50.88788   </td><td> 93.77207  </td><td>0.12389228 </td></tr>\n",
       "\t<tr><td>Fold04.Rep3</td><td>34.59488   </td><td>74.54499   </td><td>0.4211701  </td><td>34.75885   </td><td>63.15431   </td><td>0.5745507  </td><td>52.53809   </td><td> 94.43421  </td><td>0.1847816  </td><td>31.10128   </td><td>64.35517   </td><td>0.5571769  </td><td>52.65531   </td><td> 96.17335  </td><td>0.10986524 </td></tr>\n",
       "\t<tr><td>Fold05.Rep1</td><td>35.94458   </td><td>77.47097   </td><td>0.4677565  </td><td>35.96317   </td><td>64.50334   </td><td>0.6262453  </td><td>51.68950   </td><td> 89.87458  </td><td>0.2021810  </td><td>31.77616   </td><td>66.45823   </td><td>0.6105614  </td><td>51.94943   </td><td> 99.06218  </td><td>0.11919520 </td></tr>\n",
       "\t<tr><td>Fold05.Rep2</td><td>35.03682   </td><td>75.80415   </td><td>0.4470775  </td><td>35.50419   </td><td>67.16049   </td><td>0.5623149  </td><td>57.66621   </td><td>103.41000  </td><td>0.1465025  </td><td>31.92491   </td><td>67.66154   </td><td>0.5563078  </td><td>52.59468   </td><td> 95.91069  </td><td>0.13198755 </td></tr>\n",
       "\t<tr><td>Fold05.Rep3</td><td>35.34123   </td><td>79.66509   </td><td>0.4755983  </td><td>35.48012   </td><td>68.09218   </td><td>0.6097938  </td><td>53.88777   </td><td> 96.13459  </td><td>0.1494941  </td><td>31.15118   </td><td>69.46605   </td><td>0.6089331  </td><td>49.99882   </td><td> 91.57616  </td><td>0.13492988 </td></tr>\n",
       "\t<tr><td>Fold06.Rep1</td><td>34.19584   </td><td>70.92067   </td><td>0.4506184  </td><td>34.82390   </td><td>61.05332   </td><td>0.5889811  </td><td>52.58210   </td><td> 89.76435  </td><td>0.1756309  </td><td>30.26823   </td><td>60.81744   </td><td>0.5931731  </td><td>53.77896   </td><td> 97.26337  </td><td>0.10906735 </td></tr>\n",
       "\t<tr><td>Fold06.Rep2</td><td>34.81717   </td><td>75.55296   </td><td>0.4232621  </td><td>35.25222   </td><td>65.14672   </td><td>0.5667260  </td><td>54.66259   </td><td> 99.16536  </td><td>0.1734498  </td><td>31.28066   </td><td>65.42765   </td><td>0.5646140  </td><td>51.50943   </td><td> 95.31913  </td><td>0.15134246 </td></tr>\n",
       "\t<tr><td>Fold06.Rep3</td><td>34.92545   </td><td>74.77952   </td><td>0.4479225  </td><td>36.61333   </td><td>67.68601   </td><td>0.5450382  </td><td>51.57883   </td><td> 87.21420  </td><td>0.1704243  </td><td>31.42450   </td><td>65.32483   </td><td>0.5756325  </td><td>54.28809   </td><td> 99.49799  </td><td>0.10483215 </td></tr>\n",
       "\t<tr><td>Fold07.Rep1</td><td>34.01279   </td><td>74.68013   </td><td>0.4448794  </td><td>33.46609   </td><td>63.03221   </td><td>0.5995183  </td><td>50.10391   </td><td> 89.89584  </td><td>0.1590982  </td><td>29.36982   </td><td>61.56868   </td><td>0.6227211  </td><td>52.57392   </td><td> 99.20600  </td><td>0.14997974 </td></tr>\n",
       "\t<tr><td>Fold07.Rep2</td><td>33.60407   </td><td>71.58260   </td><td>0.5089822  </td><td>34.68793   </td><td>62.88171   </td><td>0.6151991  </td><td>53.98025   </td><td> 94.25944  </td><td>0.1727334  </td><td>30.73998   </td><td>63.21543   </td><td>0.6172048  </td><td>53.44366   </td><td> 96.86006  </td><td>0.11414673 </td></tr>\n",
       "\t<tr><td>Fold07.Rep3</td><td>34.04497   </td><td>74.25263   </td><td>0.4872846  </td><td>35.26217   </td><td>66.92516   </td><td>0.5793114  </td><td>50.41443   </td><td> 89.40638  </td><td>0.1843169  </td><td>31.33443   </td><td>66.43763   </td><td>0.5891598  </td><td>54.82579   </td><td>101.95650  </td><td>0.10674814 </td></tr>\n",
       "\t<tr><td>Fold08.Rep1</td><td>35.41367   </td><td>79.30200   </td><td>0.4226338  </td><td>37.26863   </td><td>70.37036   </td><td>0.5411226  </td><td>53.81499   </td><td> 94.98130  </td><td>0.1718192  </td><td>31.74540   </td><td>68.87502   </td><td>0.5619974  </td><td>52.36954   </td><td> 97.15264  </td><td>0.11623356 </td></tr>\n",
       "\t<tr><td>Fold08.Rep2</td><td>33.65957   </td><td>72.53540   </td><td>0.5298761  </td><td>34.47591   </td><td>64.39272   </td><td>0.6235893  </td><td>52.52163   </td><td> 91.87738  </td><td>0.1654642  </td><td>30.56841   </td><td>64.70991   </td><td>0.6289059  </td><td>54.01002   </td><td>100.91735  </td><td>0.10436396 </td></tr>\n",
       "\t<tr><td>Fold08.Rep3</td><td>35.91904   </td><td>75.65212   </td><td>0.4861617  </td><td>35.00918   </td><td>64.75166   </td><td>0.6191608  </td><td>52.89970   </td><td> 97.75029  </td><td>0.1890833  </td><td>31.33857   </td><td>65.22369   </td><td>0.6252775  </td><td>52.76049   </td><td> 93.50381  </td><td>0.13309628 </td></tr>\n",
       "\t<tr><td>Fold09.Rep1</td><td>33.97542   </td><td>76.59168   </td><td>0.4294123  </td><td>35.44756   </td><td>67.77920   </td><td>0.5482327  </td><td>53.67894   </td><td> 91.20601  </td><td>0.1344818  </td><td>30.94823   </td><td>67.62371   </td><td>0.5499136  </td><td>53.23236   </td><td> 98.84605  </td><td>0.11999055 </td></tr>\n",
       "\t<tr><td>Fold09.Rep2</td><td>33.72013   </td><td>71.54154   </td><td>0.4891535  </td><td>34.13938   </td><td>62.98839   </td><td>0.6010793  </td><td>51.62751   </td><td> 86.26126  </td><td>0.1861671  </td><td>30.63886   </td><td>63.29179   </td><td>0.5994665  </td><td>52.74406   </td><td> 99.09551  </td><td>0.12923602 </td></tr>\n",
       "\t<tr><td>Fold09.Rep3</td><td>36.83819   </td><td>81.67000   </td><td>0.4360764  </td><td>36.42236   </td><td>69.67119   </td><td>0.5849269  </td><td>52.47040   </td><td> 90.19484  </td><td>0.1741634  </td><td>32.76379   </td><td>70.67740   </td><td>0.5798200  </td><td>51.57566   </td><td> 93.89826  </td><td>0.11238896 </td></tr>\n",
       "\t<tr><td>Fold10.Rep1</td><td>35.76590   </td><td>77.25135   </td><td>0.4442806  </td><td>35.72022   </td><td>66.11292   </td><td>0.5896599  </td><td>53.80689   </td><td> 95.31664  </td><td>0.1719252  </td><td>32.31619   </td><td>67.05634   </td><td>0.5829311  </td><td>51.35809   </td><td> 89.42172  </td><td>0.11305388 </td></tr>\n",
       "\t<tr><td>Fold10.Rep2</td><td>36.40777   </td><td>78.09374   </td><td>0.4911179  </td><td>35.06156   </td><td>64.91666   </td><td>0.6463231  </td><td>49.23348   </td><td> 87.43464  </td><td>0.2024925  </td><td>31.81877   </td><td>66.75234   </td><td>0.6390865  </td><td>58.22155   </td><td>106.11426  </td><td>0.08171560 </td></tr>\n",
       "\t<tr><td>Fold10.Rep3</td><td>33.98894   </td><td>73.27128   </td><td>0.4510075  </td><td>34.25493   </td><td>63.76278   </td><td>0.5793307  </td><td>52.68919   </td><td> 91.94944  </td><td>0.1943492  </td><td>30.29352   </td><td>63.85964   </td><td>0.5761626  </td><td>55.34167   </td><td>102.56626  </td><td>0.11846846 </td></tr>\n",
       "</tbody>\n",
       "</table>\n"
      ],
      "text/latex": [
       "\\begin{tabular}{r|llllllllllllllll}\n",
       " Resample & SVM\\_Radial\\textasciitilde{}MAE & SVM\\_Radial\\textasciitilde{}RMSE & SVM\\_Radial\\textasciitilde{}Rsquared & GBM\\textasciitilde{}MAE & GBM\\textasciitilde{}RMSE & GBM\\textasciitilde{}Rsquared & Lm\\textasciitilde{}MAE & Lm\\textasciitilde{}RMSE & Lm\\textasciitilde{}Rsquared & RF\\textasciitilde{}MAE & RF\\textasciitilde{}RMSE & RF\\textasciitilde{}Rsquared & KNN\\textasciitilde{}MAE & KNN\\textasciitilde{}RMSE & KNN\\textasciitilde{}Rsquared\\\\\n",
       "\\hline\n",
       "\t Fold01.Rep1 & 35.31233    & 74.83365    & 0.5006124   & 36.37178    & 67.87675    & 0.5861215   & 50.99779    &  91.16650   & 0.1960147   & 32.82145    & 68.75553    & 0.5810475   & 53.75001    &  99.42760   & 0.12949814 \\\\\n",
       "\t Fold01.Rep2 & 35.86000    & 78.26100    & 0.4663237   & 36.84295    & 69.95731    & 0.5692254   & 50.83577    &  90.92870   & 0.1745717   & 33.06931    & 71.48696    & 0.5546938   & 53.20978    &  96.02593   & 0.12986351 \\\\\n",
       "\t Fold01.Rep3 & 34.01653    & 72.30013    & 0.4695567   & 35.19830    & 64.41435    & 0.5738568   & 53.77212    &  96.42874   & 0.1391230   & 31.27601    & 64.18459    & 0.5795770   & 53.76449    &  96.64926   & 0.12239400 \\\\\n",
       "\t Fold02.Rep1 & 33.57198    & 71.66435    & 0.5339042   & 34.02183    & 63.29239    & 0.6332522   & 54.67597    &  97.76505   & 0.1449063   & 31.49990    & 65.06194    & 0.6191428   & 55.33097    & 100.63639   & 0.14666853 \\\\\n",
       "\t Fold02.Rep2 & 35.09878    & 75.38483    & 0.4424077   & 35.49983    & 65.69613    & 0.5730276   & 54.03019    &  95.99897   & 0.1403566   & 31.57402    & 67.00541    & 0.5573070   & 51.49026    &  90.55721   & 0.11422791 \\\\\n",
       "\t Fold02.Rep3 & 35.25898    & 74.70821    & 0.5018132   & 35.67107    & 65.91912    & 0.6063948   & 53.49292    &  92.88051   & 0.1678614   & 31.53499    & 65.92057    & 0.6155952   & 54.22684    & 103.75971   & 0.13330424 \\\\\n",
       "\t Fold03.Rep1 & 35.97358    & 79.87796    & 0.4755267   & 35.63941    & 68.13112    & 0.6140233   & 54.46571    &  96.83897   & 0.1753241   & 32.08407    & 69.92658    & 0.6068144   & 52.51506    &  98.53611   & 0.10954287 \\\\\n",
       "\t Fold03.Rep2 & 34.10861    & 73.37160    & 0.4317034   & 35.80701    & 66.44635    & 0.5332584   & 52.98697    &  94.82001   & 0.1710676   & 31.27546    & 66.53268    & 0.5277466   & 54.82861    & 103.83303   & 0.09180777 \\\\\n",
       "\t Fold03.Rep3 & 34.49955    & 76.03775    & 0.4450430   & 35.91250    & 68.58610    & 0.5438687   & 55.27576    &  96.82791   & 0.1603940   & 32.78406    & 70.71303    & 0.5154031   & 51.44225    &  95.74344   & 0.12634954 \\\\\n",
       "\t Fold04.Rep1 & 35.07925    & 74.80838    & 0.4192098   & 35.86574    & 67.94725    & 0.5162529   & 53.10643    &  96.51895   & 0.1859176   & 30.84778    & 66.40368    & 0.5387394   & 52.96730    &  93.68281   & 0.11936674 \\\\\n",
       "\t Fold04.Rep2 & 34.00184    & 76.45720    & 0.4826535   & 35.27213    & 64.90395    & 0.6221455   & 51.14129    &  87.85353   & 0.1937127   & 30.72261    & 66.71768    & 0.6076853   & 50.88788    &  93.77207   & 0.12389228 \\\\\n",
       "\t Fold04.Rep3 & 34.59488    & 74.54499    & 0.4211701   & 34.75885    & 63.15431    & 0.5745507   & 52.53809    &  94.43421   & 0.1847816   & 31.10128    & 64.35517    & 0.5571769   & 52.65531    &  96.17335   & 0.10986524 \\\\\n",
       "\t Fold05.Rep1 & 35.94458    & 77.47097    & 0.4677565   & 35.96317    & 64.50334    & 0.6262453   & 51.68950    &  89.87458   & 0.2021810   & 31.77616    & 66.45823    & 0.6105614   & 51.94943    &  99.06218   & 0.11919520 \\\\\n",
       "\t Fold05.Rep2 & 35.03682    & 75.80415    & 0.4470775   & 35.50419    & 67.16049    & 0.5623149   & 57.66621    & 103.41000   & 0.1465025   & 31.92491    & 67.66154    & 0.5563078   & 52.59468    &  95.91069   & 0.13198755 \\\\\n",
       "\t Fold05.Rep3 & 35.34123    & 79.66509    & 0.4755983   & 35.48012    & 68.09218    & 0.6097938   & 53.88777    &  96.13459   & 0.1494941   & 31.15118    & 69.46605    & 0.6089331   & 49.99882    &  91.57616   & 0.13492988 \\\\\n",
       "\t Fold06.Rep1 & 34.19584    & 70.92067    & 0.4506184   & 34.82390    & 61.05332    & 0.5889811   & 52.58210    &  89.76435   & 0.1756309   & 30.26823    & 60.81744    & 0.5931731   & 53.77896    &  97.26337   & 0.10906735 \\\\\n",
       "\t Fold06.Rep2 & 34.81717    & 75.55296    & 0.4232621   & 35.25222    & 65.14672    & 0.5667260   & 54.66259    &  99.16536   & 0.1734498   & 31.28066    & 65.42765    & 0.5646140   & 51.50943    &  95.31913   & 0.15134246 \\\\\n",
       "\t Fold06.Rep3 & 34.92545    & 74.77952    & 0.4479225   & 36.61333    & 67.68601    & 0.5450382   & 51.57883    &  87.21420   & 0.1704243   & 31.42450    & 65.32483    & 0.5756325   & 54.28809    &  99.49799   & 0.10483215 \\\\\n",
       "\t Fold07.Rep1 & 34.01279    & 74.68013    & 0.4448794   & 33.46609    & 63.03221    & 0.5995183   & 50.10391    &  89.89584   & 0.1590982   & 29.36982    & 61.56868    & 0.6227211   & 52.57392    &  99.20600   & 0.14997974 \\\\\n",
       "\t Fold07.Rep2 & 33.60407    & 71.58260    & 0.5089822   & 34.68793    & 62.88171    & 0.6151991   & 53.98025    &  94.25944   & 0.1727334   & 30.73998    & 63.21543    & 0.6172048   & 53.44366    &  96.86006   & 0.11414673 \\\\\n",
       "\t Fold07.Rep3 & 34.04497    & 74.25263    & 0.4872846   & 35.26217    & 66.92516    & 0.5793114   & 50.41443    &  89.40638   & 0.1843169   & 31.33443    & 66.43763    & 0.5891598   & 54.82579    & 101.95650   & 0.10674814 \\\\\n",
       "\t Fold08.Rep1 & 35.41367    & 79.30200    & 0.4226338   & 37.26863    & 70.37036    & 0.5411226   & 53.81499    &  94.98130   & 0.1718192   & 31.74540    & 68.87502    & 0.5619974   & 52.36954    &  97.15264   & 0.11623356 \\\\\n",
       "\t Fold08.Rep2 & 33.65957    & 72.53540    & 0.5298761   & 34.47591    & 64.39272    & 0.6235893   & 52.52163    &  91.87738   & 0.1654642   & 30.56841    & 64.70991    & 0.6289059   & 54.01002    & 100.91735   & 0.10436396 \\\\\n",
       "\t Fold08.Rep3 & 35.91904    & 75.65212    & 0.4861617   & 35.00918    & 64.75166    & 0.6191608   & 52.89970    &  97.75029   & 0.1890833   & 31.33857    & 65.22369    & 0.6252775   & 52.76049    &  93.50381   & 0.13309628 \\\\\n",
       "\t Fold09.Rep1 & 33.97542    & 76.59168    & 0.4294123   & 35.44756    & 67.77920    & 0.5482327   & 53.67894    &  91.20601   & 0.1344818   & 30.94823    & 67.62371    & 0.5499136   & 53.23236    &  98.84605   & 0.11999055 \\\\\n",
       "\t Fold09.Rep2 & 33.72013    & 71.54154    & 0.4891535   & 34.13938    & 62.98839    & 0.6010793   & 51.62751    &  86.26126   & 0.1861671   & 30.63886    & 63.29179    & 0.5994665   & 52.74406    &  99.09551   & 0.12923602 \\\\\n",
       "\t Fold09.Rep3 & 36.83819    & 81.67000    & 0.4360764   & 36.42236    & 69.67119    & 0.5849269   & 52.47040    &  90.19484   & 0.1741634   & 32.76379    & 70.67740    & 0.5798200   & 51.57566    &  93.89826   & 0.11238896 \\\\\n",
       "\t Fold10.Rep1 & 35.76590    & 77.25135    & 0.4442806   & 35.72022    & 66.11292    & 0.5896599   & 53.80689    &  95.31664   & 0.1719252   & 32.31619    & 67.05634    & 0.5829311   & 51.35809    &  89.42172   & 0.11305388 \\\\\n",
       "\t Fold10.Rep2 & 36.40777    & 78.09374    & 0.4911179   & 35.06156    & 64.91666    & 0.6463231   & 49.23348    &  87.43464   & 0.2024925   & 31.81877    & 66.75234    & 0.6390865   & 58.22155    & 106.11426   & 0.08171560 \\\\\n",
       "\t Fold10.Rep3 & 33.98894    & 73.27128    & 0.4510075   & 34.25493    & 63.76278    & 0.5793307   & 52.68919    &  91.94944   & 0.1943492   & 30.29352    & 63.85964    & 0.5761626   & 55.34167    & 102.56626   & 0.11846846 \\\\\n",
       "\\end{tabular}\n"
      ],
      "text/markdown": [
       "\n",
       "Resample | SVM_Radial~MAE | SVM_Radial~RMSE | SVM_Radial~Rsquared | GBM~MAE | GBM~RMSE | GBM~Rsquared | Lm~MAE | Lm~RMSE | Lm~Rsquared | RF~MAE | RF~RMSE | RF~Rsquared | KNN~MAE | KNN~RMSE | KNN~Rsquared | \n",
       "|---|---|---|---|---|---|---|---|---|---|---|---|---|---|---|---|---|---|---|---|---|---|---|---|---|---|---|---|---|---|\n",
       "| Fold01.Rep1 | 35.31233    | 74.83365    | 0.5006124   | 36.37178    | 67.87675    | 0.5861215   | 50.99779    |  91.16650   | 0.1960147   | 32.82145    | 68.75553    | 0.5810475   | 53.75001    |  99.42760   | 0.12949814  | \n",
       "| Fold01.Rep2 | 35.86000    | 78.26100    | 0.4663237   | 36.84295    | 69.95731    | 0.5692254   | 50.83577    |  90.92870   | 0.1745717   | 33.06931    | 71.48696    | 0.5546938   | 53.20978    |  96.02593   | 0.12986351  | \n",
       "| Fold01.Rep3 | 34.01653    | 72.30013    | 0.4695567   | 35.19830    | 64.41435    | 0.5738568   | 53.77212    |  96.42874   | 0.1391230   | 31.27601    | 64.18459    | 0.5795770   | 53.76449    |  96.64926   | 0.12239400  | \n",
       "| Fold02.Rep1 | 33.57198    | 71.66435    | 0.5339042   | 34.02183    | 63.29239    | 0.6332522   | 54.67597    |  97.76505   | 0.1449063   | 31.49990    | 65.06194    | 0.6191428   | 55.33097    | 100.63639   | 0.14666853  | \n",
       "| Fold02.Rep2 | 35.09878    | 75.38483    | 0.4424077   | 35.49983    | 65.69613    | 0.5730276   | 54.03019    |  95.99897   | 0.1403566   | 31.57402    | 67.00541    | 0.5573070   | 51.49026    |  90.55721   | 0.11422791  | \n",
       "| Fold02.Rep3 | 35.25898    | 74.70821    | 0.5018132   | 35.67107    | 65.91912    | 0.6063948   | 53.49292    |  92.88051   | 0.1678614   | 31.53499    | 65.92057    | 0.6155952   | 54.22684    | 103.75971   | 0.13330424  | \n",
       "| Fold03.Rep1 | 35.97358    | 79.87796    | 0.4755267   | 35.63941    | 68.13112    | 0.6140233   | 54.46571    |  96.83897   | 0.1753241   | 32.08407    | 69.92658    | 0.6068144   | 52.51506    |  98.53611   | 0.10954287  | \n",
       "| Fold03.Rep2 | 34.10861    | 73.37160    | 0.4317034   | 35.80701    | 66.44635    | 0.5332584   | 52.98697    |  94.82001   | 0.1710676   | 31.27546    | 66.53268    | 0.5277466   | 54.82861    | 103.83303   | 0.09180777  | \n",
       "| Fold03.Rep3 | 34.49955    | 76.03775    | 0.4450430   | 35.91250    | 68.58610    | 0.5438687   | 55.27576    |  96.82791   | 0.1603940   | 32.78406    | 70.71303    | 0.5154031   | 51.44225    |  95.74344   | 0.12634954  | \n",
       "| Fold04.Rep1 | 35.07925    | 74.80838    | 0.4192098   | 35.86574    | 67.94725    | 0.5162529   | 53.10643    |  96.51895   | 0.1859176   | 30.84778    | 66.40368    | 0.5387394   | 52.96730    |  93.68281   | 0.11936674  | \n",
       "| Fold04.Rep2 | 34.00184    | 76.45720    | 0.4826535   | 35.27213    | 64.90395    | 0.6221455   | 51.14129    |  87.85353   | 0.1937127   | 30.72261    | 66.71768    | 0.6076853   | 50.88788    |  93.77207   | 0.12389228  | \n",
       "| Fold04.Rep3 | 34.59488    | 74.54499    | 0.4211701   | 34.75885    | 63.15431    | 0.5745507   | 52.53809    |  94.43421   | 0.1847816   | 31.10128    | 64.35517    | 0.5571769   | 52.65531    |  96.17335   | 0.10986524  | \n",
       "| Fold05.Rep1 | 35.94458    | 77.47097    | 0.4677565   | 35.96317    | 64.50334    | 0.6262453   | 51.68950    |  89.87458   | 0.2021810   | 31.77616    | 66.45823    | 0.6105614   | 51.94943    |  99.06218   | 0.11919520  | \n",
       "| Fold05.Rep2 | 35.03682    | 75.80415    | 0.4470775   | 35.50419    | 67.16049    | 0.5623149   | 57.66621    | 103.41000   | 0.1465025   | 31.92491    | 67.66154    | 0.5563078   | 52.59468    |  95.91069   | 0.13198755  | \n",
       "| Fold05.Rep3 | 35.34123    | 79.66509    | 0.4755983   | 35.48012    | 68.09218    | 0.6097938   | 53.88777    |  96.13459   | 0.1494941   | 31.15118    | 69.46605    | 0.6089331   | 49.99882    |  91.57616   | 0.13492988  | \n",
       "| Fold06.Rep1 | 34.19584    | 70.92067    | 0.4506184   | 34.82390    | 61.05332    | 0.5889811   | 52.58210    |  89.76435   | 0.1756309   | 30.26823    | 60.81744    | 0.5931731   | 53.77896    |  97.26337   | 0.10906735  | \n",
       "| Fold06.Rep2 | 34.81717    | 75.55296    | 0.4232621   | 35.25222    | 65.14672    | 0.5667260   | 54.66259    |  99.16536   | 0.1734498   | 31.28066    | 65.42765    | 0.5646140   | 51.50943    |  95.31913   | 0.15134246  | \n",
       "| Fold06.Rep3 | 34.92545    | 74.77952    | 0.4479225   | 36.61333    | 67.68601    | 0.5450382   | 51.57883    |  87.21420   | 0.1704243   | 31.42450    | 65.32483    | 0.5756325   | 54.28809    |  99.49799   | 0.10483215  | \n",
       "| Fold07.Rep1 | 34.01279    | 74.68013    | 0.4448794   | 33.46609    | 63.03221    | 0.5995183   | 50.10391    |  89.89584   | 0.1590982   | 29.36982    | 61.56868    | 0.6227211   | 52.57392    |  99.20600   | 0.14997974  | \n",
       "| Fold07.Rep2 | 33.60407    | 71.58260    | 0.5089822   | 34.68793    | 62.88171    | 0.6151991   | 53.98025    |  94.25944   | 0.1727334   | 30.73998    | 63.21543    | 0.6172048   | 53.44366    |  96.86006   | 0.11414673  | \n",
       "| Fold07.Rep3 | 34.04497    | 74.25263    | 0.4872846   | 35.26217    | 66.92516    | 0.5793114   | 50.41443    |  89.40638   | 0.1843169   | 31.33443    | 66.43763    | 0.5891598   | 54.82579    | 101.95650   | 0.10674814  | \n",
       "| Fold08.Rep1 | 35.41367    | 79.30200    | 0.4226338   | 37.26863    | 70.37036    | 0.5411226   | 53.81499    |  94.98130   | 0.1718192   | 31.74540    | 68.87502    | 0.5619974   | 52.36954    |  97.15264   | 0.11623356  | \n",
       "| Fold08.Rep2 | 33.65957    | 72.53540    | 0.5298761   | 34.47591    | 64.39272    | 0.6235893   | 52.52163    |  91.87738   | 0.1654642   | 30.56841    | 64.70991    | 0.6289059   | 54.01002    | 100.91735   | 0.10436396  | \n",
       "| Fold08.Rep3 | 35.91904    | 75.65212    | 0.4861617   | 35.00918    | 64.75166    | 0.6191608   | 52.89970    |  97.75029   | 0.1890833   | 31.33857    | 65.22369    | 0.6252775   | 52.76049    |  93.50381   | 0.13309628  | \n",
       "| Fold09.Rep1 | 33.97542    | 76.59168    | 0.4294123   | 35.44756    | 67.77920    | 0.5482327   | 53.67894    |  91.20601   | 0.1344818   | 30.94823    | 67.62371    | 0.5499136   | 53.23236    |  98.84605   | 0.11999055  | \n",
       "| Fold09.Rep2 | 33.72013    | 71.54154    | 0.4891535   | 34.13938    | 62.98839    | 0.6010793   | 51.62751    |  86.26126   | 0.1861671   | 30.63886    | 63.29179    | 0.5994665   | 52.74406    |  99.09551   | 0.12923602  | \n",
       "| Fold09.Rep3 | 36.83819    | 81.67000    | 0.4360764   | 36.42236    | 69.67119    | 0.5849269   | 52.47040    |  90.19484   | 0.1741634   | 32.76379    | 70.67740    | 0.5798200   | 51.57566    |  93.89826   | 0.11238896  | \n",
       "| Fold10.Rep1 | 35.76590    | 77.25135    | 0.4442806   | 35.72022    | 66.11292    | 0.5896599   | 53.80689    |  95.31664   | 0.1719252   | 32.31619    | 67.05634    | 0.5829311   | 51.35809    |  89.42172   | 0.11305388  | \n",
       "| Fold10.Rep2 | 36.40777    | 78.09374    | 0.4911179   | 35.06156    | 64.91666    | 0.6463231   | 49.23348    |  87.43464   | 0.2024925   | 31.81877    | 66.75234    | 0.6390865   | 58.22155    | 106.11426   | 0.08171560  | \n",
       "| Fold10.Rep3 | 33.98894    | 73.27128    | 0.4510075   | 34.25493    | 63.76278    | 0.5793307   | 52.68919    |  91.94944   | 0.1943492   | 30.29352    | 63.85964    | 0.5761626   | 55.34167    | 102.56626   | 0.11846846  | \n",
       "\n",
       "\n"
      ],
      "text/plain": [
       "   Resample    SVM_Radial~MAE SVM_Radial~RMSE SVM_Radial~Rsquared GBM~MAE \n",
       "1  Fold01.Rep1 35.31233       74.83365        0.5006124           36.37178\n",
       "2  Fold01.Rep2 35.86000       78.26100        0.4663237           36.84295\n",
       "3  Fold01.Rep3 34.01653       72.30013        0.4695567           35.19830\n",
       "4  Fold02.Rep1 33.57198       71.66435        0.5339042           34.02183\n",
       "5  Fold02.Rep2 35.09878       75.38483        0.4424077           35.49983\n",
       "6  Fold02.Rep3 35.25898       74.70821        0.5018132           35.67107\n",
       "7  Fold03.Rep1 35.97358       79.87796        0.4755267           35.63941\n",
       "8  Fold03.Rep2 34.10861       73.37160        0.4317034           35.80701\n",
       "9  Fold03.Rep3 34.49955       76.03775        0.4450430           35.91250\n",
       "10 Fold04.Rep1 35.07925       74.80838        0.4192098           35.86574\n",
       "11 Fold04.Rep2 34.00184       76.45720        0.4826535           35.27213\n",
       "12 Fold04.Rep3 34.59488       74.54499        0.4211701           34.75885\n",
       "13 Fold05.Rep1 35.94458       77.47097        0.4677565           35.96317\n",
       "14 Fold05.Rep2 35.03682       75.80415        0.4470775           35.50419\n",
       "15 Fold05.Rep3 35.34123       79.66509        0.4755983           35.48012\n",
       "16 Fold06.Rep1 34.19584       70.92067        0.4506184           34.82390\n",
       "17 Fold06.Rep2 34.81717       75.55296        0.4232621           35.25222\n",
       "18 Fold06.Rep3 34.92545       74.77952        0.4479225           36.61333\n",
       "19 Fold07.Rep1 34.01279       74.68013        0.4448794           33.46609\n",
       "20 Fold07.Rep2 33.60407       71.58260        0.5089822           34.68793\n",
       "21 Fold07.Rep3 34.04497       74.25263        0.4872846           35.26217\n",
       "22 Fold08.Rep1 35.41367       79.30200        0.4226338           37.26863\n",
       "23 Fold08.Rep2 33.65957       72.53540        0.5298761           34.47591\n",
       "24 Fold08.Rep3 35.91904       75.65212        0.4861617           35.00918\n",
       "25 Fold09.Rep1 33.97542       76.59168        0.4294123           35.44756\n",
       "26 Fold09.Rep2 33.72013       71.54154        0.4891535           34.13938\n",
       "27 Fold09.Rep3 36.83819       81.67000        0.4360764           36.42236\n",
       "28 Fold10.Rep1 35.76590       77.25135        0.4442806           35.72022\n",
       "29 Fold10.Rep2 36.40777       78.09374        0.4911179           35.06156\n",
       "30 Fold10.Rep3 33.98894       73.27128        0.4510075           34.25493\n",
       "   GBM~RMSE GBM~Rsquared Lm~MAE   Lm~RMSE   Lm~Rsquared RF~MAE   RF~RMSE \n",
       "1  67.87675 0.5861215    50.99779  91.16650 0.1960147   32.82145 68.75553\n",
       "2  69.95731 0.5692254    50.83577  90.92870 0.1745717   33.06931 71.48696\n",
       "3  64.41435 0.5738568    53.77212  96.42874 0.1391230   31.27601 64.18459\n",
       "4  63.29239 0.6332522    54.67597  97.76505 0.1449063   31.49990 65.06194\n",
       "5  65.69613 0.5730276    54.03019  95.99897 0.1403566   31.57402 67.00541\n",
       "6  65.91912 0.6063948    53.49292  92.88051 0.1678614   31.53499 65.92057\n",
       "7  68.13112 0.6140233    54.46571  96.83897 0.1753241   32.08407 69.92658\n",
       "8  66.44635 0.5332584    52.98697  94.82001 0.1710676   31.27546 66.53268\n",
       "9  68.58610 0.5438687    55.27576  96.82791 0.1603940   32.78406 70.71303\n",
       "10 67.94725 0.5162529    53.10643  96.51895 0.1859176   30.84778 66.40368\n",
       "11 64.90395 0.6221455    51.14129  87.85353 0.1937127   30.72261 66.71768\n",
       "12 63.15431 0.5745507    52.53809  94.43421 0.1847816   31.10128 64.35517\n",
       "13 64.50334 0.6262453    51.68950  89.87458 0.2021810   31.77616 66.45823\n",
       "14 67.16049 0.5623149    57.66621 103.41000 0.1465025   31.92491 67.66154\n",
       "15 68.09218 0.6097938    53.88777  96.13459 0.1494941   31.15118 69.46605\n",
       "16 61.05332 0.5889811    52.58210  89.76435 0.1756309   30.26823 60.81744\n",
       "17 65.14672 0.5667260    54.66259  99.16536 0.1734498   31.28066 65.42765\n",
       "18 67.68601 0.5450382    51.57883  87.21420 0.1704243   31.42450 65.32483\n",
       "19 63.03221 0.5995183    50.10391  89.89584 0.1590982   29.36982 61.56868\n",
       "20 62.88171 0.6151991    53.98025  94.25944 0.1727334   30.73998 63.21543\n",
       "21 66.92516 0.5793114    50.41443  89.40638 0.1843169   31.33443 66.43763\n",
       "22 70.37036 0.5411226    53.81499  94.98130 0.1718192   31.74540 68.87502\n",
       "23 64.39272 0.6235893    52.52163  91.87738 0.1654642   30.56841 64.70991\n",
       "24 64.75166 0.6191608    52.89970  97.75029 0.1890833   31.33857 65.22369\n",
       "25 67.77920 0.5482327    53.67894  91.20601 0.1344818   30.94823 67.62371\n",
       "26 62.98839 0.6010793    51.62751  86.26126 0.1861671   30.63886 63.29179\n",
       "27 69.67119 0.5849269    52.47040  90.19484 0.1741634   32.76379 70.67740\n",
       "28 66.11292 0.5896599    53.80689  95.31664 0.1719252   32.31619 67.05634\n",
       "29 64.91666 0.6463231    49.23348  87.43464 0.2024925   31.81877 66.75234\n",
       "30 63.76278 0.5793307    52.68919  91.94944 0.1943492   30.29352 63.85964\n",
       "   RF~Rsquared KNN~MAE  KNN~RMSE  KNN~Rsquared\n",
       "1  0.5810475   53.75001  99.42760 0.12949814  \n",
       "2  0.5546938   53.20978  96.02593 0.12986351  \n",
       "3  0.5795770   53.76449  96.64926 0.12239400  \n",
       "4  0.6191428   55.33097 100.63639 0.14666853  \n",
       "5  0.5573070   51.49026  90.55721 0.11422791  \n",
       "6  0.6155952   54.22684 103.75971 0.13330424  \n",
       "7  0.6068144   52.51506  98.53611 0.10954287  \n",
       "8  0.5277466   54.82861 103.83303 0.09180777  \n",
       "9  0.5154031   51.44225  95.74344 0.12634954  \n",
       "10 0.5387394   52.96730  93.68281 0.11936674  \n",
       "11 0.6076853   50.88788  93.77207 0.12389228  \n",
       "12 0.5571769   52.65531  96.17335 0.10986524  \n",
       "13 0.6105614   51.94943  99.06218 0.11919520  \n",
       "14 0.5563078   52.59468  95.91069 0.13198755  \n",
       "15 0.6089331   49.99882  91.57616 0.13492988  \n",
       "16 0.5931731   53.77896  97.26337 0.10906735  \n",
       "17 0.5646140   51.50943  95.31913 0.15134246  \n",
       "18 0.5756325   54.28809  99.49799 0.10483215  \n",
       "19 0.6227211   52.57392  99.20600 0.14997974  \n",
       "20 0.6172048   53.44366  96.86006 0.11414673  \n",
       "21 0.5891598   54.82579 101.95650 0.10674814  \n",
       "22 0.5619974   52.36954  97.15264 0.11623356  \n",
       "23 0.6289059   54.01002 100.91735 0.10436396  \n",
       "24 0.6252775   52.76049  93.50381 0.13309628  \n",
       "25 0.5499136   53.23236  98.84605 0.11999055  \n",
       "26 0.5994665   52.74406  99.09551 0.12923602  \n",
       "27 0.5798200   51.57566  93.89826 0.11238896  \n",
       "28 0.5829311   51.35809  89.42172 0.11305388  \n",
       "29 0.6390865   58.22155 106.11426 0.08171560  \n",
       "30 0.5761626   55.34167 102.56626 0.11846846  "
      ]
     },
     "metadata": {},
     "output_type": "display_data"
    }
   ],
   "source": [
    "rvalues2$values\n",
    "capture.output(rvalues2$values,\n",
    "               file = \"01 - ML Algorithms/03-Algorithm_Performance_Table_Including_Contribution.txt\")\n",
    "write.csv(rvalues2$values, file=\"01 - ML Algorithms/04-Algorithm_Performance_CSV_Including_Contribution.csv\")"
   ]
  },
  {
   "cell_type": "code",
   "execution_count": 65,
   "metadata": {},
   "outputs": [
    {
     "data": {
      "text/plain": [
       "TableGrob (1 x 2) \"arrange\": 2 grobs\n",
       "  z     cells    name                      grob\n",
       "1 1 (1-1,1-1) arrange lattice[GRID.lattice.171]\n",
       "2 2 (1-1,2-2) arrange lattice[GRID.lattice.172]"
      ]
     },
     "metadata": {},
     "output_type": "display_data"
    },
    {
     "name": "stderr",
     "output_type": "stream",
     "text": [
      "Saving 6.67 x 6.67 in image\n"
     ]
    },
    {
     "data": {
      "image/png": "[encoded data removed]",
      "text/plain": [
       "plot without title"
      ]
     },
     "metadata": {},
     "output_type": "display_data"
    }
   ],
   "source": [
    "RMSE_ALL <- dotplot(rvalues2,metric = \"RMSE\")\n",
    "\n",
    "RSQ_ALL <- dotplot(rvalues2,metric=\"Rsquared\")\n",
    "\n",
    "panel_plot_models <- grid.arrange(RMSE_ALL, RSQ_ALL,ncol=2)\n",
    "\n",
    "panel_plot_models\n",
    "ggsave(file=\"01 - ML Algorithms/05-ML_Algorithms_Performance_Plot_Including_Contribution.png\", panel_plot_models)"
   ]
  },
  {
   "cell_type": "markdown",
   "metadata": {},
   "source": [
    "#### RMSE and R2 meaning\n",
    "\n",
    "**Source:** https://www.theanalysisfactor.com/assessing-the-fit-of-regression-models/\n",
    "\n",
    "R-squared has the useful property that its scale is intuitive: it ranges from zero to one, with zero indicating that the proposed model does not improve prediction over the mean model, and one indicating perfect prediction. Improvement in the regression model results in proportional increases in R-squared.\n",
    "\n",
    "**Application of R2 to Use Cases**\n",
    "\n",
    "GBM was the model who provided the best prediction with an R2 value close to 0.6. RF prediction closely followed GBM results with an R2 value near 0.6\n",
    "\n",
    "The RMSE is the square root of the variance of the residuals. It indicates the absolute fit of the model to the data–how close the observed data points are to the model’s predicted values. Whereas R-squared is a relative measure of fit, RMSE is an absolute measure of fit. As the square root of a variance, RMSE can be interpreted as the standard deviation of the unexplained variance, and has the useful property of being in the same units as the response variable. **Lower values of RMSE indicate better fit**. RMSE is a good measure of **how accurately the model predicts the response**, and it is the most important criterion for fit if the main purpose of the model is prediction.\n",
    "\n",
    "**Application of RMSE to Use Cases**\n",
    "\n",
    "GBM showed the lowest value of RMSE which indicates the highest accuracy model to predict a response. Closely followed by RF.\n",
    "\n",
    "**Note:**\n",
    "\n",
    "Comparing the analysis made between the data set with 4932 instances and the 19735 instances shows a order difference.\n",
    "\n",
    "In the 4932 the top model was performed by RF instead of GBM."
   ]
  },
  {
   "cell_type": "markdown",
   "metadata": {},
   "source": [
    "### Principal Component Regression\n",
    "\n",
    "**Source:** https://www.r-bloggers.com/performing-principal-components-regression-pcr-in-r/\n",
    "\n",
    "Principal components regression (PCR) is a regression technique based on principal component analysis (PCA).\n",
    "\n",
    "The basic idea behind PCR is to calculate the principal components and then use some of these components as predictors in a linear regression model fitted using the typical least squares procedure.\n",
    "\n",
    "As you can easily notice, the core idea of PCR is very closely related to the one underlying PCA and the “trick” is very similar. In some cases a small number of principal components are enough to explain the vast majority of the variability in the data. For instance, say you have a dataset of 50 variables that you would like to use to predict a single variable. By using PCR you might found out that 4 or 5 principal components are enough to explain 90% of the variance of your data. In this case, you might be better off running PCR on with these 5 components instead of running a linear model on all the 50 variables. This is a rough example but I hope it helped to get the point through.\n",
    "\n",
    "A core assumption of PCR is that the directions in which the predictors show the most variation are the exact directions associated with the response variable. On one hand, this assumption is not guaranteed to hold 100% of the times, however, even though the assumption is not completely true it can be a good approximation and yield interesting results.\n",
    "\n",
    "Some of the most notable advantages of performing PCR are the following:\n",
    "\n",
    "* Dimensionality reduction\n",
    "* Avoidance of multicollinearity between predictors\n",
    "* Overfitting mitigation\n"
   ]
  },
  {
   "cell_type": "code",
   "execution_count": 72,
   "metadata": {},
   "outputs": [],
   "source": [
    "pcr_results_test_set <- pcr(Appliances~.,\n",
    "                            data = new_test_data_set[,c(2:37)],\n",
    "                            scale = TRUE,\n",
    "                            validation = \"CV\")"
   ]
  },
  {
   "cell_type": "code",
   "execution_count": 82,
   "metadata": {},
   "outputs": [
    {
     "name": "stdout",
     "output_type": "stream",
     "text": [
      "Data: \tX dimension: 19735 35 \n",
      "\tY dimension: 19735 1\n",
      "Fit method: svdpc\n",
      "Number of components considered: 35\n",
      "\n",
      "VALIDATION: RMSEP\n",
      "Cross-validated using 10 random segments.\n",
      "       (Intercept)  1 comps  2 comps  3 comps  4 comps  5 comps  6 comps\n",
      "CV           102.5    102.2    102.2    102.2      101     99.7    98.87\n",
      "adjCV        102.5    102.2    102.2    102.2      101     99.7    98.86\n",
      "       7 comps  8 comps  9 comps  10 comps  11 comps  12 comps  13 comps\n",
      "CV       98.77    98.78    98.33     98.22     98.21     97.74     97.74\n",
      "adjCV    98.77    98.77    98.33     98.21     98.21     97.74     97.74\n",
      "       14 comps  15 comps  16 comps  17 comps  18 comps  19 comps  20 comps\n",
      "CV        97.72     97.73     97.70     96.77     96.05     95.77     95.77\n",
      "adjCV     97.72     97.73     97.69     96.76     96.04     95.76     95.76\n",
      "       21 comps  22 comps  23 comps  24 comps  25 comps  26 comps  27 comps\n",
      "CV        95.71     95.72     95.51     95.44      94.6     94.49     94.27\n",
      "adjCV     95.71     95.72     95.50     95.44      94.6     94.48     94.26\n",
      "       28 comps  29 comps  30 comps  31 comps  32 comps  33 comps  34 comps\n",
      "CV        94.03     93.92     93.77     93.42     93.37     93.36     93.38\n",
      "adjCV     94.02     93.92     93.76     93.41     93.36     93.35     93.36\n",
      "       35 comps\n",
      "CV        93.40\n",
      "adjCV     93.37\n",
      "\n",
      "TRAINING: % variance explained\n",
      "            1 comps  2 comps  3 comps  4 comps  5 comps  6 comps  7 comps\n",
      "X           26.7062  46.9770  55.8645   61.693   67.280   71.378   74.863\n",
      "Appliances   0.5721   0.6336   0.6609    3.077    5.493    7.081    7.262\n",
      "            8 comps  9 comps  10 comps  11 comps  12 comps  13 comps  14 comps\n",
      "X            78.232   81.444    84.297    87.072    89.460    91.387    92.917\n",
      "Appliances    7.272    8.118     8.339     8.354     9.226     9.238     9.282\n",
      "            15 comps  16 comps  17 comps  18 comps  19 comps  20 comps\n",
      "X             94.331    95.573     96.57     97.11     97.54     97.93\n",
      "Appliances     9.285     9.361     11.09     12.43     12.95     12.95\n",
      "            21 comps  22 comps  23 comps  24 comps  25 comps  26 comps\n",
      "X              98.30     98.61     98.92     99.18     99.38     99.57\n",
      "Appliances     13.05     13.07     13.45     13.57     15.10     15.32\n",
      "            27 comps  28 comps  29 comps  30 comps  31 comps  32 comps\n",
      "X              99.69     99.81     99.88     99.95     99.99     100.0\n",
      "Appliances     15.71     16.17     16.37     16.65     17.28      17.4\n",
      "            33 comps  34 comps  35 comps\n",
      "X             100.00    100.00    100.00\n",
      "Appliances     17.41     17.41     17.41\n"
     ]
    }
   ],
   "source": [
    "summary(pcr_results_test_set)\n",
    "capture.output(summary(pcr_results_test_set),\n",
    "               file=\"01 - ML Algorithms/06 - Principal Component Regression/01-PCR_Results_Test_Data.txt\")"
   ]
  },
  {
   "cell_type": "code",
   "execution_count": 77,
   "metadata": {},
   "outputs": [
    {
     "data": {
      "text/html": [
       "<strong>png:</strong> 2"
      ],
      "text/latex": [
       "\\textbf{png:} 2"
      ],
      "text/markdown": [
       "**png:** 2"
      ],
      "text/plain": [
       "png \n",
       "  2 "
      ]
     },
     "metadata": {},
     "output_type": "display_data"
    },
    {
     "data": {
      "image/png": "[encoded data removed]",
      "text/plain": [
       "Plot with title \"Appliances\""
      ]
     },
     "metadata": {},
     "output_type": "display_data"
    }
   ],
   "source": [
    "validationplot(pcr_results_test_set)\n",
    "png('01 - ML Algorithms/06 - Principal Component Regression/02-PCR_Root_Mean_Squared_Error_Plot.png',\n",
    "    width=8, height=6, units='in', res=300)\n",
    "validationplot(pcr_results_test_set)\n",
    "dev.off()"
   ]
  },
  {
   "cell_type": "code",
   "execution_count": 78,
   "metadata": {},
   "outputs": [
    {
     "data": {
      "text/html": [
       "<strong>png:</strong> 2"
      ],
      "text/latex": [
       "\\textbf{png:} 2"
      ],
      "text/markdown": [
       "**png:** 2"
      ],
      "text/plain": [
       "png \n",
       "  2 "
      ]
     },
     "metadata": {},
     "output_type": "display_data"
    },
    {
     "data": {
      "image/png": "[encoded data removed]",
      "text/plain": [
       "Plot with title \"Appliances\""
      ]
     },
     "metadata": {},
     "output_type": "display_data"
    }
   ],
   "source": [
    "validationplot(pcr_results_test_set, val.type=\"R2\")\n",
    "png('01 - ML Algorithms/06 - Principal Component Regression/03-PCR_Root_Squared_Plot.png',\n",
    "    width=8, height=6, units='in', res=300)\n",
    "validationplot(pcr_results_test_set, val.type=\"R2\")\n",
    "dev.off()"
   ]
  },
  {
   "cell_type": "code",
   "execution_count": 81,
   "metadata": {},
   "outputs": [
    {
     "data": {
      "text/html": [
       "<strong>png:</strong> 2"
      ],
      "text/latex": [
       "\\textbf{png:} 2"
      ],
      "text/markdown": [
       "**png:** 2"
      ],
      "text/plain": [
       "png \n",
       "  2 "
      ]
     },
     "metadata": {},
     "output_type": "display_data"
    },
    {
     "data": {
      "image/png": "[encoded data removed]",
      "text/plain": [
       "Plot with title \"Appliances, 35 comps, validation\""
      ]
     },
     "metadata": {},
     "output_type": "display_data"
    }
   ],
   "source": [
    "predplot(pcr_results_test_set)\n",
    "png('01 - ML Algorithms/06 - Principal Component Regression/04-PCR_Predicted_Plot.png',\n",
    "    width=8, height=6, units='in', res=300)\n",
    "predplot(pcr_results_test_set)\n",
    "dev.off()"
   ]
  },
  {
   "cell_type": "code",
   "execution_count": 83,
   "metadata": {},
   "outputs": [
    {
     "data": {
      "text/html": [
       "<table>\n",
       "<thead><tr><th scope=col>Appliances</th><th scope=col>lights</th><th scope=col>T1</th><th scope=col>RH_1</th><th scope=col>T2</th><th scope=col>RH_2</th><th scope=col>T3</th><th scope=col>RH_3</th><th scope=col>T4</th><th scope=col>RH_4</th><th scope=col>⋯</th><th scope=col>rv1</th><th scope=col>rv2</th><th scope=col>NSM</th><th scope=col>WeekStatusWeekday</th><th scope=col>WeekStatusWeekend</th><th scope=col>Day_of_weekFriday</th><th scope=col>Day_of_weekMonday</th><th scope=col>Day_of_weekSaturday</th><th scope=col>Day_of_weekSunday</th><th scope=col>Day_of_weekThursday</th></tr></thead>\n",
       "<tbody>\n",
       "\t<tr><td>60      </td><td>30      </td><td>19.89   </td><td>47.59667</td><td>19.2    </td><td>44.79000</td><td>19.79   </td><td>44.73000</td><td>19.00000</td><td>45.56667</td><td><U+22EF></td><td>13.27543</td><td>13.27543</td><td>61200   </td><td>1       </td><td>0       </td><td>0       </td><td>1       </td><td>0       </td><td>0       </td><td>0       </td></tr>\n",
       "\t<tr><td>60      </td><td>30      </td><td>19.89   </td><td>46.69333</td><td>19.2    </td><td>44.72250</td><td>19.79   </td><td>44.79000</td><td>19.00000</td><td>45.99250</td><td><U+22EF></td><td>18.60619</td><td>18.60619</td><td>61800   </td><td>1       </td><td>0       </td><td>0       </td><td>1       </td><td>0       </td><td>0       </td><td>0       </td></tr>\n",
       "\t<tr><td>50      </td><td>30      </td><td>19.89   </td><td>46.30000</td><td>19.2    </td><td>44.62667</td><td>19.79   </td><td>44.93333</td><td>18.92667</td><td>45.89000</td><td><U+22EF></td><td>28.64267</td><td>28.64267</td><td>62400   </td><td>1       </td><td>0       </td><td>0       </td><td>1       </td><td>0       </td><td>0       </td><td>0       </td></tr>\n",
       "\t<tr><td>50      </td><td>40      </td><td>19.89   </td><td>46.06667</td><td>19.2    </td><td>44.59000</td><td>19.79   </td><td>45.00000</td><td>18.89000</td><td>45.72333</td><td><U+22EF></td><td>45.41039</td><td>45.41039</td><td>63000   </td><td>1       </td><td>0       </td><td>0       </td><td>1       </td><td>0       </td><td>0       </td><td>0       </td></tr>\n",
       "</tbody>\n",
       "</table>\n"
      ],
      "text/latex": [
       "\\begin{tabular}{r|llllllllllllllllllllllllllllllllllll}\n",
       " Appliances & lights & T1 & RH\\_1 & T2 & RH\\_2 & T3 & RH\\_3 & T4 & RH\\_4 & ⋯ & rv1 & rv2 & NSM & WeekStatusWeekday & WeekStatusWeekend & Day\\_of\\_weekFriday & Day\\_of\\_weekMonday & Day\\_of\\_weekSaturday & Day\\_of\\_weekSunday & Day\\_of\\_weekThursday\\\\\n",
       "\\hline\n",
       "\t 60       & 30       & 19.89    & 47.59667 & 19.2     & 44.79000 & 19.79    & 44.73000 & 19.00000 & 45.56667 & <U+22EF> & 13.27543 & 13.27543 & 61200    & 1        & 0        & 0        & 1        & 0        & 0        & 0       \\\\\n",
       "\t 60       & 30       & 19.89    & 46.69333 & 19.2     & 44.72250 & 19.79    & 44.79000 & 19.00000 & 45.99250 & <U+22EF> & 18.60619 & 18.60619 & 61800    & 1        & 0        & 0        & 1        & 0        & 0        & 0       \\\\\n",
       "\t 50       & 30       & 19.89    & 46.30000 & 19.2     & 44.62667 & 19.79    & 44.93333 & 18.92667 & 45.89000 & <U+22EF> & 28.64267 & 28.64267 & 62400    & 1        & 0        & 0        & 1        & 0        & 0        & 0       \\\\\n",
       "\t 50       & 40       & 19.89    & 46.06667 & 19.2     & 44.59000 & 19.79    & 45.00000 & 18.89000 & 45.72333 & <U+22EF> & 45.41039 & 45.41039 & 63000    & 1        & 0        & 0        & 1        & 0        & 0        & 0       \\\\\n",
       "\\end{tabular}\n"
      ],
      "text/markdown": [
       "\n",
       "Appliances | lights | T1 | RH_1 | T2 | RH_2 | T3 | RH_3 | T4 | RH_4 | ⋯ | rv1 | rv2 | NSM | WeekStatusWeekday | WeekStatusWeekend | Day_of_weekFriday | Day_of_weekMonday | Day_of_weekSaturday | Day_of_weekSunday | Day_of_weekThursday | \n",
       "|---|---|---|---|\n",
       "| 60       | 30       | 19.89    | 47.59667 | 19.2     | 44.79000 | 19.79    | 44.73000 | 19.00000 | 45.56667 | <U+22EF> | 13.27543 | 13.27543 | 61200    | 1        | 0        | 0        | 1        | 0        | 0        | 0        | \n",
       "| 60       | 30       | 19.89    | 46.69333 | 19.2     | 44.72250 | 19.79    | 44.79000 | 19.00000 | 45.99250 | <U+22EF> | 18.60619 | 18.60619 | 61800    | 1        | 0        | 0        | 1        | 0        | 0        | 0        | \n",
       "| 50       | 30       | 19.89    | 46.30000 | 19.2     | 44.62667 | 19.79    | 44.93333 | 18.92667 | 45.89000 | <U+22EF> | 28.64267 | 28.64267 | 62400    | 1        | 0        | 0        | 1        | 0        | 0        | 0        | \n",
       "| 50       | 40       | 19.89    | 46.06667 | 19.2     | 44.59000 | 19.79    | 45.00000 | 18.89000 | 45.72333 | <U+22EF> | 45.41039 | 45.41039 | 63000    | 1        | 0        | 0        | 1        | 0        | 0        | 0        | \n",
       "\n",
       "\n"
      ],
      "text/plain": [
       "  Appliances lights T1    RH_1     T2   RH_2     T3    RH_3     T4      \n",
       "1 60         30     19.89 47.59667 19.2 44.79000 19.79 44.73000 19.00000\n",
       "2 60         30     19.89 46.69333 19.2 44.72250 19.79 44.79000 19.00000\n",
       "3 50         30     19.89 46.30000 19.2 44.62667 19.79 44.93333 18.92667\n",
       "4 50         40     19.89 46.06667 19.2 44.59000 19.79 45.00000 18.89000\n",
       "  RH_4     <U+22EF>        rv1      rv2      NSM   WeekStatusWeekday WeekStatusWeekend\n",
       "1 45.56667 <U+22EF> 13.27543 13.27543 61200 1                 0                \n",
       "2 45.99250 <U+22EF> 18.60619 18.60619 61800 1                 0                \n",
       "3 45.89000 <U+22EF> 28.64267 28.64267 62400 1                 0                \n",
       "4 45.72333 <U+22EF> 45.41039 45.41039 63000 1                 0                \n",
       "  Day_of_weekFriday Day_of_weekMonday Day_of_weekSaturday Day_of_weekSunday\n",
       "1 0                 1                 0                   0                \n",
       "2 0                 1                 0                   0                \n",
       "3 0                 1                 0                   0                \n",
       "4 0                 1                 0                   0                \n",
       "  Day_of_weekThursday\n",
       "1 0                  \n",
       "2 0                  \n",
       "3 0                  \n",
       "4 0                  "
      ]
     },
     "metadata": {},
     "output_type": "display_data"
    }
   ],
   "source": [
    "head(new_test_data_set[,c(2:37)],4)"
   ]
  },
  {
   "cell_type": "code",
   "execution_count": 85,
   "metadata": {},
   "outputs": [
    {
     "data": {
      "text/plain": [
       "5.22 MB"
      ]
     },
     "metadata": {},
     "output_type": "display_data"
    }
   ],
   "source": [
    "library(pryr)\n",
    "object_size(new_test_data_set)"
   ]
  },
  {
   "cell_type": "code",
   "execution_count": null,
   "metadata": {},
   "outputs": [],
   "source": []
  }
 ],
 "metadata": {
  "kernelspec": {
   "display_name": "R",
   "language": "R",
   "name": "ir"
  },
  "language_info": {
   "codemirror_mode": "r",
   "file_extension": ".r",
   "mimetype": "text/x-r-source",
   "name": "R",
   "pygments_lexer": "r",
   "version": "3.5.1"
  }
 },
 "nbformat": 4,
 "nbformat_minor": 2
}
