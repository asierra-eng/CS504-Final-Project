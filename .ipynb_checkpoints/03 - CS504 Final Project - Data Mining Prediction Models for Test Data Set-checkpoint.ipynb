{
 "cells": [
  {
   "cell_type": "markdown",
   "metadata": {},
   "source": [
    "# Machine Learning Project for CS504\n",
    "### Professor: Dr. Jessica Lin\n",
    "### Student: Angel N. Sierra\n",
    "### GMU\n",
    "\n",
    "**Research Article Title:** Data driven prediction models of energy use of appliances in a low-energy house\n",
    "**Researchers:** Luis M. Candanedo, Véronique Feldheim, Dominique Deramaix\n",
    "\n",
    "#### General Data Analysis and Data Preparation\n",
    "This section would provide the initial analysis and data preparation performed by the researchers with the end goal of ensuring a common baseline. Once baseline comparison is performed I would proceed to augment the research by adding a new machine learning algorithm and executing similar activities in WEKA to compare results.\n",
    "\n",
    "#### Machine Learning: Test Data Set\n",
    "This section was created to execute all the ML algorithms on the test set to establish a baseline.\n"
   ]
  },
  {
   "cell_type": "code",
   "execution_count": 1,
   "metadata": {},
   "outputs": [
    {
     "name": "stderr",
     "output_type": "stream",
     "text": [
      "\n",
      "Attaching package: 'lubridate'\n",
      "\n",
      "The following object is masked from 'package:base':\n",
      "\n",
      "    date\n",
      "\n"
     ]
    },
    {
     "name": "stdout",
     "output_type": "stream",
     "text": [
      "'data.frame':\t19735 obs. of  39 variables:\n",
      " $ date                : POSIXct, format: \"2016-01-11 17:00:00\" \"2016-01-11 17:10:00\" ...\n",
      " $ Appliances          : int  60 60 50 50 60 50 60 60 60 70 ...\n",
      " $ lights              : int  30 30 30 40 40 40 50 50 40 40 ...\n",
      " $ T1                  : num  19.9 19.9 19.9 19.9 19.9 ...\n",
      " $ RH_1                : num  47.6 46.7 46.3 46.1 46.3 ...\n",
      " $ T2                  : num  19.2 19.2 19.2 19.2 19.2 ...\n",
      " $ RH_2                : num  44.8 44.7 44.6 44.6 44.5 ...\n",
      " $ T3                  : num  19.8 19.8 19.8 19.8 19.8 ...\n",
      " $ RH_3                : num  44.7 44.8 44.9 45 45 ...\n",
      " $ T4                  : num  19 19 18.9 18.9 18.9 ...\n",
      " $ RH_4                : num  45.6 46 45.9 45.7 45.5 ...\n",
      " $ T5                  : num  17.2 17.2 17.2 17.2 17.2 ...\n",
      " $ RH_5                : num  55.2 55.2 55.1 55.1 55.1 ...\n",
      " $ T6                  : num  7.03 6.83 6.56 6.43 6.37 ...\n",
      " $ RH_6                : num  84.3 84.1 83.2 83.4 84.9 ...\n",
      " $ T7                  : num  17.2 17.2 17.2 17.1 17.2 ...\n",
      " $ RH_7                : num  41.6 41.6 41.4 41.3 41.2 ...\n",
      " $ T8                  : num  18.2 18.2 18.2 18.1 18.1 18.1 18.1 18.1 18.1 18.1 ...\n",
      " $ RH_8                : num  48.9 48.9 48.7 48.6 48.6 ...\n",
      " $ T9                  : num  17 17.1 17 17 17 ...\n",
      " $ RH_9                : num  45.5 45.6 45.5 45.4 45.4 ...\n",
      " $ T_out               : num  6.6 6.48 6.37 6.25 6.13 ...\n",
      " $ Press_mm_hg         : num  734 734 734 734 734 ...\n",
      " $ RH_out              : num  92 92 92 92 92 ...\n",
      " $ Windspeed           : num  7 6.67 6.33 6 5.67 ...\n",
      " $ Visibility          : num  63 59.2 55.3 51.5 47.7 ...\n",
      " $ Tdewpoint           : num  5.3 5.2 5.1 5 4.9 ...\n",
      " $ rv1                 : num  13.3 18.6 28.6 45.4 10.1 ...\n",
      " $ rv2                 : num  13.3 18.6 28.6 45.4 10.1 ...\n",
      " $ NSM                 : int  61200 61800 62400 63000 63600 64200 64800 65400 66000 66600 ...\n",
      " $ WeekStatusWeekday   : int  1 1 1 1 1 1 1 1 1 1 ...\n",
      " $ WeekStatusWeekend   : int  0 0 0 0 0 0 0 0 0 0 ...\n",
      " $ Day_of_weekFriday   : int  0 0 0 0 0 0 0 0 0 0 ...\n",
      " $ Day_of_weekMonday   : int  1 1 1 1 1 1 1 1 1 1 ...\n",
      " $ Day_of_weekSaturday : int  0 0 0 0 0 0 0 0 0 0 ...\n",
      " $ Day_of_weekSunday   : int  0 0 0 0 0 0 0 0 0 0 ...\n",
      " $ Day_of_weekThursday : int  0 0 0 0 0 0 0 0 0 0 ...\n",
      " $ Day_of_weekTuesday  : int  0 0 0 0 0 0 0 0 0 0 ...\n",
      " $ Day_of_weekWednesday: int  0 0 0 0 0 0 0 0 0 0 ...\n"
     ]
    }
   ],
   "source": [
    "#import necessary libraries\n",
    "suppressWarnings(library(lubridate))\n",
    "\n",
    "#Uploading Full Data Set adjusted for ML algorithms execution\n",
    "new_full_data_set <- read.csv(\"00 - Data Set/01_new_full_data_set.csv\")\n",
    "new_full_data_set$date <- strptime(as.character(new_full_data_set$date),format=\"%Y-%m-%d %H:%M:%S\")\n",
    "new_full_data_set$date <- as.POSIXct(new_full_data_set$date,tz=\"UTC\")\n",
    "str(new_full_data_set)"
   ]
  },
  {
   "cell_type": "code",
   "execution_count": 2,
   "metadata": {},
   "outputs": [
    {
     "name": "stdout",
     "output_type": "stream",
     "text": [
      "'data.frame':\t14803 obs. of  39 variables:\n",
      " $ date                : POSIXct, format: \"2016-01-11 17:00:00\" \"2016-01-11 17:10:00\" ...\n",
      " $ Appliances          : int  60 60 50 60 50 60 60 70 430 250 ...\n",
      " $ lights              : int  30 30 30 40 40 50 40 40 50 40 ...\n",
      " $ T1                  : num  19.9 19.9 19.9 19.9 19.9 ...\n",
      " $ RH_1                : num  47.6 46.7 46.3 46.3 46 ...\n",
      " $ T2                  : num  19.2 19.2 19.2 19.2 19.2 ...\n",
      " $ RH_2                : num  44.8 44.7 44.6 44.5 44.5 ...\n",
      " $ T3                  : num  19.8 19.8 19.8 19.8 19.8 ...\n",
      " $ RH_3                : num  44.7 44.8 44.9 45 44.9 ...\n",
      " $ T4                  : num  19 19 18.9 18.9 18.9 ...\n",
      " $ RH_4                : num  45.6 46 45.9 45.5 45.7 ...\n",
      " $ T5                  : num  17.2 17.2 17.2 17.2 17.1 ...\n",
      " $ RH_5                : num  55.2 55.2 55.1 55.1 55 ...\n",
      " $ T6                  : num  7.03 6.83 6.56 6.37 6.3 ...\n",
      " $ RH_6                : num  84.3 84.1 83.2 84.9 85.8 ...\n",
      " $ T7                  : num  17.2 17.2 17.2 17.2 17.1 ...\n",
      " $ RH_7                : num  41.6 41.6 41.4 41.2 41.3 ...\n",
      " $ T8                  : num  18.2 18.2 18.2 18.1 18.1 ...\n",
      " $ RH_8                : num  48.9 48.9 48.7 48.6 48.6 ...\n",
      " $ T9                  : num  17 17.1 17 17 17 ...\n",
      " $ RH_9                : num  45.5 45.6 45.5 45.4 45.3 ...\n",
      " $ T_out               : num  6.6 6.48 6.37 6.13 6.02 ...\n",
      " $ Press_mm_hg         : num  734 734 734 734 734 ...\n",
      " $ RH_out              : num  92 92 92 92 92 ...\n",
      " $ Windspeed           : num  7 6.67 6.33 5.67 5.33 ...\n",
      " $ Visibility          : num  63 59.2 55.3 47.7 43.8 ...\n",
      " $ Tdewpoint           : num  5.3 5.2 5.1 4.9 4.8 ...\n",
      " $ rv1                 : num  13.3 18.6 28.6 10.1 44.9 ...\n",
      " $ rv2                 : num  13.3 18.6 28.6 10.1 44.9 ...\n",
      " $ NSM                 : int  61200 61800 62400 63600 64200 65400 66000 66600 68400 69000 ...\n",
      " $ WeekStatusWeekday   : int  1 1 1 1 1 1 1 1 1 1 ...\n",
      " $ WeekStatusWeekend   : int  0 0 0 0 0 0 0 0 0 0 ...\n",
      " $ Day_of_weekFriday   : int  0 0 0 0 0 0 0 0 0 0 ...\n",
      " $ Day_of_weekMonday   : int  1 1 1 1 1 1 1 1 1 1 ...\n",
      " $ Day_of_weekSaturday : int  0 0 0 0 0 0 0 0 0 0 ...\n",
      " $ Day_of_weekSunday   : int  0 0 0 0 0 0 0 0 0 0 ...\n",
      " $ Day_of_weekThursday : int  0 0 0 0 0 0 0 0 0 0 ...\n",
      " $ Day_of_weekTuesday  : int  0 0 0 0 0 0 0 0 0 0 ...\n",
      " $ Day_of_weekWednesday: int  0 0 0 0 0 0 0 0 0 0 ...\n"
     ]
    }
   ],
   "source": [
    "#Uploading Train Data Set adjusted for ML algorithms execution\n",
    "new_train_data_set <- read.csv(\"00 - Data Set/02_new_train_data_set.csv\")\n",
    "new_train_data_set$date <- strptime(as.character(new_train_data_set$date),format=\"%Y-%m-%d %H:%M:%S\")\n",
    "new_train_data_set$date <- as.POSIXct(new_train_data_set$date,tz=\"UTC\")\n",
    "str(new_train_data_set)"
   ]
  },
  {
   "cell_type": "code",
   "execution_count": 3,
   "metadata": {},
   "outputs": [
    {
     "name": "stdout",
     "output_type": "stream",
     "text": [
      "'data.frame':\t4932 obs. of  39 variables:\n",
      " $ date                : POSIXct, format: \"2016-01-11 17:30:00\" \"2016-01-11 18:00:00\" ...\n",
      " $ Appliances          : int  50 60 230 580 100 70 190 110 100 60 ...\n",
      " $ lights              : int  40 50 70 60 10 30 40 40 20 20 ...\n",
      " $ T1                  : num  19.9 19.9 19.9 20.1 20.6 ...\n",
      " $ RH_1                : num  46.1 45.8 45.9 46.4 53.9 ...\n",
      " $ T2                  : num  19.2 19.2 19.4 19.4 20 ...\n",
      " $ RH_2                : num  44.6 44.5 44.4 44.4 46.8 ...\n",
      " $ T3                  : num  19.8 19.8 19.8 19.8 20.1 ...\n",
      " $ RH_3                : num  45 44.9 44.9 44.8 48.5 ...\n",
      " $ T4                  : num  18.9 18.9 18.9 19 19 ...\n",
      " $ RH_4                : num  45.7 45.8 46.4 46.4 48.5 ...\n",
      " $ T5                  : num  17.2 17.1 17.1 17.1 17.1 ...\n",
      " $ RH_5                : num  55.1 55 55 55 56 ...\n",
      " $ T6                  : num  6.43 6.26 6.19 6.12 5.8 ...\n",
      " $ RH_6                : num  83.4 86.1 87.9 88 88.4 ...\n",
      " $ T7                  : num  17.1 17.1 17.2 17.5 17.9 ...\n",
      " $ RH_7                : num  41.3 41.2 42.7 44.3 44.9 ...\n",
      " $ T8                  : num  18.1 18.1 18.1 18.1 18.1 ...\n",
      " $ RH_8                : num  48.6 48.6 48.6 48.6 49.2 ...\n",
      " $ T9                  : num  17 17 17 16.9 16.9 ...\n",
      " $ RH_9                : num  45.4 45.3 45.3 45.3 45.3 ...\n",
      " $ T_out               : num  6.25 5.9 5.97 5.98 6 ...\n",
      " $ Press_mm_hg         : num  734 734 734 734 735 ...\n",
      " $ RH_out              : num  92 92 91.3 91.2 89.5 ...\n",
      " $ Windspeed           : num  6 5 5.67 5.83 6 ...\n",
      " $ Visibility          : num  51.5 40 40 40 40 40 40 40 40 40 ...\n",
      " $ Tdewpoint           : num  5 4.7 4.63 4.62 4.35 ...\n",
      " $ rv1                 : num  45.41 47.23 10.3 8.83 24.88 ...\n",
      " $ rv2                 : num  45.41 47.23 10.3 8.83 24.88 ...\n",
      " $ NSM                 : int  63000 64800 67200 67800 70200 71400 73800 74400 77400 82200 ...\n",
      " $ WeekStatusWeekday   : int  1 1 1 1 1 1 1 1 1 1 ...\n",
      " $ WeekStatusWeekend   : int  0 0 0 0 0 0 0 0 0 0 ...\n",
      " $ Day_of_weekFriday   : int  0 0 0 0 0 0 0 0 0 0 ...\n",
      " $ Day_of_weekMonday   : int  1 1 1 1 1 1 1 1 1 1 ...\n",
      " $ Day_of_weekSaturday : int  0 0 0 0 0 0 0 0 0 0 ...\n",
      " $ Day_of_weekSunday   : int  0 0 0 0 0 0 0 0 0 0 ...\n",
      " $ Day_of_weekThursday : int  0 0 0 0 0 0 0 0 0 0 ...\n",
      " $ Day_of_weekTuesday  : int  0 0 0 0 0 0 0 0 0 0 ...\n",
      " $ Day_of_weekWednesday: int  0 0 0 0 0 0 0 0 0 0 ...\n"
     ]
    }
   ],
   "source": [
    "#Uploading Test Data Set adjusted for ML algorithms execution\n",
    "new_test_data_set <- read.csv(\"00 - Data Set/03_new_test_data_set.csv\")\n",
    "new_test_data_set$date <- strptime(as.character(new_test_data_set$date),format=\"%Y-%m-%d %H:%M:%S\")\n",
    "new_test_data_set$date <- as.POSIXct(new_test_data_set$date,tz=\"UTC\")\n",
    "str(new_test_data_set)"
   ]
  },
  {
   "cell_type": "code",
   "execution_count": null,
   "metadata": {},
   "outputs": [],
   "source": [
    "#Maching taking to long to process the data, if I have time left. I'll try to achieve bigger data sets.\n",
    "\n",
    "#rfe_results_train_set <- rfe(new_train_data_set[,c(3:37)],new_train_data_set[,2], sizes=c(1:35), rfeControl=control)\n",
    "#rfe_results_full_set <- rfe(new_full_data_set[,c(3:37)],new_full_data_set[,2], sizes=c(1:35), rfeControl=control)"
   ]
  },
  {
   "cell_type": "markdown",
   "metadata": {},
   "source": [
    "### Recursive Feature Selection\n",
    "#### Method to obtain the most relevant features for predicting Appliance Energy"
   ]
  },
  {
   "cell_type": "code",
   "execution_count": 4,
   "metadata": {},
   "outputs": [
    {
     "name": "stderr",
     "output_type": "stream",
     "text": [
      "Loading required package: lattice\n",
      "Loading required package: ggplot2\n",
      "Loading required package: foreach\n",
      "Loading required package: iterators\n",
      "Loading required package: parallel\n"
     ]
    },
    {
     "data": {
      "text/html": [
       "8"
      ],
      "text/latex": [
       "8"
      ],
      "text/markdown": [
       "8"
      ],
      "text/plain": [
       "[1] 8"
      ]
     },
     "metadata": {},
     "output_type": "display_data"
    }
   ],
   "source": [
    "#Import necessary libraries\n",
    "suppressWarnings(library(caret))\n",
    "suppressWarnings(library(doParallel))\n",
    "\n",
    "#Define control for the recursive feature elimination\n",
    "control <- rfeControl(functions=rfFuncs, method=\"cv\", number=10)\n",
    "\n",
    "set.seed(1)\n",
    "registerDoParallel(8)\n",
    "getDoParWorkers()\n",
    "ptm <- proc.time()"
   ]
  },
  {
   "cell_type": "code",
   "execution_count": 5,
   "metadata": {},
   "outputs": [],
   "source": [
    "rfe_results_test_set <- rfe(new_test_data_set[,c(3:37)],new_test_data_set[,2], sizes=c(1:35), rfeControl=control)"
   ]
  },
  {
   "cell_type": "code",
   "execution_count": 20,
   "metadata": {},
   "outputs": [
    {
     "name": "stdout",
     "output_type": "stream",
     "text": [
      "\n",
      "Recursive feature selection\n",
      "\n",
      "Outer resampling method: Cross-Validated (10 fold) \n",
      "\n",
      "Resampling performance over subset size:\n",
      "\n",
      " Variables  RMSE Rsquared   MAE RMSESD RsquaredSD MAESD Selected\n",
      "         1 94.52   0.1365 51.13 11.160    0.03073 3.590         \n",
      "         2 92.98   0.1610 49.83 12.011    0.04062 3.953         \n",
      "         3 90.66   0.2074 48.48 11.357    0.04440 3.589         \n",
      "         4 88.07   0.2651 46.48 10.730    0.05194 3.155         \n",
      "         5 86.53   0.2939 45.28 10.506    0.05871 3.122         \n",
      "         6 81.39   0.3564 41.51  9.331    0.06059 2.823         \n",
      "         7 80.99   0.3621 41.08  9.283    0.07072 2.613         \n",
      "         8 80.46   0.3723 40.50  8.841    0.06955 2.395         \n",
      "         9 80.08   0.3770 40.35  8.702    0.07840 2.525         \n",
      "        10 79.80   0.3813 40.17  8.518    0.07942 2.219         \n",
      "        11 79.63   0.3840 40.04  8.810    0.07513 2.364         \n",
      "        12 79.54   0.3846 39.92  8.457    0.07837 2.337         \n",
      "        13 79.39   0.3871 39.83  8.526    0.07717 2.399         \n",
      "        14 78.78   0.3966 39.67  8.426    0.07636 2.500         \n",
      "        15 79.00   0.3933 39.86  8.404    0.08152 2.499         \n",
      "        16 78.54   0.4001 39.53  8.313    0.07998 2.303         \n",
      "        17 78.58   0.3995 39.62  8.266    0.07951 2.124         \n",
      "        18 78.48   0.4007 39.57  8.206    0.08238 2.125         \n",
      "        19 78.49   0.4009 39.58  8.022    0.08414 2.047         \n",
      "        20 78.58   0.3993 39.71  8.161    0.08166 2.191         \n",
      "        21 78.34   0.4025 39.75  8.169    0.07983 2.287         \n",
      "        22 78.49   0.4000 39.74  8.229    0.08116 2.347         \n",
      "        23 78.48   0.4006 39.78  8.395    0.07871 2.458         \n",
      "        24 78.63   0.3985 39.83  8.431    0.07928 2.509         \n",
      "        25 78.44   0.4014 39.76  8.399    0.08173 2.403         \n",
      "        26 78.46   0.4000 39.73  8.567    0.08005 2.386         \n",
      "        27 78.26   0.4032 39.74  8.543    0.07712 2.411         \n",
      "        28 78.41   0.4010 39.66  8.536    0.07761 2.426         \n",
      "        29 78.29   0.4026 39.63  8.513    0.07462 2.391         \n",
      "        30 78.26   0.4037 39.61  8.575    0.08013 2.521        *\n",
      "        31 78.57   0.3991 39.77  8.615    0.07562 2.501         \n",
      "        32 78.33   0.4029 39.76  8.761    0.07721 2.480         \n",
      "        33 78.75   0.3964 40.27  8.586    0.07703 2.410         \n",
      "        34 78.96   0.3936 40.47  8.707    0.07593 2.354         \n",
      "        35 78.91   0.3945 40.52  8.745    0.07711 2.389         \n",
      "\n",
      "The top 5 variables (out of 30):\n",
      "   NSM, lights, Press_mm_hg, T3, RH_1\n",
      "\n"
     ]
    }
   ],
   "source": [
    "print(rfe_results_test_set)\n",
    "capture.output(rfe_results_test_set,\n",
    "               file=\"01 - ML Algorithms/00 - Recursive Feature Selection/00-RFE_Results_Test_Data.txt\")"
   ]
  },
  {
   "cell_type": "code",
   "execution_count": 19,
   "metadata": {},
   "outputs": [
    {
     "data": {
      "text/html": [
       "<ol class=list-inline>\n",
       "\t<li>'NSM'</li>\n",
       "\t<li>'lights'</li>\n",
       "\t<li>'Press_mm_hg'</li>\n",
       "\t<li>'T3'</li>\n",
       "\t<li>'RH_1'</li>\n",
       "\t<li>'T8'</li>\n",
       "\t<li>'T5'</li>\n",
       "\t<li>'RH_5'</li>\n",
       "\t<li>'RH_3'</li>\n",
       "\t<li>'T4'</li>\n",
       "\t<li>'T7'</li>\n",
       "\t<li>'T1'</li>\n",
       "\t<li>'T9'</li>\n",
       "\t<li>'Tdewpoint'</li>\n",
       "\t<li>'T_out'</li>\n",
       "\t<li>'RH_9'</li>\n",
       "\t<li>'T2'</li>\n",
       "\t<li>'RH_7'</li>\n",
       "\t<li>'Windspeed'</li>\n",
       "\t<li>'Visibility'</li>\n",
       "\t<li>'RH_2'</li>\n",
       "\t<li>'RH_out'</li>\n",
       "\t<li>'RH_4'</li>\n",
       "\t<li>'RH_6'</li>\n",
       "\t<li>'RH_8'</li>\n",
       "\t<li>'T6'</li>\n",
       "\t<li>'Day_of_weekFriday'</li>\n",
       "\t<li>'Day_of_weekSaturday'</li>\n",
       "\t<li>'Day_of_weekMonday'</li>\n",
       "\t<li>'WeekStatusWeekend'</li>\n",
       "\t<li>'WeekStatusWeekday'</li>\n",
       "\t<li>'Day_of_weekSunday'</li>\n",
       "\t<li>'rv1'</li>\n",
       "\t<li>'rv2'</li>\n",
       "\t<li>'Day_of_weekThursday'</li>\n",
       "</ol>\n"
      ],
      "text/latex": [
       "\\begin{enumerate*}\n",
       "\\item 'NSM'\n",
       "\\item 'lights'\n",
       "\\item 'Press\\_mm\\_hg'\n",
       "\\item 'T3'\n",
       "\\item 'RH\\_1'\n",
       "\\item 'T8'\n",
       "\\item 'T5'\n",
       "\\item 'RH\\_5'\n",
       "\\item 'RH\\_3'\n",
       "\\item 'T4'\n",
       "\\item 'T7'\n",
       "\\item 'T1'\n",
       "\\item 'T9'\n",
       "\\item 'Tdewpoint'\n",
       "\\item 'T\\_out'\n",
       "\\item 'RH\\_9'\n",
       "\\item 'T2'\n",
       "\\item 'RH\\_7'\n",
       "\\item 'Windspeed'\n",
       "\\item 'Visibility'\n",
       "\\item 'RH\\_2'\n",
       "\\item 'RH\\_out'\n",
       "\\item 'RH\\_4'\n",
       "\\item 'RH\\_6'\n",
       "\\item 'RH\\_8'\n",
       "\\item 'T6'\n",
       "\\item 'Day\\_of\\_weekFriday'\n",
       "\\item 'Day\\_of\\_weekSaturday'\n",
       "\\item 'Day\\_of\\_weekMonday'\n",
       "\\item 'WeekStatusWeekend'\n",
       "\\item 'WeekStatusWeekday'\n",
       "\\item 'Day\\_of\\_weekSunday'\n",
       "\\item 'rv1'\n",
       "\\item 'rv2'\n",
       "\\item 'Day\\_of\\_weekThursday'\n",
       "\\end{enumerate*}\n"
      ],
      "text/markdown": [
       "1. 'NSM'\n",
       "2. 'lights'\n",
       "3. 'Press_mm_hg'\n",
       "4. 'T3'\n",
       "5. 'RH_1'\n",
       "6. 'T8'\n",
       "7. 'T5'\n",
       "8. 'RH_5'\n",
       "9. 'RH_3'\n",
       "10. 'T4'\n",
       "11. 'T7'\n",
       "12. 'T1'\n",
       "13. 'T9'\n",
       "14. 'Tdewpoint'\n",
       "15. 'T_out'\n",
       "16. 'RH_9'\n",
       "17. 'T2'\n",
       "18. 'RH_7'\n",
       "19. 'Windspeed'\n",
       "20. 'Visibility'\n",
       "21. 'RH_2'\n",
       "22. 'RH_out'\n",
       "23. 'RH_4'\n",
       "24. 'RH_6'\n",
       "25. 'RH_8'\n",
       "26. 'T6'\n",
       "27. 'Day_of_weekFriday'\n",
       "28. 'Day_of_weekSaturday'\n",
       "29. 'Day_of_weekMonday'\n",
       "30. 'WeekStatusWeekend'\n",
       "31. 'WeekStatusWeekday'\n",
       "32. 'Day_of_weekSunday'\n",
       "33. 'rv1'\n",
       "34. 'rv2'\n",
       "35. 'Day_of_weekThursday'\n",
       "\n",
       "\n"
      ],
      "text/plain": [
       " [1] \"NSM\"                 \"lights\"              \"Press_mm_hg\"        \n",
       " [4] \"T3\"                  \"RH_1\"                \"T8\"                 \n",
       " [7] \"T5\"                  \"RH_5\"                \"RH_3\"               \n",
       "[10] \"T4\"                  \"T7\"                  \"T1\"                 \n",
       "[13] \"T9\"                  \"Tdewpoint\"           \"T_out\"              \n",
       "[16] \"RH_9\"                \"T2\"                  \"RH_7\"               \n",
       "[19] \"Windspeed\"           \"Visibility\"          \"RH_2\"               \n",
       "[22] \"RH_out\"              \"RH_4\"                \"RH_6\"               \n",
       "[25] \"RH_8\"                \"T6\"                  \"Day_of_weekFriday\"  \n",
       "[28] \"Day_of_weekSaturday\" \"Day_of_weekMonday\"   \"WeekStatusWeekend\"  \n",
       "[31] \"WeekStatusWeekday\"   \"Day_of_weekSunday\"   \"rv1\"                \n",
       "[34] \"rv2\"                 \"Day_of_weekThursday\""
      ]
     },
     "metadata": {},
     "output_type": "display_data"
    }
   ],
   "source": [
    "selectedVars <- rfe_results_test_set$variables\n",
    "capture.output(selectedVars,\n",
    "               file=\"01 - ML Algorithms/00 - Recursive Feature Selection/01-RFE_Selected_Features_Test_Data.txt\")\n",
    "\n",
    "bestFeature35 <- rfe_results_test_set$control$functions$selectVar(selectedVars,35)\n",
    "capture.output(bestFeature35,\n",
    "               file=\"01 - ML Algorithms/00 - Recursive Feature Selection/02-RFE_Best_35_Features_Test_Data.txt\")\n",
    "\n",
    "bestFeature35"
   ]
  },
  {
   "cell_type": "code",
   "execution_count": 23,
   "metadata": {},
   "outputs": [
    {
     "data": {},
     "metadata": {},
     "output_type": "display_data"
    },
    {
     "data": {
      "text/html": [
       "<strong>png:</strong> 2"
      ],
      "text/latex": [
       "\\textbf{png:} 2"
      ],
      "text/markdown": [
       "**png:** 2"
      ],
      "text/plain": [
       "png \n",
       "  2 "
      ]
     },
     "metadata": {},
     "output_type": "display_data"
    },
    {
     "data": {},
     "metadata": {},
     "output_type": "display_data"
    },
    {
     "data": {
      "image/png": "[encoded data removed]",
      "text/plain": [
       "plot without title"
      ]
     },
     "metadata": {},
     "output_type": "display_data"
    }
   ],
   "source": [
    "png('01 - ML Algorithms/00 - Recursive Feature Selection/03-RFE_Results_Test_Data_Plot.png',width = 8, height = 6, units = 'in', res = 300)\n",
    "plot(rfe_results_test_set, type=c(\"g\", \"o\"))\n",
    "dev.off()\n",
    "plot(rfe_results_test_set, type=c(\"g\", \"o\"))"
   ]
  },
  {
   "cell_type": "markdown",
   "metadata": {},
   "source": [
    "### Gradient Boosting Model (GBM)\n",
    "#### 1st ML Algorithm used for regression\n",
    "\n",
    "**Source:** https://en.wikipedia.org/wiki/Gradient_boosting\n",
    "\n",
    "Gradient boosting is a machine learning technique for regression and classification problems, which produces a prediction model in the form of an ensemble of weak prediction models, typically decision trees. It builds the model in a stage-wise fashion **like other boosting methods** do, and it generalizes them by allowing optimization of an arbitrary differentiable loss function.\n",
    "\n",
    "**note:** Find other boosting methods in WEKA"
   ]
  },
  {
   "cell_type": "code",
   "execution_count": 24,
   "metadata": {},
   "outputs": [
    {
     "data": {
      "text/html": [
       "8"
      ],
      "text/latex": [
       "8"
      ],
      "text/markdown": [
       "8"
      ],
      "text/plain": [
       "[1] 8"
      ]
     },
     "metadata": {},
     "output_type": "display_data"
    }
   ],
   "source": [
    "fitControl <- trainControl(method = \"repeatedcv\", # cv\n",
    "                           number=10,repeats=3,  # 10  \n",
    "                           verboseIter = TRUE,returnResamp = \"all\")\n",
    "\n",
    "gbmGrid <-  expand.grid(interaction.depth = c(1,3,5),\n",
    "                        n.trees = seq(100,10901,400),\n",
    "                        shrinkage = 0.1,\n",
    "                        n.minobsinnode = c(10))\n",
    "\n",
    "\n",
    "set.seed(1)\n",
    "registerDoParallel(8)\n",
    "getDoParWorkers()"
   ]
  },
  {
   "cell_type": "code",
   "execution_count": 27,
   "metadata": {},
   "outputs": [
    {
     "name": "stderr",
     "output_type": "stream",
     "text": [
      "Loaded gbm 2.1.4\n"
     ]
    },
    {
     "name": "stdout",
     "output_type": "stream",
     "text": [
      "Aggregating results\n",
      "Selecting tuning parameters\n",
      "Fitting n.trees = 2500, interaction.depth = 5, shrinkage = 0.1, n.minobsinnode = 10 on full training set\n",
      "Iter   TrainDeviance   ValidDeviance   StepSize   Improve\n",
      "     1    10006.9542             nan     0.1000  290.2940\n",
      "     2     9746.8303             nan     0.1000  243.9061\n",
      "     3     9516.1108             nan     0.1000  202.1723\n",
      "     4     9329.7720             nan     0.1000  177.6961\n",
      "     5     9131.5835             nan     0.1000  133.3555\n",
      "     6     8973.1413             nan     0.1000  130.9225\n",
      "     7     8840.8654             nan     0.1000   87.3387\n",
      "     8     8746.4333             nan     0.1000   68.3295\n",
      "     9     8637.4623             nan     0.1000   89.5685\n",
      "    10     8552.2391             nan     0.1000   43.1470\n",
      "    20     7860.2442             nan     0.1000    5.1199\n",
      "    40     7003.4519             nan     0.1000    8.2012\n",
      "    60     6386.5012             nan     0.1000   -5.8981\n",
      "    80     5969.3504             nan     0.1000   -2.1453\n",
      "   100     5639.1920             nan     0.1000   -9.0063\n",
      "   120     5347.1128             nan     0.1000    3.4647\n",
      "   140     5098.9525             nan     0.1000   -1.8649\n",
      "   160     4862.3597             nan     0.1000   -8.6754\n",
      "   180     4645.3444             nan     0.1000   -3.4730\n",
      "   200     4464.9746             nan     0.1000  -10.7145\n",
      "   220     4283.8532             nan     0.1000   -3.7378\n",
      "   240     4160.7574             nan     0.1000   -2.8999\n",
      "   260     4033.6463             nan     0.1000   -5.8769\n",
      "   280     3861.8272             nan     0.1000   -2.7420\n",
      "   300     3736.5788             nan     0.1000   -4.0612\n",
      "   320     3625.0723             nan     0.1000   -4.6639\n",
      "   340     3536.4704             nan     0.1000   -3.0480\n",
      "   360     3442.2858             nan     0.1000   -4.1621\n",
      "   380     3331.8031             nan     0.1000  -10.0481\n",
      "   400     3242.3278             nan     0.1000   -3.5857\n",
      "   420     3147.3239             nan     0.1000   -7.9721\n",
      "   440     3052.2996             nan     0.1000   -4.9564\n",
      "   460     2988.8747             nan     0.1000   -6.7165\n",
      "   480     2900.6896             nan     0.1000   -3.0791\n",
      "   500     2844.2232             nan     0.1000   -4.3501\n",
      "   520     2785.9052             nan     0.1000   -6.1815\n",
      "   540     2723.2389             nan     0.1000   -5.1632\n",
      "   560     2665.0713             nan     0.1000   -3.3316\n",
      "   580     2603.5969             nan     0.1000   -4.5530\n",
      "   600     2543.0738             nan     0.1000   -4.3937\n",
      "   620     2471.7453             nan     0.1000   -2.8622\n",
      "   640     2415.9870             nan     0.1000   -7.1402\n",
      "   660     2361.6517             nan     0.1000   -3.7355\n",
      "   680     2310.8583             nan     0.1000   -2.9544\n",
      "   700     2263.1784             nan     0.1000   -2.4538\n",
      "   720     2211.2523             nan     0.1000   -1.1330\n",
      "   740     2163.0610             nan     0.1000   -3.3615\n",
      "   760     2112.4134             nan     0.1000   -2.2895\n",
      "   780     2062.9753             nan     0.1000   -4.2078\n",
      "   800     2016.4906             nan     0.1000   -6.0034\n",
      "   820     1974.1066             nan     0.1000   -3.6927\n",
      "   840     1931.4054             nan     0.1000   -2.6939\n",
      "   860     1888.0570             nan     0.1000   -3.3499\n",
      "   880     1860.6807             nan     0.1000   -1.1844\n",
      "   900     1827.3397             nan     0.1000   -3.0176\n",
      "   920     1801.3940             nan     0.1000   -5.1477\n",
      "   940     1770.8512             nan     0.1000   -1.1266\n",
      "   960     1723.2030             nan     0.1000   -1.9695\n",
      "   980     1694.4143             nan     0.1000   -2.9166\n",
      "  1000     1662.9003             nan     0.1000   -2.1794\n",
      "  1020     1624.3432             nan     0.1000   -4.5935\n",
      "  1040     1587.6423             nan     0.1000   -3.4718\n",
      "  1060     1555.8014             nan     0.1000   -2.8441\n",
      "  1080     1534.6313             nan     0.1000   -4.0164\n",
      "  1100     1507.2704             nan     0.1000   -0.5940\n",
      "  1120     1482.3751             nan     0.1000   -3.0137\n",
      "  1140     1457.0714             nan     0.1000   -2.3135\n",
      "  1160     1434.7781             nan     0.1000   -2.1502\n",
      "  1180     1406.3372             nan     0.1000   -0.8248\n",
      "  1200     1380.1800             nan     0.1000   -1.8530\n",
      "  1220     1360.2089             nan     0.1000   -3.2644\n",
      "  1240     1338.5352             nan     0.1000   -2.1262\n",
      "  1260     1318.5497             nan     0.1000   -4.1137\n",
      "  1280     1302.7754             nan     0.1000   -1.6684\n",
      "  1300     1281.3029             nan     0.1000   -2.1007\n",
      "  1320     1258.9987             nan     0.1000   -1.9732\n",
      "  1340     1236.9631             nan     0.1000   -0.1079\n",
      "  1360     1210.8246             nan     0.1000   -2.4079\n",
      "  1380     1191.7329             nan     0.1000   -1.2408\n",
      "  1400     1169.8503             nan     0.1000   -2.5737\n",
      "  1420     1151.8587             nan     0.1000   -1.8695\n",
      "  1440     1134.3882             nan     0.1000   -2.7426\n",
      "  1460     1117.0599             nan     0.1000   -1.2424\n",
      "  1480     1101.1811             nan     0.1000   -1.3141\n",
      "  1500     1087.7527             nan     0.1000   -2.1972\n",
      "  1520     1069.0881             nan     0.1000   -0.9924\n",
      "  1540     1050.6862             nan     0.1000   -1.1016\n",
      "  1560     1033.8334             nan     0.1000   -0.9833\n",
      "  1580     1018.6176             nan     0.1000   -0.9288\n",
      "  1600     1003.5275             nan     0.1000   -1.7256\n",
      "  1620      989.2843             nan     0.1000   -0.6405\n",
      "  1640      975.8958             nan     0.1000   -1.9106\n",
      "  1660      960.2449             nan     0.1000   -3.3722\n",
      "  1680      947.4256             nan     0.1000   -1.3983\n",
      "  1700      931.5565             nan     0.1000   -1.8608\n",
      "  1720      920.1854             nan     0.1000   -1.6448\n",
      "  1740      905.9278             nan     0.1000   -1.9112\n",
      "  1760      892.7896             nan     0.1000   -1.7950\n",
      "  1780      877.6728             nan     0.1000   -1.3584\n",
      "  1800      862.9611             nan     0.1000   -0.9770\n",
      "  1820      850.4021             nan     0.1000   -1.6919\n",
      "  1840      837.5766             nan     0.1000   -0.8232\n",
      "  1860      826.6709             nan     0.1000   -0.9084\n",
      "  1880      817.0143             nan     0.1000   -1.4653\n",
      "  1900      806.0730             nan     0.1000   -1.4219\n",
      "  1920      794.8548             nan     0.1000   -1.1113\n",
      "  1940      784.3523             nan     0.1000   -0.7811\n",
      "  1960      772.6531             nan     0.1000   -1.9802\n",
      "  1980      762.2691             nan     0.1000   -1.1161\n",
      "  2000      753.4854             nan     0.1000   -1.0920\n",
      "  2020      741.4571             nan     0.1000   -1.8703\n",
      "  2040      732.9157             nan     0.1000   -1.7815\n",
      "  2060      723.3394             nan     0.1000   -0.4229\n",
      "  2080      712.8612             nan     0.1000   -0.8008\n",
      "  2100      705.1324             nan     0.1000   -1.1992\n",
      "  2120      695.1961             nan     0.1000   -0.9589\n",
      "  2140      686.1394             nan     0.1000   -0.7782\n",
      "  2160      676.2660             nan     0.1000   -1.5605\n",
      "  2180      667.6787             nan     0.1000   -1.7361\n",
      "  2200      659.0895             nan     0.1000   -0.9641\n",
      "  2220      650.8146             nan     0.1000   -1.2678\n",
      "  2240      643.9378             nan     0.1000   -0.8864\n",
      "  2260      635.6755             nan     0.1000   -0.6159\n",
      "  2280      628.7994             nan     0.1000   -1.1804\n",
      "  2300      621.0668             nan     0.1000   -0.9196\n",
      "  2320      612.1452             nan     0.1000   -0.7261\n",
      "  2340      603.8137             nan     0.1000   -0.7979\n",
      "  2360      595.1846             nan     0.1000   -1.0668\n",
      "  2380      588.8471             nan     0.1000   -1.2109\n",
      "  2400      582.1796             nan     0.1000   -0.6180\n",
      "  2420      576.5087             nan     0.1000   -0.7827\n",
      "  2440      568.7429             nan     0.1000   -0.9031\n",
      "  2460      560.4464             nan     0.1000   -1.3635\n",
      "  2480      552.7785             nan     0.1000   -0.7958\n",
      "  2500      546.8535             nan     0.1000   -0.3556\n",
      "\n"
     ]
    }
   ],
   "source": [
    "#Install necessary libraries\n",
    "suppressWarnings(library(gbm))\n",
    "\n",
    "ptm <- proc.time()\n",
    "\n",
    "gbm_model <- train(Appliances~., data=new_test_data_set[,c(2:37)],  method=\"gbm\",\n",
    "                   metric='RMSE',trControl = fitControl,bag.fraction=0.5,tuneGrid=gbmGrid)\n",
    "gbm_time <- proc.time() - ptm"
   ]
  },
  {
   "cell_type": "code",
   "execution_count": 29,
   "metadata": {},
   "outputs": [
    {
     "data": {
      "text/plain": [
       "Stochastic Gradient Boosting \n",
       "\n",
       "4932 samples\n",
       "  35 predictor\n",
       "\n",
       "No pre-processing\n",
       "Resampling: Cross-Validated (10 fold, repeated 3 times) \n",
       "Summary of sample sizes: 4439, 4439, 4439, 4439, 4439, 4438, ... \n",
       "Resampling results across tuning parameters:\n",
       "\n",
       "  interaction.depth  n.trees  RMSE      Rsquared   MAE     \n",
       "  1                    100    93.19325  0.1582135  49.68087\n",
       "  1                    500    90.75429  0.2001725  49.26789\n",
       "  1                    900    89.95955  0.2138779  49.36099\n",
       "  1                   1300    89.48138  0.2222057  49.49166\n",
       "  1                   1700    89.12127  0.2287210  49.48591\n",
       "  1                   2100    88.93475  0.2321765  49.69434\n",
       "  1                   2500    88.77622  0.2356379  49.86198\n",
       "  1                   2900    88.77024  0.2364658  50.09637\n",
       "  1                   3300    88.75388  0.2378127  50.31096\n",
       "  1                   3700    88.65142  0.2402648  50.48193\n",
       "  1                   4100    88.69036  0.2406708  50.67417\n",
       "  1                   4500    88.74976  0.2405420  50.88522\n",
       "  1                   4900    88.78630  0.2410765  51.10552\n",
       "  1                   5300    88.80253  0.2416818  51.30238\n",
       "  1                   5700    88.85164  0.2417405  51.48484\n",
       "  1                   6100    88.96089  0.2407989  51.66140\n",
       "  1                   6500    89.05056  0.2405007  51.89556\n",
       "  1                   6900    89.20012  0.2393815  52.11108\n",
       "  1                   7300    89.27682  0.2390788  52.24349\n",
       "  1                   7700    89.30582  0.2392319  52.34395\n",
       "  1                   8100    89.41433  0.2386415  52.54136\n",
       "  1                   8500    89.50620  0.2380261  52.68716\n",
       "  1                   8900    89.59549  0.2375512  52.87969\n",
       "  1                   9300    89.66271  0.2374937  53.00805\n",
       "  1                   9700    89.78573  0.2366572  53.21722\n",
       "  1                  10100    89.96000  0.2352822  53.39259\n",
       "  1                  10500    90.02453  0.2348420  53.52171\n",
       "  1                  10900    90.05575  0.2347196  53.59823\n",
       "  3                    100    88.69174  0.2375680  47.00855\n",
       "  3                    500    85.11107  0.2978643  46.16538\n",
       "  3                    900    83.97075  0.3194128  46.06633\n",
       "  3                   1300    83.55822  0.3291185  46.33730\n",
       "  3                   1700    83.33491  0.3345167  46.39840\n",
       "  3                   2100    83.16463  0.3391948  46.49942\n",
       "  3                   2500    83.06755  0.3419574  46.54309\n",
       "  3                   2900    82.90260  0.3458037  46.56530\n",
       "  3                   3300    82.85529  0.3476906  46.63662\n",
       "  3                   3700    82.69182  0.3511370  46.58836\n",
       "  3                   4100    82.64856  0.3526830  46.61875\n",
       "  3                   4500    82.59244  0.3542532  46.66156\n",
       "  3                   4900    82.58857  0.3551588  46.73176\n",
       "  3                   5300    82.55414  0.3561935  46.75701\n",
       "  3                   5700    82.59756  0.3563284  46.80137\n",
       "  3                   6100    82.58285  0.3569617  46.83854\n",
       "  3                   6500    82.60101  0.3572005  46.87580\n",
       "  3                   6900    82.61591  0.3573515  46.91118\n",
       "  3                   7300    82.61057  0.3577305  46.94188\n",
       "  3                   7700    82.65643  0.3575383  47.01545\n",
       "  3                   8100    82.67527  0.3577400  47.04866\n",
       "  3                   8500    82.66471  0.3580611  47.04837\n",
       "  3                   8900    82.72901  0.3576302  47.14697\n",
       "  3                   9300    82.70592  0.3581717  47.18340\n",
       "  3                   9700    82.70918  0.3583976  47.21482\n",
       "  3                  10100    82.75478  0.3581838  47.24761\n",
       "  3                  10500    82.75299  0.3583476  47.28552\n",
       "  3                  10900    82.76410  0.3585091  47.30284\n",
       "  5                    100    86.75852  0.2704032  45.78966\n",
       "  5                    500    83.04047  0.3339866  44.99122\n",
       "  5                    900    82.24464  0.3503370  45.11323\n",
       "  5                   1300    81.86737  0.3589632  45.08529\n",
       "  5                   1700    81.80636  0.3623673  45.17135\n",
       "  5                   2100    81.86050  0.3636399  45.30334\n",
       "  5                   2500    81.78391  0.3658813  45.30437\n",
       "  5                   2900    81.88397  0.3657505  45.37794\n",
       "  5                   3300    81.89748  0.3662747  45.43696\n",
       "  5                   3700    81.92802  0.3666985  45.49258\n",
       "  5                   4100    81.94261  0.3671508  45.52546\n",
       "  5                   4500    81.93554  0.3677457  45.57042\n",
       "  5                   4900    81.91757  0.3683441  45.56196\n",
       "  5                   5300    81.93753  0.3684469  45.60983\n",
       "  5                   5700    81.96456  0.3684200  45.65630\n",
       "  5                   6100    81.97518  0.3685284  45.66383\n",
       "  5                   6500    81.99606  0.3685043  45.70256\n",
       "  5                   6900    81.99514  0.3686825  45.72832\n",
       "  5                   7300    82.04639  0.3682185  45.76845\n",
       "  5                   7700    82.04705  0.3683228  45.79238\n",
       "  5                   8100    82.05649  0.3683232  45.80692\n",
       "  5                   8500    82.05976  0.3683418  45.82057\n",
       "  5                   8900    82.08105  0.3681657  45.84782\n",
       "  5                   9300    82.08678  0.3681599  45.86824\n",
       "  5                   9700    82.09800  0.3680795  45.87429\n",
       "  5                  10100    82.10789  0.3680147  45.88961\n",
       "  5                  10500    82.10278  0.3681275  45.89964\n",
       "  5                  10900    82.10488  0.3681487  45.91136\n",
       "\n",
       "Tuning parameter 'shrinkage' was held constant at a value of 0.1\n",
       "\n",
       "Tuning parameter 'n.minobsinnode' was held constant at a value of 10\n",
       "RMSE was used to select the optimal model using the smallest value.\n",
       "The final values used for the model were n.trees = 2500, interaction.depth =\n",
       " 5, shrinkage = 0.1 and n.minobsinnode = 10."
      ]
     },
     "metadata": {},
     "output_type": "display_data"
    }
   ],
   "source": [
    "gbm_model\n",
    "capture.output(gbm_model, file = \"01 - ML Algorithms/01 - ML - GBM/00-GBM_Algorithm_Output.txt\")"
   ]
  },
  {
   "cell_type": "code",
   "execution_count": 30,
   "metadata": {},
   "outputs": [
    {
     "data": {
      "text/plain": [
       "   user  system elapsed \n",
       "  17.75    0.08  831.92 "
      ]
     },
     "metadata": {},
     "output_type": "display_data"
    }
   ],
   "source": [
    "gbm_time\n",
    "capture.output(gbm_time, file = \"01 - ML Algorithms/01 - ML - GBM/01-GBM_Algorithm_Time_Output.txt\")"
   ]
  },
  {
   "cell_type": "code",
   "execution_count": 31,
   "metadata": {},
   "outputs": [
    {
     "data": {
      "text/plain": [
       "train.formula(form = Appliances ~ ., data = new_test_data_set[, \n",
       "    c(2:37)], method = \"gbm\", metric = \"RMSE\", trControl = fitControl, \n",
       "    bag.fraction = 0.5, tuneGrid = gbmGrid)"
      ]
     },
     "metadata": {},
     "output_type": "display_data"
    }
   ],
   "source": [
    "gbm_model$call\n",
    "capture.output(gbm_model, file = \"01 - ML Algorithms/01 - ML - GBM/02-GBM_Algorithm_Model_Output.txt\")"
   ]
  },
  {
   "cell_type": "code",
   "execution_count": 45,
   "metadata": {},
   "outputs": [
    {
     "data": {},
     "metadata": {},
     "output_type": "display_data"
    },
    {
     "data": {},
     "metadata": {},
     "output_type": "display_data"
    },
    {
     "data": {
      "text/html": [
       "<strong>png:</strong> 2"
      ],
      "text/latex": [
       "\\textbf{png:} 2"
      ],
      "text/markdown": [
       "**png:** 2"
      ],
      "text/plain": [
       "png \n",
       "  2 "
      ]
     },
     "metadata": {},
     "output_type": "display_data"
    },
    {
     "data": {
      "image/png": "[encoded data removed]",
      "text/plain": [
       "plot without title"
      ]
     },
     "metadata": {},
     "output_type": "display_data"
    }
   ],
   "source": [
    "plot(gbm_model)\n",
    "\n",
    "png('01 - ML Algorithms/01 - ML - GBM/03-GBM_Algorithm_Plot.png',width = 8, height = 6, units = 'in', res = 300)\n",
    "plot(gbm_model)\n",
    "dev.off()"
   ]
  },
  {
   "cell_type": "code",
   "execution_count": 47,
   "metadata": {},
   "outputs": [
    {
     "data": {
      "text/plain": [
       "gbm variable importance\n",
       "\n",
       "  only 20 most important variables shown (out of 35)\n",
       "\n",
       "            Overall\n",
       "NSM          100.00\n",
       "T3            54.09\n",
       "RH_1          44.20\n",
       "RH_2          42.87\n",
       "RH_3          42.51\n",
       "RH_7          40.80\n",
       "Press_mm_hg   36.66\n",
       "RH_8          33.08\n",
       "RH_5          31.15\n",
       "T8            30.80\n",
       "rv1           30.71\n",
       "RH_9          30.66\n",
       "T4            29.06\n",
       "RH_out        28.82\n",
       "T9            27.95\n",
       "RH_4          26.97\n",
       "T5            26.60\n",
       "T6            24.45\n",
       "RH_6          24.12\n",
       "T7            24.03"
      ]
     },
     "metadata": {},
     "output_type": "display_data"
    }
   ],
   "source": [
    "varImp(gbm_model)\n",
    "capture.output(varImp(gbm_model), \n",
    "               file = \"01 - ML Algorithms/01 - ML - GBM/04-GBM_Algorithm_Feature_Importance_Output.txt\")"
   ]
  },
  {
   "cell_type": "code",
   "execution_count": 48,
   "metadata": {},
   "outputs": [
    {
     "data": {},
     "metadata": {},
     "output_type": "display_data"
    },
    {
     "data": {},
     "metadata": {},
     "output_type": "display_data"
    },
    {
     "data": {
      "text/html": [
       "<strong>png:</strong> 2"
      ],
      "text/latex": [
       "\\textbf{png:} 2"
      ],
      "text/markdown": [
       "**png:** 2"
      ],
      "text/plain": [
       "png \n",
       "  2 "
      ]
     },
     "metadata": {},
     "output_type": "display_data"
    },
    {
     "data": {
      "image/png": "[encoded data removed]",
      "text/plain": [
       "plot without title"
      ]
     },
     "metadata": {},
     "output_type": "display_data"
    }
   ],
   "source": [
    "plot(varImp(gbm_model))\n",
    "png('01 - ML Algorithms/01 - ML - GBM/05-GBM_Algorithm_Feature_Importance_Plot.png',width = 8, height = 6, units = 'in', res = 300)\n",
    "plot(varImp(gbm_model))\n",
    "dev.off()"
   ]
  },
  {
   "cell_type": "markdown",
   "metadata": {},
   "source": [
    "### Linear Regression Model (LM)\n",
    "#### 2nd ML Algorithm used for regression\n",
    "\n",
    "**Source:** https://en.wikipedia.org/wiki/Linear_regression\n",
    "\n",
    "In statistics, linear regression is a linear approach to modelling the relationship between a scalar response (or dependent variable) and one or more explanatory variables (or independent variables). The case of one explanatory variable is called simple linear regression. For more than one explanatory variable, the process is called multiple linear regression.[1] This term is distinct from multivariate linear regression, where multiple correlated dependent variables are predicted, rather than a single scalar variable.[2]\n",
    "\n",
    "In linear regression, the relationships are modeled using linear predictor functions whose unknown model parameters are estimated from the data. Such models are called linear models.[3] Most commonly, the conditional mean of the response given the values of the explanatory variables (or predictors) is assumed to be an affine function of those values; less commonly, the conditional median or some other quantile is used. Like all forms of regression analysis, linear regression focuses on the conditional probability distribution of the response given the values of the predictors, rather than on the joint probability distribution of all of these variables, which is the domain of multivariate analysis.\n",
    "\n",
    "Linear regression was the first type of regression analysis to be studied rigorously, and to be used extensively in practical applications.[4] This is because models which depend linearly on their unknown parameters are easier to fit than models which are non-linearly related to their parameters and because the statistical properties of the resulting estimators are easier to determine. "
   ]
  },
  {
   "cell_type": "code",
   "execution_count": 33,
   "metadata": {},
   "outputs": [
    {
     "name": "stdout",
     "output_type": "stream",
     "text": [
      "Aggregating results\n",
      "Fitting final model on full training set\n"
     ]
    }
   ],
   "source": [
    "lmcvFit <- train(Appliances~., data=new_test_data_set[,c(2:37)],  method=\"lm\",trControl = fitControl,\n",
    "                 metric='RMSE')"
   ]
  },
  {
   "cell_type": "code",
   "execution_count": 35,
   "metadata": {},
   "outputs": [
    {
     "data": {
      "text/plain": [
       "Linear Regression \n",
       "\n",
       "4932 samples\n",
       "  35 predictor\n",
       "\n",
       "No pre-processing\n",
       "Resampling: Cross-Validated (10 fold, repeated 3 times) \n",
       "Summary of sample sizes: 4438, 4439, 4438, 4439, 4439, 4439, ... \n",
       "Resampling results:\n",
       "\n",
       "  RMSE      Rsquared   MAE     \n",
       "  93.33031  0.1565581  52.09432\n",
       "\n",
       "Tuning parameter 'intercept' was held constant at a value of TRUE"
      ]
     },
     "metadata": {},
     "output_type": "display_data"
    }
   ],
   "source": [
    "lmcvFit\n",
    "capture.output(lmcvFit, file = \"01 - ML Algorithms/02 - ML - LM//00-LM_Algorithm_Output.txt\")"
   ]
  },
  {
   "cell_type": "code",
   "execution_count": 36,
   "metadata": {},
   "outputs": [
    {
     "data": {
      "text/plain": [
       "\n",
       "Call:\n",
       "lm(formula = .outcome ~ ., data = dat)\n",
       "\n",
       "Residuals:\n",
       "    Min      1Q  Median      3Q     Max \n",
       "-173.37  -43.27  -18.32    7.67  930.66 \n",
       "\n",
       "Coefficients: (3 not defined because of singularities)\n",
       "                      Estimate Std. Error t value Pr(>|t|)    \n",
       "(Intercept)          7.537e+01  1.926e+02   0.391 0.695558    \n",
       "lights               2.056e+00  1.927e-01  10.670  < 2e-16 ***\n",
       "T1                  -1.462e-01  3.740e+00  -0.039 0.968825    \n",
       "RH_1                 1.436e+01  1.350e+00  10.638  < 2e-16 ***\n",
       "T2                  -1.869e+01  3.247e+00  -5.756 9.13e-09 ***\n",
       "RH_2                -1.257e+01  1.541e+00  -8.157 4.32e-16 ***\n",
       "T3                   1.967e+01  2.135e+00   9.215  < 2e-16 ***\n",
       "RH_3                 4.765e+00  1.358e+00   3.509 0.000454 ***\n",
       "T4                  -1.376e+00  2.169e+00  -0.635 0.525644    \n",
       "RH_4                -4.360e-01  1.266e+00  -0.344 0.730550    \n",
       "T5                   3.506e+00  2.355e+00   1.489 0.136557    \n",
       "RH_5                -6.508e-02  1.753e-01  -0.371 0.710404    \n",
       "T6                   7.862e+00  1.285e+00   6.120 1.01e-09 ***\n",
       "RH_6                 9.910e-02  1.358e-01   0.730 0.465624    \n",
       "T7                  -5.256e-01  2.717e+00  -0.193 0.846641    \n",
       "RH_7                -4.485e-01  8.566e-01  -0.524 0.600556    \n",
       "T8                   6.788e+00  2.059e+00   3.296 0.000987 ***\n",
       "RH_8                -4.919e+00  7.783e-01  -6.320 2.84e-10 ***\n",
       "T9                  -1.241e+01  3.600e+00  -3.448 0.000569 ***\n",
       "RH_9                 2.977e-01  8.334e-01   0.357 0.720988    \n",
       "T_out               -9.295e+00  3.065e+00  -3.032 0.002441 ** \n",
       "Press_mm_hg          2.401e-03  2.169e-01   0.011 0.991168    \n",
       "RH_out              -5.008e-01  6.341e-01  -0.790 0.429622    \n",
       "Windspeed            1.681e+00  6.944e-01   2.421 0.015517 *  \n",
       "Visibility           2.379e-01  1.161e-01   2.049 0.040476 *  \n",
       "Tdewpoint            1.749e+00  2.985e+00   0.586 0.558031    \n",
       "rv1                 -3.325e-02  9.139e-02  -0.364 0.715972    \n",
       "rv2                         NA         NA      NA       NA    \n",
       "NSM                  2.778e-04  7.775e-05   3.573 0.000357 ***\n",
       "WeekStatusWeekday   -9.808e-02  4.560e+00  -0.022 0.982840    \n",
       "WeekStatusWeekend           NA         NA      NA       NA    \n",
       "Day_of_weekFriday    2.336e+01  4.590e+00   5.089 3.73e-07 ***\n",
       "Day_of_weekMonday    7.493e+00  4.450e+00   1.684 0.092264 .  \n",
       "Day_of_weekSaturday  1.943e+01  5.169e+00   3.758 0.000173 ***\n",
       "Day_of_weekSunday           NA         NA      NA       NA    \n",
       "Day_of_weekThursday -4.439e+00  4.316e+00  -1.029 0.303671    \n",
       "---\n",
       "Signif. codes:  0 '***' 0.001 '**' 0.01 '*' 0.05 '.' 0.1 ' ' 1\n",
       "\n",
       "Residual standard error: 93.13 on 4899 degrees of freedom\n",
       "Multiple R-squared:  0.1655,\tAdjusted R-squared:  0.1601 \n",
       "F-statistic: 30.36 on 32 and 4899 DF,  p-value: < 2.2e-16\n"
      ]
     },
     "metadata": {},
     "output_type": "display_data"
    }
   ],
   "source": [
    "summary(lmcvFit)\n",
    "capture.output(summary(lmcvFit), file = \"01 - ML Algorithms/02 - ML - LM//01-LM_Algorithm_Summary_Output.txt\")"
   ]
  },
  {
   "cell_type": "code",
   "execution_count": 42,
   "metadata": {},
   "outputs": [
    {
     "name": "stderr",
     "output_type": "stream",
     "text": [
      "Warning message in predict.lm(modelFit, newdata):\n",
      "\"prediction from a rank-deficient fit may be misleading\""
     ]
    },
    {
     "data": {
      "text/html": [
       "<strong>png:</strong> 2"
      ],
      "text/latex": [
       "\\textbf{png:} 2"
      ],
      "text/markdown": [
       "**png:** 2"
      ],
      "text/plain": [
       "png \n",
       "  2 "
      ]
     },
     "metadata": {},
     "output_type": "display_data"
    },
    {
     "data": {
      "image/png": "[encoded data removed]",
      "text/plain": [
       "plot without title"
      ]
     },
     "metadata": {},
     "output_type": "display_data"
    }
   ],
   "source": [
    "residuals <- resid(lmcvFit)\n",
    "predictedValues <- predict(lmcvFit)\n",
    "\n",
    "plot(new_test_data_set$Appliances,residuals,xlab=\"Appliances Energy Consumption\", ylab=\"Residuals\")\n",
    "\n",
    "png('01 - ML Algorithms/02 - ML - LM/02-LM_Algorithm_Plot.png',width = 8, height = 6, units = 'in', res = 300)\n",
    "plot(new_test_data_set$Appliances,residuals,xlab=\"Appliances Energy Consumption\", ylab=\"Residuals\")\n",
    "abline(0,0)\n",
    "dev.off()"
   ]
  },
  {
   "cell_type": "code",
   "execution_count": 43,
   "metadata": {},
   "outputs": [
    {
     "data": {
      "text/plain": [
       "\n",
       "Call:\n",
       "lm(formula = .outcome ~ ., data = dat)\n",
       "\n",
       "Coefficients:\n",
       "        (Intercept)               lights                   T1  \n",
       "          7.537e+01            2.056e+00           -1.462e-01  \n",
       "               RH_1                   T2                 RH_2  \n",
       "          1.436e+01           -1.869e+01           -1.257e+01  \n",
       "                 T3                 RH_3                   T4  \n",
       "          1.967e+01            4.765e+00           -1.376e+00  \n",
       "               RH_4                   T5                 RH_5  \n",
       "         -4.360e-01            3.506e+00           -6.508e-02  \n",
       "                 T6                 RH_6                   T7  \n",
       "          7.862e+00            9.910e-02           -5.256e-01  \n",
       "               RH_7                   T8                 RH_8  \n",
       "         -4.485e-01            6.788e+00           -4.919e+00  \n",
       "                 T9                 RH_9                T_out  \n",
       "         -1.241e+01            2.977e-01           -9.295e+00  \n",
       "        Press_mm_hg               RH_out            Windspeed  \n",
       "          2.401e-03           -5.008e-01            1.681e+00  \n",
       "         Visibility            Tdewpoint                  rv1  \n",
       "          2.379e-01            1.749e+00           -3.325e-02  \n",
       "                rv2                  NSM    WeekStatusWeekday  \n",
       "                 NA            2.778e-04           -9.808e-02  \n",
       "  WeekStatusWeekend    Day_of_weekFriday    Day_of_weekMonday  \n",
       "                 NA            2.336e+01            7.493e+00  \n",
       "Day_of_weekSaturday    Day_of_weekSunday  Day_of_weekThursday  \n",
       "          1.943e+01                   NA           -4.439e+00  \n"
      ]
     },
     "metadata": {},
     "output_type": "display_data"
    }
   ],
   "source": [
    "lmcvFit$finalModel\n",
    "capture.output(lmcvFit$finalModel, \n",
    "               file = \"01 - ML Algorithms/02 - ML - LM//03-LM_Algorithm_Final_Model_Output.txt\")"
   ]
  },
  {
   "cell_type": "code",
   "execution_count": 44,
   "metadata": {},
   "outputs": [
    {
     "data": {
      "text/plain": [
       "lm variable importance\n",
       "\n",
       "  only 20 most important variables shown (out of 32)\n",
       "\n",
       "                    Overall\n",
       "lights              100.000\n",
       "RH_1                 99.699\n",
       "T3                   86.351\n",
       "RH_2                 76.426\n",
       "RH_8                 59.195\n",
       "T6                   57.315\n",
       "T2                   53.902\n",
       "Day_of_weekFriday    47.644\n",
       "Day_of_weekSaturday  35.157\n",
       "NSM                  33.416\n",
       "RH_3                 32.818\n",
       "T9                   32.247\n",
       "T8                   30.822\n",
       "T_out                28.344\n",
       "Windspeed            22.610\n",
       "Visibility           19.124\n",
       "Day_of_weekMonday    15.695\n",
       "T5                   13.866\n",
       "Day_of_weekThursday   9.548\n",
       "RH_out                7.307"
      ]
     },
     "metadata": {},
     "output_type": "display_data"
    }
   ],
   "source": [
    "varImp(lmcvFit)\n",
    "capture.output(varImp(lmcvFit), \n",
    "               file = \"01 - ML Algorithms/02 - ML - LM//04-LM_Algorithm_Feature_Importance_Output.txt\")"
   ]
  },
  {
   "cell_type": "code",
   "execution_count": 49,
   "metadata": {},
   "outputs": [
    {
     "data": {},
     "metadata": {},
     "output_type": "display_data"
    },
    {
     "data": {},
     "metadata": {},
     "output_type": "display_data"
    },
    {
     "data": {
      "text/html": [
       "<strong>png:</strong> 2"
      ],
      "text/latex": [
       "\\textbf{png:} 2"
      ],
      "text/markdown": [
       "**png:** 2"
      ],
      "text/plain": [
       "png \n",
       "  2 "
      ]
     },
     "metadata": {},
     "output_type": "display_data"
    },
    {
     "data": {
      "image/png": "[encoded data removed]",
      "text/plain": [
       "plot without title"
      ]
     },
     "metadata": {},
     "output_type": "display_data"
    }
   ],
   "source": [
    "plot(varImp(lmcvFit))\n",
    "png('01 - ML Algorithms/02 - ML - LM/05-LM_Algorithm_Feature_Importance_Plot.png',width = 8, height = 6, units = 'in', res = 300)\n",
    "plot(varImp(lmcvFit))\n",
    "dev.off()"
   ]
  },
  {
   "cell_type": "markdown",
   "metadata": {},
   "source": [
    "### Support Vector Machine Model (SVM)\n",
    "#### 3rd ML Algorithm used for regression\n",
    "\n",
    "**Source:** https://en.wikipedia.org/wiki/Support_vector_machine\n",
    "\n",
    "In machine learning, support vector machines (SVMs, also support vector networks[1]) are supervised learning models with associated learning algorithms that analyze data used for classification and regression analysis. Given a set of training examples, each marked as belonging to one or the other of two categories, an SVM training algorithm builds a model that assigns new examples to one category or the other, making it a non-probabilistic binary linear classifier (although methods such as Platt scaling exist to use SVM in a probabilistic classification setting). An SVM model is a representation of the examples as points in space, mapped so that the examples of the separate categories are divided by a clear gap that is as wide as possible. New examples are then mapped into that same space and predicted to belong to a category based on which side of the gap they fall.\n",
    "\n",
    "In addition to performing linear classification, SVMs can efficiently perform a non-linear classification using what is called the kernel trick, implicitly mapping their inputs into high-dimensional feature spaces.\n",
    "\n",
    "When data is unlabelled, supervised learning is not possible, and an unsupervised learning approach is required, which attempts to find natural clustering of the data to groups, and then map new data to these formed groups. The support vector clustering[2] algorithm, created by Hava Siegelmann and Vladimir Vapnik, applies the statistics of support vectors, developed in the support vector machines algorithm, to categorize unlabeled data, and is one of the most widely used clustering algorithms in industrial applications.[citation needed] "
   ]
  },
  {
   "cell_type": "code",
   "execution_count": 53,
   "metadata": {},
   "outputs": [
    {
     "data": {
      "text/html": [
       "8"
      ],
      "text/latex": [
       "8"
      ],
      "text/markdown": [
       "8"
      ],
      "text/plain": [
       "[1] 8"
      ]
     },
     "metadata": {},
     "output_type": "display_data"
    }
   ],
   "source": [
    "#include the appropriate libraries\n",
    "suppressWarnings(library(caret))\n",
    "\n",
    "grid <- expand.grid(sigma = c(0.35,0.4,0.1),\n",
    "                     C = c(1,3.0,5.0,8.0,10,12))\n",
    "\n",
    "set.seed(1)\n",
    "registerDoParallel(8)\n",
    "getDoParWorkers()\n",
    "\n",
    "ptm <- proc.time()"
   ]
  },
  {
   "cell_type": "code",
   "execution_count": 54,
   "metadata": {},
   "outputs": [
    {
     "name": "stdout",
     "output_type": "stream",
     "text": [
      "Aggregating results\n",
      "Selecting tuning parameters\n",
      "Fitting sigma = 0.1, C = 3 on full training set\n"
     ]
    }
   ],
   "source": [
    "svm_model <- train(Appliances~., data=new_test_data_set[,c(2:37)],  method=\"svmRadial\",\n",
    "                    metric='RMSE',trControl = fitControl, preProc=c(\"center\",\"scale\"),\n",
    "                    tuneGrid = grid)\n",
    "svm_time <- proc.time() - ptm"
   ]
  },
  {
   "cell_type": "code",
   "execution_count": 55,
   "metadata": {},
   "outputs": [
    {
     "data": {
      "text/plain": [
       "Support Vector Machines with Radial Basis Function Kernel \n",
       "\n",
       "4932 samples\n",
       "  35 predictor\n",
       "\n",
       "Pre-processing: centered (35), scaled (35) \n",
       "Resampling: Cross-Validated (10 fold, repeated 3 times) \n",
       "Summary of sample sizes: 4438, 4440, 4439, 4439, 4438, 4440, ... \n",
       "Resampling results across tuning parameters:\n",
       "\n",
       "  sigma  C   RMSE      Rsquared   MAE     \n",
       "  0.10    1  87.54872  0.3082928  38.77485\n",
       "  0.10    3  84.22327  0.3224430  40.02052\n",
       "  0.10    5  84.61816  0.3150681  41.59468\n",
       "  0.10    8  86.09750  0.3036987  43.49018\n",
       "  0.10   10  86.99289  0.2981997  44.43602\n",
       "  0.10   12  87.92784  0.2928939  45.25123\n",
       "  0.35    1  89.44660  0.2785370  41.34733\n",
       "  0.35    3  86.69769  0.2744319  43.81517\n",
       "  0.35    5  87.86944  0.2597536  45.45727\n",
       "  0.35    8  89.44333  0.2470418  46.67459\n",
       "  0.35   10  89.89220  0.2438363  47.02704\n",
       "  0.35   12  90.19455  0.2417574  47.23218\n",
       "  0.40    1  90.06822  0.2701371  41.87870\n",
       "  0.40    3  87.29789  0.2644835  44.46103\n",
       "  0.40    5  88.29104  0.2511562  46.01812\n",
       "  0.40    8  89.61489  0.2400606  47.04129\n",
       "  0.40   10  89.95049  0.2376014  47.30845\n",
       "  0.40   12  90.14310  0.2361303  47.44830\n",
       "\n",
       "RMSE was used to select the optimal model using the smallest value.\n",
       "The final values used for the model were sigma = 0.1 and C = 3."
      ]
     },
     "metadata": {},
     "output_type": "display_data"
    }
   ],
   "source": [
    "svm_model\n",
    "capture.output(svm_model, \n",
    "                   file = \"01 - ML Algorithms/03 - ML - SVM/00-SVM_Algorithm_Output.txt\")"
   ]
  },
  {
   "cell_type": "code",
   "execution_count": 56,
   "metadata": {},
   "outputs": [
    {
     "data": {
      "text/plain": [
       "   user  system elapsed \n",
       "   5.39    0.29  634.41 "
      ]
     },
     "metadata": {},
     "output_type": "display_data"
    }
   ],
   "source": [
    "svm_time\n",
    "capture.output(svm_model, \n",
    "                   file = \"01 - ML Algorithms/03 - ML - SVM/01-SVM_Algorithm_Time_Output.txt\")"
   ]
  },
  {
   "cell_type": "code",
   "execution_count": 60,
   "metadata": {},
   "outputs": [
    {
     "data": {},
     "metadata": {},
     "output_type": "display_data"
    },
    {
     "data": {},
     "metadata": {},
     "output_type": "display_data"
    },
    {
     "data": {
      "text/html": [
       "<strong>png:</strong> 2"
      ],
      "text/latex": [
       "\\textbf{png:} 2"
      ],
      "text/markdown": [
       "**png:** 2"
      ],
      "text/plain": [
       "png \n",
       "  2 "
      ]
     },
     "metadata": {},
     "output_type": "display_data"
    },
    {
     "data": {
      "image/png": "[encoded data removed]",
      "text/plain": [
       "plot without title"
      ]
     },
     "metadata": {},
     "output_type": "display_data"
    }
   ],
   "source": [
    "plot(svm_model)\n",
    "png('01 - ML Algorithms/03 - ML - SVM/02-SVM_Algorithm_Plot.png',width=8, height=6, units='in', res=300)\n",
    "plot(svm_model)\n",
    "dev.off()"
   ]
  },
  {
   "cell_type": "code",
   "execution_count": 61,
   "metadata": {},
   "outputs": [
    {
     "data": {
      "text/plain": [
       "loess r-squared variable importance\n",
       "\n",
       "  only 20 most important variables shown (out of 35)\n",
       "\n",
       "                  Overall\n",
       "NSM               100.000\n",
       "lights             86.915\n",
       "RH_out             42.854\n",
       "RH_6               30.976\n",
       "RH_8               30.290\n",
       "RH_1               27.047\n",
       "T6                 24.779\n",
       "T2                 23.177\n",
       "RH_7               22.213\n",
       "Windspeed          17.772\n",
       "T_out              16.826\n",
       "RH_3               16.239\n",
       "RH_2               15.285\n",
       "T8                 11.906\n",
       "RH_5               11.288\n",
       "RH_9               11.041\n",
       "RH_4                8.498\n",
       "Press_mm_hg         7.503\n",
       "T3                  7.322\n",
       "Day_of_weekMonday   5.372"
      ]
     },
     "metadata": {},
     "output_type": "display_data"
    }
   ],
   "source": [
    "varImp(svm_model)\n",
    "capture.output(varImp(svm_model), \n",
    "               file = \"01 - ML Algorithms/03 - ML - SVM/03-SVM_Algorithm_Feature_Importance_Output.txt\")"
   ]
  },
  {
   "cell_type": "code",
   "execution_count": 62,
   "metadata": {},
   "outputs": [
    {
     "data": {},
     "metadata": {},
     "output_type": "display_data"
    },
    {
     "data": {},
     "metadata": {},
     "output_type": "display_data"
    },
    {
     "data": {
      "text/html": [
       "<strong>png:</strong> 2"
      ],
      "text/latex": [
       "\\textbf{png:} 2"
      ],
      "text/markdown": [
       "**png:** 2"
      ],
      "text/plain": [
       "png \n",
       "  2 "
      ]
     },
     "metadata": {},
     "output_type": "display_data"
    },
    {
     "data": {
      "image/png": "[encoded data removed]",
      "text/plain": [
       "plot without title"
      ]
     },
     "metadata": {},
     "output_type": "display_data"
    }
   ],
   "source": [
    "plot(varImp(svm_model))\n",
    "png('01 - ML Algorithms/03 - ML - SVM/04-SVM_Algorithm_Feature_Importance_Plot.png',\n",
    "    width=8, height=6, units='in', res=300)\n",
    "plot(varImp(svm_model))\n",
    "dev.off()"
   ]
  },
  {
   "cell_type": "markdown",
   "metadata": {},
   "source": [
    "### Random Forest Model (RF)\n",
    "#### 4th ML Algorithm used for regression\n",
    "\n",
    "**Source:** https://en.wikipedia.org/wiki/Random_forest\n",
    "\n",
    "Random forests or random decision forests are an ensemble learning method for classification, regression and other tasks that operates by constructing a multitude of decision trees at training time and outputting the class that is the mode of the classes (classification) or mean prediction (regression) of the individual trees.[1][2] Random decision forests correct for decision trees' habit of overfitting to their training set.[3]:587–588\n",
    "\n",
    "The first algorithm for random decision forests was created by Tin Kam Ho[1] using the random subspace method,[2] which, in Ho's formulation, is a way to implement the \"stochastic discrimination\" approach to classification proposed by Eugene Kleinberg.[4][5][6]\n",
    "\n",
    "An extension of the algorithm was developed by Leo Breiman[7] and Adele Cutler,[8] and \"Random Forests\" is their trademark.[9] The extension combines Breiman's \"bagging\" idea and random selection of features, introduced first by Ho[1] and later independently by Amit and Geman[10] in order to construct a collection of decision trees with controlled variance. "
   ]
  },
  {
   "cell_type": "code",
   "execution_count": 63,
   "metadata": {},
   "outputs": [
    {
     "data": {
      "text/html": [
       "8"
      ],
      "text/latex": [
       "8"
      ],
      "text/markdown": [
       "8"
      ],
      "text/plain": [
       "[1] 8"
      ]
     },
     "metadata": {},
     "output_type": "display_data"
    }
   ],
   "source": [
    "fitControl <- trainControl(method = \"repeatedcv\", # cv\n",
    "                           number=10,repeats=3,  # 10  # 10,3\n",
    "                           verboseIter = TRUE,returnResamp = \"all\")\n",
    "set.seed(1)\n",
    "registerDoParallel(8)\n",
    "getDoParWorkers()\n",
    "\n",
    "ptm <- proc.time()"
   ]
  },
  {
   "cell_type": "code",
   "execution_count": 64,
   "metadata": {},
   "outputs": [
    {
     "name": "stdout",
     "output_type": "stream",
     "text": [
      "Aggregating results\n",
      "Selecting tuning parameters\n",
      "Fitting mtry = 18 on full training set\n"
     ]
    }
   ],
   "source": [
    "rf_model <- train(Appliances~., data=new_test_data_set[,c(2:37)],\n",
    "                    method=\"rf\",metric='RMSE',\n",
    "                    trControl=fitControl,importance = TRUE )\n",
    "\n",
    "rf_model_time <- proc.time() - ptm"
   ]
  },
  {
   "cell_type": "code",
   "execution_count": 65,
   "metadata": {},
   "outputs": [
    {
     "data": {
      "text/plain": [
       "Random Forest \n",
       "\n",
       "4932 samples\n",
       "  35 predictor\n",
       "\n",
       "No pre-processing\n",
       "Resampling: Cross-Validated (10 fold, repeated 3 times) \n",
       "Summary of sample sizes: 4438, 4440, 4439, 4439, 4438, 4440, ... \n",
       "Resampling results across tuning parameters:\n",
       "\n",
       "  mtry  RMSE      Rsquared   MAE     \n",
       "   2    80.31819  0.3963886  41.11157\n",
       "  18    79.79774  0.3831336  40.90194\n",
       "  35    80.46940  0.3734369  41.19948\n",
       "\n",
       "RMSE was used to select the optimal model using the smallest value.\n",
       "The final value used for the model was mtry = 18."
      ]
     },
     "metadata": {},
     "output_type": "display_data"
    }
   ],
   "source": [
    "rf_model\n",
    "capture.output(rf_model, \n",
    "               file=\"01 - ML Algorithms/04 - ML - RF/00-RF_Algorithm_Output.txt\")"
   ]
  },
  {
   "cell_type": "code",
   "execution_count": 66,
   "metadata": {},
   "outputs": [
    {
     "data": {
      "text/plain": [
       "   user  system elapsed \n",
       "  54.51    0.03 1075.87 "
      ]
     },
     "metadata": {},
     "output_type": "display_data"
    }
   ],
   "source": [
    "rf_model_time\n",
    "capture.output(rf_model_time, \n",
    "               file=\"01 - ML Algorithms/04 - ML - RF/01-RF_Algorithm_Time_Output.txt\")"
   ]
  },
  {
   "cell_type": "code",
   "execution_count": 84,
   "metadata": {},
   "outputs": [
    {
     "data": {
      "text/html": [
       "<strong>png:</strong> 3"
      ],
      "text/latex": [
       "\\textbf{png:} 3"
      ],
      "text/markdown": [
       "**png:** 3"
      ],
      "text/plain": [
       "png \n",
       "  3 "
      ]
     },
     "metadata": {},
     "output_type": "display_data"
    },
    {
     "name": "stderr",
     "output_type": "stream",
     "text": [
      "Saving 8 x 6 in image\n"
     ]
    },
    {
     "data": {
      "image/png": "[encoded data removed]"
     },
     "metadata": {},
     "output_type": "display_data"
    }
   ],
   "source": [
    "#plot(rf_model)\n",
    "#png('01 - ML Algorithms/04 - ML - RF/02-RF_Algorithm_Plot.png',width=8, height=6, units='in', res=300)\n",
    "#plot(rf_model)\n",
    "#dev.off()\n",
    "\n",
    "#Include Libraries Needed\n",
    "suppressWarnings(library(gridBase))\n",
    "suppressWarnings(library(gridExtra))\n",
    "suppressWarnings(library(lattice))\n",
    "suppressWarnings(library(IRdisplay))\n",
    "\n",
    "x <- 1:500\n",
    "y <- sqrt(rf_model$finalModel$mse)\n",
    "n_trees <- xyplot(y ~ x, \n",
    "                  ylab=\"RMSE\", \n",
    "                  xlab=\"Number of Trees\")\n",
    "dev.off()\n",
    "\n",
    "rf_g <- plot(1:500,\n",
    "             sqrt(rf_model$finalModel$mse),\n",
    "             type='l',\n",
    "             col='blue',\n",
    "             axes=TRUE,\n",
    "             xlab=\"Number of Trees\",\n",
    "             ylab=\"RMSE\")\n",
    "\n",
    "tress_g <- plot(rf_model)\n",
    "\n",
    "panel_plot <- grid.arrange(n_trees, tress_g,ncol=2)\n",
    "\n",
    "ggsave(file=\"01 - ML Algorithms/04 - ML - RF/02-RF_Algorithm_Plot.png\", panel_plot)\n",
    "\n",
    "display_png(file=\"01 - ML Algorithms/04 - ML - RF/02-RF_Algorithm_Plot.png\")"
   ]
  },
  {
   "cell_type": "code",
   "execution_count": 69,
   "metadata": {},
   "outputs": [
    {
     "data": {
      "text/plain": [
       "rf variable importance\n",
       "\n",
       "  only 20 most important variables shown (out of 35)\n",
       "\n",
       "                  Overall\n",
       "NSM                100.00\n",
       "lights              49.82\n",
       "Press_mm_hg         42.70\n",
       "T3                  39.12\n",
       "T8                  32.58\n",
       "RH_1                30.80\n",
       "RH_5                30.19\n",
       "Tdewpoint           29.57\n",
       "RH_3                29.10\n",
       "T5                  27.27\n",
       "T4                  27.00\n",
       "T9                  26.64\n",
       "T7                  26.29\n",
       "T_out               26.09\n",
       "RH_9                22.57\n",
       "T1                  22.41\n",
       "T2                  21.24\n",
       "Day_of_weekFriday   21.12\n",
       "Visibility          21.05\n",
       "RH_7                20.96"
      ]
     },
     "metadata": {},
     "output_type": "display_data"
    }
   ],
   "source": [
    "varImp(rf_model)\n",
    "capture.output(varImp(rf_model), \n",
    "               file=\"01 - ML Algorithms/04 - ML - RF/03-RF_Algorithm_Feature_Importance_Output.txt\")"
   ]
  },
  {
   "cell_type": "code",
   "execution_count": 71,
   "metadata": {},
   "outputs": [
    {
     "data": {},
     "metadata": {},
     "output_type": "display_data"
    },
    {
     "data": {},
     "metadata": {},
     "output_type": "display_data"
    },
    {
     "data": {
      "text/html": [
       "<strong>png:</strong> 2"
      ],
      "text/latex": [
       "\\textbf{png:} 2"
      ],
      "text/markdown": [
       "**png:** 2"
      ],
      "text/plain": [
       "png \n",
       "  2 "
      ]
     },
     "metadata": {},
     "output_type": "display_data"
    },
    {
     "data": {
      "image/png": "[encoded data removed]",
      "text/plain": [
       "plot without title"
      ]
     },
     "metadata": {},
     "output_type": "display_data"
    }
   ],
   "source": [
    "plot(varImp(rf_model))\n",
    "png('01 - ML Algorithms/04 - ML - RF/04-RF_Algorithm_Feature_Importance_Plot.png',\n",
    "    width=8, height=6, units='in', res=300)\n",
    "plot(varImp(rf_model))\n",
    "dev.off()"
   ]
  },
  {
   "cell_type": "markdown",
   "metadata": {},
   "source": [
    "### ML Performance Comparison\n",
    "#### Table and graphics to display performance results"
   ]
  },
  {
   "cell_type": "code",
   "execution_count": 85,
   "metadata": {},
   "outputs": [
    {
     "name": "stderr",
     "output_type": "stream",
     "text": [
      "Warning message in resamples.default(list(SVM_Radial = svm_model, GBM = gbm_model, :\n",
      "\"'SVM_Radial' did not have 'returnResamp=\"final\"; the optimal tuning parameters are used\"Warning message in resamples.default(list(SVM_Radial = svm_model, GBM = gbm_model, :\n",
      "\"'GBM' did not have 'returnResamp=\"final\"; the optimal tuning parameters are used\"Warning message in resamples.default(list(SVM_Radial = svm_model, GBM = gbm_model, :\n",
      "\"'Lm' did not have 'returnResamp=\"final\"; the optimal tuning parameters are used\"Warning message in resamples.default(list(SVM_Radial = svm_model, GBM = gbm_model, :\n",
      "\"'RF' did not have 'returnResamp=\"final\"; the optimal tuning parameters are used\""
     ]
    }
   ],
   "source": [
    "rvalues <- resamples(list(SVM_Radial=svm_model,GBM=gbm_model,Lm=lmcvFit,RF=rf_model))"
   ]
  },
  {
   "cell_type": "code",
   "execution_count": 88,
   "metadata": {},
   "outputs": [
    {
     "data": {
      "text/html": [
       "<table>\n",
       "<thead><tr><th scope=col>Resample</th><th scope=col>SVM_Radial~MAE</th><th scope=col>SVM_Radial~RMSE</th><th scope=col>SVM_Radial~Rsquared</th><th scope=col>GBM~MAE</th><th scope=col>GBM~RMSE</th><th scope=col>GBM~Rsquared</th><th scope=col>Lm~MAE</th><th scope=col>Lm~RMSE</th><th scope=col>Lm~Rsquared</th><th scope=col>RF~MAE</th><th scope=col>RF~RMSE</th><th scope=col>RF~Rsquared</th></tr></thead>\n",
       "<tbody>\n",
       "\t<tr><td>Fold01.Rep1</td><td>43.66282   </td><td> 91.25236  </td><td>0.2565042  </td><td>49.84925   </td><td>89.90103   </td><td>0.3618219  </td><td>51.90708   </td><td> 97.60936  </td><td>0.1125178  </td><td>45.29023   </td><td> 86.84138  </td><td>0.3308132  </td></tr>\n",
       "\t<tr><td>Fold01.Rep2</td><td>39.28600   </td><td> 88.08741  </td><td>0.3611087  </td><td>44.59253   </td><td>80.77079   </td><td>0.3772883  </td><td>50.95560   </td><td> 94.91674  </td><td>0.1429651  </td><td>37.50391   </td><td> 75.47821  </td><td>0.5368375  </td></tr>\n",
       "\t<tr><td>Fold01.Rep3</td><td>41.19879   </td><td> 89.60165  </td><td>0.2203406  </td><td>47.93420   </td><td>86.32869   </td><td>0.4117649  </td><td>50.40234   </td><td> 85.83857  </td><td>0.1273136  </td><td>41.43196   </td><td> 80.47786  </td><td>0.3610776  </td></tr>\n",
       "\t<tr><td>Fold02.Rep1</td><td>38.78102   </td><td> 83.43603  </td><td>0.3632288  </td><td>44.20320   </td><td>75.85476   </td><td>0.3345995  </td><td>48.95195   </td><td> 90.39872  </td><td>0.1200276  </td><td>39.08478   </td><td> 73.99269  </td><td>0.5008588  </td></tr>\n",
       "\t<tr><td>Fold02.Rep2</td><td>37.79543   </td><td> 73.08580  </td><td>0.3059965  </td><td>42.60448   </td><td>74.68285   </td><td>0.3372441  </td><td>53.02636   </td><td> 93.99754  </td><td>0.1588969  </td><td>37.80153   </td><td> 68.42547  </td><td>0.3944469  </td></tr>\n",
       "\t<tr><td>Fold02.Rep3</td><td>40.60678   </td><td> 85.82531  </td><td>0.2937090  </td><td>47.84777   </td><td>86.26619   </td><td>0.2770683  </td><td>52.53535   </td><td> 96.45938  </td><td>0.1536926  </td><td>40.42345   </td><td> 79.48943  </td><td>0.3899833  </td></tr>\n",
       "\t<tr><td>Fold03.Rep1</td><td>39.00551   </td><td> 86.26640  </td><td>0.3538258  </td><td>46.92013   </td><td>84.46612   </td><td>0.4096552  </td><td>50.10789   </td><td> 89.44875  </td><td>0.1736254  </td><td>41.22457   </td><td> 81.12011  </td><td>0.4177830  </td></tr>\n",
       "\t<tr><td>Fold03.Rep2</td><td>35.12918   </td><td> 70.47252  </td><td>0.3338161  </td><td>43.19647   </td><td>78.69411   </td><td>0.2652560  </td><td>49.40733   </td><td> 90.92480  </td><td>0.1928473  </td><td>37.06126   </td><td> 68.93134  </td><td>0.3813152  </td></tr>\n",
       "\t<tr><td>Fold03.Rep3</td><td>40.21360   </td><td> 87.63061  </td><td>0.3770792  </td><td>47.78123   </td><td>87.31855   </td><td>0.3618199  </td><td>49.95730   </td><td> 97.81890  </td><td>0.1936165  </td><td>38.81400   </td><td> 78.08262  </td><td>0.5083930  </td></tr>\n",
       "\t<tr><td>Fold04.Rep1</td><td>38.22362   </td><td> 79.41862  </td><td>0.3506013  </td><td>45.11264   </td><td>79.33441   </td><td>0.3275803  </td><td>54.95263   </td><td>103.43400  </td><td>0.1409015  </td><td>39.27447   </td><td> 77.36288  </td><td>0.3664588  </td></tr>\n",
       "\t<tr><td>Fold04.Rep2</td><td>37.18587   </td><td> 80.88836  </td><td>0.2558391  </td><td>45.61427   </td><td>83.62686   </td><td>0.3721662  </td><td>55.07657   </td><td>104.23123  </td><td>0.1454892  </td><td>40.03949   </td><td> 77.74919  </td><td>0.3133540  </td></tr>\n",
       "\t<tr><td>Fold04.Rep3</td><td>42.41907   </td><td> 93.30838  </td><td>0.2588651  </td><td>46.07417   </td><td>84.75142   </td><td>0.3720617  </td><td>52.14912   </td><td> 94.93930  </td><td>0.1398460  </td><td>44.08471   </td><td> 89.40627  </td><td>0.3088798  </td></tr>\n",
       "\t<tr><td>Fold05.Rep1</td><td>39.06779   </td><td> 79.28497  </td><td>0.3118875  </td><td>49.22113   </td><td>89.06100   </td><td>0.2654702  </td><td>55.23198   </td><td> 95.47215  </td><td>0.1612746  </td><td>39.42299   </td><td> 75.48980  </td><td>0.3637259  </td></tr>\n",
       "\t<tr><td>Fold05.Rep2</td><td>41.92765   </td><td> 90.84344  </td><td>0.3154445  </td><td>46.00161   </td><td>83.96758   </td><td>0.4578463  </td><td>51.58009   </td><td> 90.64790  </td><td>0.1526819  </td><td>40.64482   </td><td> 83.00617  </td><td>0.4208678  </td></tr>\n",
       "\t<tr><td>Fold05.Rep3</td><td>42.22619   </td><td> 90.40205  </td><td>0.2386320  </td><td>45.29539   </td><td>84.74110   </td><td>0.3670444  </td><td>52.76978   </td><td> 94.54694  </td><td>0.1450289  </td><td>41.65096   </td><td> 79.65320  </td><td>0.4044390  </td></tr>\n",
       "\t<tr><td>Fold06.Rep1</td><td>34.86896   </td><td> 77.20882  </td><td>0.3727227  </td><td>44.38564   </td><td>80.14618   </td><td>0.2878094  </td><td>51.16303   </td><td> 93.48036  </td><td>0.1919274  </td><td>35.37661   </td><td> 68.74180  </td><td>0.4954176  </td></tr>\n",
       "\t<tr><td>Fold06.Rep2</td><td>40.97846   </td><td> 80.66483  </td><td>0.3208958  </td><td>42.02980   </td><td>77.38542   </td><td>0.4541234  </td><td>53.30168   </td><td> 92.03837  </td><td>0.1409500  </td><td>40.94580   </td><td> 79.58632  </td><td>0.3348841  </td></tr>\n",
       "\t<tr><td>Fold06.Rep3</td><td>37.44271   </td><td> 80.66311  </td><td>0.3422097  </td><td>45.51300   </td><td>81.44387   </td><td>0.3657172  </td><td>52.53226   </td><td> 94.76887  </td><td>0.1584342  </td><td>39.56607   </td><td> 77.50064  </td><td>0.3924071  </td></tr>\n",
       "\t<tr><td>Fold07.Rep1</td><td>37.70771   </td><td> 76.87316  </td><td>0.3134408  </td><td>43.83565   </td><td>78.48409   </td><td>0.4068209  </td><td>51.14164   </td><td> 91.79434  </td><td>0.1827097  </td><td>37.89544   </td><td> 72.18945  </td><td>0.3872932  </td></tr>\n",
       "\t<tr><td>Fold07.Rep2</td><td>40.06138   </td><td> 83.95903  </td><td>0.3373522  </td><td>45.04046   </td><td>85.56366   </td><td>0.3621219  </td><td>53.32846   </td><td> 88.90497  </td><td>0.1593255  </td><td>41.49109   </td><td> 79.98511  </td><td>0.3887103  </td></tr>\n",
       "\t<tr><td>Fold07.Rep3</td><td>36.41396   </td><td> 72.53581  </td><td>0.2809756  </td><td>41.86440   </td><td>74.50632   </td><td>0.3399322  </td><td>49.23149   </td><td> 87.37839  </td><td>0.1791936  </td><td>37.62486   </td><td> 70.94130  </td><td>0.3166729  </td></tr>\n",
       "\t<tr><td>Fold08.Rep1</td><td>47.05644   </td><td>103.38786  </td><td>0.2503888  </td><td>41.17384   </td><td>73.45706   </td><td>0.3642101  </td><td>50.88444   </td><td> 88.96126  </td><td>0.1949440  </td><td>48.79239   </td><td>100.81916  </td><td>0.2776640  </td></tr>\n",
       "\t<tr><td>Fold08.Rep2</td><td>43.12939   </td><td> 94.70573  </td><td>0.3289338  </td><td>50.91357   </td><td>87.86515   </td><td>0.2961761  </td><td>50.62026   </td><td> 89.72637  </td><td>0.1726129  </td><td>44.90613   </td><td> 93.96590  </td><td>0.2955433  </td></tr>\n",
       "\t<tr><td>Fold08.Rep3</td><td>38.24274   </td><td> 77.19667  </td><td>0.3424831  </td><td>44.75628   </td><td>80.56434   </td><td>0.4701720  </td><td>57.31650   </td><td> 95.59079  </td><td>0.1691246  </td><td>38.00992   </td><td> 74.64852  </td><td>0.3740780  </td></tr>\n",
       "\t<tr><td>Fold09.Rep1</td><td>36.65530   </td><td> 74.99226  </td><td>0.3923100  </td><td>47.13013   </td><td>89.81672   </td><td>0.4001718  </td><td>52.04574   </td><td> 87.02480  </td><td>0.1109086  </td><td>36.85924   </td><td> 73.45324  </td><td>0.4106958  </td></tr>\n",
       "\t<tr><td>Fold09.Rep2</td><td>42.54980   </td><td> 91.55285  </td><td>0.3448123  </td><td>41.64497   </td><td>71.90851   </td><td>0.3950218  </td><td>53.12701   </td><td> 96.06403  </td><td>0.1198471  </td><td>44.05311   </td><td> 85.31733  </td><td>0.4257626  </td></tr>\n",
       "\t<tr><td>Fold09.Rep3</td><td>39.23638   </td><td> 78.23332  </td><td>0.3886505  </td><td>44.41643   </td><td>78.23852   </td><td>0.3584772  </td><td>47.70386   </td><td> 82.68095  </td><td>0.1866865  </td><td>43.78837   </td><td> 81.20638  </td><td>0.3279826  </td></tr>\n",
       "\t<tr><td>Fold10.Rep1</td><td>42.95984   </td><td> 84.45145  </td><td>0.3499030  </td><td>42.57915   </td><td>78.20887   </td><td>0.4871486  </td><td>55.01916   </td><td> 96.54590  </td><td>0.1691612  </td><td>42.96719   </td><td> 82.12630  </td><td>0.3724017  </td></tr>\n",
       "\t<tr><td>Fold10.Rep2</td><td>43.00871   </td><td> 87.30470  </td><td>0.3251186  </td><td>49.50365   </td><td>91.47399   </td><td>0.3582562  </td><td>49.82000   </td><td> 91.28545  </td><td>0.1849004  </td><td>45.57534   </td><td> 87.20563  </td><td>0.3285945  </td></tr>\n",
       "\t<tr><td>Fold10.Rep3</td><td>43.57443   </td><td> 93.16468  </td><td>0.3862156  </td><td>42.09579   </td><td>74.68901   </td><td>0.3315917  </td><td>56.58260   </td><td>102.98016  </td><td>0.1152917  </td><td>45.45355   </td><td> 90.73848  </td><td>0.3666649  </td></tr>\n",
       "</tbody>\n",
       "</table>\n"
      ],
      "text/latex": [
       "\\begin{tabular}{r|lllllllllllll}\n",
       " Resample & SVM\\_Radial\\textasciitilde{}MAE & SVM\\_Radial\\textasciitilde{}RMSE & SVM\\_Radial\\textasciitilde{}Rsquared & GBM\\textasciitilde{}MAE & GBM\\textasciitilde{}RMSE & GBM\\textasciitilde{}Rsquared & Lm\\textasciitilde{}MAE & Lm\\textasciitilde{}RMSE & Lm\\textasciitilde{}Rsquared & RF\\textasciitilde{}MAE & RF\\textasciitilde{}RMSE & RF\\textasciitilde{}Rsquared\\\\\n",
       "\\hline\n",
       "\t Fold01.Rep1 & 43.66282    &  91.25236   & 0.2565042   & 49.84925    & 89.90103    & 0.3618219   & 51.90708    &  97.60936   & 0.1125178   & 45.29023    &  86.84138   & 0.3308132  \\\\\n",
       "\t Fold01.Rep2 & 39.28600    &  88.08741   & 0.3611087   & 44.59253    & 80.77079    & 0.3772883   & 50.95560    &  94.91674   & 0.1429651   & 37.50391    &  75.47821   & 0.5368375  \\\\\n",
       "\t Fold01.Rep3 & 41.19879    &  89.60165   & 0.2203406   & 47.93420    & 86.32869    & 0.4117649   & 50.40234    &  85.83857   & 0.1273136   & 41.43196    &  80.47786   & 0.3610776  \\\\\n",
       "\t Fold02.Rep1 & 38.78102    &  83.43603   & 0.3632288   & 44.20320    & 75.85476    & 0.3345995   & 48.95195    &  90.39872   & 0.1200276   & 39.08478    &  73.99269   & 0.5008588  \\\\\n",
       "\t Fold02.Rep2 & 37.79543    &  73.08580   & 0.3059965   & 42.60448    & 74.68285    & 0.3372441   & 53.02636    &  93.99754   & 0.1588969   & 37.80153    &  68.42547   & 0.3944469  \\\\\n",
       "\t Fold02.Rep3 & 40.60678    &  85.82531   & 0.2937090   & 47.84777    & 86.26619    & 0.2770683   & 52.53535    &  96.45938   & 0.1536926   & 40.42345    &  79.48943   & 0.3899833  \\\\\n",
       "\t Fold03.Rep1 & 39.00551    &  86.26640   & 0.3538258   & 46.92013    & 84.46612    & 0.4096552   & 50.10789    &  89.44875   & 0.1736254   & 41.22457    &  81.12011   & 0.4177830  \\\\\n",
       "\t Fold03.Rep2 & 35.12918    &  70.47252   & 0.3338161   & 43.19647    & 78.69411    & 0.2652560   & 49.40733    &  90.92480   & 0.1928473   & 37.06126    &  68.93134   & 0.3813152  \\\\\n",
       "\t Fold03.Rep3 & 40.21360    &  87.63061   & 0.3770792   & 47.78123    & 87.31855    & 0.3618199   & 49.95730    &  97.81890   & 0.1936165   & 38.81400    &  78.08262   & 0.5083930  \\\\\n",
       "\t Fold04.Rep1 & 38.22362    &  79.41862   & 0.3506013   & 45.11264    & 79.33441    & 0.3275803   & 54.95263    & 103.43400   & 0.1409015   & 39.27447    &  77.36288   & 0.3664588  \\\\\n",
       "\t Fold04.Rep2 & 37.18587    &  80.88836   & 0.2558391   & 45.61427    & 83.62686    & 0.3721662   & 55.07657    & 104.23123   & 0.1454892   & 40.03949    &  77.74919   & 0.3133540  \\\\\n",
       "\t Fold04.Rep3 & 42.41907    &  93.30838   & 0.2588651   & 46.07417    & 84.75142    & 0.3720617   & 52.14912    &  94.93930   & 0.1398460   & 44.08471    &  89.40627   & 0.3088798  \\\\\n",
       "\t Fold05.Rep1 & 39.06779    &  79.28497   & 0.3118875   & 49.22113    & 89.06100    & 0.2654702   & 55.23198    &  95.47215   & 0.1612746   & 39.42299    &  75.48980   & 0.3637259  \\\\\n",
       "\t Fold05.Rep2 & 41.92765    &  90.84344   & 0.3154445   & 46.00161    & 83.96758    & 0.4578463   & 51.58009    &  90.64790   & 0.1526819   & 40.64482    &  83.00617   & 0.4208678  \\\\\n",
       "\t Fold05.Rep3 & 42.22619    &  90.40205   & 0.2386320   & 45.29539    & 84.74110    & 0.3670444   & 52.76978    &  94.54694   & 0.1450289   & 41.65096    &  79.65320   & 0.4044390  \\\\\n",
       "\t Fold06.Rep1 & 34.86896    &  77.20882   & 0.3727227   & 44.38564    & 80.14618    & 0.2878094   & 51.16303    &  93.48036   & 0.1919274   & 35.37661    &  68.74180   & 0.4954176  \\\\\n",
       "\t Fold06.Rep2 & 40.97846    &  80.66483   & 0.3208958   & 42.02980    & 77.38542    & 0.4541234   & 53.30168    &  92.03837   & 0.1409500   & 40.94580    &  79.58632   & 0.3348841  \\\\\n",
       "\t Fold06.Rep3 & 37.44271    &  80.66311   & 0.3422097   & 45.51300    & 81.44387    & 0.3657172   & 52.53226    &  94.76887   & 0.1584342   & 39.56607    &  77.50064   & 0.3924071  \\\\\n",
       "\t Fold07.Rep1 & 37.70771    &  76.87316   & 0.3134408   & 43.83565    & 78.48409    & 0.4068209   & 51.14164    &  91.79434   & 0.1827097   & 37.89544    &  72.18945   & 0.3872932  \\\\\n",
       "\t Fold07.Rep2 & 40.06138    &  83.95903   & 0.3373522   & 45.04046    & 85.56366    & 0.3621219   & 53.32846    &  88.90497   & 0.1593255   & 41.49109    &  79.98511   & 0.3887103  \\\\\n",
       "\t Fold07.Rep3 & 36.41396    &  72.53581   & 0.2809756   & 41.86440    & 74.50632    & 0.3399322   & 49.23149    &  87.37839   & 0.1791936   & 37.62486    &  70.94130   & 0.3166729  \\\\\n",
       "\t Fold08.Rep1 & 47.05644    & 103.38786   & 0.2503888   & 41.17384    & 73.45706    & 0.3642101   & 50.88444    &  88.96126   & 0.1949440   & 48.79239    & 100.81916   & 0.2776640  \\\\\n",
       "\t Fold08.Rep2 & 43.12939    &  94.70573   & 0.3289338   & 50.91357    & 87.86515    & 0.2961761   & 50.62026    &  89.72637   & 0.1726129   & 44.90613    &  93.96590   & 0.2955433  \\\\\n",
       "\t Fold08.Rep3 & 38.24274    &  77.19667   & 0.3424831   & 44.75628    & 80.56434    & 0.4701720   & 57.31650    &  95.59079   & 0.1691246   & 38.00992    &  74.64852   & 0.3740780  \\\\\n",
       "\t Fold09.Rep1 & 36.65530    &  74.99226   & 0.3923100   & 47.13013    & 89.81672    & 0.4001718   & 52.04574    &  87.02480   & 0.1109086   & 36.85924    &  73.45324   & 0.4106958  \\\\\n",
       "\t Fold09.Rep2 & 42.54980    &  91.55285   & 0.3448123   & 41.64497    & 71.90851    & 0.3950218   & 53.12701    &  96.06403   & 0.1198471   & 44.05311    &  85.31733   & 0.4257626  \\\\\n",
       "\t Fold09.Rep3 & 39.23638    &  78.23332   & 0.3886505   & 44.41643    & 78.23852    & 0.3584772   & 47.70386    &  82.68095   & 0.1866865   & 43.78837    &  81.20638   & 0.3279826  \\\\\n",
       "\t Fold10.Rep1 & 42.95984    &  84.45145   & 0.3499030   & 42.57915    & 78.20887    & 0.4871486   & 55.01916    &  96.54590   & 0.1691612   & 42.96719    &  82.12630   & 0.3724017  \\\\\n",
       "\t Fold10.Rep2 & 43.00871    &  87.30470   & 0.3251186   & 49.50365    & 91.47399    & 0.3582562   & 49.82000    &  91.28545   & 0.1849004   & 45.57534    &  87.20563   & 0.3285945  \\\\\n",
       "\t Fold10.Rep3 & 43.57443    &  93.16468   & 0.3862156   & 42.09579    & 74.68901    & 0.3315917   & 56.58260    & 102.98016   & 0.1152917   & 45.45355    &  90.73848   & 0.3666649  \\\\\n",
       "\\end{tabular}\n"
      ],
      "text/markdown": [
       "\n",
       "Resample | SVM_Radial~MAE | SVM_Radial~RMSE | SVM_Radial~Rsquared | GBM~MAE | GBM~RMSE | GBM~Rsquared | Lm~MAE | Lm~RMSE | Lm~Rsquared | RF~MAE | RF~RMSE | RF~Rsquared | \n",
       "|---|---|---|---|---|---|---|---|---|---|---|---|---|---|---|---|---|---|---|---|---|---|---|---|---|---|---|---|---|---|\n",
       "| Fold01.Rep1 | 43.66282    |  91.25236   | 0.2565042   | 49.84925    | 89.90103    | 0.3618219   | 51.90708    |  97.60936   | 0.1125178   | 45.29023    |  86.84138   | 0.3308132   | \n",
       "| Fold01.Rep2 | 39.28600    |  88.08741   | 0.3611087   | 44.59253    | 80.77079    | 0.3772883   | 50.95560    |  94.91674   | 0.1429651   | 37.50391    |  75.47821   | 0.5368375   | \n",
       "| Fold01.Rep3 | 41.19879    |  89.60165   | 0.2203406   | 47.93420    | 86.32869    | 0.4117649   | 50.40234    |  85.83857   | 0.1273136   | 41.43196    |  80.47786   | 0.3610776   | \n",
       "| Fold02.Rep1 | 38.78102    |  83.43603   | 0.3632288   | 44.20320    | 75.85476    | 0.3345995   | 48.95195    |  90.39872   | 0.1200276   | 39.08478    |  73.99269   | 0.5008588   | \n",
       "| Fold02.Rep2 | 37.79543    |  73.08580   | 0.3059965   | 42.60448    | 74.68285    | 0.3372441   | 53.02636    |  93.99754   | 0.1588969   | 37.80153    |  68.42547   | 0.3944469   | \n",
       "| Fold02.Rep3 | 40.60678    |  85.82531   | 0.2937090   | 47.84777    | 86.26619    | 0.2770683   | 52.53535    |  96.45938   | 0.1536926   | 40.42345    |  79.48943   | 0.3899833   | \n",
       "| Fold03.Rep1 | 39.00551    |  86.26640   | 0.3538258   | 46.92013    | 84.46612    | 0.4096552   | 50.10789    |  89.44875   | 0.1736254   | 41.22457    |  81.12011   | 0.4177830   | \n",
       "| Fold03.Rep2 | 35.12918    |  70.47252   | 0.3338161   | 43.19647    | 78.69411    | 0.2652560   | 49.40733    |  90.92480   | 0.1928473   | 37.06126    |  68.93134   | 0.3813152   | \n",
       "| Fold03.Rep3 | 40.21360    |  87.63061   | 0.3770792   | 47.78123    | 87.31855    | 0.3618199   | 49.95730    |  97.81890   | 0.1936165   | 38.81400    |  78.08262   | 0.5083930   | \n",
       "| Fold04.Rep1 | 38.22362    |  79.41862   | 0.3506013   | 45.11264    | 79.33441    | 0.3275803   | 54.95263    | 103.43400   | 0.1409015   | 39.27447    |  77.36288   | 0.3664588   | \n",
       "| Fold04.Rep2 | 37.18587    |  80.88836   | 0.2558391   | 45.61427    | 83.62686    | 0.3721662   | 55.07657    | 104.23123   | 0.1454892   | 40.03949    |  77.74919   | 0.3133540   | \n",
       "| Fold04.Rep3 | 42.41907    |  93.30838   | 0.2588651   | 46.07417    | 84.75142    | 0.3720617   | 52.14912    |  94.93930   | 0.1398460   | 44.08471    |  89.40627   | 0.3088798   | \n",
       "| Fold05.Rep1 | 39.06779    |  79.28497   | 0.3118875   | 49.22113    | 89.06100    | 0.2654702   | 55.23198    |  95.47215   | 0.1612746   | 39.42299    |  75.48980   | 0.3637259   | \n",
       "| Fold05.Rep2 | 41.92765    |  90.84344   | 0.3154445   | 46.00161    | 83.96758    | 0.4578463   | 51.58009    |  90.64790   | 0.1526819   | 40.64482    |  83.00617   | 0.4208678   | \n",
       "| Fold05.Rep3 | 42.22619    |  90.40205   | 0.2386320   | 45.29539    | 84.74110    | 0.3670444   | 52.76978    |  94.54694   | 0.1450289   | 41.65096    |  79.65320   | 0.4044390   | \n",
       "| Fold06.Rep1 | 34.86896    |  77.20882   | 0.3727227   | 44.38564    | 80.14618    | 0.2878094   | 51.16303    |  93.48036   | 0.1919274   | 35.37661    |  68.74180   | 0.4954176   | \n",
       "| Fold06.Rep2 | 40.97846    |  80.66483   | 0.3208958   | 42.02980    | 77.38542    | 0.4541234   | 53.30168    |  92.03837   | 0.1409500   | 40.94580    |  79.58632   | 0.3348841   | \n",
       "| Fold06.Rep3 | 37.44271    |  80.66311   | 0.3422097   | 45.51300    | 81.44387    | 0.3657172   | 52.53226    |  94.76887   | 0.1584342   | 39.56607    |  77.50064   | 0.3924071   | \n",
       "| Fold07.Rep1 | 37.70771    |  76.87316   | 0.3134408   | 43.83565    | 78.48409    | 0.4068209   | 51.14164    |  91.79434   | 0.1827097   | 37.89544    |  72.18945   | 0.3872932   | \n",
       "| Fold07.Rep2 | 40.06138    |  83.95903   | 0.3373522   | 45.04046    | 85.56366    | 0.3621219   | 53.32846    |  88.90497   | 0.1593255   | 41.49109    |  79.98511   | 0.3887103   | \n",
       "| Fold07.Rep3 | 36.41396    |  72.53581   | 0.2809756   | 41.86440    | 74.50632    | 0.3399322   | 49.23149    |  87.37839   | 0.1791936   | 37.62486    |  70.94130   | 0.3166729   | \n",
       "| Fold08.Rep1 | 47.05644    | 103.38786   | 0.2503888   | 41.17384    | 73.45706    | 0.3642101   | 50.88444    |  88.96126   | 0.1949440   | 48.79239    | 100.81916   | 0.2776640   | \n",
       "| Fold08.Rep2 | 43.12939    |  94.70573   | 0.3289338   | 50.91357    | 87.86515    | 0.2961761   | 50.62026    |  89.72637   | 0.1726129   | 44.90613    |  93.96590   | 0.2955433   | \n",
       "| Fold08.Rep3 | 38.24274    |  77.19667   | 0.3424831   | 44.75628    | 80.56434    | 0.4701720   | 57.31650    |  95.59079   | 0.1691246   | 38.00992    |  74.64852   | 0.3740780   | \n",
       "| Fold09.Rep1 | 36.65530    |  74.99226   | 0.3923100   | 47.13013    | 89.81672    | 0.4001718   | 52.04574    |  87.02480   | 0.1109086   | 36.85924    |  73.45324   | 0.4106958   | \n",
       "| Fold09.Rep2 | 42.54980    |  91.55285   | 0.3448123   | 41.64497    | 71.90851    | 0.3950218   | 53.12701    |  96.06403   | 0.1198471   | 44.05311    |  85.31733   | 0.4257626   | \n",
       "| Fold09.Rep3 | 39.23638    |  78.23332   | 0.3886505   | 44.41643    | 78.23852    | 0.3584772   | 47.70386    |  82.68095   | 0.1866865   | 43.78837    |  81.20638   | 0.3279826   | \n",
       "| Fold10.Rep1 | 42.95984    |  84.45145   | 0.3499030   | 42.57915    | 78.20887    | 0.4871486   | 55.01916    |  96.54590   | 0.1691612   | 42.96719    |  82.12630   | 0.3724017   | \n",
       "| Fold10.Rep2 | 43.00871    |  87.30470   | 0.3251186   | 49.50365    | 91.47399    | 0.3582562   | 49.82000    |  91.28545   | 0.1849004   | 45.57534    |  87.20563   | 0.3285945   | \n",
       "| Fold10.Rep3 | 43.57443    |  93.16468   | 0.3862156   | 42.09579    | 74.68901    | 0.3315917   | 56.58260    | 102.98016   | 0.1152917   | 45.45355    |  90.73848   | 0.3666649   | \n",
       "\n",
       "\n"
      ],
      "text/plain": [
       "   Resample    SVM_Radial~MAE SVM_Radial~RMSE SVM_Radial~Rsquared GBM~MAE \n",
       "1  Fold01.Rep1 43.66282        91.25236       0.2565042           49.84925\n",
       "2  Fold01.Rep2 39.28600        88.08741       0.3611087           44.59253\n",
       "3  Fold01.Rep3 41.19879        89.60165       0.2203406           47.93420\n",
       "4  Fold02.Rep1 38.78102        83.43603       0.3632288           44.20320\n",
       "5  Fold02.Rep2 37.79543        73.08580       0.3059965           42.60448\n",
       "6  Fold02.Rep3 40.60678        85.82531       0.2937090           47.84777\n",
       "7  Fold03.Rep1 39.00551        86.26640       0.3538258           46.92013\n",
       "8  Fold03.Rep2 35.12918        70.47252       0.3338161           43.19647\n",
       "9  Fold03.Rep3 40.21360        87.63061       0.3770792           47.78123\n",
       "10 Fold04.Rep1 38.22362        79.41862       0.3506013           45.11264\n",
       "11 Fold04.Rep2 37.18587        80.88836       0.2558391           45.61427\n",
       "12 Fold04.Rep3 42.41907        93.30838       0.2588651           46.07417\n",
       "13 Fold05.Rep1 39.06779        79.28497       0.3118875           49.22113\n",
       "14 Fold05.Rep2 41.92765        90.84344       0.3154445           46.00161\n",
       "15 Fold05.Rep3 42.22619        90.40205       0.2386320           45.29539\n",
       "16 Fold06.Rep1 34.86896        77.20882       0.3727227           44.38564\n",
       "17 Fold06.Rep2 40.97846        80.66483       0.3208958           42.02980\n",
       "18 Fold06.Rep3 37.44271        80.66311       0.3422097           45.51300\n",
       "19 Fold07.Rep1 37.70771        76.87316       0.3134408           43.83565\n",
       "20 Fold07.Rep2 40.06138        83.95903       0.3373522           45.04046\n",
       "21 Fold07.Rep3 36.41396        72.53581       0.2809756           41.86440\n",
       "22 Fold08.Rep1 47.05644       103.38786       0.2503888           41.17384\n",
       "23 Fold08.Rep2 43.12939        94.70573       0.3289338           50.91357\n",
       "24 Fold08.Rep3 38.24274        77.19667       0.3424831           44.75628\n",
       "25 Fold09.Rep1 36.65530        74.99226       0.3923100           47.13013\n",
       "26 Fold09.Rep2 42.54980        91.55285       0.3448123           41.64497\n",
       "27 Fold09.Rep3 39.23638        78.23332       0.3886505           44.41643\n",
       "28 Fold10.Rep1 42.95984        84.45145       0.3499030           42.57915\n",
       "29 Fold10.Rep2 43.00871        87.30470       0.3251186           49.50365\n",
       "30 Fold10.Rep3 43.57443        93.16468       0.3862156           42.09579\n",
       "   GBM~RMSE GBM~Rsquared Lm~MAE   Lm~RMSE   Lm~Rsquared RF~MAE   RF~RMSE  \n",
       "1  89.90103 0.3618219    51.90708  97.60936 0.1125178   45.29023  86.84138\n",
       "2  80.77079 0.3772883    50.95560  94.91674 0.1429651   37.50391  75.47821\n",
       "3  86.32869 0.4117649    50.40234  85.83857 0.1273136   41.43196  80.47786\n",
       "4  75.85476 0.3345995    48.95195  90.39872 0.1200276   39.08478  73.99269\n",
       "5  74.68285 0.3372441    53.02636  93.99754 0.1588969   37.80153  68.42547\n",
       "6  86.26619 0.2770683    52.53535  96.45938 0.1536926   40.42345  79.48943\n",
       "7  84.46612 0.4096552    50.10789  89.44875 0.1736254   41.22457  81.12011\n",
       "8  78.69411 0.2652560    49.40733  90.92480 0.1928473   37.06126  68.93134\n",
       "9  87.31855 0.3618199    49.95730  97.81890 0.1936165   38.81400  78.08262\n",
       "10 79.33441 0.3275803    54.95263 103.43400 0.1409015   39.27447  77.36288\n",
       "11 83.62686 0.3721662    55.07657 104.23123 0.1454892   40.03949  77.74919\n",
       "12 84.75142 0.3720617    52.14912  94.93930 0.1398460   44.08471  89.40627\n",
       "13 89.06100 0.2654702    55.23198  95.47215 0.1612746   39.42299  75.48980\n",
       "14 83.96758 0.4578463    51.58009  90.64790 0.1526819   40.64482  83.00617\n",
       "15 84.74110 0.3670444    52.76978  94.54694 0.1450289   41.65096  79.65320\n",
       "16 80.14618 0.2878094    51.16303  93.48036 0.1919274   35.37661  68.74180\n",
       "17 77.38542 0.4541234    53.30168  92.03837 0.1409500   40.94580  79.58632\n",
       "18 81.44387 0.3657172    52.53226  94.76887 0.1584342   39.56607  77.50064\n",
       "19 78.48409 0.4068209    51.14164  91.79434 0.1827097   37.89544  72.18945\n",
       "20 85.56366 0.3621219    53.32846  88.90497 0.1593255   41.49109  79.98511\n",
       "21 74.50632 0.3399322    49.23149  87.37839 0.1791936   37.62486  70.94130\n",
       "22 73.45706 0.3642101    50.88444  88.96126 0.1949440   48.79239 100.81916\n",
       "23 87.86515 0.2961761    50.62026  89.72637 0.1726129   44.90613  93.96590\n",
       "24 80.56434 0.4701720    57.31650  95.59079 0.1691246   38.00992  74.64852\n",
       "25 89.81672 0.4001718    52.04574  87.02480 0.1109086   36.85924  73.45324\n",
       "26 71.90851 0.3950218    53.12701  96.06403 0.1198471   44.05311  85.31733\n",
       "27 78.23852 0.3584772    47.70386  82.68095 0.1866865   43.78837  81.20638\n",
       "28 78.20887 0.4871486    55.01916  96.54590 0.1691612   42.96719  82.12630\n",
       "29 91.47399 0.3582562    49.82000  91.28545 0.1849004   45.57534  87.20563\n",
       "30 74.68901 0.3315917    56.58260 102.98016 0.1152917   45.45355  90.73848\n",
       "   RF~Rsquared\n",
       "1  0.3308132  \n",
       "2  0.5368375  \n",
       "3  0.3610776  \n",
       "4  0.5008588  \n",
       "5  0.3944469  \n",
       "6  0.3899833  \n",
       "7  0.4177830  \n",
       "8  0.3813152  \n",
       "9  0.5083930  \n",
       "10 0.3664588  \n",
       "11 0.3133540  \n",
       "12 0.3088798  \n",
       "13 0.3637259  \n",
       "14 0.4208678  \n",
       "15 0.4044390  \n",
       "16 0.4954176  \n",
       "17 0.3348841  \n",
       "18 0.3924071  \n",
       "19 0.3872932  \n",
       "20 0.3887103  \n",
       "21 0.3166729  \n",
       "22 0.2776640  \n",
       "23 0.2955433  \n",
       "24 0.3740780  \n",
       "25 0.4106958  \n",
       "26 0.4257626  \n",
       "27 0.3279826  \n",
       "28 0.3724017  \n",
       "29 0.3285945  \n",
       "30 0.3666649  "
      ]
     },
     "metadata": {},
     "output_type": "display_data"
    }
   ],
   "source": [
    "rvalues$values\n",
    "capture.output(rvalues$values,\n",
    "               file = \"01 - ML Algorithms/00-Algorithm_Performance_Table.txt\")\n",
    "write.csv(rvalues$values, file=\"01 - ML Algorithms/01-Algorithm_Performance_CSV.csv\")"
   ]
  },
  {
   "cell_type": "code",
   "execution_count": 89,
   "metadata": {},
   "outputs": [
    {
     "data": {
      "text/plain": [
       "TableGrob (1 x 2) \"arrange\": 2 grobs\n",
       "  z     cells    name                      grob\n",
       "1 1 (1-1,1-1) arrange lattice[GRID.lattice.353]\n",
       "2 2 (1-1,2-2) arrange lattice[GRID.lattice.354]"
      ]
     },
     "metadata": {},
     "output_type": "display_data"
    },
    {
     "name": "stderr",
     "output_type": "stream",
     "text": [
      "Saving 6.67 x 6.67 in image\n"
     ]
    },
    {
     "data": {
      "image/png": "[encoded data removed]",
      "text/plain": [
       "plot without title"
      ]
     },
     "metadata": {},
     "output_type": "display_data"
    }
   ],
   "source": [
    "RMSE_ALL <- dotplot(rvalues,metric = \"RMSE\")\n",
    "\n",
    "RSQ_ALL <- dotplot(rvalues,metric=\"Rsquared\")\n",
    "\n",
    "panel_plot_models <- grid.arrange(RMSE_ALL, RSQ_ALL,ncol=2)\n",
    "\n",
    "panel_plot_models\n",
    "ggsave(file=\"01 - ML Algorithms/02-ML_Algorithms_Performance_Plot.png\", panel_plot_models)"
   ]
  },
  {
   "cell_type": "code",
   "execution_count": null,
   "metadata": {},
   "outputs": [],
   "source": []
  }
 ],
 "metadata": {
  "kernelspec": {
   "display_name": "R",
   "language": "R",
   "name": "ir"
  },
  "language_info": {
   "codemirror_mode": "r",
   "file_extension": ".r",
   "mimetype": "text/x-r-source",
   "name": "R",
   "pygments_lexer": "r",
   "version": "3.5.1"
  }
 },
 "nbformat": 4,
 "nbformat_minor": 2
}
