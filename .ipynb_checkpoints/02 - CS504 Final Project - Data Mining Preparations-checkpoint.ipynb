{
 "cells": [
  {
   "cell_type": "markdown",
   "metadata": {},
   "source": [
    "# Machine Learning Project for CS504\n",
    "### Professor: Dr. Jessica Lin\n",
    "### Student: Angel N. Sierra\n",
    "### GMU\n",
    "\n",
    "**Research Article Title:** Data driven prediction models of energy use of appliances in a low-energy house\n",
    "**Researchers:** Luis M. Candanedo, Véronique Feldheim, Dominique Deramaix\n",
    "\n",
    "#### General Data Analysis and Data Preparation\n",
    "This section would provide the initial analysis and data preparation performed by the researchers with the end goal of ensuring a common baseline. Once baseline comparison is performed I would proceed to augment the research by adding a new machine learning algorithm and executing similar activities in WEKA to compare results.\n",
    "\n",
    "#### Machine Learning: Data Preparation\n",
    "This section was created to make the necessary changes on the data set to make it appropriate for ML Algorithms.\n"
   ]
  },
  {
   "cell_type": "code",
   "execution_count": 1,
   "metadata": {},
   "outputs": [
    {
     "name": "stdout",
     "output_type": "stream",
     "text": [
      " POSIXct[1:19735], format: \"2016-01-11 17:00:00\" \"2016-01-11 17:10:00\" \"2016-01-11 17:20:00\" ...\n"
     ]
    }
   ],
   "source": [
    "#Upload the full data set\n",
    "energy_data <- read.csv(\"00 - Data Set/full_set.csv\")\n",
    "energy_data$date <- strptime(as.character(energy_data$date),format=\"%Y-%m-%d %H:%M:%S\")\n",
    "energy_data$date <- as.POSIXct(energy_data$date,tz=\"UTC\")\n",
    "\n",
    "str(energy_data$date)"
   ]
  },
  {
   "cell_type": "code",
   "execution_count": 2,
   "metadata": {},
   "outputs": [
    {
     "name": "stdout",
     "output_type": "stream",
     "text": [
      " POSIXct[1:14803], format: \"2016-01-11 17:00:00\" \"2016-01-11 17:10:00\" \"2016-01-11 17:20:00\" ...\n"
     ]
    }
   ],
   "source": [
    "#Upload the train data set\n",
    "train_data <- read.csv(\"00 - Data Set//training.csv\")\n",
    "train_data$date <- strptime(as.character(train_data$date),format=\"%Y-%m-%d %H:%M:%S\")\n",
    "train_data$date <- as.POSIXct(train_data$date,tz=\"UTC\")\n",
    "\n",
    "str(train_data$date)"
   ]
  },
  {
   "cell_type": "code",
   "execution_count": 3,
   "metadata": {},
   "outputs": [
    {
     "name": "stdout",
     "output_type": "stream",
     "text": [
      " POSIXct[1:4932], format: \"2016-01-11 17:30:00\" \"2016-01-11 18:00:00\" \"2016-01-11 18:40:00\" ...\n"
     ]
    }
   ],
   "source": [
    "#Upload the test data set\n",
    "test_data <- read.csv(\"00 - Data Set//testing.csv\")\n",
    "test_data$date <- strptime(as.character(test_data$date),format=\"%Y-%m-%d %H:%M:%S\")\n",
    "test_data$date <- as.POSIXct(test_data$date,tz=\"UTC\")\n",
    "\n",
    "str(test_data$date)"
   ]
  },
  {
   "cell_type": "code",
   "execution_count": 9,
   "metadata": {},
   "outputs": [
    {
     "name": "stderr",
     "output_type": "stream",
     "text": [
      "Loading required package: ranger\n",
      " 1. run of importance source...\n",
      " 2. run of importance source...\n",
      " 3. run of importance source...\n",
      " 4. run of importance source...\n",
      " 5. run of importance source...\n",
      " 6. run of importance source...\n",
      " 7. run of importance source...\n",
      " 8. run of importance source...\n",
      " 9. run of importance source...\n",
      " 10. run of importance source...\n",
      " 11. run of importance source...\n",
      " 12. run of importance source...\n",
      "After 12 iterations, +54 secs: \n",
      " confirmed 29 attributes: date, Day_of_week, lights, NSM, Press_mm_hg and 24 more;\n",
      " still have 2 attributes left.\n",
      "\n",
      " 13. run of importance source...\n",
      " 14. run of importance source...\n",
      " 15. run of importance source...\n",
      " 16. run of importance source...\n",
      " 17. run of importance source...\n",
      " 18. run of importance source...\n",
      " 19. run of importance source...\n",
      " 20. run of importance source...\n",
      " 21. run of importance source...\n",
      " 22. run of importance source...\n",
      " 23. run of importance source...\n",
      " 24. run of importance source...\n",
      " 25. run of importance source...\n",
      " 26. run of importance source...\n",
      " 27. run of importance source...\n",
      " 28. run of importance source...\n",
      " 29. run of importance source...\n",
      " 30. run of importance source...\n",
      " 31. run of importance source...\n",
      " 32. run of importance source...\n",
      " 33. run of importance source...\n",
      " 34. run of importance source...\n",
      " 35. run of importance source...\n",
      " 36. run of importance source...\n",
      " 37. run of importance source...\n",
      " 38. run of importance source...\n",
      " 39. run of importance source...\n",
      " 40. run of importance source...\n",
      " 41. run of importance source...\n",
      " 42. run of importance source...\n",
      " 43. run of importance source...\n",
      " 44. run of importance source...\n",
      " 45. run of importance source...\n",
      " 46. run of importance source...\n",
      " 47. run of importance source...\n",
      " 48. run of importance source...\n",
      " 49. run of importance source...\n",
      " 50. run of importance source...\n",
      " 51. run of importance source...\n",
      " 52. run of importance source...\n",
      " 53. run of importance source...\n",
      " 54. run of importance source...\n",
      " 55. run of importance source...\n",
      " 56. run of importance source...\n",
      " 57. run of importance source...\n",
      " 58. run of importance source...\n",
      " 59. run of importance source...\n",
      " 60. run of importance source...\n",
      " 61. run of importance source...\n",
      " 62. run of importance source...\n",
      " 63. run of importance source...\n",
      " 64. run of importance source...\n",
      " 65. run of importance source...\n",
      " 66. run of importance source...\n",
      " 67. run of importance source...\n",
      " 68. run of importance source...\n",
      " 69. run of importance source...\n",
      " 70. run of importance source...\n",
      " 71. run of importance source...\n",
      " 72. run of importance source...\n",
      " 73. run of importance source...\n",
      " 74. run of importance source...\n",
      " 75. run of importance source...\n",
      " 76. run of importance source...\n",
      " 77. run of importance source...\n",
      " 78. run of importance source...\n",
      " 79. run of importance source...\n",
      " 80. run of importance source...\n",
      " 81. run of importance source...\n",
      " 82. run of importance source...\n",
      " 83. run of importance source...\n",
      " 84. run of importance source...\n",
      " 85. run of importance source...\n",
      " 86. run of importance source...\n",
      " 87. run of importance source...\n",
      " 88. run of importance source...\n",
      " 89. run of importance source...\n",
      " 90. run of importance source...\n",
      " 91. run of importance source...\n",
      " 92. run of importance source...\n",
      " 93. run of importance source...\n",
      " 94. run of importance source...\n",
      " 95. run of importance source...\n",
      " 96. run of importance source...\n",
      " 97. run of importance source...\n",
      " 98. run of importance source...\n",
      " 99. run of importance source...\n"
     ]
    }
   ],
   "source": [
    "#Include the appropriate libraries to run Boruta\n",
    "suppressWarnings(library(Boruta))\n",
    "\n",
    "#Use boruta on full data set to obtain the feature importance\n",
    "Boruta.Appliances_Full_Set <- Boruta(Appliances~., data=energy_data, doTrace=2, ntree=115)"
   ]
  },
  {
   "cell_type": "code",
   "execution_count": 10,
   "metadata": {},
   "outputs": [
    {
     "name": "stderr",
     "output_type": "stream",
     "text": [
      " 1. run of importance source...\n",
      " 2. run of importance source...\n",
      " 3. run of importance source...\n",
      " 4. run of importance source...\n",
      " 5. run of importance source...\n",
      " 6. run of importance source...\n",
      " 7. run of importance source...\n",
      " 8. run of importance source...\n",
      " 9. run of importance source...\n",
      " 10. run of importance source...\n",
      " 11. run of importance source...\n",
      " 12. run of importance source...\n",
      "After 12 iterations, +37 secs: \n",
      " confirmed 29 attributes: date, Day_of_week, lights, NSM, Press_mm_hg and 24 more;\n",
      " still have 2 attributes left.\n",
      "\n",
      " 13. run of importance source...\n",
      " 14. run of importance source...\n",
      " 15. run of importance source...\n",
      " 16. run of importance source...\n",
      " 17. run of importance source...\n",
      " 18. run of importance source...\n",
      " 19. run of importance source...\n",
      " 20. run of importance source...\n",
      " 21. run of importance source...\n",
      " 22. run of importance source...\n",
      " 23. run of importance source...\n",
      " 24. run of importance source...\n",
      " 25. run of importance source...\n",
      " 26. run of importance source...\n",
      " 27. run of importance source...\n",
      " 28. run of importance source...\n",
      " 29. run of importance source...\n",
      " 30. run of importance source...\n",
      " 31. run of importance source...\n",
      " 32. run of importance source...\n",
      " 33. run of importance source...\n",
      " 34. run of importance source...\n",
      " 35. run of importance source...\n",
      " 36. run of importance source...\n",
      " 37. run of importance source...\n",
      " 38. run of importance source...\n",
      " 39. run of importance source...\n",
      " 40. run of importance source...\n",
      " 41. run of importance source...\n",
      " 42. run of importance source...\n",
      " 43. run of importance source...\n",
      " 44. run of importance source...\n",
      " 45. run of importance source...\n",
      " 46. run of importance source...\n",
      " 47. run of importance source...\n",
      " 48. run of importance source...\n",
      " 49. run of importance source...\n",
      " 50. run of importance source...\n",
      " 51. run of importance source...\n",
      " 52. run of importance source...\n",
      " 53. run of importance source...\n",
      " 54. run of importance source...\n",
      " 55. run of importance source...\n",
      " 56. run of importance source...\n",
      " 57. run of importance source...\n",
      " 58. run of importance source...\n",
      " 59. run of importance source...\n",
      " 60. run of importance source...\n",
      " 61. run of importance source...\n",
      " 62. run of importance source...\n",
      " 63. run of importance source...\n",
      " 64. run of importance source...\n",
      " 65. run of importance source...\n",
      " 66. run of importance source...\n",
      " 67. run of importance source...\n",
      " 68. run of importance source...\n",
      " 69. run of importance source...\n",
      " 70. run of importance source...\n",
      " 71. run of importance source...\n",
      " 72. run of importance source...\n",
      " 73. run of importance source...\n",
      " 74. run of importance source...\n",
      " 75. run of importance source...\n",
      " 76. run of importance source...\n",
      " 77. run of importance source...\n",
      " 78. run of importance source...\n",
      " 79. run of importance source...\n",
      " 80. run of importance source...\n",
      " 81. run of importance source...\n",
      " 82. run of importance source...\n",
      " 83. run of importance source...\n",
      " 84. run of importance source...\n",
      " 85. run of importance source...\n",
      " 86. run of importance source...\n",
      " 87. run of importance source...\n",
      " 88. run of importance source...\n",
      " 89. run of importance source...\n",
      " 90. run of importance source...\n",
      " 91. run of importance source...\n",
      " 92. run of importance source...\n",
      " 93. run of importance source...\n",
      " 94. run of importance source...\n",
      " 95. run of importance source...\n",
      " 96. run of importance source...\n",
      " 97. run of importance source...\n",
      " 98. run of importance source...\n",
      " 99. run of importance source...\n"
     ]
    }
   ],
   "source": [
    "#Use boruta on train data set to obtain the feature importance\n",
    "Boruta.Appliances_Train_Set <- Boruta(Appliances~., data=train_data, doTrace=2, ntree=115)"
   ]
  },
  {
   "cell_type": "code",
   "execution_count": 11,
   "metadata": {},
   "outputs": [
    {
     "name": "stderr",
     "output_type": "stream",
     "text": [
      " 1. run of importance source...\n",
      " 2. run of importance source...\n",
      " 3. run of importance source...\n",
      " 4. run of importance source...\n",
      " 5. run of importance source...\n",
      " 6. run of importance source...\n",
      " 7. run of importance source...\n",
      " 8. run of importance source...\n",
      " 9. run of importance source...\n",
      " 10. run of importance source...\n",
      " 11. run of importance source...\n",
      " 12. run of importance source...\n",
      "After 12 iterations, +10 secs: \n",
      " confirmed 28 attributes: date, Day_of_week, lights, NSM, Press_mm_hg and 23 more;\n",
      " still have 3 attributes left.\n",
      "\n",
      " 13. run of importance source...\n",
      " 14. run of importance source...\n",
      " 15. run of importance source...\n",
      " 16. run of importance source...\n",
      " 17. run of importance source...\n",
      " 18. run of importance source...\n",
      " 19. run of importance source...\n",
      " 20. run of importance source...\n",
      " 21. run of importance source...\n",
      " 22. run of importance source...\n",
      " 23. run of importance source...\n",
      " 24. run of importance source...\n",
      " 25. run of importance source...\n",
      " 26. run of importance source...\n",
      " 27. run of importance source...\n",
      " 28. run of importance source...\n",
      " 29. run of importance source...\n",
      " 30. run of importance source...\n",
      " 31. run of importance source...\n",
      " 32. run of importance source...\n",
      " 33. run of importance source...\n",
      " 34. run of importance source...\n",
      " 35. run of importance source...\n",
      "After 35 iterations, +29 secs: \n",
      " rejected 1 attribute: rv2;\n",
      " still have 2 attributes left.\n",
      "\n",
      " 36. run of importance source...\n",
      " 37. run of importance source...\n",
      " 38. run of importance source...\n",
      "After 38 iterations, +32 secs: \n",
      " rejected 1 attribute: rv1;\n",
      " still have 1 attribute left.\n",
      "\n",
      " 39. run of importance source...\n",
      " 40. run of importance source...\n",
      " 41. run of importance source...\n",
      " 42. run of importance source...\n",
      " 43. run of importance source...\n",
      " 44. run of importance source...\n",
      " 45. run of importance source...\n",
      " 46. run of importance source...\n",
      " 47. run of importance source...\n",
      " 48. run of importance source...\n",
      " 49. run of importance source...\n",
      " 50. run of importance source...\n",
      " 51. run of importance source...\n",
      "After 51 iterations, +42 secs: \n",
      " confirmed 1 attribute: WeekStatus;\n",
      " no more attributes left.\n",
      "\n"
     ]
    }
   ],
   "source": [
    "#Use boruta on test data set to obtain the feature importance\n",
    "Boruta.Appliances_Test_Set <- Boruta(Appliances~., data=test_data, doTrace=2, ntree=115)"
   ]
  },
  {
   "cell_type": "code",
   "execution_count": 21,
   "metadata": {},
   "outputs": [
    {
     "data": {
      "text/html": [
       "<strong>png:</strong> 2"
      ],
      "text/latex": [
       "\\textbf{png:} 2"
      ],
      "text/markdown": [
       "**png:** 2"
      ],
      "text/plain": [
       "png \n",
       "  2 "
      ]
     },
     "metadata": {},
     "output_type": "display_data"
    },
    {
     "name": "stdout",
     "output_type": "stream",
     "text": [
      "Boruta performed 99 iterations in 7.368907 mins.\n",
      " 29 attributes confirmed important: date, Day_of_week, lights, NSM,\n",
      "Press_mm_hg and 24 more;\n",
      " No attributes deemed unimportant.\n",
      " 2 tentative attributes left: rv1, rv2;\n"
     ]
    },
    {
     "data": {
      "image/png": "[encoded data removed]",
      "text/plain": [
       "plot without title"
      ]
     },
     "metadata": {},
     "output_type": "display_data"
    }
   ],
   "source": [
    "#Save Full Data Set Output as image\n",
    "png('04-01-01-Feature_Importance_with_Boruta_Full_DS.png',width = 14, height = 10, units = 'in', res = 300)\n",
    "par( mar=c(7.5, 5, 2, 1))\n",
    "plot(Boruta.Appliances_Full_Set,cex.axis=1,las=2,xlab=\"\")\n",
    "dev.off()\n",
    "\n",
    "#Capture Full Data Set Output as text\n",
    "capture.output(Boruta.Appliances_Full_Set, file = \"04-01-02-Feature_Importance_with_Boruta_Full_DS.txt\")\n",
    "\n",
    "#Display Full Data Set Output as image\n",
    "par( mar=c(7.5, 5, 2, 1))\n",
    "plot(Boruta.Appliances_Full_Set,cex.axis=1,las=2,xlab=\"\")\n",
    "print(Boruta.Appliances_Full_Set)"
   ]
  },
  {
   "cell_type": "code",
   "execution_count": 22,
   "metadata": {},
   "outputs": [
    {
     "data": {
      "text/html": [
       "<strong>png:</strong> 2"
      ],
      "text/latex": [
       "\\textbf{png:} 2"
      ],
      "text/markdown": [
       "**png:** 2"
      ],
      "text/plain": [
       "png \n",
       "  2 "
      ]
     },
     "metadata": {},
     "output_type": "display_data"
    },
    {
     "name": "stdout",
     "output_type": "stream",
     "text": [
      "Boruta performed 99 iterations in 5.174527 mins.\n",
      " 29 attributes confirmed important: date, Day_of_week, lights, NSM,\n",
      "Press_mm_hg and 24 more;\n",
      " No attributes deemed unimportant.\n",
      " 2 tentative attributes left: rv1, rv2;\n"
     ]
    },
    {
     "data": {
      "image/png": "[encoded data removed]",
      "text/plain": [
       "plot without title"
      ]
     },
     "metadata": {},
     "output_type": "display_data"
    }
   ],
   "source": [
    "#Save Train Data Set Output as image\n",
    "png('04-02-01-Feature_Importance_with_Boruta_Train_DS.png',width = 14, height = 10, units = 'in', res = 300)\n",
    "par( mar=c(7.5, 5, 2, 1))\n",
    "plot(Boruta.Appliances_Train_Set,cex.axis=1,las=2,xlab=\"\")\n",
    "dev.off()\n",
    "\n",
    "#Capture Train Data Set Output as text\n",
    "capture.output(Boruta.Appliances_Train_Set, file = \"04-02-02-Feature_Importance_with_Boruta_Train_DS.txt\")\n",
    "\n",
    "#Display Train Data Set Output as image\n",
    "par( mar=c(7.5, 5, 2, 1))\n",
    "plot(Boruta.Appliances_Train_Set,cex.axis=1,las=2,xlab=\"\")\n",
    "print(Boruta.Appliances_Train_Set)"
   ]
  },
  {
   "cell_type": "code",
   "execution_count": 23,
   "metadata": {},
   "outputs": [
    {
     "data": {
      "text/html": [
       "<strong>png:</strong> 2"
      ],
      "text/latex": [
       "\\textbf{png:} 2"
      ],
      "text/markdown": [
       "**png:** 2"
      ],
      "text/plain": [
       "png \n",
       "  2 "
      ]
     },
     "metadata": {},
     "output_type": "display_data"
    },
    {
     "name": "stdout",
     "output_type": "stream",
     "text": [
      "Boruta performed 51 iterations in 41.91001 secs.\n",
      " 29 attributes confirmed important: date, Day_of_week, lights, NSM,\n",
      "Press_mm_hg and 24 more;\n",
      " 2 attributes confirmed unimportant: rv1, rv2;\n"
     ]
    },
    {
     "data": {
      "image/png": "[encoded data removed]",
      "text/plain": [
       "plot without title"
      ]
     },
     "metadata": {},
     "output_type": "display_data"
    }
   ],
   "source": [
    "#Save Test Data Set Output as image\n",
    "png('04-03-01-Feature_Importance_with_Boruta_Test_DS.png',width = 14, height = 10, units = 'in', res = 300)\n",
    "par( mar=c(7.5, 5, 2, 1))\n",
    "plot(Boruta.Appliances_Test_Set,cex.axis=1,las=2,xlab=\"\")\n",
    "dev.off()\n",
    "\n",
    "#Capture Test Data Set Output as text\n",
    "capture.output(Boruta.Appliances_Test_Set, file = \"04-03-02-Feature_Importance_with_Boruta_Test_DS.txt\")\n",
    "\n",
    "#Display Train Data Set Output as image\n",
    "par( mar=c(7.5, 5, 2, 1))\n",
    "plot(Boruta.Appliances_Test_Set,cex.axis=1,las=2,xlab=\"\")\n",
    "print(Boruta.Appliances_Test_Set)"
   ]
  },
  {
   "cell_type": "markdown",
   "metadata": {},
   "source": [
    "**note:**\n",
    "The below code needs to be adjusted for this project environment and executed in R"
   ]
  },
  {
   "cell_type": "code",
   "execution_count": 24,
   "metadata": {},
   "outputs": [],
   "source": [
    "#The following code was executed in R Studio, it was necessary to have access to the \"dummies\" package.\n",
    "\n",
    "#new_full_data <- dummy.data.frame(full_data_set,names=c(\"WeekStatus\", \"Day_of_week\"))\n",
    "#write.table(format(new_full_data, digits=19),file=\"00 - Project/00 - Data Set/01_new_full_data_set.csv\",sep=\",\",row.names=FALSE)\n",
    "\n",
    "#new_training_data <- dummy.data.frame(train_data_set,names=c(\"WeekStatus\", \"Day_of_week\"))\n",
    "#write.table(format(new_training_data, digits=19),file=\"00 - Project/00 - Data Set/02_new_train_data_set.csv\",sep=\",\",row.names=FALSE)\n",
    "\n",
    "#new_testing_data <- dummy.data.frame(test_data_set,names=c(\"WeekStatus\", \"Day_of_week\"))\n",
    "#write.table(format(new_testing_data, digits=19),file=\"00 - Project/00 - Data Set/03_new_test_data_set.csv\",sep=\",\",row.names=FALSE)"
   ]
  },
  {
   "cell_type": "code",
   "execution_count": 27,
   "metadata": {},
   "outputs": [
    {
     "name": "stdout",
     "output_type": "stream",
     "text": [
      "'data.frame':\t14803 obs. of  32 variables:\n",
      " $ date       : POSIXct, format: \"2016-01-11 17:00:00\" \"2016-01-11 17:10:00\" ...\n",
      " $ Appliances : int  60 60 50 60 50 60 60 70 430 250 ...\n",
      " $ lights     : int  30 30 30 40 40 50 40 40 50 40 ...\n",
      " $ T1         : num  19.9 19.9 19.9 19.9 19.9 ...\n",
      " $ RH_1       : num  47.6 46.7 46.3 46.3 46 ...\n",
      " $ T2         : num  19.2 19.2 19.2 19.2 19.2 ...\n",
      " $ RH_2       : num  44.8 44.7 44.6 44.5 44.5 ...\n",
      " $ T3         : num  19.8 19.8 19.8 19.8 19.8 ...\n",
      " $ RH_3       : num  44.7 44.8 44.9 45 44.9 ...\n",
      " $ T4         : num  19 19 18.9 18.9 18.9 ...\n",
      " $ RH_4       : num  45.6 46 45.9 45.5 45.7 ...\n",
      " $ T5         : num  17.2 17.2 17.2 17.2 17.1 ...\n",
      " $ RH_5       : num  55.2 55.2 55.1 55.1 55 ...\n",
      " $ T6         : num  7.03 6.83 6.56 6.37 6.3 ...\n",
      " $ RH_6       : num  84.3 84.1 83.2 84.9 85.8 ...\n",
      " $ T7         : num  17.2 17.2 17.2 17.2 17.1 ...\n",
      " $ RH_7       : num  41.6 41.6 41.4 41.2 41.3 ...\n",
      " $ T8         : num  18.2 18.2 18.2 18.1 18.1 ...\n",
      " $ RH_8       : num  48.9 48.9 48.7 48.6 48.6 ...\n",
      " $ T9         : num  17 17.1 17 17 17 ...\n",
      " $ RH_9       : num  45.5 45.6 45.5 45.4 45.3 ...\n",
      " $ T_out      : num  6.6 6.48 6.37 6.13 6.02 ...\n",
      " $ Press_mm_hg: num  734 734 734 734 734 ...\n",
      " $ RH_out     : num  92 92 92 92 92 ...\n",
      " $ Windspeed  : num  7 6.67 6.33 5.67 5.33 ...\n",
      " $ Visibility : num  63 59.2 55.3 47.7 43.8 ...\n",
      " $ Tdewpoint  : num  5.3 5.2 5.1 4.9 4.8 ...\n",
      " $ rv1        : num  13.3 18.6 28.6 10.1 44.9 ...\n",
      " $ rv2        : num  13.3 18.6 28.6 10.1 44.9 ...\n",
      " $ NSM        : int  61200 61800 62400 63600 64200 65400 66000 66600 68400 69000 ...\n",
      " $ WeekStatus : Factor w/ 2 levels \"Weekday\",\"Weekend\": 1 1 1 1 1 1 1 1 1 1 ...\n",
      " $ Day_of_week: Factor w/ 7 levels \"Friday\",\"Monday\",..: 2 2 2 2 2 2 2 2 2 2 ...\n"
     ]
    }
   ],
   "source": [
    "str(train_data)"
   ]
  },
  {
   "cell_type": "code",
   "execution_count": null,
   "metadata": {},
   "outputs": [],
   "source": []
  }
 ],
 "metadata": {
  "kernelspec": {
   "display_name": "R",
   "language": "R",
   "name": "ir"
  },
  "language_info": {
   "codemirror_mode": "r",
   "file_extension": ".r",
   "mimetype": "text/x-r-source",
   "name": "R",
   "pygments_lexer": "r",
   "version": "3.5.1"
  }
 },
 "nbformat": 4,
 "nbformat_minor": 2
}
