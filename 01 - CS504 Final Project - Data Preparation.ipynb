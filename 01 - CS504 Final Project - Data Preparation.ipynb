{
 "cells": [
  {
   "cell_type": "markdown",
   "metadata": {},
   "source": [
    "# Machine Learning Project for CS504\n",
    "### Professor: Dr. Jessica Lin\n",
    "### Student: Angel N. Sierra\n",
    "### GMU\n",
    "\n",
    "**Research Article Title:** Data driven prediction models of energy use of appliances in a low-energy house\n",
    "**Researchers:** Luis M. Candanedo, Véronique Feldheim, Dominique Deramaix\n",
    "\n",
    "#### Introduction\n",
    "US agencies such as the Environmental Protection Agency (EPA) and the congress have demonstrated an interest to optimize energy consumption across the US through technology and incentives. \n",
    "\n",
    "From a technical perspective EPA is looking to recognize smart home energy management systems capable to optimize energy use of multiple devices. Energy Star  is EPA’s internet presence to share information, news and events. \n",
    "\n",
    "From an incentive perspective, the congress has provided tax credits for residential energy efficiency. One of the last incentive actions was captured by the Bipartisan Budget Act of 2018 in which the tax credits for energy efficiency that had expired in 2016 were renewed.\n",
    "\n",
    "From an academia perspective, many research have being performed to understand appliance energy use. Of particular interest is the Data driven prediction models of energy use of appliances in low-energy house (Candanedo, Feldheim, & Deramaix, 2017) article presented in the Energy and Buildings journal.\n",
    "\n",
    "This project intends to analyze the Appliances energy prediction Data Set (Candanedo L. , 2017) found in the UCI Machine Learning Repository to augment the prediction models benchmark provided by the research. WEKA and R will be used to prepare the data, run a new regression model not covered in the article, and establish a baseline between the results in the article and the results observed in the local machine.\n",
    "\n",
    "#### General Data Analysis and Data Preparation\n",
    "This section would provide the initial analysis and data preparation performed by the researchers with the end goal of ensuring a common baseline. Once baseline comparison is performed I would proceed to augment the research by adding a new machine learning algorithm and executing similar activities in WEKA to compare results.\n"
   ]
  },
  {
   "cell_type": "code",
   "execution_count": 1,
   "metadata": {},
   "outputs": [
    {
     "name": "stdout",
     "output_type": "stream",
     "text": [
      "'data.frame':\t19735 obs. of  29 variables:\n",
      " $ date       : Factor w/ 19735 levels \"2016-01-11 17:00:00\",..: 1 2 3 4 5 6 7 8 9 10 ...\n",
      " $ Appliances : int  60 60 50 50 60 50 60 60 60 70 ...\n",
      " $ lights     : int  30 30 30 40 40 40 50 50 40 40 ...\n",
      " $ T1         : num  19.9 19.9 19.9 19.9 19.9 ...\n",
      " $ RH_1       : num  47.6 46.7 46.3 46.1 46.3 ...\n",
      " $ T2         : num  19.2 19.2 19.2 19.2 19.2 ...\n",
      " $ RH_2       : num  44.8 44.7 44.6 44.6 44.5 ...\n",
      " $ T3         : num  19.8 19.8 19.8 19.8 19.8 ...\n",
      " $ RH_3       : num  44.7 44.8 44.9 45 45 ...\n",
      " $ T4         : num  19 19 18.9 18.9 18.9 ...\n",
      " $ RH_4       : num  45.6 46 45.9 45.7 45.5 ...\n",
      " $ T5         : num  17.2 17.2 17.2 17.2 17.2 ...\n",
      " $ RH_5       : num  55.2 55.2 55.1 55.1 55.1 ...\n",
      " $ T6         : num  7.03 6.83 6.56 6.43 6.37 ...\n",
      " $ RH_6       : num  84.3 84.1 83.2 83.4 84.9 ...\n",
      " $ T7         : num  17.2 17.2 17.2 17.1 17.2 ...\n",
      " $ RH_7       : num  41.6 41.6 41.4 41.3 41.2 ...\n",
      " $ T8         : num  18.2 18.2 18.2 18.1 18.1 18.1 18.1 18.1 18.1 18.1 ...\n",
      " $ RH_8       : num  48.9 48.9 48.7 48.6 48.6 ...\n",
      " $ T9         : num  17 17.1 17 17 17 ...\n",
      " $ RH_9       : num  45.5 45.6 45.5 45.4 45.4 ...\n",
      " $ T_out      : num  6.6 6.48 6.37 6.25 6.13 ...\n",
      " $ Press_mm_hg: num  734 734 734 734 734 ...\n",
      " $ RH_out     : num  92 92 92 92 92 ...\n",
      " $ Windspeed  : num  7 6.67 6.33 6 5.67 ...\n",
      " $ Visibility : num  63 59.2 55.3 51.5 47.7 ...\n",
      " $ Tdewpoint  : num  5.3 5.2 5.1 5 4.9 ...\n",
      " $ rv1        : num  13.3 18.6 28.6 45.4 10.1 ...\n",
      " $ rv2        : num  13.3 18.6 28.6 45.4 10.1 ...\n"
     ]
    }
   ],
   "source": [
    "energy_data <- read.csv(\"00 - Data Set/energydata_complete.csv\")\n",
    "str(energy_data)"
   ]
  },
  {
   "cell_type": "markdown",
   "metadata": {},
   "source": [
    "**Observation:**\n",
    "The date feature is the only feature with an inadequate data type and we need to make sure this feature is considered as a date format to generate the necessary features."
   ]
  },
  {
   "cell_type": "code",
   "execution_count": 5,
   "metadata": {},
   "outputs": [
    {
     "name": "stdout",
     "output_type": "stream",
     "text": [
      " POSIXct[1:19735], format: \"2016-01-11 17:00:00\" \"2016-01-11 17:10:00\" \"2016-01-11 17:20:00\" ...\n"
     ]
    },
    {
     "data": {
      "text/html": [
       "<ol class=list-inline>\n",
       "\t<li>'POSIXct'</li>\n",
       "\t<li>'POSIXt'</li>\n",
       "</ol>\n"
      ],
      "text/latex": [
       "\\begin{enumerate*}\n",
       "\\item 'POSIXct'\n",
       "\\item 'POSIXt'\n",
       "\\end{enumerate*}\n"
      ],
      "text/markdown": [
       "1. 'POSIXct'\n",
       "2. 'POSIXt'\n",
       "\n",
       "\n"
      ],
      "text/plain": [
       "[1] \"POSIXct\" \"POSIXt\" "
      ]
     },
     "metadata": {},
     "output_type": "display_data"
    },
    {
     "name": "stdout",
     "output_type": "stream",
     "text": [
      " POSIXct[1:19735], format: \"2016-01-11 17:00:00\" \"2016-01-11 17:10:00\" \"2016-01-11 17:20:00\" ...\n"
     ]
    }
   ],
   "source": [
    "#show date data type with inapropriate data type\n",
    "str(energy_data$date)\n",
    "\n",
    "#fix date data type\n",
    "energy_data$date <- strptime(as.character(energy_data$date),format=\"%Y-%m-%d %H:%M:%S\")\n",
    "energy_data$date <- as.POSIXct(energy_data$date,tz=\"UTC\")\n",
    "\n",
    "#validate data type for date\n",
    "class(energy_data$date)\n",
    "\n",
    "#validate data set shows proper data type\n",
    "str(energy_data$date)"
   ]
  },
  {
   "cell_type": "markdown",
   "metadata": {},
   "source": [
    "**Observation:**\n",
    "The first features created by the researchers were *number of seconds since midnight (NSM)*, *week status*, and *day of the week*. These new features would allow us to categorize instances in a finite time set; a common approach for time series.\n",
    "\n",
    "Prior to include these new values to the data set the researcher needed to create a function to calculate NSM and Week Status."
   ]
  },
  {
   "cell_type": "code",
   "execution_count": 30,
   "metadata": {},
   "outputs": [],
   "source": [
    "#include necessary libraries\n",
    "suppressWarnings(library(lubridate))\n",
    "\n",
    "# New Functions\n",
    "second_day <- function(x){\n",
    "    #x is an object in posixct format\n",
    "    s <- hour(x)*3600+minute(x)*60+second(x)\n",
    "}\n",
    "\n",
    "weekend_weekday <- function(x) {\n",
    "    val <- weekdays(x)\n",
    "    if(val == \"Saturday\" | val == \"Sunday\"){\n",
    "        val2 = \"Weekend\"\n",
    "    }\n",
    "    else {\n",
    "        val2 = \"Weekday\"\n",
    "    }\n",
    "    return(val2)\n",
    "}"
   ]
  },
  {
   "cell_type": "code",
   "execution_count": 9,
   "metadata": {},
   "outputs": [
    {
     "data": {
      "text/html": [
       "<ol class=list-inline>\n",
       "\t<li>'Weekday'</li>\n",
       "\t<li>'Weekend'</li>\n",
       "</ol>\n"
      ],
      "text/latex": [
       "\\begin{enumerate*}\n",
       "\\item 'Weekday'\n",
       "\\item 'Weekend'\n",
       "\\end{enumerate*}\n"
      ],
      "text/markdown": [
       "1. 'Weekday'\n",
       "2. 'Weekend'\n",
       "\n",
       "\n"
      ],
      "text/plain": [
       "[1] \"Weekday\" \"Weekend\""
      ]
     },
     "metadata": {},
     "output_type": "display_data"
    },
    {
     "data": {
      "text/html": [
       "<ol class=list-inline>\n",
       "\t<li>'Monday'</li>\n",
       "\t<li>'Tuesday'</li>\n",
       "\t<li>'Wednesday'</li>\n",
       "\t<li>'Thursday'</li>\n",
       "\t<li>'Friday'</li>\n",
       "\t<li>'Saturday'</li>\n",
       "\t<li>'Sunday'</li>\n",
       "</ol>\n"
      ],
      "text/latex": [
       "\\begin{enumerate*}\n",
       "\\item 'Monday'\n",
       "\\item 'Tuesday'\n",
       "\\item 'Wednesday'\n",
       "\\item 'Thursday'\n",
       "\\item 'Friday'\n",
       "\\item 'Saturday'\n",
       "\\item 'Sunday'\n",
       "\\end{enumerate*}\n"
      ],
      "text/markdown": [
       "1. 'Monday'\n",
       "2. 'Tuesday'\n",
       "3. 'Wednesday'\n",
       "4. 'Thursday'\n",
       "5. 'Friday'\n",
       "6. 'Saturday'\n",
       "7. 'Sunday'\n",
       "\n",
       "\n"
      ],
      "text/plain": [
       "[1] \"Monday\"    \"Tuesday\"   \"Wednesday\" \"Thursday\"  \"Friday\"    \"Saturday\" \n",
       "[7] \"Sunday\"   "
      ]
     },
     "metadata": {},
     "output_type": "display_data"
    },
    {
     "data": {
      "text/html": [
       "<ol class=list-inline>\n",
       "\t<li>61200</li>\n",
       "\t<li>61800</li>\n",
       "\t<li>62400</li>\n",
       "\t<li>63000</li>\n",
       "\t<li>63600</li>\n",
       "\t<li>64200</li>\n",
       "\t<li>64800</li>\n",
       "\t<li>65400</li>\n",
       "\t<li>66000</li>\n",
       "\t<li>66600</li>\n",
       "\t<li>67200</li>\n",
       "\t<li>67800</li>\n",
       "\t<li>68400</li>\n",
       "\t<li>69000</li>\n",
       "\t<li>69600</li>\n",
       "\t<li>70200</li>\n",
       "\t<li>70800</li>\n",
       "\t<li>71400</li>\n",
       "\t<li>72000</li>\n",
       "\t<li>72600</li>\n",
       "\t<li>73200</li>\n",
       "\t<li>73800</li>\n",
       "\t<li>74400</li>\n",
       "\t<li>75000</li>\n",
       "\t<li>75600</li>\n",
       "\t<li>76200</li>\n",
       "\t<li>76800</li>\n",
       "\t<li>77400</li>\n",
       "\t<li>78000</li>\n",
       "\t<li>78600</li>\n",
       "\t<li>79200</li>\n",
       "\t<li>79800</li>\n",
       "\t<li>80400</li>\n",
       "\t<li>81000</li>\n",
       "\t<li>81600</li>\n",
       "\t<li>82200</li>\n",
       "\t<li>82800</li>\n",
       "\t<li>83400</li>\n",
       "\t<li>84000</li>\n",
       "\t<li>84600</li>\n",
       "\t<li>85200</li>\n",
       "\t<li>85800</li>\n",
       "\t<li>0</li>\n",
       "\t<li>600</li>\n",
       "\t<li>1200</li>\n",
       "\t<li>1800</li>\n",
       "\t<li>2400</li>\n",
       "\t<li>3000</li>\n",
       "\t<li>3600</li>\n",
       "\t<li>4200</li>\n",
       "\t<li>4800</li>\n",
       "\t<li>5400</li>\n",
       "\t<li>6000</li>\n",
       "\t<li>6600</li>\n",
       "\t<li>7200</li>\n",
       "\t<li>7800</li>\n",
       "\t<li>8400</li>\n",
       "\t<li>9000</li>\n",
       "\t<li>9600</li>\n",
       "\t<li>10200</li>\n",
       "\t<li>10800</li>\n",
       "\t<li>11400</li>\n",
       "\t<li>12000</li>\n",
       "\t<li>12600</li>\n",
       "\t<li>13200</li>\n",
       "\t<li>13800</li>\n",
       "\t<li>14400</li>\n",
       "\t<li>15000</li>\n",
       "\t<li>15600</li>\n",
       "\t<li>16200</li>\n",
       "\t<li>16800</li>\n",
       "\t<li>17400</li>\n",
       "\t<li>18000</li>\n",
       "\t<li>18600</li>\n",
       "\t<li>19200</li>\n",
       "\t<li>19800</li>\n",
       "\t<li>20400</li>\n",
       "\t<li>21000</li>\n",
       "\t<li>21600</li>\n",
       "\t<li>22200</li>\n",
       "\t<li>22800</li>\n",
       "\t<li>23400</li>\n",
       "\t<li>24000</li>\n",
       "\t<li>24600</li>\n",
       "\t<li>25200</li>\n",
       "\t<li>25800</li>\n",
       "\t<li>26400</li>\n",
       "\t<li>27000</li>\n",
       "\t<li>27600</li>\n",
       "\t<li>28200</li>\n",
       "\t<li>28800</li>\n",
       "\t<li>29400</li>\n",
       "\t<li>30000</li>\n",
       "\t<li>30600</li>\n",
       "\t<li>31200</li>\n",
       "\t<li>31800</li>\n",
       "\t<li>32400</li>\n",
       "\t<li>33000</li>\n",
       "\t<li>33600</li>\n",
       "\t<li>34200</li>\n",
       "\t<li>34800</li>\n",
       "\t<li>35400</li>\n",
       "\t<li>36000</li>\n",
       "\t<li>36600</li>\n",
       "\t<li>37200</li>\n",
       "\t<li>37800</li>\n",
       "\t<li>38400</li>\n",
       "\t<li>39000</li>\n",
       "\t<li>39600</li>\n",
       "\t<li>40200</li>\n",
       "\t<li>40800</li>\n",
       "\t<li>41400</li>\n",
       "\t<li>42000</li>\n",
       "\t<li>42600</li>\n",
       "\t<li>43200</li>\n",
       "\t<li>43800</li>\n",
       "\t<li>44400</li>\n",
       "\t<li>45000</li>\n",
       "\t<li>45600</li>\n",
       "\t<li>46200</li>\n",
       "\t<li>46800</li>\n",
       "\t<li>47400</li>\n",
       "\t<li>48000</li>\n",
       "\t<li>48600</li>\n",
       "\t<li>49200</li>\n",
       "\t<li>49800</li>\n",
       "\t<li>50400</li>\n",
       "\t<li>51000</li>\n",
       "\t<li>51600</li>\n",
       "\t<li>52200</li>\n",
       "\t<li>52800</li>\n",
       "\t<li>53400</li>\n",
       "\t<li>54000</li>\n",
       "\t<li>54600</li>\n",
       "\t<li>55200</li>\n",
       "\t<li>55800</li>\n",
       "\t<li>56400</li>\n",
       "\t<li>57000</li>\n",
       "\t<li>57600</li>\n",
       "\t<li>58200</li>\n",
       "\t<li>58800</li>\n",
       "\t<li>59400</li>\n",
       "\t<li>60000</li>\n",
       "\t<li>60600</li>\n",
       "</ol>\n"
      ],
      "text/latex": [
       "\\begin{enumerate*}\n",
       "\\item 61200\n",
       "\\item 61800\n",
       "\\item 62400\n",
       "\\item 63000\n",
       "\\item 63600\n",
       "\\item 64200\n",
       "\\item 64800\n",
       "\\item 65400\n",
       "\\item 66000\n",
       "\\item 66600\n",
       "\\item 67200\n",
       "\\item 67800\n",
       "\\item 68400\n",
       "\\item 69000\n",
       "\\item 69600\n",
       "\\item 70200\n",
       "\\item 70800\n",
       "\\item 71400\n",
       "\\item 72000\n",
       "\\item 72600\n",
       "\\item 73200\n",
       "\\item 73800\n",
       "\\item 74400\n",
       "\\item 75000\n",
       "\\item 75600\n",
       "\\item 76200\n",
       "\\item 76800\n",
       "\\item 77400\n",
       "\\item 78000\n",
       "\\item 78600\n",
       "\\item 79200\n",
       "\\item 79800\n",
       "\\item 80400\n",
       "\\item 81000\n",
       "\\item 81600\n",
       "\\item 82200\n",
       "\\item 82800\n",
       "\\item 83400\n",
       "\\item 84000\n",
       "\\item 84600\n",
       "\\item 85200\n",
       "\\item 85800\n",
       "\\item 0\n",
       "\\item 600\n",
       "\\item 1200\n",
       "\\item 1800\n",
       "\\item 2400\n",
       "\\item 3000\n",
       "\\item 3600\n",
       "\\item 4200\n",
       "\\item 4800\n",
       "\\item 5400\n",
       "\\item 6000\n",
       "\\item 6600\n",
       "\\item 7200\n",
       "\\item 7800\n",
       "\\item 8400\n",
       "\\item 9000\n",
       "\\item 9600\n",
       "\\item 10200\n",
       "\\item 10800\n",
       "\\item 11400\n",
       "\\item 12000\n",
       "\\item 12600\n",
       "\\item 13200\n",
       "\\item 13800\n",
       "\\item 14400\n",
       "\\item 15000\n",
       "\\item 15600\n",
       "\\item 16200\n",
       "\\item 16800\n",
       "\\item 17400\n",
       "\\item 18000\n",
       "\\item 18600\n",
       "\\item 19200\n",
       "\\item 19800\n",
       "\\item 20400\n",
       "\\item 21000\n",
       "\\item 21600\n",
       "\\item 22200\n",
       "\\item 22800\n",
       "\\item 23400\n",
       "\\item 24000\n",
       "\\item 24600\n",
       "\\item 25200\n",
       "\\item 25800\n",
       "\\item 26400\n",
       "\\item 27000\n",
       "\\item 27600\n",
       "\\item 28200\n",
       "\\item 28800\n",
       "\\item 29400\n",
       "\\item 30000\n",
       "\\item 30600\n",
       "\\item 31200\n",
       "\\item 31800\n",
       "\\item 32400\n",
       "\\item 33000\n",
       "\\item 33600\n",
       "\\item 34200\n",
       "\\item 34800\n",
       "\\item 35400\n",
       "\\item 36000\n",
       "\\item 36600\n",
       "\\item 37200\n",
       "\\item 37800\n",
       "\\item 38400\n",
       "\\item 39000\n",
       "\\item 39600\n",
       "\\item 40200\n",
       "\\item 40800\n",
       "\\item 41400\n",
       "\\item 42000\n",
       "\\item 42600\n",
       "\\item 43200\n",
       "\\item 43800\n",
       "\\item 44400\n",
       "\\item 45000\n",
       "\\item 45600\n",
       "\\item 46200\n",
       "\\item 46800\n",
       "\\item 47400\n",
       "\\item 48000\n",
       "\\item 48600\n",
       "\\item 49200\n",
       "\\item 49800\n",
       "\\item 50400\n",
       "\\item 51000\n",
       "\\item 51600\n",
       "\\item 52200\n",
       "\\item 52800\n",
       "\\item 53400\n",
       "\\item 54000\n",
       "\\item 54600\n",
       "\\item 55200\n",
       "\\item 55800\n",
       "\\item 56400\n",
       "\\item 57000\n",
       "\\item 57600\n",
       "\\item 58200\n",
       "\\item 58800\n",
       "\\item 59400\n",
       "\\item 60000\n",
       "\\item 60600\n",
       "\\end{enumerate*}\n"
      ],
      "text/markdown": [
       "1. 61200\n",
       "2. 61800\n",
       "3. 62400\n",
       "4. 63000\n",
       "5. 63600\n",
       "6. 64200\n",
       "7. 64800\n",
       "8. 65400\n",
       "9. 66000\n",
       "10. 66600\n",
       "11. 67200\n",
       "12. 67800\n",
       "13. 68400\n",
       "14. 69000\n",
       "15. 69600\n",
       "16. 70200\n",
       "17. 70800\n",
       "18. 71400\n",
       "19. 72000\n",
       "20. 72600\n",
       "21. 73200\n",
       "22. 73800\n",
       "23. 74400\n",
       "24. 75000\n",
       "25. 75600\n",
       "26. 76200\n",
       "27. 76800\n",
       "28. 77400\n",
       "29. 78000\n",
       "30. 78600\n",
       "31. 79200\n",
       "32. 79800\n",
       "33. 80400\n",
       "34. 81000\n",
       "35. 81600\n",
       "36. 82200\n",
       "37. 82800\n",
       "38. 83400\n",
       "39. 84000\n",
       "40. 84600\n",
       "41. 85200\n",
       "42. 85800\n",
       "43. 0\n",
       "44. 600\n",
       "45. 1200\n",
       "46. 1800\n",
       "47. 2400\n",
       "48. 3000\n",
       "49. 3600\n",
       "50. 4200\n",
       "51. 4800\n",
       "52. 5400\n",
       "53. 6000\n",
       "54. 6600\n",
       "55. 7200\n",
       "56. 7800\n",
       "57. 8400\n",
       "58. 9000\n",
       "59. 9600\n",
       "60. 10200\n",
       "61. 10800\n",
       "62. 11400\n",
       "63. 12000\n",
       "64. 12600\n",
       "65. 13200\n",
       "66. 13800\n",
       "67. 14400\n",
       "68. 15000\n",
       "69. 15600\n",
       "70. 16200\n",
       "71. 16800\n",
       "72. 17400\n",
       "73. 18000\n",
       "74. 18600\n",
       "75. 19200\n",
       "76. 19800\n",
       "77. 20400\n",
       "78. 21000\n",
       "79. 21600\n",
       "80. 22200\n",
       "81. 22800\n",
       "82. 23400\n",
       "83. 24000\n",
       "84. 24600\n",
       "85. 25200\n",
       "86. 25800\n",
       "87. 26400\n",
       "88. 27000\n",
       "89. 27600\n",
       "90. 28200\n",
       "91. 28800\n",
       "92. 29400\n",
       "93. 30000\n",
       "94. 30600\n",
       "95. 31200\n",
       "96. 31800\n",
       "97. 32400\n",
       "98. 33000\n",
       "99. 33600\n",
       "100. 34200\n",
       "101. 34800\n",
       "102. 35400\n",
       "103. 36000\n",
       "104. 36600\n",
       "105. 37200\n",
       "106. 37800\n",
       "107. 38400\n",
       "108. 39000\n",
       "109. 39600\n",
       "110. 40200\n",
       "111. 40800\n",
       "112. 41400\n",
       "113. 42000\n",
       "114. 42600\n",
       "115. 43200\n",
       "116. 43800\n",
       "117. 44400\n",
       "118. 45000\n",
       "119. 45600\n",
       "120. 46200\n",
       "121. 46800\n",
       "122. 47400\n",
       "123. 48000\n",
       "124. 48600\n",
       "125. 49200\n",
       "126. 49800\n",
       "127. 50400\n",
       "128. 51000\n",
       "129. 51600\n",
       "130. 52200\n",
       "131. 52800\n",
       "132. 53400\n",
       "133. 54000\n",
       "134. 54600\n",
       "135. 55200\n",
       "136. 55800\n",
       "137. 56400\n",
       "138. 57000\n",
       "139. 57600\n",
       "140. 58200\n",
       "141. 58800\n",
       "142. 59400\n",
       "143. 60000\n",
       "144. 60600\n",
       "\n",
       "\n"
      ],
      "text/plain": [
       "  [1] 61200 61800 62400 63000 63600 64200 64800 65400 66000 66600 67200 67800\n",
       " [13] 68400 69000 69600 70200 70800 71400 72000 72600 73200 73800 74400 75000\n",
       " [25] 75600 76200 76800 77400 78000 78600 79200 79800 80400 81000 81600 82200\n",
       " [37] 82800 83400 84000 84600 85200 85800     0   600  1200  1800  2400  3000\n",
       " [49]  3600  4200  4800  5400  6000  6600  7200  7800  8400  9000  9600 10200\n",
       " [61] 10800 11400 12000 12600 13200 13800 14400 15000 15600 16200 16800 17400\n",
       " [73] 18000 18600 19200 19800 20400 21000 21600 22200 22800 23400 24000 24600\n",
       " [85] 25200 25800 26400 27000 27600 28200 28800 29400 30000 30600 31200 31800\n",
       " [97] 32400 33000 33600 34200 34800 35400 36000 36600 37200 37800 38400 39000\n",
       "[109] 39600 40200 40800 41400 42000 42600 43200 43800 44400 45000 45600 46200\n",
       "[121] 46800 47400 48000 48600 49200 49800 50400 51000 51600 52200 52800 53400\n",
       "[133] 54000 54600 55200 55800 56400 57000 57600 58200 58800 59400 60000 60600"
      ]
     },
     "metadata": {},
     "output_type": "display_data"
    }
   ],
   "source": [
    "#Adding new features to data set\n",
    "energy_data$NSM <- second_day(energy_data$date)\n",
    "energy_data$WeekStatus <- unlist(lapply(energy_data$date, weekend_weekday))\n",
    "energy_data$Day_of_week <- weekdays(energy_data$date)\n",
    "\n",
    "#Validate that week status and day of the week features only contains the appropriate values\n",
    "unique(energy_data$WeekStatus)\n",
    "unique(energy_data$Day_of_week)\n",
    "unique(energy_data$NSM)"
   ]
  },
  {
   "cell_type": "code",
   "execution_count": 14,
   "metadata": {},
   "outputs": [
    {
     "name": "stdout",
     "output_type": "stream",
     "text": [
      " Factor w/ 2 levels \"Weekday\",\"Weekend\": 1 1 1 1 1 1 1 1 1 1 ...\n",
      " Factor w/ 7 levels \"Friday\",\"Monday\",..: 2 2 2 2 2 2 2 2 2 2 ...\n",
      " num [1:19735] 61200 61800 62400 63000 63600 64200 64800 65400 66000 66600 ...\n",
      "[1] \"---------------\"\n",
      " Factor w/ 2 levels \"Weekday\",\"Weekend\": 1 1 1 1 1 1 1 1 1 1 ...\n",
      " Factor w/ 7 levels \"Friday\",\"Monday\",..: 2 2 2 2 2 2 2 2 2 2 ...\n",
      " num [1:19735] 61200 61800 62400 63000 63600 64200 64800 65400 66000 66600 ...\n"
     ]
    }
   ],
   "source": [
    "#Validate that new features show the correct data type\n",
    "str(energy_data$WeekStatus)\n",
    "str(energy_data$Day_of_week)\n",
    "str(energy_data$NSM)\n",
    "\n",
    "#Change data type for Day_of_Week and WeekStatus from Chr to Factor\n",
    "energy_data$Day_of_week <- as.factor(energy_data$Day_of_week)\n",
    "energy_data$WeekStatus <- as.factor(energy_data$WeekStatus)\n",
    "\n",
    "print(\"---------------\")\n",
    "\n",
    "#Validate that new features show the correct data type\n",
    "str(energy_data$WeekStatus)\n",
    "str(energy_data$Day_of_week)\n",
    "str(energy_data$NSM)"
   ]
  },
  {
   "cell_type": "code",
   "execution_count": 22,
   "metadata": {},
   "outputs": [
    {
     "data": {
      "text/plain": [
       "[1] \"2016-01-11 17:00:00 UTC\""
      ]
     },
     "metadata": {},
     "output_type": "display_data"
    },
    {
     "data": {
      "text/plain": [
       "[1] \"2016-01-18 16:50:00 UTC\""
      ]
     },
     "metadata": {},
     "output_type": "display_data"
    },
    {
     "data": {
      "text/html": [
       "<strong>png:</strong> 2"
      ],
      "text/latex": [
       "\\textbf{png:} 2"
      ],
      "text/markdown": [
       "**png:** 2"
      ],
      "text/plain": [
       "png \n",
       "  2 "
      ]
     },
     "metadata": {},
     "output_type": "display_data"
    },
    {
     "data": {
      "image/png": "[encoded data removed]",
      "text/plain": [
       "plot without title"
      ]
     },
     "metadata": {},
     "output_type": "display_data"
    }
   ],
   "source": [
    "#Include appropriate libraries\n",
    "library(gridExtra)\n",
    "\n",
    "#Find intervals for 1 week worth of data\n",
    "energy_data$date[1]\n",
    "energy_data$date[1008]\n",
    "\n",
    "#Create time series plot for appliance energy values\n",
    "plot1 <- qplot(energy_data$date, \n",
    "               energy_data$Appliances,\n",
    "               xlab='Time',\n",
    "               ylab='Appliances Wh',\n",
    "               geom=\"line\")+theme_grey(base_size = 18)\n",
    "\n",
    "plot2 <- qplot(energy_data$date[1:1008],\n",
    "               energy_data$Appliances[1:1008],\n",
    "               xlab='Time(1 week)',\n",
    "               ylab='Appliances Wh',\n",
    "               geom=\"line\")+theme_grey(base_size = 18)\n",
    "\n",
    "grid.arrange(plot1, plot2, nrow=2)\n",
    "\n",
    "#Capture plots in an image\n",
    "png('00-Appliances_Time_Series_Profile.png',width = 14, height = 10, units = 'in', res = 300)\n",
    "grid.arrange(plot1, plot2, nrow=2)\n",
    "dev.off()"
   ]
  },
  {
   "cell_type": "code",
   "execution_count": 23,
   "metadata": {},
   "outputs": [
    {
     "data": {
      "text/html": [
       "<strong>png:</strong> 2"
      ],
      "text/latex": [
       "\\textbf{png:} 2"
      ],
      "text/markdown": [
       "**png:** 2"
      ],
      "text/plain": [
       "png \n",
       "  2 "
      ]
     },
     "metadata": {},
     "output_type": "display_data"
    },
    {
     "data": {
      "image/png": "[encoded data removed]",
      "text/plain": [
       "Plot with title \"\""
      ]
     },
     "metadata": {},
     "output_type": "display_data"
    }
   ],
   "source": [
    "#Plot Histogram and box plot for appliance energy feature class\n",
    "par(mfrow=c(2,1))\n",
    "hist(energy_data$Appliances,main=\"\",xlab=\"Appliances Wh\", breaks=40,\n",
    "     col='lightblue',xlim=c(0,1200),ylim=c(0,9000),cex.lab=1.5,cex.axis=1.5,cex.main=1.5,cex.sub=1.5)\n",
    "boxplot(energy_data$Appliances,\n",
    "        boxfill='lightblue',horizontal=TRUE,ylim=c(0,1200),xlab=\"Appliances Wh\",frame=F,\n",
    "        cex.lab=1.5,cex.axis=1.5,cex.main=1.5,cex.sub=1.5)\n",
    "\n",
    "\n",
    "png('01-Appliances_Histogram_and_Boxplot.png',width = 14, height = 10, units = 'in', res = 300)\n",
    "par(mfrow=c(2,1))\n",
    "hist(energy_data$Appliances,main=\"\",xlab=\"Appliances Wh\", breaks=40,\n",
    "     col='lightblue',xlim=c(0,1200),ylim=c(0,9000),cex.lab=1.5,cex.axis=1.5,cex.main=1.5,cex.sub=1.5)\n",
    "boxplot(energy_data$Appliances,\n",
    "        boxfill='lightblue',horizontal=TRUE,ylim=c(0,1200),xlab=\"Appliances Wh\",frame=F,\n",
    "        cex.lab=1.5,cex.axis=1.5,cex.main=1.5,cex.sub=1.5)\n",
    "dev.off()"
   ]
  },
  {
   "cell_type": "code",
   "execution_count": 26,
   "metadata": {},
   "outputs": [
    {
     "name": "stdout",
     "output_type": "stream",
     "text": [
      " POSIXct[1:19735], format: \"2016-01-01\" \"2016-01-01\" \"2016-01-01\" \"2016-01-01\" \"2016-01-01\" ...\n",
      " POSIXct[1:19735], format: \"2016-01-11 17:00:00\" \"2016-01-11 17:00:00\" \"2016-01-11 17:00:00\" ...\n"
     ]
    }
   ],
   "source": [
    "#Create data set for heat map\n",
    "heat_map_data <- energy_data\n",
    "\n",
    "#Add necessary features for the heat map\n",
    "heat_map_data$my <- floor_date(heat_map_data$date,\"month\")\n",
    "heat_map_data$mhr <- floor_date(heat_map_data$date,\"hour\")\n",
    "\n",
    "#Validate new features creation\n",
    "str(heat_map_data$my)\n",
    "str(heat_map_data$mhr)"
   ]
  },
  {
   "cell_type": "code",
   "execution_count": 39,
   "metadata": {},
   "outputs": [
    {
     "data": {
      "text/html": [
       "<table>\n",
       "<thead><tr><th scope=col>mhr</th><th scope=col>Appliances</th><th scope=col>Day_week</th><th scope=col>week_year</th><th scope=col>Hour</th></tr></thead>\n",
       "<tbody>\n",
       "\t<tr><td>2016-01-11 17:00:00</td><td> 330               </td><td>Mon                </td><td>2                  </td><td>17                 </td></tr>\n",
       "\t<tr><td>2016-01-11 18:00:00</td><td>1060               </td><td>Mon                </td><td>2                  </td><td>18                 </td></tr>\n",
       "\t<tr><td>2016-01-11 19:00:00</td><td>1040               </td><td>Mon                </td><td>2                  </td><td>19                 </td></tr>\n",
       "\t<tr><td>2016-01-11 20:00:00</td><td> 750               </td><td>Mon                </td><td>2                  </td><td>20                 </td></tr>\n",
       "\t<tr><td>2016-01-11 21:00:00</td><td> 620               </td><td>Mon                </td><td>2                  </td><td>21                 </td></tr>\n",
       "</tbody>\n",
       "</table>\n"
      ],
      "text/latex": [
       "\\begin{tabular}{r|lllll}\n",
       " mhr & Appliances & Day\\_week & week\\_year & Hour\\\\\n",
       "\\hline\n",
       "\t 2016-01-11 17:00:00 &  330                & Mon                 & 2                   & 17                 \\\\\n",
       "\t 2016-01-11 18:00:00 & 1060                & Mon                 & 2                   & 18                 \\\\\n",
       "\t 2016-01-11 19:00:00 & 1040                & Mon                 & 2                   & 19                 \\\\\n",
       "\t 2016-01-11 20:00:00 &  750                & Mon                 & 2                   & 20                 \\\\\n",
       "\t 2016-01-11 21:00:00 &  620                & Mon                 & 2                   & 21                 \\\\\n",
       "\\end{tabular}\n"
      ],
      "text/markdown": [
       "\n",
       "mhr | Appliances | Day_week | week_year | Hour | \n",
       "|---|---|---|---|---|\n",
       "| 2016-01-11 17:00:00 |  330                | Mon                 | 2                   | 17                  | \n",
       "| 2016-01-11 18:00:00 | 1060                | Mon                 | 2                   | 18                  | \n",
       "| 2016-01-11 19:00:00 | 1040                | Mon                 | 2                   | 19                  | \n",
       "| 2016-01-11 20:00:00 |  750                | Mon                 | 2                   | 20                  | \n",
       "| 2016-01-11 21:00:00 |  620                | Mon                 | 2                   | 21                  | \n",
       "\n",
       "\n"
      ],
      "text/plain": [
       "  mhr                 Appliances Day_week week_year Hour\n",
       "1 2016-01-11 17:00:00  330       Mon      2         17  \n",
       "2 2016-01-11 18:00:00 1060       Mon      2         18  \n",
       "3 2016-01-11 19:00:00 1040       Mon      2         19  \n",
       "4 2016-01-11 20:00:00  750       Mon      2         20  \n",
       "5 2016-01-11 21:00:00  620       Mon      2         21  "
      ]
     },
     "metadata": {},
     "output_type": "display_data"
    }
   ],
   "source": [
    "#Create heat map data summary per hour\n",
    "#Include appropriate libraries\n",
    "suppressWarnings(library(plyr))\n",
    "\n",
    "HM_data_hour <- ddply(heat_map_data, \"mhr\", summarise, Appliances=sum(Appliances))\n",
    "\n",
    "#Add day of week feature\n",
    "HM_data_hour$Day_week <- wday(HM_data_hour$mhr, label=TRUE)\n",
    "\n",
    "#Add week number feature\n",
    "HM_data_hour$week_year <- week(HM_data_hour$mhr)\n",
    "\n",
    "#Add hour feature\n",
    "HM_data_hour$Hour <- hour(HM_data_hour$mhr)\n",
    "\n",
    "#Show final data frame\n",
    "head(HM_data_hour,5)"
   ]
  },
  {
   "cell_type": "code",
   "execution_count": 40,
   "metadata": {},
   "outputs": [
    {
     "data": {
      "text/plain": [
       "      mhr                        Appliances   Day_week    week_year    \n",
       " Min.   :2016-01-11 17:00:00   Min.   : 170   Sun:456   Min.   : 2.00  \n",
       " 1st Qu.:2016-02-14 23:15:00   1st Qu.: 300   Mon:463   1st Qu.: 7.00  \n",
       " Median :2016-03-20 05:30:00   Median : 380   Tue:480   Median :12.00  \n",
       " Mean   :2016-03-20 05:30:00   Mean   : 586   Wed:480   Mean   :11.82  \n",
       " 3rd Qu.:2016-04-23 11:45:00   3rd Qu.: 660   Thu:480   3rd Qu.:17.00  \n",
       " Max.   :2016-05-27 18:00:00   Max.   :3650   Fri:475   Max.   :22.00  \n",
       "                                              Sat:456                  \n",
       "      Hour      \n",
       " Min.   : 0.00  \n",
       " 1st Qu.: 6.00  \n",
       " Median :12.00  \n",
       " Mean   :11.50  \n",
       " 3rd Qu.:17.75  \n",
       " Max.   :23.00  \n",
       "                "
      ]
     },
     "metadata": {},
     "output_type": "display_data"
    }
   ],
   "source": [
    "#Ensure na values are removed\n",
    "HM_data_hour <- na.omit(HM_data_hour)\n",
    "\n",
    "#Show data frame summary\n",
    "summary(HM_data_hour)"
   ]
  },
  {
   "cell_type": "code",
   "execution_count": 51,
   "metadata": {},
   "outputs": [
    {
     "name": "stdout",
     "output_type": "stream",
     "text": [
      "Min Appliance Value for W1 is 190 \n",
      "Max Appliance Value for W1 is 3350 \n",
      "\n",
      "Min Appliance Value for W2 is 170 \n",
      "Max Appliance Value for W2 is 3650 \n",
      "\n",
      "Min Appliance Value for W3 is 170 \n",
      "Max Appliance Value for W3 is 3420 \n",
      "\n",
      "Min Appliance Value for W4 is 180 \n",
      "Max Appliance Value for W4 is 2740 \n",
      "\n"
     ]
    }
   ],
   "source": [
    "#Separate data frame on a weekly basis\n",
    "HM_data_hour_w1 <- HM_data_hour[HM_data_hour$week_year==3,]\n",
    "HM_data_hour_w2 <- HM_data_hour[HM_data_hour$week_year==4,]\n",
    "HM_data_hour_w3 <- HM_data_hour[HM_data_hour$week_year==5,]\n",
    "HM_data_hour_w4 <- HM_data_hour[HM_data_hour$week_year==6,]\n",
    "\n",
    "#Validate min and max value for each data frame\n",
    "cat(\"Min Appliance Value for W1 is\", min(HM_data_hour_w1$Appliances),\"\\n\")\n",
    "cat(\"Max Appliance Value for W1 is\", max(HM_data_hour_w1$Appliances),\"\\n\\n\")\n",
    "cat(\"\")\n",
    "cat(\"Min Appliance Value for W2 is\", min(HM_data_hour_w2$Appliances),\"\\n\")\n",
    "cat(\"Max Appliance Value for W2 is\", max(HM_data_hour_w2$Appliances),\"\\n\\n\")\n",
    "\n",
    "cat(\"Min Appliance Value for W3 is\", min(HM_data_hour_w3$Appliances),\"\\n\")\n",
    "cat(\"Max Appliance Value for W3 is\", max(HM_data_hour_w3$Appliances),\"\\n\\n\")\n",
    "\n",
    "cat(\"Min Appliance Value for W4 is\", min(HM_data_hour_w4$Appliances),\"\\n\")\n",
    "cat(\"Max Appliance Value for W4 is\", max(HM_data_hour_w4$Appliances),\"\\n\\n\")"
   ]
  },
  {
   "cell_type": "code",
   "execution_count": 113,
   "metadata": {},
   "outputs": [
    {
     "data": {},
     "metadata": {},
     "output_type": "display_data"
    },
    {
     "data": {},
     "metadata": {},
     "output_type": "display_data"
    },
    {
     "data": {
      "text/html": [
       "<strong>png:</strong> 2"
      ],
      "text/latex": [
       "\\textbf{png:} 2"
      ],
      "text/markdown": [
       "**png:** 2"
      ],
      "text/plain": [
       "png \n",
       "  2 "
      ]
     },
     "metadata": {},
     "output_type": "display_data"
    },
    {
     "data": {
      "image/png": "[encoded data removed]",
      "text/plain": [
       "plot without title"
      ]
     },
     "metadata": {},
     "output_type": "display_data"
    }
   ],
   "source": [
    "#Plot heat maps\n",
    "\n",
    "#include proper library\n",
    "suppressWarnings(library(ggplot2))\n",
    "\n",
    "#Generate Heat Map Plot for week 1\n",
    "gg1 <- ggplot(HM_data_hour_w1, aes(x=Day_week, y=Hour, fill=Appliances)) +\n",
    "       geom_tile(aes(fill=Appliances), colour=\"white\", size = 0.50) +\n",
    "       scale_fill_gradient(low=\"yellow\", high=\"red\", limit=c(150, 3800)) +\n",
    "       theme_grey(base_size = 9) +\n",
    "       labs(x=\"Day of Week\", y=\"Hour of Day\") +\n",
    "       ggtitle(\"Week 1\") +\n",
    "       scale_x_discrete(expand = c(0,0)) +\n",
    "       scale_y_continuous(expand = c(0,0), breaks = seq(0,23,1)) +\n",
    "       coord_equal() +\n",
    "       theme(axis.ticks = element_blank(),\n",
    "             plot.title=element_text(hjust=0.5),\n",
    "             axis.title=element_text(face=\"bold\"),\n",
    "             legend.title=element_text(face=\"bold\"),\n",
    "             axis.text.y = element_text(size = 9 * 0.8,\n",
    "                                        angle = 0,\n",
    "                                        hjust = 0,\n",
    "                                        colour=\"grey50\"),\n",
    "             axis.text.x = element_text(size = 9 * 0.8,\n",
    "                                        angle = 330,\n",
    "                                        hjust = 0,\n",
    "                                        colour=\"grey50\"))\n",
    "gg1\n",
    "\n",
    "png('02-01-Week_1_Heat_Map.png',width = 14, height = 10, units = 'in', res = 300)\n",
    "gg1\n",
    "dev.off()\n"
   ]
  },
  {
   "cell_type": "code",
   "execution_count": 115,
   "metadata": {},
   "outputs": [
    {
     "data": {},
     "metadata": {},
     "output_type": "display_data"
    },
    {
     "data": {},
     "metadata": {},
     "output_type": "display_data"
    },
    {
     "data": {
      "text/html": [
       "<strong>png:</strong> 2"
      ],
      "text/latex": [
       "\\textbf{png:} 2"
      ],
      "text/markdown": [
       "**png:** 2"
      ],
      "text/plain": [
       "png \n",
       "  2 "
      ]
     },
     "metadata": {},
     "output_type": "display_data"
    },
    {
     "data": {
      "image/png": "[encoded data removed]",
      "text/plain": [
       "plot without title"
      ]
     },
     "metadata": {},
     "output_type": "display_data"
    }
   ],
   "source": [
    "#Generate Heat Map Plot for week 2\n",
    "gg2 <- ggplot(HM_data_hour_w2, aes(x=Day_week, y=Hour, fill=Appliances)) +\n",
    "       geom_tile(aes(fill=Appliances), colour=\"white\", size = 0.50) +\n",
    "       scale_fill_gradient(low=\"yellow\", high=\"red\", limit=c(150, 3800)) +\n",
    "       theme_grey(base_size = 9) +\n",
    "       labs(x=\"Day of Week\", y=\"Hour of Day\") +\n",
    "       ggtitle(\"Week 2\") +\n",
    "       scale_x_discrete(expand = c(0,0)) +\n",
    "       scale_y_continuous(expand = c(0,0), breaks = seq(0,23,1)) +\n",
    "       coord_equal() +\n",
    "       theme(axis.ticks = element_blank(),\n",
    "             plot.title=element_text(hjust=0.5),\n",
    "             axis.title=element_text(face=\"bold\"),\n",
    "             legend.title=element_text(face=\"bold\"),\n",
    "             axis.text.y = element_text(size = 9 * 0.8,\n",
    "                                        angle = 0,\n",
    "                                        hjust = 0,\n",
    "                                        colour=\"grey50\"),\n",
    "             axis.text.x = element_text(size = 9 * 0.8,\n",
    "                                        angle = 330,\n",
    "                                        hjust = 0,\n",
    "                                        colour=\"grey50\"))\n",
    "gg2\n",
    "\n",
    "png('02-02-Week_2_Heat_Map.png',width = 14, height = 10, units = 'in', res = 300)\n",
    "gg2\n",
    "dev.off()"
   ]
  },
  {
   "cell_type": "code",
   "execution_count": 116,
   "metadata": {},
   "outputs": [
    {
     "data": {},
     "metadata": {},
     "output_type": "display_data"
    },
    {
     "data": {},
     "metadata": {},
     "output_type": "display_data"
    },
    {
     "data": {
      "text/html": [
       "<strong>png:</strong> 2"
      ],
      "text/latex": [
       "\\textbf{png:} 2"
      ],
      "text/markdown": [
       "**png:** 2"
      ],
      "text/plain": [
       "png \n",
       "  2 "
      ]
     },
     "metadata": {},
     "output_type": "display_data"
    },
    {
     "data": {
      "image/png": "[encoded data removed]",
      "text/plain": [
       "plot without title"
      ]
     },
     "metadata": {},
     "output_type": "display_data"
    }
   ],
   "source": [
    "#Generate Heat Map Plot for week 3\n",
    "gg3 <- ggplot(HM_data_hour_w3, aes(x=Day_week, y=Hour, fill=Appliances)) +\n",
    "       geom_tile(aes(fill=Appliances), colour=\"white\", size = 0.50) +\n",
    "       scale_fill_gradient(low=\"yellow\", high=\"red\", limit=c(150, 3800)) +\n",
    "       theme_grey(base_size = 9) +\n",
    "       labs(x=\"Day of Week\", y=\"Hour of Day\") +\n",
    "       ggtitle(\"Week 3\") +\n",
    "       scale_x_discrete(expand = c(0,0)) +\n",
    "       scale_y_continuous(expand = c(0,0), breaks = seq(0,23,1)) +\n",
    "       coord_equal() +\n",
    "       theme(axis.ticks = element_blank(),\n",
    "             plot.title=element_text(hjust=0.5),\n",
    "             axis.title=element_text(face=\"bold\"),\n",
    "             legend.title=element_text(face=\"bold\"),\n",
    "             axis.text.y = element_text(size = 9 * 0.8,\n",
    "                                        angle = 0,\n",
    "                                        hjust = 0,\n",
    "                                        colour=\"grey50\"),\n",
    "             axis.text.x = element_text(size = 9 * 0.8,\n",
    "                                        angle = 330,\n",
    "                                        hjust = 0,\n",
    "                                        colour=\"grey50\"))\n",
    "gg3\n",
    "\n",
    "png('02-03-Week_3_Heat_Map.png',width = 14, height = 10, units = 'in', res = 300)\n",
    "gg3\n",
    "dev.off()"
   ]
  },
  {
   "cell_type": "code",
   "execution_count": 117,
   "metadata": {},
   "outputs": [
    {
     "data": {},
     "metadata": {},
     "output_type": "display_data"
    },
    {
     "data": {},
     "metadata": {},
     "output_type": "display_data"
    },
    {
     "data": {
      "text/html": [
       "<strong>png:</strong> 2"
      ],
      "text/latex": [
       "\\textbf{png:} 2"
      ],
      "text/markdown": [
       "**png:** 2"
      ],
      "text/plain": [
       "png \n",
       "  2 "
      ]
     },
     "metadata": {},
     "output_type": "display_data"
    },
    {
     "data": {
      "image/png": "[encoded data removed]",
      "text/plain": [
       "plot without title"
      ]
     },
     "metadata": {},
     "output_type": "display_data"
    }
   ],
   "source": [
    "#Generate Heat Map Plot for week 4\n",
    "gg4 <- ggplot(HM_data_hour_w4, aes(x=Day_week, y=Hour, fill=Appliances)) +\n",
    "       geom_tile(aes(fill=Appliances), colour=\"white\", size = 0.50) +\n",
    "       scale_fill_gradient(low=\"yellow\", high=\"red\", limit=c(150, 3800)) +\n",
    "       theme_grey(base_size = 9) +\n",
    "       labs(x=\"Day of Week\", y=\"Hour of Day\") +\n",
    "       ggtitle(\"Week 4\") +\n",
    "       scale_x_discrete(expand = c(0,0)) +\n",
    "       scale_y_continuous(expand = c(0,0), breaks = seq(0,23,1)) +\n",
    "       coord_equal() +\n",
    "       theme(axis.ticks = element_blank(),\n",
    "             plot.title=element_text(hjust=0.5),\n",
    "             axis.title=element_text(face=\"bold\"),\n",
    "             legend.title=element_text(face=\"bold\"),\n",
    "             axis.text.y = element_text(size = 9 * 0.8,\n",
    "                                        angle = 0,\n",
    "                                        hjust = 0,\n",
    "                                        colour=\"grey50\"),\n",
    "             axis.text.x = element_text(size = 9 * 0.8,\n",
    "                                        angle = 330,\n",
    "                                        hjust = 0,\n",
    "                                        colour=\"grey50\"))\n",
    "gg4\n",
    "\n",
    "png('02-04-Week_4_Heat_Map.png',width = 14, height = 10, units = 'in', res = 300)\n",
    "gg4\n",
    "dev.off()"
   ]
  },
  {
   "cell_type": "code",
   "execution_count": 124,
   "metadata": {},
   "outputs": [
    {
     "name": "stdout",
     "output_type": "stream",
     "text": [
      "Original data set consist of 19735 instances and 32 features\n",
      "Training data set consist of 14803 instances and 32 features\n",
      "Testing data set consist of 4932 instances and 32 features\n"
     ]
    }
   ],
   "source": [
    "#Provide proper libraries to create data set\n",
    "suppressWarnings(library(caret))\n",
    "suppressWarnings(library(lattice))\n",
    "\n",
    "#Create Training Data Set\n",
    "set.seed(1)\n",
    "train_index <- createDataPartition(energy_data$Appliances, p=0.75, list=FALSE)\n",
    "\n",
    "train_data <- energy_data[train_index,]\n",
    "\n",
    "#Create Test Data Set\n",
    "test_data <- energy_data[-train_index,]\n",
    "\n",
    "# Validate data sets dimensions\n",
    "cat(\"Original data set consist of\",nrow(energy_data),\"instances and\",ncol(energy_data),\"features\\n\")\n",
    "cat(\"Training data set consist of\",nrow(train_data),\"instances and\",ncol(train_data),\"features\\n\")\n",
    "cat(\"Testing data set consist of\",nrow(test_data),\"instances and\",ncol(test_data),\"features\\n\")"
   ]
  },
  {
   "cell_type": "code",
   "execution_count": 126,
   "metadata": {},
   "outputs": [],
   "source": [
    "#Save all data sets with additional features and appropriate partitions\n",
    "write.table(format(energy_data,digits=19),file=\"00 - Data Set/full_set.csv\",sep=\",\",row.names=FALSE)\n",
    "write.table(format(train_data, digits=19),file=\"00 - Data Set/training.csv\",sep=\",\",row.names=FALSE)\n",
    "write.table(format(test_data,digits=19),file=\"00 - Data Set/testing.csv\",sep=\",\",row.names=FALSE)"
   ]
  },
  {
   "cell_type": "code",
   "execution_count": 156,
   "metadata": {},
   "outputs": [
    {
     "data": {
      "text/html": [
       "<strong>png:</strong> 2"
      ],
      "text/latex": [
       "\\textbf{png:} 2"
      ],
      "text/markdown": [
       "**png:** 2"
      ],
      "text/plain": [
       "png \n",
       "  2 "
      ]
     },
     "metadata": {},
     "output_type": "display_data"
    },
    {
     "data": {
      "text/plain": [
       "           Appliances lights    T1 RH_1    T2  RH_2    T3  RH_3\n",
       "Appliances       1.00   0.19  0.06 0.09  0.12 -0.06  0.09  0.04\n",
       "lights           0.19   1.00 -0.03 0.11 -0.01  0.06 -0.10  0.14\n",
       "T1               0.06  -0.03  1.00 0.17  0.84  0.00  0.89 -0.03\n",
       "RH_1             0.09   0.11  0.17 1.00  0.27  0.80  0.26  0.85\n",
       "T2               0.12  -0.01  0.84 0.27  1.00 -0.16  0.74  0.12\n",
       "RH_2            -0.06   0.06  0.00 0.80 -0.16  1.00  0.14  0.68\n",
       "T3               0.09  -0.10  0.89 0.26  0.74  0.14  1.00 -0.01\n",
       "RH_3             0.04   0.14 -0.03 0.85  0.12  0.68 -0.01  1.00\n",
       "\n",
       "n= 14803 \n",
       "\n",
       "\n",
       "P\n",
       "           Appliances lights T1     RH_1   T2     RH_2   T3     RH_3  \n",
       "Appliances            0.0000 0.0000 0.0000 0.0000 0.0000 0.0000 0.0000\n",
       "lights     0.0000            0.0006 0.0000 0.1610 0.0000 0.0000 0.0000\n",
       "T1         0.0000     0.0006        0.0000 0.0000 0.9443 0.0000 0.0014\n",
       "RH_1       0.0000     0.0000 0.0000        0.0000 0.0000 0.0000 0.0000\n",
       "T2         0.0000     0.1610 0.0000 0.0000        0.0000 0.0000 0.0000\n",
       "RH_2       0.0000     0.0000 0.9443 0.0000 0.0000        0.0000 0.0000\n",
       "T3         0.0000     0.0000 0.0000 0.0000 0.0000 0.0000        0.3468\n",
       "RH_3       0.0000     0.0000 0.0014 0.0000 0.0000 0.0000 0.3468       "
      ]
     },
     "metadata": {},
     "output_type": "display_data"
    }
   ],
   "source": [
    "#Add appropriate libraries to generate correlation Plots\n",
    "suppressWarnings(library(Hmisc))\n",
    "suppressWarnings(library(psych))\n",
    "\n",
    "#Obtain Correlation for training set\n",
    "train_corr_table_1 <- rcorr(as.matrix(train_data[,c(2:9)]))\n",
    "train_corr_table_2 <- rcorr(as.matrix(train_data[,c(2,10:15)]))\n",
    "train_corr_table_3 <- rcorr(as.matrix(train_data[,c(2,16:21)]))\n",
    "train_corr_table_4 <- rcorr(as.matrix(train_data[,c(2,22:30)]))\n",
    "\n",
    "#Obtain Pairs diagram for training set\n",
    "png(\"03-01-Pairs_Plot_Train_Set.png\",width=10,height=10,units=\"in\",res=300)\n",
    "pairs.panels(train_data[,c(2:9)],\n",
    "             lm=TRUE,\n",
    "             ellipses=FALSE,\n",
    "             rug=FALSE,\n",
    "             scale=FALSE,\n",
    "             cex.cor=1.1,\n",
    "             cex.labels=1.7,\n",
    "             cex.axis=1.7)\n",
    "dev.off()\n",
    "train_corr_table_1"
   ]
  },
  {
   "cell_type": "code",
   "execution_count": 157,
   "metadata": {},
   "outputs": [
    {
     "data": {
      "text/html": [
       "<strong>png:</strong> 2"
      ],
      "text/latex": [
       "\\textbf{png:} 2"
      ],
      "text/markdown": [
       "**png:** 2"
      ],
      "text/plain": [
       "png \n",
       "  2 "
      ]
     },
     "metadata": {},
     "output_type": "display_data"
    },
    {
     "data": {
      "text/plain": [
       "           Appliances    T4  RH_4    T5  RH_5    T6  RH_6\n",
       "Appliances       1.00  0.05  0.02  0.02  0.01  0.12 -0.09\n",
       "T4               0.05  1.00 -0.05  0.87 -0.08  0.66 -0.70\n",
       "RH_4             0.02 -0.05  1.00  0.09  0.35  0.26  0.39\n",
       "T5               0.02  0.87  0.09  1.00  0.03  0.63 -0.63\n",
       "RH_5             0.01 -0.08  0.35  0.03  1.00 -0.08  0.27\n",
       "T6               0.12  0.66  0.26  0.63 -0.08  1.00 -0.67\n",
       "RH_6            -0.09 -0.70  0.39 -0.63  0.27 -0.67  1.00\n",
       "\n",
       "n= 14803 \n",
       "\n",
       "\n",
       "P\n",
       "           Appliances T4     RH_4   T5     RH_5   T6     RH_6  \n",
       "Appliances            0.0000 0.0474 0.0056 0.4781 0.0000 0.0000\n",
       "T4         0.0000            0.0000 0.0000 0.0000 0.0000 0.0000\n",
       "RH_4       0.0474     0.0000        0.0000 0.0000 0.0000 0.0000\n",
       "T5         0.0056     0.0000 0.0000        0.0000 0.0000 0.0000\n",
       "RH_5       0.4781     0.0000 0.0000 0.0000        0.0000 0.0000\n",
       "T6         0.0000     0.0000 0.0000 0.0000 0.0000        0.0000\n",
       "RH_6       0.0000     0.0000 0.0000 0.0000 0.0000 0.0000       "
      ]
     },
     "metadata": {},
     "output_type": "display_data"
    }
   ],
   "source": [
    "png(\"03-02-Pairs_Plot_Train_Set.png\",width=10,height=10,units=\"in\",res=300)\n",
    "pairs.panels(train_data[,c(2,10:15)],\n",
    "             lm=TRUE,\n",
    "             ellipses=FALSE,\n",
    "             rug=FALSE,\n",
    "             scale=FALSE,\n",
    "             cex.cor=1.1,\n",
    "             cex.labels=1.7,\n",
    "             cex.axis=1.7)\n",
    "dev.off()\n",
    "train_corr_table_2"
   ]
  },
  {
   "cell_type": "code",
   "execution_count": 158,
   "metadata": {},
   "outputs": [
    {
     "data": {
      "text/html": [
       "<strong>png:</strong> 2"
      ],
      "text/latex": [
       "\\textbf{png:} 2"
      ],
      "text/markdown": [
       "**png:** 2"
      ],
      "text/plain": [
       "png \n",
       "  2 "
      ]
     },
     "metadata": {},
     "output_type": "display_data"
    },
    {
     "data": {
      "text/plain": [
       "           Appliances    T7  RH_7    T8  RH_8    T9  RH_9\n",
       "Appliances       1.00  0.03 -0.06  0.05 -0.09  0.02 -0.05\n",
       "T7               0.03  1.00 -0.03  0.88 -0.21  0.94 -0.08\n",
       "RH_7            -0.06 -0.03  1.00 -0.12  0.89  0.03  0.86\n",
       "T8               0.05  0.88 -0.12  1.00 -0.21  0.87 -0.15\n",
       "RH_8            -0.09 -0.21  0.89 -0.21  1.00 -0.11  0.86\n",
       "T9               0.02  0.94  0.03  0.87 -0.11  1.00 -0.01\n",
       "RH_9            -0.05 -0.08  0.86 -0.15  0.86 -0.01  1.00\n",
       "\n",
       "n= 14803 \n",
       "\n",
       "\n",
       "P\n",
       "           Appliances T7     RH_7   T8     RH_8   T9     RH_9  \n",
       "Appliances            0.0000 0.0000 0.0000 0.0000 0.0449 0.0000\n",
       "T7         0.0000            0.0000 0.0000 0.0000 0.0000 0.0000\n",
       "RH_7       0.0000     0.0000        0.0000 0.0000 0.0004 0.0000\n",
       "T8         0.0000     0.0000 0.0000        0.0000 0.0000 0.0000\n",
       "RH_8       0.0000     0.0000 0.0000 0.0000        0.0000 0.0000\n",
       "T9         0.0449     0.0000 0.0004 0.0000 0.0000        0.3748\n",
       "RH_9       0.0000     0.0000 0.0000 0.0000 0.0000 0.3748       "
      ]
     },
     "metadata": {},
     "output_type": "display_data"
    }
   ],
   "source": [
    "png(\"03-03-Pairs_Plot_Train_Set.png\",width=10,height=10,units=\"in\",res=300)\n",
    "pairs.panels(train_data[,c(2,16:21)],\n",
    "             lm=TRUE,\n",
    "             ellipses=FALSE,\n",
    "             rug=FALSE,\n",
    "             scale=FALSE,\n",
    "             cex.cor=1.1,\n",
    "             cex.labels=1.7,\n",
    "             cex.axis=1.7)\n",
    "dev.off()\n",
    "train_corr_table_3"
   ]
  },
  {
   "cell_type": "code",
   "execution_count": 159,
   "metadata": {},
   "outputs": [
    {
     "data": {
      "text/html": [
       "<strong>png:</strong> 2"
      ],
      "text/latex": [
       "\\textbf{png:} 2"
      ],
      "text/markdown": [
       "**png:** 2"
      ],
      "text/plain": [
       "png \n",
       "  2 "
      ]
     },
     "metadata": {},
     "output_type": "display_data"
    },
    {
     "data": {
      "text/plain": [
       "            Appliances T_out Press_mm_hg RH_out Windspeed Visibility Tdewpoint\n",
       "Appliances        1.00  0.10       -0.03  -0.15      0.09       0.00      0.02\n",
       "T_out             0.10  1.00       -0.14  -0.57      0.19      -0.08      0.79\n",
       "Press_mm_hg      -0.03 -0.14        1.00  -0.10     -0.23       0.04     -0.24\n",
       "RH_out           -0.15 -0.57       -0.10   1.00     -0.17       0.09      0.04\n",
       "Windspeed         0.09  0.19       -0.23  -0.17      1.00       0.00      0.13\n",
       "Visibility        0.00 -0.08        0.04   0.09      0.00       1.00     -0.04\n",
       "Tdewpoint         0.02  0.79       -0.24   0.04      0.13      -0.04      1.00\n",
       "rv1              -0.01 -0.01        0.01   0.02     -0.01      -0.01      0.00\n",
       "rv2              -0.01 -0.01        0.01   0.02     -0.01      -0.01      0.00\n",
       "NSM               0.22  0.22        0.00  -0.34      0.10      -0.03      0.03\n",
       "              rv1   rv2   NSM\n",
       "Appliances  -0.01 -0.01  0.22\n",
       "T_out       -0.01 -0.01  0.22\n",
       "Press_mm_hg  0.01  0.01  0.00\n",
       "RH_out       0.02  0.02 -0.34\n",
       "Windspeed   -0.01 -0.01  0.10\n",
       "Visibility  -0.01 -0.01 -0.03\n",
       "Tdewpoint    0.00  0.00  0.03\n",
       "rv1          1.00  1.00 -0.02\n",
       "rv2          1.00  1.00 -0.02\n",
       "NSM         -0.02 -0.02  1.00\n",
       "\n",
       "n= 14803 \n",
       "\n",
       "\n",
       "P\n",
       "            Appliances T_out  Press_mm_hg RH_out Windspeed Visibility Tdewpoint\n",
       "Appliances             0.0000 0.0000      0.0000 0.0000    0.5603     0.0171   \n",
       "T_out       0.0000            0.0000      0.0000 0.0000    0.0000     0.0000   \n",
       "Press_mm_hg 0.0000     0.0000             0.0000 0.0000    0.0000     0.0000   \n",
       "RH_out      0.0000     0.0000 0.0000             0.0000    0.0000     0.0000   \n",
       "Windspeed   0.0000     0.0000 0.0000      0.0000           0.6281     0.0000   \n",
       "Visibility  0.5603     0.0000 0.0000      0.0000 0.6281               0.0000   \n",
       "Tdewpoint   0.0171     0.0000 0.0000      0.0000 0.0000    0.0000              \n",
       "rv1         0.1225     0.1238 0.5092      0.0272 0.1510    0.2767     0.7317   \n",
       "rv2         0.1225     0.1238 0.5092      0.0272 0.1510    0.2767     0.7317   \n",
       "NSM         0.0000     0.0000 0.5951      0.0000 0.0000    0.0009     0.0005   \n",
       "            rv1    rv2    NSM   \n",
       "Appliances  0.1225 0.1225 0.0000\n",
       "T_out       0.1238 0.1238 0.0000\n",
       "Press_mm_hg 0.5092 0.5092 0.5951\n",
       "RH_out      0.0272 0.0272 0.0000\n",
       "Windspeed   0.1510 0.1510 0.0000\n",
       "Visibility  0.2767 0.2767 0.0009\n",
       "Tdewpoint   0.7317 0.7317 0.0005\n",
       "rv1                0.0000 0.0479\n",
       "rv2         0.0000        0.0479\n",
       "NSM         0.0479 0.0479       "
      ]
     },
     "metadata": {},
     "output_type": "display_data"
    }
   ],
   "source": [
    "png(\"03-04-Pairs_Plot_Train_Set.png\",width=10,height=10,units=\"in\",res=300)\n",
    "pairs.panels(train_data[,c(2,22:30)],\n",
    "             lm=TRUE,\n",
    "             ellipses=FALSE,\n",
    "             rug=FALSE,\n",
    "             scale=FALSE,\n",
    "             cex.cor=1.1,\n",
    "             cex.labels=1.7,\n",
    "             cex.axis=1.7)\n",
    "dev.off()\n",
    "train_corr_table_4"
   ]
  }
 ],
 "metadata": {
  "kernelspec": {
   "display_name": "R",
   "language": "R",
   "name": "ir"
  },
  "language_info": {
   "codemirror_mode": "r",
   "file_extension": ".r",
   "mimetype": "text/x-r-source",
   "name": "R",
   "pygments_lexer": "r",
   "version": "3.5.1"
  }
 },
 "nbformat": 4,
 "nbformat_minor": 2
}
